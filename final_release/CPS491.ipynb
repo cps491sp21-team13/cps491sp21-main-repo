{
 "cells": [
  {
   "cell_type": "markdown",
   "metadata": {
    "id": "bYqnOmcNKRoz"
   },
   "source": [
    "## **Deriving Multi-layer Scaffolding of Compositional Neural Networks from existing, monolithic networks**"
   ]
  },
  {
   "cell_type": "markdown",
   "metadata": {
    "id": "lZm7vYUv2Arv"
   },
   "source": [
    "Contents\n",
    "\n",
    "- [Python Imports](#scrollTo=BIBLLa2_2lQN) Python imports for the whole document\n",
    "- [Introduction](#scrollTo=GaeUpA0Zc9u3) Project description & Overview\n",
    "- [Tensorflow Models](#scrollTo=M32ewWRK9O82) Implementations of neural networks used throughout this document\n",
    "- [Discovering Functions using SINDy](#scrollTo=SPh35ur6hgj1)\n",
    "- [Applying SINDy to MNIST](#scrollTo=v5-4EKOyudwY)\n",
    "- [Using Tensorflow](#scrollTo=R3gQLgM12Ipi) Quick reference and code examples for using Tensorflow\n",
    "- [Maclaurin Series Approximations](#scrollTo=pmBXTRtObrAE) Older work experimenting with Maclaurin approximations.\n",
    "- [Change-of-Basis Approximation Strategy](#scrollTo=pw-_Hw-ibhuE) A general approximation technique using one hidden layer and an arbitrary activation function.\n",
    "- [Leveraging Depth](#scrollTo=8TojbmKi0-6k) The change-of-basis strategy is a great approximation method, but it only uses a single layer. How can the depth of the neural network be used?\n",
    "- [Approximating an Arbitrary Function using Convolution](#scrollTo=K7cblEvy49nJ) A method for approximating an arbitrary function inspired by convolution.\n",
    "- [Helpful Mathematical Theory](#scrollTo=wWqwROWKYaSv) Math that might be related to the direction of the project\n",
    "- [Related Work](#scrollTo=FFTFQh0pijW3)\n",
    "\n",
    "[Tensorflow Guide](https://www.tensorflow.org/guide/)\n"
   ]
  },
  {
   "cell_type": "markdown",
   "metadata": {
    "id": "BIBLLa2_2lQN"
   },
   "source": [
    "# Python Imports\n",
    "\n",
    "These are just global imports that are used by the whole document. Run the following cell before running anything else."
   ]
  },
  {
   "cell_type": "code",
   "execution_count": 1,
   "metadata": {
    "id": "Qq7w88-22nnh"
   },
   "outputs": [],
   "source": [
    "import math\n",
    "import random\n",
    "import pandas as pd\n",
    "import numpy as np\n",
    "import matplotlib.pyplot as plt\n",
    "import graphviz as gv\n",
    "import sklearn.linear_model\n",
    "import tensorflow as tf\n",
    "\n",
    "from tensorflow import keras\n",
    "from tensorflow.keras.datasets import mnist\n",
    "from IPython.display import display, Math, Latex"
   ]
  },
  {
   "cell_type": "markdown",
   "metadata": {
    "id": "GaeUpA0Zc9u3"
   },
   "source": [
    "# Introduction\n",
    "\n",
    "Learning systems have always been an important part of data analysis. The simplest method of learning a function from data is the linear regression, but today's deep neural networks have proven remarkably capable of learning a variety of non-linear functions. However, deep neural networks are still not well understood. While a simple linear model between two real variables is described with two parameters, deep neural networks can have hundreds of thousands of parameters that specify its precise behavior. The main benefit of increasing the number of parameters is increasing expressivity, the amount and types of functions that can be learned. But the downside of expressive learning systems is intractable resulting models.\n",
    "\n",
    "In general, there is a trade-off between complexity and expressivity of a learning system. Complexity, also called compositionality or the opposite of tractability, refers to the number of computations the resulting trained model is expected to perform. Expressivity refers to the amount and variety of functions that can possibly be learned. Very simple classes of functions such as linear functions can be expressed concisely with a few parameters. But larger classes of functions such as higher degree polynomials require more computation and more parameters to describe generally.\n",
    "\n",
    "Learning systems should have a balance between high expressivity and low compositionality. High expressivity is desired in learning systems because it usually translates to high accuracy of the trained model. It is more likely that a highly expressive learning system will better approximate some desired behavior. Many researchers studying the applications of machine learning care primarily about accuracy, and are therefore willing to drive up the size of their neural networks as far as hardware will allow. \n",
    "\n",
    "On the other hand, highly complex networks can become \\textit{too} accurate in a problem known as \\textit{overfitting}, meaning the network cannot extrapolate predictions to data outside the domain of the training set. In some sense finding low-complexity models for a set of data is what it means to ``understand'' the fundamental relationships among the data.\n",
    "\n",
    "Since the importance of each trait is situationally dependent, optimal learned functions exist on a spectrum from low complexity and accuracy to high complexity and accuracy. Sometimes a sequence of increasingly more complex and accurate functions is desired instead of a single function which is fixed in these attributes. Unfortunately for neural networks, while we know that compositionality and expressivity are correlated, little else is known about this relationship. Determining if a trained network exists on this optimal spectrum is difficult. Lin et. al. \\cite{lin2017why} in ``Why does deep and cheap learning work so well'' hypothesizes that most neural networks are learning functions that could be expressed using far less compositionality. He cites as evidence that most phenomena in the natural sciences can be described with low-complexity mathematical models built from a combination of a small number of simple \"base functions\" such as polynomials, sinusoids, and exponentials. It is possible that large sections of a trained network might be performing meaningless computations, or performing useful computations in absurdly wasteful ways.\n",
    "\n"
   ]
  },
  {
   "cell_type": "markdown",
   "metadata": {
    "id": "PMCTAavPyfir"
   },
   "source": [
    "# Related Work\n",
    "\n",
    "The interplay between expressivity and complexity of neural networks has been studied. [Safran et. al.](https://arxiv.org/pdf/1610.09887.pdf) concluded that deep networks learned more accurately than shallow networks of similar complexity when trained to learn $L_2$-indicator functions and $L_1$ radial functions. [Chui et. al.](https://www.ams.org/journals/mcom/1994-63-208/S0025-5718-1994-1240656-2/S0025-5718-1994-1240656-2.pdf) found that deep networks are also better at localized approximation, i.e. that when a target function is modified only on a small local area of the domain, only a few neurons in a trained network need to be retrained to retain an optimal approximation. Achieving localized approximation is an important step toward developing human-understandable learning models.\n",
    "\n",
    "Model compression attempts to reduce a neural network's complexity by pruning off pieces that have little effect on the network's behavior. [Cheng et. al.](https://arxiv.org/pdf/1710.09282.pdf) categorizes model compression techniques into four basic strategies:\n",
    "\n",
    "1. Parameter pruning and quantization\n",
    "2. Low-rank factorization\n",
    "3. Transferred/compact convolutional filters\n",
    "4. Knowledge distillation\n",
    "\n",
    "Alternatively, some researchers are ditching neural networks in favor of new learning systems whose behavior is more intuitive to humans. The _fuzzy inference system_ is one such learning system."
   ]
  },
  {
   "cell_type": "markdown",
   "metadata": {
    "id": "gbHKp4-LfxTt"
   },
   "source": [
    "# Searching for Analytical Models Embedded in Neural Networks\n",
    "\n",
    "Part of the reason neural networks are hard to understand is that their mathematical representation is dissimilar to any other mathematical models we usually come across. To illustrate, consider the following function that represents some trained neural network with three hidden nodes using the standard sigmoid activation function $\\sigma(x) = (1+e^{-x})^{-1}$.\n",
    "\n",
    "$$ f(x) = 1.98\\sigma(2.32x - 0.27) + 2.18\\sigma(-2.20x + 6.91) + 1.81\\sigma(2.37x -14.45) - 3.07 $$\n",
    "\n",
    "This function turns out to be a very good approximation of $\\sin(x)$ for $x \\in [0, 2\\pi]$. However, the only way we know that is from a crude analysis of the outputs such as a root-mean-square comparison.\n",
    "A good question is whether or not there is some theory that formalizes, and makes intuitive, the connection between the parameters and structure of $f$ and the more commonly used sine function."
   ]
  },
  {
   "cell_type": "code",
   "execution_count": null,
   "metadata": {
    "colab": {
     "base_uri": "https://localhost:8080/",
     "height": 244
    },
    "id": "KhK8a7b9o_3L",
    "outputId": "8a95f8c3-6783-4b10-8109-baf01dc21d7f"
   },
   "outputs": [
    {
     "data": {
      "image/png": "[encoded data removed]",
      "text/plain": [
       "<Figure size 460.8x259.2 with 1 Axes>"
      ]
     },
     "metadata": {
      "needs_background": "light",
      "tags": []
     },
     "output_type": "display_data"
    }
   ],
   "source": [
    "def sigma(x):\n",
    "  return 1.0 / (1 + math.e ** (-x))\n",
    "\n",
    "def f(x):\n",
    "  return 1.98 * sigma(2.32*x - 0.27) + 2.18*sigma(-2.20*x + 6.91) + 1.81*sigma(2.37*x - 14.45) - 3.07\n",
    "\n",
    "x = np.linspace(0, math.pi*2)\n",
    "sinx = np.sin(x)\n",
    "myfunx = f(x)\n",
    "\n",
    "\n",
    "plt.figure(figsize=(16/2.5, 9/2.5))\n",
    "plt.plot(x, sinx, color=\"black\", lw=3)\n",
    "plt.plot(x, myfunx, linestyle=\"--\", color=\"red\", lw=3)\n",
    "plt.axhline(color=\"black\", lw=1); plt.axvline(color=\"black\", lw=1)\n",
    "plt.legend([\"$\\sin(x)$\", \"NN approx.\"])\n",
    "plt.show()"
   ]
  },
  {
   "cell_type": "markdown",
   "metadata": {
    "id": "POCjrhlSnvOo"
   },
   "source": [
    "To illustrate the challenge, we will contrast neural networks with polynomials which, as we will discover, have two useful properties that make them amenable to approximation. Consider polynomial functions $\\mathbb{R} \\rightarrow \\mathbb{R}$ of the form $p(x; \\pmb{\\theta}) = \\theta_0 + \\theta_1 x + \\theta_2 x^2 \\cdots + \\theta_d x^d$. Given data $(x_0, y_0)...(x_n, y_n)$, a unique $n$-degree polynomial that precisely models this data can be found by solving a simple linear system (assuming the $x_i$ values are all different).\n",
    "\n",
    "$$ \\pmb{0} = X\\pmb{\\theta} - \\pmb{y} $$\n",
    "$$ \\begin{bmatrix} 0 \\\\ 0 \\\\ \\vdots \\end{bmatrix} = \\begin{bmatrix} 1 & x_0 & x_0^2 & \\\\ 1 & x_1 & x_1^2 & \\cdots \\\\ & \\vdots \\end{bmatrix} \\begin{bmatrix} \\theta_0 \\\\ \\theta_1 \\\\ \\vdots \\end{bmatrix} - \\begin{bmatrix} y_0 \\\\ y_1 \\\\ \\vdots \\end{bmatrix}  $$\n",
    "\n",
    "Lower-degree, best-fit polynomials can be found through a similar method called regression. For degrees less than $n$, the $X$ matrix becomes non-square and the system above will probably be unsolvable. So instead, the goal is to minimize the distance between $X\\theta - \\pmb{y}$ and the zero vector:\n",
    "\n",
    "$$ \\theta_{min} = \\min_{\\theta} || X\\theta - \\pmb{y} ||^2 $$\n",
    "\n",
    "This problem can be generalized to other learning systems. Given a function $f(x;\\theta)$, learning can be defined as discovering parameter values $\\theta_{min}$ that minimizes the distance between the mapped inputs $f(\\pmb{x}; \\theta)$ and desired outputs $\\pmb{y}$:\n",
    "\n",
    "$$ \\pmb{\\theta}_{min} = \\min_{\\theta} || f(\\pmb{x};\\theta) - \\pmb{y} ||^2 \\qquad \\text{(general learning problem)}$$\n",
    "\n",
    "Importantly, we can see that for polynomials, $f$ is linear with respect to $\\theta$. This means the optimization problem can be conceptualized as a problem of finding the point on an embedded hyperplane that is closest to the origin. Specifically, there are two useful properties that this entails:\n",
    "\n",
    "1. There exists a unique function $f(\\pmb{x}; \\theta_{min})$ such that $||f(\\pmb{x};\\theta_{min}) - \\pmb{y}||^2$ is locally minimal (and therefore globally minimal). This means gradient descent will converge to a single global optimum.\n",
    "3. $f$ is reversible with respect to the parameters so long as the input data is well-behaved. i.e. There exists $f^{-1}$ such that $f^{-1}(\\pmb{x}; f(\\pmb{x}; \\pmb{\\theta})) = \\pmb{\\theta}$. This means the $\\theta_{min}$ mentioned in (1) is unique, and is a consequence of the standard polynomial basis functions $\\{1, x, x^2, ...\\}$ being linearly independent.\n",
    "\n",
    "Furthermore, a sequence of progressively more complex and accurate polynomials can be found by adding increasingly higher powers of the input.\n",
    "\n",
    "Neural networks on the otherhand violate both of these properties:\n",
    "\n",
    "1. There may exist may neural network configurations that are locally optimal which makes finding close approximations a process of trial and error.\n",
    "2. The function implemented by a neural network can be characterized by many sets of parameters $\\theta$. For example, $\\sigma(x) = 1-\\sigma(-x)$. This complicates any attempt to gain information about the network's input-output behavior by examining the network's parameters and structure.\n",
    "\n",
    "Part of the reason neural networks don't have nice properties like this is because the feedforward layers perform function composition. Complex functions built as a sum of terms are generally much easier to understand than those built via function composition.\n"
   ]
  },
  {
   "cell_type": "markdown",
   "metadata": {
    "id": "en1Gx53UcGZl"
   },
   "source": [
    "One way we could start is by defining a mechanized scheme for how a neural network _could_ approximate a given function, but not necessarily how the network _will_ approximate that function after training. For example, Lin points out that the operation of multipliying two real numbers $\\mathbb{R}^2 \\rightarrow \\mathbb{R}$ can be approximated to arbitrary accuracy with a single hidden layer with four nodes:\n",
    "\n",
    "$$ \\text{mult}(x_1, x_2) = \\lim_{h \\rightarrow 0} \\frac{\\sigma(ha) + \\sigma(-ha) - \\sigma(hb) - \\sigma(-hb)}{4 h^2 \\sigma''(0)} $$\n",
    "\n",
    "$$ \\text{where}\\ \\ a = x_1 + x_2 \\qquad b = x_1 - x_2 $$\n",
    "\n",
    "This approximation is independent of the activation function $\\sigma$ used, only requiring $\\sigma''(0) \\ne 0$. This multiplication operation can be used to construct neural networks that approximate any polynomial. The only additional component needed is a way to propogate values unchanged from one layer to the next, in other words, an approximation of the identity function:\n",
    "\n",
    "$$ \\text{id}(x) = x = \\lim_{h \\rightarrow 0} \\frac{\\sigma(hx) - a(0)}{h \\sigma'(0)} $$\n",
    "\n",
    "These two components, along with the native addition operation, can be used to define neural networks that approximate any multivariate polynomial. Furthermore, Taylor's theorem provides a way of constructing polynomials that approximate any differentiable curve on some domain. Consequently, given a function $g$, we can generate sequences of neural networks that approach $g$ by changing $h$ or by approximating more terms in the Taylor expansion of $g$.\n"
   ]
  },
  {
   "cell_type": "markdown",
   "metadata": {
    "id": "Avdj7EjWfLXd"
   },
   "source": [
    "Theoretically, a tool could be built that searches for these Taylor constructions in trained neural networks and identifies the original function being approximated. However, building such a tool might not be practical for the reasons described above. There are many ways of combining $\\text{mult}$ and $\\text{id}$ that yield the same function. For example, different compositions of multiplication often yield the same power of $x$ e.g. $\\text{mult}(\\text{mult}(x, x), \\text{mult}(x, x)) = \\text{mult}(x, \\text{mult}(x, \\text{mult}(x, x)))$. This means that the set of network configurations we are searching for is large and hard to describe.\n",
    "\n",
    "Second, requiring $h$ to approach zero leads to neural networks with very large and small parameters, especially as powers of $h$ become involved. In practice, neural networks are initialized randomly with numbers roughly in the single digits, and the training rate will probably be too small to push these parameters high enough while simultaneously being too large to make subtle changes to parameters close to zero. In essence, real networks will almost certainly never learn parameters like this."
   ]
  },
  {
   "cell_type": "markdown",
   "metadata": {
    "id": "L9NWJxfq-9dK"
   },
   "source": [
    "# Heuristic Approach\n",
    "\n",
    "Instead of searching for predefined structures in a trained neural network, we could also divide the network into a composition of different \"sections\" and search for a simpler mathematical approximation for each section. We will call this a \"heuristic approach\" because the network parameters may serve as a gentle guide for discovering good approximations, but searching for concise equations will ultimately come down to trial-and-error.\n",
    "\n",
    "Neural networks can be split up in a few ways. First, pretty much all neural networks are compositions of layers. A single layer is just a linear transformation followed by applying an activation function which is already a sufficiently concise mathematical representation, so a neural network chunk could be a few sequential layers together. Additionally, there are benefits (fewer parameters, faster training) to using networks that are not fully connected such as convolutional neural networks. This means that finding equations for intermediate nodes would be more feasible since intermediate nodes would not be functions of all the inputs, but only some of the inputs.\n",
    "\n",
    "Once we have split the network into sections, we can use a more brute-force approach to finding an equation for each section. [Bruntun et. al.](https://arxiv.org/abs/1605.06682) describes a method called SINDy for finding sparse mathematical representations of time data. SINDy finds a best fit function of the form $f(x) = w_1 f_1(x) + w_2 f_2(x) + \\cdots + w_n f_n(x) + b$ for data $(x_t, y_t)$ given functions $f_1 \\dots f_n$. More precisely, it finds the coefficients $w_i$ and $b$ that optimize the following approximation:\n",
    "$$ \\begin{bmatrix} y_0 \\\\ y_1 \\\\ \\vdots \\end{bmatrix} \\approx \\begin{bmatrix} f_0(x_0) & f_1(x_0) \\\\ f_0(x_1) & f_1(x_1) & \\cdots \\\\ \\vdots & \\vdots \\end{bmatrix} \\begin{bmatrix} w_0 \\\\ w_1 \\\\ \\vdots \\end{bmatrix} + b \\begin{bmatrix} 1 \\\\ 1 \\\\ \\vdots \\end{bmatrix}$$\n",
    "The approximation above is specifically for functions $f: \\mathbb{R} \\rightarrow \\mathbb{R}$, but it generalizes to data of arbitrary dimensions. SINDy is traditionally used to find sparse mathematical representations of dynamical systems given a set of time data.\n",
    "\n",
    "To apply this regression-based approach to approximate neural networks, we need data generated by the neural network $(x_t, y_t)$ and a set of \"base functions\" $\\{f_1, \\dots, f_n\\}$ that will become the framework of our model. We can generate data from the neural network by feeding through uniformly-distributed or random inputs in the neural network's domain of interest. For simple networks (such as $\\mathbb{R} \\rightarrow \\mathbb{R}$ networks over a finite interval $[a,b]$), it is possible to generate data that evenly covers the entire possible input space. However, uniform coverage for larger input spaces may not be possible (such as over a set of possible images). In this case, we can trust that the training and testing data is representative of all inputs of interest.\n",
    "\n",
    "The library functions should be chosen carefully to have a few desired properties. First, they should be linearly independent, and ideally orthogonal, so that the regression procedure will yield a single set of weights that describe the best-fit model. Second, linear combinations of the functions should be able to approximate other functions of interest. Polynomials and sinusoids are two great candidates for library functions.\n",
    "\n"
   ]
  },
  {
   "cell_type": "markdown",
   "metadata": {
    "id": "Mmetbo-rdIRi"
   },
   "source": [
    "## Fitting Polynomials\n",
    "\n",
    "We will go through how a regression-based approach can be used to learn the behavior of a simple network that learns a function $f: \\mathbb{R} \\rightarrow \\mathbb{R}$. We will assume that our domain of interest is $[-1, 1]$, so we will feed uniformly distributed numbers in that range through the network to generate data $(x_i, y_i)$. Our library functions will be the first $d$ powers of the input $\\{x, x^2, \\dots, x^d\\}$."
   ]
  },
  {
   "cell_type": "code",
   "execution_count": null,
   "metadata": {
    "colab": {
     "base_uri": "https://localhost:8080/",
     "height": 282
    },
    "id": "FRyr2eJWVoGO",
    "outputId": "81603ee2-e9f5-4815-bb6a-6d55a17ac527"
   },
   "outputs": [
    {
     "name": "stdout",
     "output_type": "stream",
     "text": [
      "Model: + 1.01x^0 + -0.99x^1 + 0.42x^2 + -0.24x^3 + 0.09x^4 + 0.06x^5\n"
     ]
    },
    {
     "data": {
      "image/png": "[encoded data removed]",
      "text/plain": [
       "<Figure size 432x288 with 1 Axes>"
      ]
     },
     "metadata": {
      "needs_background": "light",
      "tags": []
     },
     "output_type": "display_data"
    }
   ],
   "source": [
    "# Construct data\n",
    "f = lambda x: np.exp(-x)\n",
    "xdata = np.random.uniform(low=-1.0, high=1.0, size=[100])\n",
    "ydata = f(xdata) + np.random.normal(scale=0.08, size=[100])\n",
    "\n",
    "# Fit a fifth-degree polynomial with regression\n",
    "X = np.column_stack([xdata, xdata**2.0, xdata**3.0, xdata**4.0, xdata**5.0])\n",
    "reg = sklearn.linear_model.LinearRegression()\n",
    "reg.fit(X, ydata)\n",
    "\n",
    "# Print model\n",
    "print(\"Model:\", end=\"\")\n",
    "for c, b in zip([reg.intercept_]+list(reg.coef_), range(6)):\n",
    "  print(f\" + {c:.2f}x^{b}\", end=\"\")\n",
    "print()\n",
    "\n",
    "# Plot data and model predictions\n",
    "plt.axhline(color=\"black\"); plt.axvline(color=\"black\")\n",
    "plt.scatter(xdata, ydata)\n",
    "x = np.linspace(-1, 1)\n",
    "X = np.column_stack([x, x**2, x**3, x**4, x**5])\n",
    "plt.plot(x, reg.predict(X), color=\"red\")\n",
    "plt.show()"
   ]
  },
  {
   "cell_type": "markdown",
   "metadata": {
    "id": "ugnOs8rfFiU1"
   },
   "source": [
    "The resulting polynomial $p$ can be compared with another analytical function $f$ is several ways. The most exact way is to consider $f$ and $p$ as vectors and compute the magnitude of the difference vector:\n",
    "\n",
    "$$ || \\pmb{p} - \\pmb{f} ||^2 = \\int_{-1}^{1}\\left(p(x) - f(x)\\right)^2\\ dx $$\n",
    "\n",
    "Instead of taking a proper integral, the difference could be approximated by sampling evenly-spaced points on the domain:\n",
    "\n",
    "$$ \\sum_{i=-N}^{N} (p(i \\Delta x) - f(i \\Delta x))^2 \\Delta x \\qquad \\text{where } \\Delta x = 1/N $$\n",
    "\n",
    "You could also compare the coefficients of $p$ with the coefficients of the Maclaurin expansion of $f$ which is essentially just comparing the derivatives of the two functions at $x=0$. As an added bonus, if we ignore the zeroth derivative, we have a comparision that is invariant under the addition of a constant.\n",
    "\n",
    "$$ \\sum_{i=1}^{d} \\left(p^{(i)}(0) - f^{(i)}(0)\\right)^2 $$\n",
    "\n",
    "Finally, we could compare them via cosine-similiarity which would give a comparison that is invariant under scaling by a constant.\n",
    "\n",
    "$$ \\frac{\\pmb{p} \\cdot \\pmb{f}}{||\\pmb{p}||\\ ||\\pmb{f}||} $$"
   ]
  },
  {
   "cell_type": "markdown",
   "metadata": {
    "id": "vlA3yxrGo-FN"
   },
   "source": [
    "Functions can be categorized into groups based on a small amount of information such as the first and second derivative at zero. These groups could offer suggestions about which functions might be beneficial to add to the set of library functions.\n",
    "\n",
    "|              | $f''(0) = -1$ | $f''(0) = 0$ | $f''(0) = 1$ |\n",
    "|--------------|---------------|--------------|--------------|\n",
    "| $f'(0) = -1$ | $-e^x$        | $-\\sin(x)$   | $e^{-x}$     |\n",
    "| $f'(0) = 0$  | $\\cos(x)$     |              | $-\\cos(x)$   |\n",
    "| $f'(0) = 1$  | $-e^{-x}$     | $\\sin(x)$    | $e^x$        |"
   ]
  },
  {
   "cell_type": "markdown",
   "metadata": {
    "id": "hqNmWz43fxXx"
   },
   "source": [
    "## Fitting Sinusoids\n",
    "\n",
    "We are also looking for ways to represent function composition as a sum of simpler terms. For example, suppose we know that the data is approximately sinusoidal with angular frequency $\\omega$, but we don't know the phase or amplitude. We could find the missing information by fitting a model against the two-function library $\\{\\sin(\\omega x), \\cos(\\omega x)\\}$ since a linear combination of these functions can be rewritten in phase-amplitude form via a simple cartesian-to-polar coordinate conversion.\n",
    "\n",
    "$$ r \\sin(\\omega x + \\psi) + b = w_0\\sin(\\omega x) + w_1\\cos(\\omega x) + b $$\n",
    "\n",
    "$$ r = \\sqrt{w_0^2 + w_1^2} \\qquad \\psi = \\begin{cases} \\cos^{-1}(w_0/r) & w_1 \\ge 0 \\\\ 2\\pi - \\cos^{-1}(w_0/r) & w_1 < 0 \\end{cases} $$"
   ]
  },
  {
   "cell_type": "code",
   "execution_count": null,
   "metadata": {
    "colab": {
     "base_uri": "https://localhost:8080/",
     "height": 352
    },
    "id": "kaBtbUwa0em0",
    "outputId": "c70c144a-9cf6-4108-da58-7507bf084756"
   },
   "outputs": [
    {
     "name": "stdout",
     "output_type": "stream",
     "text": [
      "Model: 0.37sin(x) + 0.35cos(x) + 0.21\n",
      "Model: 0.51sin(x + 0.76) + 0.21\n",
      "Model R^2 value: 0.98\n",
      "<matplotlib.collections.PathCollection object at 0x7fd74b8980d0>\n",
      "<matplotlib.collections.PathCollection object at 0x7fd74b80f450>\n"
     ]
    },
    {
     "data": {
      "image/png": "[encoded data removed]",
      "text/plain": [
       "<Figure size 432x288 with 1 Axes>"
      ]
     },
     "metadata": {
      "needs_background": "light",
      "tags": []
     },
     "output_type": "display_data"
    }
   ],
   "source": [
    "# Construct data\n",
    "f = lambda x: 0.5*tf.sin(x + 0.79) + 0.2\n",
    "xdata = tf.random.uniform([100], minval=0.0, maxval=math.pi * 2.0)\n",
    "ydata = f(xdata) + tf.random.normal([100], stddev=0.05)\n",
    "\n",
    "# (x,y) -> (r,theta)\n",
    "def cart2polar(x, y):\n",
    "  r = math.sqrt(x**2.0 + y**2.0)\n",
    "  theta = math.acos(x/r) if y >= 0.0 else 2*math.pi - math.acos(x/r)\n",
    "  return [r,theta]\n",
    "\n",
    "# Fit regression against our basis {sin(x), cos(x)}\n",
    "# to get w0, w1, b\n",
    "X = np.column_stack([tf.sin(xdata), tf.cos(xdata)])\n",
    "reg = sklearn.linear_model.LinearRegression()\n",
    "reg.fit(X, ydata)\n",
    "w0, w1 = reg.coef_\n",
    "b = reg.intercept_\n",
    "\n",
    "# Output model equation in two different forms\n",
    "# Plot data and model predictions\n",
    "print(f\"Model: {w0:.2f}sin(x) + {w1:.2f}cos(x) + {b:.2f}\")\n",
    "r, theta = cart2polar(w0, w1)\n",
    "print(f\"Model: {r:.2f}sin(x + {theta:.2f}) + {b:.2f}\")\n",
    "print(f\"Model R^2 value: {reg.score(X, ydata):.2f}\")\n",
    "print(plt.scatter(xdata, ydata))\n",
    "print(plt.scatter(xdata, reg.predict(X)))"
   ]
  },
  {
   "cell_type": "markdown",
   "metadata": {
    "id": "x7ypzwuy3ks5"
   },
   "source": [
    "Alternatively, we can estimate the angular frequency of the wave using some Fourier analysis.\n",
    "\n",
    "$$ f(x) = \\sin(\\omega x) $$\n",
    "\n",
    "To find the angular frequency, we could use Fourier analysis. The Fourier transform of a pure sine wave will be zero everywhere except for at the frequency of the wave:\n",
    "\n",
    "$$ \\hat{f}(\\xi) = \\int_{-\\infty}^{\\infty} f(t)\\cos(2\\pi\\xi t)\\ dt - i\\int_{-\\infty}^{\\infty} f(t)\\sin(2\\pi\\xi t)\\ dt $$\n",
    "\n",
    "We are not interested in calculating values of the Fourier transform, but only in discovering frequencies where $\\hat{f}$ is large. This means we can integrate on a finite interval instead of over all real numbers:\n",
    "\n",
    "$$ g(\\xi) = \\int_{0}^{L} f(t)\\cos(2\\pi\\xi t)\\ dt - i\\int_{0}^{L} f(t)\\sin(2\\pi\\xi t)\\ dt $$\n",
    "\n",
    "The function $g$ converges to $\\hat{f}$ as the range of the integration increases. But importantly, even if the range is small, the value of $n$ that maximizes $g$ should be approximately the same $n$ value that maximizes $\\hat{f}$.\n",
    "\n",
    "$$ \\max_{\\xi}|g(\\xi)| \\approx \\max_{\\xi}|\\hat{f}(\\xi)| $$\n",
    "\n",
    "Now we have the correspondence:\n",
    "\n",
    "$$ g\\left( \\frac{n}{L} \\right) = \\frac{L}{2} (a_n - ib_n) $$\n",
    "\n",
    "where $a_n$ and $b_n$ are the coefficients of the Fourier series expansion of $f$:\n",
    "\n",
    "$$ f(x) = a_0 + \\sum_{n=1}^{\\infty} \\left[ a_n\\cos\\left(\\frac{2\\pi nx}{L}\\right) + b_n\\sin\\left(\\frac{2\\pi nx}{L}\\right) \\right] $$\n",
    "\n",
    "$$ a_n = \\frac{2}{L}\\int_0^{L} f(x)\\cos\\left( \\frac{2\\pi nx}{L} \\right)\\ dx $$\n",
    "$$ b_n = \\frac{2}{L}\\int_0^{L} f(x)\\sin\\left( \\frac{2\\pi nx}{L} \\right)\\ dx $$\n",
    "\n",
    "So, we want to find\n",
    "\n",
    "$$ \\max_{\\xi} \\left| g\\left(\\xi\\right)\\right| = \\frac{L}{2}(a_{L\\xi}^2 + b_{L\\xi}^2) $$\n"
   ]
  },
  {
   "cell_type": "code",
   "execution_count": null,
   "metadata": {
    "colab": {
     "base_uri": "https://localhost:8080/",
     "height": 282
    },
    "id": "3YLoWS1I6OLx",
    "outputId": "5ec833cd-cc15-4dd8-cc23-b1aefc92003d"
   },
   "outputs": [
    {
     "name": "stdout",
     "output_type": "stream",
     "text": [
      "Closest frequency: 2.0\n"
     ]
    },
    {
     "data": {
      "image/png": "[encoded data removed]",
      "text/plain": [
       "<Figure size 432x288 with 1 Axes>"
      ]
     },
     "metadata": {
      "needs_background": "light",
      "tags": []
     },
     "output_type": "display_data"
    }
   ],
   "source": [
    "# Construct data\n",
    "f = lambda x: np.sin(2.1*x)\n",
    "xdata = tf.random.uniform([100], minval=0.0, maxval=math.pi * 2.0)\n",
    "ydata = f(xdata) + tf.random.normal([100], stddev=0.05)\n",
    "\n",
    "# Fit a regression using a basis of sinusoids\n",
    "X = np.column_stack([np.sin(n*0.5*xdata) for n in range(1,11)]\\\n",
    "                  + [np.cos(n*0.5*xdata) for n in range(1, 11)])\n",
    "reg = sklearn.linear_model.LinearRegression()\n",
    "reg.fit(X, ydata)\n",
    "\n",
    "# Find largest coefficient\n",
    "i_of_largest_coef = np.argmax(reg.coef_)\n",
    "print(\"Closest frequency:\", 0.5*(i_of_largest_coef+1))\n",
    "\n",
    "# Estimate the frequency\n",
    "\n",
    "\n",
    "# Plot data and model predictions\n",
    "plt.axhline(color=\"black\"); plt.axvline(color=\"black\")\n",
    "plt.scatter(xdata, ydata)\n",
    "plt.scatter(xdata, reg.predict(X))\n",
    "plt.show()"
   ]
  },
  {
   "cell_type": "markdown",
   "metadata": {
    "id": "SPh35ur6hgj1"
   },
   "source": [
    "# Image Classification\n",
    "\n",
    "Moving from simple $\\mathbb{R} \\rightarrow \\mathbb{R}$ functions to a more practical scenario comes with challenges. We will discuss these challenges and some possible solutions by learning equations for image classification using the MNIST dataset. A function trained on the MNIST dataset will have the form $\\mathbb{R}^{784} \\rightarrow \\mathbb{R}^{10}$ mapping 28-by-28-pixel images into an activation value for each of the ten possible digits '0' through '9'. We will learn this function using a 3-layer fully-connected network with output dimensions 183, 57, and 10. These numbers were chosen to have approximately the same ratio between consecutive layers ($784/183 \\approx 183/57 \\approx 57/10$). We will also only consider one of the ten outputs at a time.\n",
    "\n",
    "Data will be gathered by feeding the 10,000 MNIST test images through the trained network and collecting the output values corresponding to a single digit (usually '0'). This was considered preferable to feeding through randomly generated input data."
   ]
  },
  {
   "cell_type": "code",
   "execution_count": 2,
   "metadata": {
    "id": "dF49LEdAf3JY"
   },
   "outputs": [],
   "source": [
    "def constructModel():\n",
    "  \"\"\"Builds a 4-layer neural network, trains it on MNIST data,\n",
    "  prints information, saves the model to a file, returns model\"\"\"\n",
    "  (x_train, y_train), (x_test, y_test) = keras.datasets.mnist.load_data()\n",
    "  x_train = x_train.reshape(60000, 784).astype(\"float32\") / 255\n",
    "  x_test = x_test.reshape(10000, 784).astype(\"float32\") / 255\n",
    "\n",
    "  # Build and compile model\n",
    "  inputs = keras.Input(shape=(784,))\n",
    "  hiddl1 = keras.layers.Dense(183, activation=\"relu\")(inputs)\n",
    "  hiddl2 = keras.layers.Dense(57, activation=\"relu\")(hiddl1)\n",
    "  outputs = keras.layers.Dense(10, activation=\"relu\")(hiddl2)\n",
    "  model = keras.Model(inputs=inputs, outputs=outputs, name=\"mnist_model\")\n",
    "  model.summary()\n",
    "  model.compile(\n",
    "      loss=keras.losses.SparseCategoricalCrossentropy(from_logits=True),\n",
    "      optimizer=keras.optimizers.RMSprop(),\n",
    "      metrics=[\"accuracy\"],\n",
    "  )\n",
    "\n",
    "  # Fit data, print test results\n",
    "  model.fit(x_train, y_train, batch_size=64, epochs=3, validation_split=0.2)\n",
    "  test_scores = model.evaluate(x_test, y_test, verbose=2)\n",
    "  print(\"Test loss:\", test_scores[0])\n",
    "  print(\"Test accuracy:\", test_scores[1])\n",
    "  model.save(\"mnist_model.h5\")\n",
    "  print(\"Saved model to mnist_model.h5\")\n",
    "  return model\n",
    "\n",
    "def getDataForDigit(digit, model=None):\n",
    "  \"\"\"\n",
    "  Returns (x_data, y_data)\n",
    "  x_data: numpy array (10000, 784), the pixel data of the MNIST test images\n",
    "  y_data: numpy array (10000,), the output of the neural network for the\n",
    "          given digit.\n",
    "  If model is `None` then it is loaded from file\n",
    "  \"\"\"\n",
    "  _, (x_data, _) = keras.datasets.mnist.load_data()\n",
    "  x_data = x_data.reshape(10000, 784).astype(\"float32\") / 255\n",
    "  if not model:\n",
    "    model = keras.models.load_model(\"mnist_model.h5\")\n",
    "  y_data = model.predict(x_data)\n",
    "  y_data = np.array([y[digit] for y in y_data])\n",
    "  return x_data, y_data\n",
    "\n",
    "def linearRegression(X, y_data):\n",
    "  \"\"\"Returns the regression object that results from\n",
    "  fitting the given data\"\"\"\n",
    "  reg = sklearn.linear_model.LinearRegression()\n",
    "  reg.fit(X, y_data)\n",
    "  return reg\n",
    "\n",
    "def showAsImages(pixeldatalist, titles=None):\n",
    "  \"\"\"\n",
    "  Displays `len(pixeldatalist)` images, each 28x28 pixels\n",
    "  \"\"\"\n",
    "  pixeldatalist = [np.array(item) for item in pixeldatalist]\n",
    "  f, axes = plt.subplots(1, len(pixeldatalist))\n",
    "  for i, axis in enumerate(axes):\n",
    "    axis.imshow(pixeldatalist[i].reshape(28, 28), cmap=\"gray\")\n",
    "    if titles:\n",
    "      axis.set_title(titles[i])\n",
    "  f.set_size_inches(8, 8)\n",
    "  plt.show()"
   ]
  },
  {
   "cell_type": "code",
   "execution_count": 3,
   "metadata": {
    "colab": {
     "base_uri": "https://localhost:8080/"
    },
    "id": "PSgrbec4SJQa",
    "outputId": "e33cb3cc-fb02-465e-e623-193ba19b2af0"
   },
   "outputs": [
    {
     "ename": "NameError",
     "evalue": "name 'model' is not defined",
     "output_type": "error",
     "traceback": [
      "\u001b[0;31m---------------------------------------------------------------------------\u001b[0m",
      "\u001b[0;31mNameError\u001b[0m                                 Traceback (most recent call last)",
      "\u001b[0;32m<ipython-input-3-9a1bb99d3a13>\u001b[0m in \u001b[0;36m<module>\u001b[0;34m\u001b[0m\n\u001b[1;32m      1\u001b[0m \u001b[0m_\u001b[0m\u001b[0;34m,\u001b[0m \u001b[0;34m(\u001b[0m\u001b[0mx_data\u001b[0m\u001b[0;34m,\u001b[0m \u001b[0m_\u001b[0m\u001b[0;34m)\u001b[0m \u001b[0;34m=\u001b[0m \u001b[0mkeras\u001b[0m\u001b[0;34m.\u001b[0m\u001b[0mdatasets\u001b[0m\u001b[0;34m.\u001b[0m\u001b[0mmnist\u001b[0m\u001b[0;34m.\u001b[0m\u001b[0mload_data\u001b[0m\u001b[0;34m(\u001b[0m\u001b[0;34m)\u001b[0m\u001b[0;34m\u001b[0m\u001b[0;34m\u001b[0m\u001b[0m\n\u001b[1;32m      2\u001b[0m \u001b[0mx_data\u001b[0m \u001b[0;34m=\u001b[0m \u001b[0mx_data\u001b[0m\u001b[0;34m.\u001b[0m\u001b[0mreshape\u001b[0m\u001b[0;34m(\u001b[0m\u001b[0;36m10000\u001b[0m\u001b[0;34m,\u001b[0m \u001b[0;36m784\u001b[0m\u001b[0;34m)\u001b[0m\u001b[0;34m.\u001b[0m\u001b[0mastype\u001b[0m\u001b[0;34m(\u001b[0m\u001b[0;34m\"float32\"\u001b[0m\u001b[0;34m)\u001b[0m \u001b[0;34m/\u001b[0m \u001b[0;36m255\u001b[0m\u001b[0;34m\u001b[0m\u001b[0;34m\u001b[0m\u001b[0m\n\u001b[0;32m----> 3\u001b[0;31m \u001b[0my_data\u001b[0m \u001b[0;34m=\u001b[0m \u001b[0mmodel\u001b[0m\u001b[0;34m.\u001b[0m\u001b[0mpredict\u001b[0m\u001b[0;34m(\u001b[0m\u001b[0mx_data\u001b[0m\u001b[0;34m)\u001b[0m\u001b[0;34m\u001b[0m\u001b[0;34m\u001b[0m\u001b[0m\n\u001b[0m\u001b[1;32m      4\u001b[0m \u001b[0my_data\u001b[0m \u001b[0;34m=\u001b[0m \u001b[0mnp\u001b[0m\u001b[0;34m.\u001b[0m\u001b[0marray\u001b[0m\u001b[0;34m(\u001b[0m\u001b[0;34m[\u001b[0m\u001b[0my\u001b[0m\u001b[0;34m[\u001b[0m\u001b[0;36m8\u001b[0m\u001b[0;34m]\u001b[0m \u001b[0;32mfor\u001b[0m \u001b[0my\u001b[0m \u001b[0;32min\u001b[0m \u001b[0my_data\u001b[0m\u001b[0;34m]\u001b[0m\u001b[0;34m)\u001b[0m\u001b[0;34m\u001b[0m\u001b[0;34m\u001b[0m\u001b[0m\n\u001b[1;32m      5\u001b[0m \u001b[0my_data\u001b[0m\u001b[0;34m[\u001b[0m\u001b[0;36m0\u001b[0m\u001b[0;34m:\u001b[0m\u001b[0;36m20\u001b[0m\u001b[0;34m]\u001b[0m\u001b[0;34m\u001b[0m\u001b[0;34m\u001b[0m\u001b[0m\n",
      "\u001b[0;31mNameError\u001b[0m: name 'model' is not defined"
     ]
    }
   ],
   "source": [
    "_, (x_data, _) = keras.datasets.mnist.load_data()\n",
    "x_data = x_data.reshape(10000, 784).astype(\"float32\") / 255\n",
    "y_data = model.predict(x_data)\n",
    "y_data = np.array([y[8] for y in y_data])\n",
    "y_data[0:20]"
   ]
  },
  {
   "cell_type": "code",
   "execution_count": 4,
   "metadata": {
    "colab": {
     "base_uri": "https://localhost:8080/"
    },
    "id": "3UXXIU74dp5s",
    "outputId": "a1a8e3b1-9c5a-4604-ce25-6094e5c6e098",
    "scrolled": true
   },
   "outputs": [
    {
     "name": "stdout",
     "output_type": "stream",
     "text": [
      "Model: \"mnist_model\"\n",
      "_________________________________________________________________\n",
      "Layer (type)                 Output Shape              Param #   \n",
      "=================================================================\n",
      "input_1 (InputLayer)         [(None, 784)]             0         \n",
      "_________________________________________________________________\n",
      "dense (Dense)                (None, 183)               143655    \n",
      "_________________________________________________________________\n",
      "dense_1 (Dense)              (None, 57)                10488     \n",
      "_________________________________________________________________\n",
      "dense_2 (Dense)              (None, 10)                580       \n",
      "=================================================================\n",
      "Total params: 154,723\n",
      "Trainable params: 154,723\n",
      "Non-trainable params: 0\n",
      "_________________________________________________________________\n",
      "Epoch 1/3\n",
      "750/750 [==============================] - 3s 3ms/step - loss: 0.7627 - accuracy: 0.7492 - val_loss: 0.3864 - val_accuracy: 0.8571\n",
      "Epoch 2/3\n",
      "750/750 [==============================] - 2s 3ms/step - loss: 0.3653 - accuracy: 0.8639 - val_loss: 0.3709 - val_accuracy: 0.8583\n",
      "Epoch 3/3\n",
      "750/750 [==============================] - 2s 3ms/step - loss: 0.3152 - accuracy: 0.8764 - val_loss: 0.3613 - val_accuracy: 0.8622\n",
      "313/313 - 0s - loss: 0.3357 - accuracy: 0.8696\n",
      "Test loss: 0.3357083797454834\n",
      "Test accuracy: 0.8695999979972839\n",
      "Saved model to mnist_model.h5\n"
     ]
    }
   ],
   "source": [
    "model = constructModel()"
   ]
  },
  {
   "cell_type": "markdown",
   "metadata": {
    "id": "0aJRDTBf4moS"
   },
   "source": [
    "## A Linear Model\n",
    "\n",
    "To start off, we will simply fit a linear model to the value of the '0' node. The result is 784 learned weights that indicate how the zero activation varies linearly with each pixel. These weights are displayed below in a 28-by-28 grid. Black indicates a negative weight while white indicates a positive weight.\n",
    "\n",
    "We can evaluate the accuracy of our model using the coefficient of determination for the regression ($R^2$). We can see that even a linear model yields surprisingly high $R^2$ values around 0.80. "
   ]
  },
  {
   "cell_type": "code",
   "execution_count": 5,
   "metadata": {
    "colab": {
     "base_uri": "https://localhost:8080/",
     "height": 455
    },
    "id": "LCcs9oA-hxgN",
    "outputId": "5f9a6a4e-d1c4-41f2-8f1b-50dcb3f5795d"
   },
   "outputs": [
    {
     "name": "stdout",
     "output_type": "stream",
     "text": [
      "Regression results for digit '0'\n",
      "\n"
     ]
    },
    {
     "data": {
      "image/png": "[encoded data removed]",
      "text/plain": [
       "<Figure size 1080x360 with 3 Axes>"
      ]
     },
     "metadata": {
      "needs_background": "light"
     },
     "output_type": "display_data"
    },
    {
     "name": "stdout",
     "output_type": "stream",
     "text": [
      "\n",
      "Intercept: 1.7313\n",
      "Lowest weight -24370.01 is at pixel 670\n",
      "R^2: 0.8153\n",
      "Proportion of coefficients between -1 and 1: 634\n"
     ]
    }
   ],
   "source": [
    "digit = 0\n",
    "\n",
    "x_data, y_data = getDataForDigit(digit)\n",
    "reg = linearRegression(x_data, y_data)\n",
    "\n",
    "print(f\"Regression results for digit '{digit}'\\n\")\n",
    "\n",
    "f, axes = plt.subplots(1, 3)\n",
    "axes[0].imshow(tf.nn.sigmoid(reg.coef_.reshape(28, 28)), cmap=\"gray\")\n",
    "axes[0].set_title(r\"$\\sigma$(coefficients)\")\n",
    "axes[1].set_title(r\"Coefficient Distribution\")\n",
    "axes[1].hist(reg.coef_, bins=40)\n",
    "axes[2].hist(reg.coef_, bins=40, range=(-2, 2))\n",
    "axes[2].set_title(r\"Coefficient Distribution Around Zero\")\n",
    "f.set_size_inches(15, 5)\n",
    "plt.show()\n",
    "\n",
    "print(f\"\\nIntercept: {reg.intercept_:.4f}\")\n",
    "print(f\"Lowest weight {reg.coef_.min():.2f} is at pixel {reg.coef_.argmin()}\")\n",
    "print(f\"R^2: {reg.score(x_data, y_data):.4f}\")\n",
    "print(\"Proportion of coefficients between -1 and 1:\", np.count_nonzero(np.abs(reg.coef_) <= 2))"
   ]
  },
  {
   "cell_type": "markdown",
   "metadata": {
    "id": "ahdpUYdM1j7B"
   },
   "source": [
    "## Low-Variance Pruning\n",
    "\n",
    "Since 784 input dimensions is a little unweildy, we need a way of prioritizing inputs. One strategy is to prioritize based on the input's **variance** in the dataset. For the MNIST images, most of the pixels along the edge of the image are black no matter which image we look at, so these pixels have a variance of zero and should not be included in our mathematical model.\n",
    "\n",
    "It makes sense to extend this reasoning the other way. If we are building a progressively more complex equation, we should add the pixels with the **highest variance first**\n",
    "\n",
    "This could possibly be extended to **terms with high variance** instead of just input variables."
   ]
  },
  {
   "cell_type": "code",
   "execution_count": null,
   "metadata": {
    "colab": {
     "base_uri": "https://localhost:8080/",
     "height": 318
    },
    "id": "S5IGeUyPX-Lx",
    "outputId": "af9252c3-6c29-45fa-cdf7-1a5daed6e504"
   },
   "outputs": [
    {
     "name": "stdout",
     "output_type": "stream",
     "text": [
      "Pixel averages and variances over all test images\n"
     ]
    },
    {
     "data": {
      "image/png": "[encoded data removed]",
      "text/plain": [
       "<Figure size 576x576 with 2 Axes>"
      ]
     },
     "metadata": {
      "needs_background": "light",
      "tags": []
     },
     "output_type": "display_data"
    },
    {
     "name": "stdout",
     "output_type": "stream",
     "text": [
      "Max pixel variance is 0.2009 at pixel 378\n",
      "Max pixel average is 0.5606 at pixel 435\n"
     ]
    }
   ],
   "source": [
    "x_data, _ = getDataForDigit(0)\n",
    "\n",
    "pixel_averages = np.average(x_data, axis=0)\n",
    "pixel_variances = np.var(x_data, axis=0)\n",
    "\n",
    "print(\"Pixel averages and variances over all test images\")\n",
    "showAsImages([pixel_averages, pixel_variances], [\"Pixel Averages\", \" Pixel Variances\"])\n",
    "\n",
    "print(f\"Max pixel variance is {pixel_variances.max():.4f} at pixel {pixel_variances.argmax()}\")\n",
    "print(f\"Max pixel average is {pixel_averages.max():.4f} at pixel {pixel_averages.argmax()}\")"
   ]
  },
  {
   "cell_type": "code",
   "execution_count": null,
   "metadata": {
    "colab": {
     "base_uri": "https://localhost:8080/",
     "height": 318
    },
    "id": "X08Cty8kbvCV",
    "outputId": "5e1254d2-fabf-4a9a-9767-4729b68c9cc1"
   },
   "outputs": [
    {
     "name": "stdout",
     "output_type": "stream",
     "text": [
      "Show how linear model gets better as more pixels are added.\n",
      "Pixels with highest variance are added first.\n"
     ]
    },
    {
     "data": {
      "image/png": "[encoded data removed]",
      "text/plain": [
       "<Figure size 432x288 with 1 Axes>"
      ]
     },
     "metadata": {
      "needs_background": "light",
      "tags": []
     },
     "output_type": "display_data"
    }
   ],
   "source": [
    "x_data, y_data = getDataForDigit(0)\n",
    "\n",
    "pixel_variances = sorted(enumerate(np.average(x_data, axis=0)), key=lambda pair: pair[1], reverse=True)\n",
    "\n",
    "r2vals = []\n",
    "for numpixtoinclude in range(1, 200):\n",
    "  includeinreg = [x_data[:,pair[0]] for pair in pixel_variances[:numpixtoinclude]]\n",
    "  X = np.column_stack(includeinreg)\n",
    "  reg = linearRegression(X, y_data)\n",
    "  r2vals.append(reg.score(X, y_data))\n",
    "\n",
    "print(\"Show how linear model gets better as more pixels are added.\")\n",
    "print(\"Pixels with highest variance are added first.\")\n",
    "axis = plt.figure().add_subplot(111)\n",
    "axis.set_ylim([0, 1])\n",
    "axis.plot(range(1, 200), r2vals)\n",
    "axis.set_xlabel(\"# pixels\")\n",
    "axis.set_ylabel(\"$R^2$\")\n",
    "plt.show()\n"
   ]
  },
  {
   "cell_type": "markdown",
   "metadata": {
    "id": "GENBEB60s_i0"
   },
   "source": [
    "## Discriminatory Pixels\n",
    "\n",
    "For image processing, a pixel with high variance accross the input space doesn't necessarily mean that it can be used to discriminate between classes of images. In fact, useful pixels will have low variance across the images in any particular class, but high variance across the entire set of images. The code below displays the average and variance of each pixel across all the images of the class '0'. Notice the loop of darker pixels in the variance image. These pixels are most likely to be white given the image depicts a '0'."
   ]
  },
  {
   "cell_type": "code",
   "execution_count": 6,
   "metadata": {
    "colab": {
     "base_uri": "https://localhost:8080/",
     "height": 602
    },
    "id": "zAITzzlqjSfU",
    "outputId": "031cb0a5-0eb9-4f61-8d73-22057430d86e"
   },
   "outputs": [
    {
     "name": "stdout",
     "output_type": "stream",
     "text": [
      "Pixel averages and variances over all images CLASSIFIED as 0\n",
      "by the neural network:\n"
     ]
    },
    {
     "data": {
      "image/png": "[encoded data removed]",
      "text/plain": [
       "<Figure size 576x576 with 2 Axes>"
      ]
     },
     "metadata": {
      "needs_background": "light"
     },
     "output_type": "display_data"
    },
    {
     "name": "stdout",
     "output_type": "stream",
     "text": [
      "Max pixel variance is 0.2063 at pixel 464\n",
      "Max pixel average is 0.7121 at pixel 237\n"
     ]
    }
   ],
   "source": [
    "_, (x_data, _) = keras.datasets.mnist.load_data()\n",
    "x_data = x_data.reshape(10000, 784).astype(\"float32\") / 255\n",
    "model = keras.models.load_model(\"mnist_model.h5\")\n",
    "y_data = model.predict(x_data)\n",
    "y_data = np.array([y.argmax() for y in y_data])\n",
    "\n",
    "x_data_0 = []\n",
    "for inp, oup in zip(x_data, y_data):\n",
    "  if oup == 0:\n",
    "    x_data_0.append(inp)\n",
    "\n",
    "pixel_averages = np.average(x_data_0, axis=0)\n",
    "pixel_variances = np.var(x_data_0, axis=0)\n",
    "\n",
    "print(\"Pixel averages and variances over all images CLASSIFIED as 0\")\n",
    "print(\"by the neural network:\")\n",
    "showAsImages([pixel_averages, pixel_variances], [\"Pixel Averages\", \" Pixel Variances\"])\n",
    "\n",
    "print(f\"Max pixel variance is {pixel_variances.max():.4f} at pixel {pixel_variances.argmax()}\")\n",
    "print(f\"Max pixel average is {pixel_averages.max():.4f} at pixel {pixel_averages.argmax()}\")"
   ]
  },
  {
   "cell_type": "markdown",
   "metadata": {
    "id": "-ibjJhAbzjqg"
   },
   "source": [
    "## Evolutionary Equation Learning\n",
    "\n",
    "While a linear model is a good starting point, including some non-linear terms should allow for more accurate models. We will limit our linear model to the ten highest-varying inputs and experiment with adding quadratic terms.\n",
    "\n",
    "If a set of base functions is chosen properly, we can extract meaningful information about the computation being performed by a neural network. However, finding the best set of base functions is no easy task. Polynomials are great for approximating general functions, but what if the neural network is actually calculating an exponential or periodic function, or combinations of functions?\n",
    "\n",
    "Here we will use an iterative process for refining the set of base functions:\n",
    "\n",
    "* $\\mathcal{B} =$ initial base terms\n",
    "* repeat:\n",
    "  1. $\\theta \\leftarrow$ parameters from fitting to functions $\\mathcal{B}$\n",
    "  2. remove insignificant terms from $\\mathcal{B}$\n",
    "  3. add new possibly significant terms to $\\mathcal{B}$\n",
    "\n",
    "The third step is the most difficult. To start, we could just naively consider every basis function to be possibly significant. We could start with $B = \\{x_1, x_2, ..., x_{784}\\}$ and find a linear fit, eliminate terms with small coefficients, then add $\\{x_1^2, x_1 x_2, x_1 x_3, ..., x_1 x_{784}\\}$, and so on. However, it would be nice to have a way of determining which basis functions are most likely to be significant by using the model from the previous iteration."
   ]
  },
  {
   "cell_type": "markdown",
   "metadata": {
    "id": "s9suONCK45lu"
   },
   "source": [
    "**Idea 1**: _the functions in $B$ should only be compositions of basis functions from the $B$ of the previous iteration._\n",
    "\n",
    "For example, we could start by fitting a linear regression against $B=\\{x_1, x_2, x_3, x_4\\}$. Suppose we find out that the coefficients on $x_3$ and $x_4$ are negligible. Then our next set of basis functions could be $B = \\{x_1, x_2, x_1^2, x_2^2, x_1 x_2\\}$ only constructed from the previously significant functions. The problem is that if the coefficient on $x_3$ is close to zero, that doesn't mean $x_3$ is unimportant, it just means that _on average_, the output doesn't change with respect to $x_3$.\n",
    "\n",
    "**Idea 2**: _find ways of representing compound functions using sums of other functions_\n",
    "\n",
    "For example, a function of the form $a\\cos(x) + b\\sin(x)$ can always be rewritten in the form $r\\sin(x + \\psi)$ via a simple cartesian->polar coordinate conversion. Fourier series and Taylor series are also techniques for doing this, but present their own challenges:\n",
    "* While there are algorithms to convert functions into polynomials, sinusoids, etc (Maclaurin series, Fourier analysis), there are not general algorithms to convert back to the original functions."
   ]
  },
  {
   "cell_type": "code",
   "execution_count": 7,
   "metadata": {
    "id": "bMzrIzu1g1Px"
   },
   "outputs": [],
   "source": [
    "class Term:\n",
    "  def __init__(self, name, data, degree):\n",
    "    self._name = name\n",
    "    self._data = data\n",
    "    self._degree = degree\n",
    "    self._coef = None\n",
    "    self._var = None\n",
    "  def __lt__(self, other):\n",
    "    return self._coef < other._coef\n",
    "  def __eq__(self, other):\n",
    "    return self._coef == other._coef\n",
    "  def __repr__(self):\n",
    "    if self._coef == None:\n",
    "      return f\"\\\\_{self._name}\"\n",
    "    return f\"{self._coef:.2f}{self._name}\"\n",
    "  def __mul__(self, other):\n",
    "    return Term(self._name+other._name, self._data*other._data, self._degree + other._degree)\n",
    "  def getVariance(self):\n",
    "    if self._var != None: return self._var\n",
    "    self._var = np.var(self._data)\n",
    "    return self._var\n",
    "  def getCoefMag(self):\n",
    "    return np.abs(self._coef)\n",
    "  def getCoef(self):\n",
    "    return self._coef\n",
    "\n",
    "class Equation:\n",
    "  def __init__(self, terms=None):\n",
    "    self._terms = terms.copy() if terms else []\n",
    "    self.rsquared_ = None\n",
    "    self.intercept_ = None\n",
    "  def fitTerms(self, y_data):\n",
    "    X = np.column_stack([t._data for t in self._terms])\n",
    "    reg = sklearn.linear_model.LinearRegression()\n",
    "    reg.fit(X, y_data)\n",
    "    for i, c in enumerate(reg.coef_):\n",
    "      self._terms[i]._coef = c\n",
    "    self.rsquared_ = reg.score(X, y_data)\n",
    "    self.intercept_ = reg.intercept_\n",
    "  def getR2(self):\n",
    "    return self.rsquared_\n",
    "  def pruneByVariance(self, remaining):\n",
    "    self._terms = sorted(eq._terms, key=Term.getVariance, reverse=True)[:remaining]\n",
    "  def pruneByCoef(self, remaining):\n",
    "    self._terms.sort(key=Term.getCoefMag, reverse=True)\n",
    "    self._terms = self._terms[:remaining]\n",
    "  def pruneByVarTimesCoef(self, remaining):\n",
    "    keyFunc = lambda t: t.getCoefMag()*t.getVariance()\n",
    "    self._terms = sorted(eq._terms, key=keyFunc, reverse=True)[:remaining]\n",
    "  def elimByVarThreshold(self, threshold):\n",
    "    self._terms = list(filter(lambda x: x.getVariance() >= threshold, self._terms))\n",
    "  def sortByVariance(self, descending=True):\n",
    "    self._terms.sort(key=Term.getVariance, reverse=descending)\n",
    "  def sortByCoef(self, descending=True):\n",
    "    self._terms.sort(key=Term.getCoefMag, reverse=descending)\n",
    "  def sortByVarTimesCoef(self, descending=True):\n",
    "    keyFunc = lambda t: t.getCoefMag()*t.getVariance()\n",
    "    self._terms.sort(key=keyFunc, reverse=descending)\n",
    "  def sortByVIC(self, descending=True):\n",
    "    keyFunc = lambda t: t.getVariance() / (t.getCoefMag() + 1)\n",
    "    self._terms.sort(key=keyFunc, reverse=descending)\n",
    "  def display(self):\n",
    "    display(Latex(\" + \".join([t.__repr__() for t in self._terms])))\n",
    "  def mutate(self):\n",
    "    retEq = Equation(self._terms.copy())\n",
    "    retEq.sortByVIC()\n",
    "    alpha = 1 - math.pow(1-0.99, 1/(len(retEq._terms)+1))  # prob of stopping for each index\n",
    "    ix = 0\n",
    "    while random.random() > alpha:\n",
    "      ix += 1\n",
    "      if ix >= len(retEq._terms): return retEq\n",
    "    for t in random.sample(retEq._terms, int(len(retEq._terms) * 0.2) + 1):\n",
    "      newt = t * retEq._terms[ix]\n",
    "      if newt._degree <= 5:\n",
    "        retEq._terms.append(newt)\n",
    "        \n",
    "    return retEq"
   ]
  },
  {
   "cell_type": "code",
   "execution_count": null,
   "metadata": {
    "colab": {
     "base_uri": "https://localhost:8080/",
     "height": 144
    },
    "id": "-90qlAWVTiSJ",
    "outputId": "c91afbb8-017b-4eea-a0ee-ed7e30d3d3f0"
   },
   "outputs": [
    {
     "data": {
      "text/latex": [
       "-0.00x_{378} + -0.00x_{406} + -0.00x_{627} + -0.00x_{437} + -0.00x_{409} + -0.00x_{461} + -0.00x_{433} + -0.00x_{462} + -0.00x_{628} + -0.00x_{464}"
      ],
      "text/plain": [
       "<IPython.core.display.Latex object>"
      ]
     },
     "metadata": {
      "tags": []
     },
     "output_type": "display_data"
    },
    {
     "name": "stdout",
     "output_type": "stream",
     "text": [
      "\n",
      " 0.0006133152877434433 \n",
      "\n"
     ]
    },
    {
     "data": {
      "text/latex": [
       "-0.00x_{628} + -0.00x_{378} + -0.00x_{464} + -0.00x_{627} + -0.00x_{437} + -0.00x_{409} + 0.00x_{461}x_{462} + -0.00x_{462} + 0.00x_{628}x_{628} + -0.00x_{461}"
      ],
      "text/plain": [
       "<IPython.core.display.Latex object>"
      ]
     },
     "metadata": {
      "tags": []
     },
     "output_type": "display_data"
    },
    {
     "name": "stdout",
     "output_type": "stream",
     "text": [
      "\n",
      " 0.0007010374405280739\n"
     ]
    }
   ],
   "source": [
    "# Equation with quadratics and 10 terms\n",
    "x_data, y_data = getDataForDigit(0)\n",
    "\n",
    "# Get top linear terms\n",
    "eq = Equation()\n",
    "for i, singlepixeldata in enumerate(x_data.T):\n",
    "  eq._terms.append(Term(\"x_{%d}\" % i, singlepixeldata, 1))\n",
    "eq.fitTerms(y_data)\n",
    "eq.pruneByVariance(10)\n",
    "eq.fitTerms(y_data)\n",
    "eq.display()\n",
    "print(\"\\n\", eq.rsquared_, \"\\n\")\n",
    "#eq.pruneByVariance(5)\n",
    "\n",
    "# Add quadratic terms (build from the linear terms)\n",
    "quadTerms = []\n",
    "for i, t1 in enumerate(eq._terms):\n",
    "  for t2 in eq._terms[i:]:\n",
    "    quadTerms.append(t1*t2)\n",
    "eq._terms += quadTerms\n",
    "\n",
    "eq.fitTerms(y_data)\n",
    "eq.pruneByCoef(10)\n",
    "eq.fitTerms(y_data)\n",
    "eq.display()\n",
    "print(\"\\n\", eq.rsquared_)"
   ]
  },
  {
   "cell_type": "markdown",
   "metadata": {
    "id": "Mg62N6-5d40P"
   },
   "source": [
    "## VIC \n",
    "\n",
    "VIC (Variance times Inverse Coefficient) represents the likelihood that a term is significant, just not in its current form, so maybe combining it with other terms will increase the chances of it being significant.\n",
    "\n",
    "$$ \\text{VIC}(t) = \\frac{\\text{var}(t)}{\\text{coef}(t)} $$\n",
    "\n",
    "|           | high var  | low var |\n",
    "|----------:|-----------|---------|\n",
    "| high coef | keep      | elim    |\n",
    "| low coef  | recombine | elim    |\n",
    "\n",
    "Algorithm:\n",
    "\n",
    "* repeat:\n",
    "  * Sort by VIC\n",
    "  * Remove high VIC terms\n",
    "  * Recombine high VIC terms and add them back\n",
    "  * Prune by Variance"
   ]
  },
  {
   "cell_type": "code",
   "execution_count": 8,
   "metadata": {
    "id": "lfgMTwaYNQZ6"
   },
   "outputs": [],
   "source": [
    "def constructModel():\n",
    "  \"\"\"Builds a 4-layer neural network, trains it on MNIST data,\n",
    "  prints information, saves the model to a file, returns model\"\"\"\n",
    "  (x_train, y_train), (x_test, y_test) = keras.datasets.mnist.load_data()\n",
    "  x_train = x_train.reshape(60000, 784).astype(\"float32\") / 255\n",
    "  x_test = x_test.reshape(10000, 784).astype(\"float32\") / 255\n",
    "\n",
    "  # Build and compile model\n",
    "  inputs = keras.Input(shape=(784,))\n",
    "  hiddl1 = keras.layers.Dense(183, activation=\"relu\")(inputs)\n",
    "  hiddl2 = keras.layers.Dense(57, activation=\"relu\")(hiddl1)\n",
    "  outputs = keras.layers.Dense(10, activation=\"relu\")(hiddl2)\n",
    "  model = keras.Model(inputs=inputs, outputs=outputs, name=\"mnist_model\")\n",
    "  model.summary()\n",
    "  model.compile(\n",
    "      loss=keras.losses.SparseCategoricalCrossentropy(from_logits=True),\n",
    "      optimizer=keras.optimizers.RMSprop(),\n",
    "      metrics=[\"accuracy\"],\n",
    "  )\n",
    "\n",
    "  # Fit data, print test results\n",
    "  model.fit(x_train, y_train, batch_size=64, epochs=3, validation_split=0.2)\n",
    "  test_scores = model.evaluate(x_test, y_test, verbose=2)\n",
    "  print(\"Test loss:\", test_scores[0])\n",
    "  print(\"Test accuracy:\", test_scores[1])\n",
    "  model.save(\"mnist_model.h5\")\n",
    "  print(\"Saved model to mnist_model.h5\")\n",
    "  return model"
   ]
  },
  {
   "cell_type": "code",
   "execution_count": null,
   "metadata": {
    "colab": {
     "base_uri": "https://localhost:8080/"
    },
    "id": "VYN0Zx7aNVck",
    "outputId": "ba6a8c1a-2d3a-4853-c72b-ea7445ba4e9f"
   },
   "outputs": [
    {
     "name": "stdout",
     "output_type": "stream",
     "text": [
      "Model: \"mnist_model\"\n",
      "_________________________________________________________________\n",
      "Layer (type)                 Output Shape              Param #   \n",
      "=================================================================\n",
      "input_1 (InputLayer)         [(None, 784)]             0         \n",
      "_________________________________________________________________\n",
      "dense (Dense)                (None, 183)               143655    \n",
      "_________________________________________________________________\n",
      "dense_1 (Dense)              (None, 57)                10488     \n",
      "_________________________________________________________________\n",
      "dense_2 (Dense)              (None, 10)                580       \n",
      "=================================================================\n",
      "Total params: 154,723\n",
      "Trainable params: 154,723\n",
      "Non-trainable params: 0\n",
      "_________________________________________________________________\n",
      "Epoch 1/3\n",
      "750/750 [==============================] - 5s 6ms/step - loss: 0.8004 - accuracy: 0.7844 - val_loss: 0.3841 - val_accuracy: 0.9409\n",
      "Epoch 2/3\n",
      "750/750 [==============================] - 4s 5ms/step - loss: 0.3520 - accuracy: 0.9548 - val_loss: 0.3403 - val_accuracy: 0.9638\n",
      "Epoch 3/3\n",
      "750/750 [==============================] - 4s 5ms/step - loss: 0.3119 - accuracy: 0.9699 - val_loss: 0.3217 - val_accuracy: 0.9706\n",
      "313/313 - 0s - loss: 0.3111 - accuracy: 0.9741\n",
      "Test loss: 0.31108859181404114\n",
      "Test accuracy: 0.9740999937057495\n",
      "Saved model to mnist_model.h5\n"
     ]
    }
   ],
   "source": [
    "# Construct a 4-layer fully connected neural network and\n",
    "# train the model to classify MNIST digits.\n",
    "model = constructModel()"
   ]
  },
  {
   "cell_type": "code",
   "execution_count": 9,
   "metadata": {
    "colab": {
     "base_uri": "https://localhost:8080/",
     "height": 566
    },
    "id": "SdQ75UzoJhmy",
    "outputId": "35eb5025-060b-4538-9942-d0c6ad22f7c3"
   },
   "outputs": [
    {
     "name": "stdout",
     "output_type": "stream",
     "text": [
      "Iterations: 1, R^2: 0.4776507058407578\n",
      "Iterations: 2, R^2: 0.5197914225984966\n",
      "Iterations: 3, R^2: 0.5361806974389492\n",
      "Iterations: 4, R^2: 0.5475975371326502\n",
      "Iterations: 5, R^2: 0.5630084051375925\n",
      "Iterations: 6, R^2: 0.5797643554566219\n",
      "Iterations: 7, R^2: 0.5842705768926446\n",
      "Iterations: 8, R^2: 0.5940954590968097\n",
      "Iterations: 9, R^2: 0.6016903069047493\n",
      "Iterations: 10, R^2: 0.604656694809732\n",
      "Iterations: 20, R^2: 0.6173228010889436\n",
      "Iterations: 30, R^2: 0.6173227990602274\n",
      "Iterations: 40, R^2: 0.6173227996507219\n",
      "Iterations: 50, R^2: 0.6173227983167993\n",
      "Iterations: 60, R^2: 0.6173227991034491\n",
      "Iterations: 70, R^2: 0.6173228005114305\n",
      "Iterations: 80, R^2: 0.6173228013359816\n",
      "Iterations: 90, R^2: 0.6173228023055343\n",
      "Iterations: 100, R^2: 0.6173228009115039\n",
      "Iterations: 110, R^2: 0.6173227965985945\n",
      "Iterations: 120, R^2: 0.6173228009115039\n",
      "Iterations: 130, R^2: 0.6173227989717921\n",
      "Iterations: 140, R^2: 0.6173228032312253\n",
      "Iterations: 150, R^2: 0.6173228009659968\n",
      "Iterations: 160, R^2: 0.6173227981595925\n",
      "Iterations: 170, R^2: 0.6173228010889436\n",
      "Iterations: 180, R^2: 0.6173228016787666\n",
      "Iterations: 190, R^2: 0.6173228009115039\n",
      "Iterations: 200, R^2: 0.6173228017468737\n",
      "Iterations: 210, R^2: 0.6173228022942829\n",
      "Iterations: 220, R^2: 0.6895248357053477\n",
      "Iterations: 230, R^2: 0.7210257802289106\n",
      "Iterations: 240, R^2: 0.721025783347848\n",
      "Iterations: 250, R^2: 0.721025780820226\n",
      "----- Final equation -------\n"
     ]
    },
    {
     "data": {
      "text/latex": [
       "-9.12x_{378}x_{628}x_{381}x_{462}x_{628} + 8.98x_{378}x_{628}x_{462}x_{628} + -8.78x_{462}x_{628}x_{628} + 7.66x_{628} + -7.96x_{378}x_{628} + -7.88x_{628}x_{381} + 8.07x_{378}x_{628}x_{381} + 8.84x_{628}x_{381}x_{462}x_{628} + 4.20x_{539}x_{427} + 12.62x_{539}x_{427}x_{628}"
      ],
      "text/plain": [
       "<IPython.core.display.Latex object>"
      ]
     },
     "metadata": {},
     "output_type": "display_data"
    },
    {
     "name": "stdout",
     "output_type": "stream",
     "text": [
      "R^2: 0.7210257825270434\n"
     ]
    }
   ],
   "source": [
    "# Evolutionary Equation Learning Algorithm\n",
    "\n",
    "n = 10         # number of equations to work with at once\n",
    "numterms = 10  # number of terms in each equation\n",
    "\n",
    "x_data, y_data = getDataForDigit(0, model=model)\n",
    "\n",
    "# Gather pixels with a variance above the threshold 0.1\n",
    "sigterms = Equation()\n",
    "for i, singlepixeldata in enumerate(x_data.T):\n",
    "  sigterms._terms.append(Term(\"x_{%d}\" % i, singlepixeldata, 1))\n",
    "sigterms.elimByVarThreshold(0.1)\n",
    "sigterms.sortByVariance()\n",
    "\n",
    "# Build initial linear equations from highest-varying pixels\n",
    "eqs = []\n",
    "for i in range(n):\n",
    "  neweq = Equation(sigterms._terms[:numterms])\n",
    "  neweq.fitTerms(y_data)\n",
    "  eqs.append(neweq)\n",
    "\n",
    "# Evolutionary learning loop\n",
    "lintermix = numterms    # next linear term to add\n",
    "iterations = 0          # number of iterations\n",
    "while lintermix < len(sigterms._terms):\n",
    "  iterations += 1\n",
    "\n",
    "  # Mutation: Add the next highest-varying linear term\n",
    "  for eq in eqs:\n",
    "    eq._terms.append(sigterms._terms[lintermix])\n",
    "    eq.fitTerms(y_data)\n",
    "    eq.pruneByCoef(numterms)\n",
    "    eq.fitTerms(y_data)\n",
    "  lintermix += 1\n",
    "\n",
    "  # Mutation: Recombination of a single low-VIC term\n",
    "  for eq in tuple(eqs):\n",
    "    neweq = eq.mutate()\n",
    "    neweq.fitTerms(y_data)\n",
    "    neweq.pruneByCoef(numterms)\n",
    "    neweq.fitTerms(y_data)\n",
    "    eqs.append(neweq)\n",
    "\n",
    "  # Selection: remove equations with low R^2 value\n",
    "  eqs.sort(key=Equation.getR2, reverse=True)\n",
    "  eqs = eqs[0:n]\n",
    "\n",
    "  # Evaluation & Display\n",
    "  averageR2 = sum(map(Equation.getR2, eqs)) / len(eqs)\n",
    "  if iterations % 10 == 0 or iterations < 10:\n",
    "    print(\"Iterations: {}, R^2: {}\".format(iterations, averageR2))\n",
    "\n",
    "print(\"----- Final equation -------\")\n",
    "eqs.sort(key=Equation.getR2, reverse=True)\n",
    "eqs[0].display()\n",
    "print(\"R^2:\", eqs[0].getR2())"
   ]
  },
  {
   "cell_type": "markdown",
   "metadata": {
    "id": "ZzqcWOsa8Crs"
   },
   "source": [
    "# CNNs\n",
    "\n",
    "* **filter** -- a small matrix (like 3x3 or 5x5) of coeffients.\n",
    "* **feature map** -- the result of convolving an image with a filter.\n",
    "\n",
    "Usually, networks are constructed by composing pairs of layers (a convolutional layer followed by a max-pooling layer). This converts a large image into a smaller image. Why is this used instead of just increasing the stride of the convolutional layer? Because a convolutional layer with a large stride has a \"blurring effect\". A conv layer with a very small stride can pinpoint exactly where the important features are (by finding local maxima). After max-pooling, the resulting image holds information about what sections of the image contain the feature, not how about how well each section of the image matches the feature exactly."
   ]
  },
  {
   "cell_type": "code",
   "execution_count": null,
   "metadata": {
    "id": "PuFyagdVHZp7"
   },
   "outputs": [],
   "source": [
    "# \"recommended network\" from https://keras.io/examples/vision/mnist_convnet/\n",
    "def constructModel():\n",
    "  \"\"\"Builds a 4-layer neural network, trains it on MNIST data,\n",
    "  prints information, saves the model to a file, returns model\"\"\"\n",
    "  (x_train, y_train), (x_test, y_test) = keras.datasets.mnist.load_data()\n",
    "  x_train = x_train.reshape(60000, 28, 28, 1).astype(\"float32\") / 255\n",
    "  x_test = x_test.reshape(10000, 28, 28, 1).astype(\"float32\") / 255\n",
    "\n",
    "  y_train = keras.utils.to_categorical(y_train, 10)\n",
    "  y_test = keras.utils.to_categorical(y_test, 10)\n",
    "\n",
    "  # Build and compile model\n",
    "  model = keras.Sequential(\n",
    "      [\n",
    "          keras.Input(shape=(28, 28, 1)),\n",
    "          keras.layers.Conv2D(32, kernel_size=(3, 3), activation=\"relu\"),\n",
    "          keras.layers.MaxPooling2D(pool_size=(2, 2)),\n",
    "          keras.layers.Conv2D(64, kernel_size=(3, 3), activation=\"relu\"),\n",
    "          keras.layers.MaxPooling2D(pool_size=(2, 2)),\n",
    "          keras.layers.Flatten(),\n",
    "          keras.layers.Dropout(0.5),\n",
    "          keras.layers.Dense(10, activation=\"softmax\"),\n",
    "      ]\n",
    "  )\n",
    "  model.summary()\n",
    "  model.compile(loss=\"categorical_crossentropy\", optimizer=\"adam\", metrics=[\"accuracy\"])\n",
    "\n",
    "  # Fit data, print test results\n",
    "  model.fit(x_train, y_train, batch_size=128, epochs=2, validation_split=0.1)\n",
    "  test_scores = model.evaluate(x_test, y_test, verbose=2)\n",
    "  print(\"Test loss:\", test_scores[0])\n",
    "  print(\"Test accuracy:\", test_scores[1])\n",
    "  model.save(\"mnist_conv_model.h5\")\n",
    "  print(\"Saved model to mnist_model.h5\")\n",
    "  return model\n",
    "\n",
    "def getDataForDigit(digit, model=None):\n",
    "  \"\"\"\n",
    "  Returns (x_data, y_data)\n",
    "  x_data: numpy array (10000, 784)\n",
    "  y_data: numpy array (10000,)\n",
    "  If model is `None` then it is loaded from file\n",
    "  \"\"\"\n",
    "  _, (x_data, _) = keras.datasets.mnist.load_data()\n",
    "  x_data = x_data.reshape(10000, 28, 28, 1).astype(\"float32\") / 255\n",
    "  if not model:\n",
    "    model = keras.models.load_model(\"mnist_conv_model.h5\")\n",
    "  y_data = model.predict(x_data)\n",
    "  y_data = np.array([y[digit] for y in y_data])\n",
    "  x_data = x_data.reshape(10000, 28, 28)\n",
    "  return x_data, y_data\n",
    "\n",
    "def showAsImages(pixeldatalist, dims=(28, 28), titles=None):\n",
    "  \"\"\"\n",
    "  Displays `len(pixeldatalist)` images, each 28x28 pixels\n",
    "  \"\"\"\n",
    "  pixeldatalist = [np.array(item) for item in pixeldatalist]\n",
    "  f, axes = plt.subplots(1, len(pixeldatalist))\n",
    "  for i, axis in enumerate(axes):\n",
    "    axis.imshow(pixeldatalist[i].reshape(dims), cmap=\"gray\")\n",
    "    if titles:\n",
    "      axis.set_title(titles[i])\n",
    "  f.set_size_inches(8, 8)\n",
    "  plt.show()"
   ]
  },
  {
   "cell_type": "code",
   "execution_count": null,
   "metadata": {
    "id": "v2KQKKhrTtP1"
   },
   "outputs": [],
   "source": [
    "# testing my own simpler convnet\n",
    "def constructModel():\n",
    "  \"\"\"Builds a 4-layer neural network, trains it on MNIST data,\n",
    "  prints information, saves the model to a file, returns model\"\"\"\n",
    "  (x_train, y_train), (x_test, y_test) = keras.datasets.mnist.load_data()\n",
    "  x_train = x_train.reshape(60000, 28, 28, 1).astype(\"float32\") / 255\n",
    "  x_test = x_test.reshape(10000, 28, 28, 1).astype(\"float32\") / 255\n",
    "\n",
    "  y_train = keras.utils.to_categorical(y_train, 10)\n",
    "  y_test = keras.utils.to_categorical(y_test, 10)\n",
    "\n",
    "  # Build and compile model\n",
    "  model = keras.Sequential(\n",
    "      [\n",
    "          keras.Input(shape=(28, 28, 1)),\n",
    "          #keras.layers.AveragePooling2D(pool_size=(4, 4)),\n",
    "          keras.layers.Conv2D(1, kernel_size=(4, 4), activation=\"relu\"),\n",
    "          keras.layers.MaxPool2D(pool_size=(4, 4)),\n",
    "          keras.layers.Flatten(),\n",
    "          keras.layers.Dense(10, activation=\"softmax\"),\n",
    "      ]\n",
    "  )\n",
    "  model.summary()\n",
    "  model.compile(loss=\"categorical_crossentropy\", optimizer=\"adam\", metrics=[\"accuracy\"])\n",
    "\n",
    "  # Fit data, print test results\n",
    "  model.fit(x_train, y_train, batch_size=128, epochs=5, validation_split=0.1)\n",
    "  test_scores = model.evaluate(x_test, y_test, verbose=2)\n",
    "  print(\"Test loss:\", test_scores[0])\n",
    "  print(\"Test accuracy:\", test_scores[1])\n",
    "  model.save(\"mnist_conv_model.h5\")\n",
    "  print(\"Saved model to mnist_model.h5\")\n",
    "  return model"
   ]
  },
  {
   "cell_type": "code",
   "execution_count": null,
   "metadata": {
    "colab": {
     "base_uri": "https://localhost:8080/"
    },
    "id": "6IYHGavwNU1L",
    "outputId": "46362c4e-c443-4cf7-891a-2d98c306384c"
   },
   "outputs": [
    {
     "name": "stdout",
     "output_type": "stream",
     "text": [
      "Downloading data from https://storage.googleapis.com/tensorflow/tf-keras-datasets/mnist.npz\n",
      "11493376/11490434 [==============================] - 0s 0us/step\n",
      "Model: \"sequential\"\n",
      "_________________________________________________________________\n",
      "Layer (type)                 Output Shape              Param #   \n",
      "=================================================================\n",
      "conv2d (Conv2D)              (None, 25, 25, 1)         17        \n",
      "_________________________________________________________________\n",
      "max_pooling2d (MaxPooling2D) (None, 6, 6, 1)           0         \n",
      "_________________________________________________________________\n",
      "flatten (Flatten)            (None, 36)                0         \n",
      "_________________________________________________________________\n",
      "dense (Dense)                (None, 10)                370       \n",
      "=================================================================\n",
      "Total params: 387\n",
      "Trainable params: 387\n",
      "Non-trainable params: 0\n",
      "_________________________________________________________________\n",
      "Epoch 1/5\n",
      "422/422 [==============================] - 11s 24ms/step - loss: 1.9891 - accuracy: 0.2666 - val_loss: 0.7360 - val_accuracy: 0.7785\n",
      "Epoch 2/5\n",
      "422/422 [==============================] - 10s 23ms/step - loss: 0.7462 - accuracy: 0.7621 - val_loss: 0.5196 - val_accuracy: 0.8417\n",
      "Epoch 3/5\n",
      "422/422 [==============================] - 10s 23ms/step - loss: 0.5901 - accuracy: 0.8150 - val_loss: 0.4533 - val_accuracy: 0.8612\n",
      "Epoch 4/5\n",
      "422/422 [==============================] - 10s 23ms/step - loss: 0.5271 - accuracy: 0.8349 - val_loss: 0.4078 - val_accuracy: 0.8723\n",
      "Epoch 5/5\n",
      "422/422 [==============================] - 10s 23ms/step - loss: 0.4911 - accuracy: 0.8458 - val_loss: 0.3880 - val_accuracy: 0.8790\n",
      "313/313 - 1s - loss: 0.4549 - accuracy: 0.8598\n",
      "Test loss: 0.45490655303001404\n",
      "Test accuracy: 0.8597999811172485\n",
      "Saved model to mnist_model.h5\n"
     ]
    }
   ],
   "source": [
    "model = constructModel()"
   ]
  },
  {
   "cell_type": "markdown",
   "metadata": {
    "id": "v_cy2zurhU3H"
   },
   "source": [
    "Here, we are using a simple convolutional neural network with the following layers:\n",
    "\n",
    "* A Conv2D layer with 4x4 kernel to produce a 25x25 image\n",
    "* Max-pooling with 4x4 pool-size to produce a 6x6 image\n",
    "* A dense layer to produce a 10-element vector"
   ]
  },
  {
   "cell_type": "code",
   "execution_count": null,
   "metadata": {
    "colab": {
     "base_uri": "https://localhost:8080/",
     "height": 318
    },
    "id": "VINC_KBTdKsE",
    "outputId": "0263e0b2-5589-41b4-b619-42a920f61f75"
   },
   "outputs": [
    {
     "name": "stdout",
     "output_type": "stream",
     "text": [
      "The weights for the Conv2D layer's filter:\n",
      "Largest weight: 0.9508198 occurs at 9\n",
      "Smallest weight: -0.0348124 occurs at 15\n"
     ]
    },
    {
     "data": {
      "image/png": "[encoded data removed]",
      "text/plain": [
       "<Figure size 576x576 with 2 Axes>"
      ]
     },
     "metadata": {
      "needs_background": "light",
      "tags": []
     },
     "output_type": "display_data"
    }
   ],
   "source": [
    "filter_weights = model.get_weights()[0].reshape(4, 4)\n",
    "print(\"The weights for the Conv2D layer's filter:\")\n",
    "print(\"Largest weight:\", filter_weights.max(), \"occurs at\", filter_weights.argmax())\n",
    "print(\"Smallest weight:\", filter_weights.min(), \"occurs at\", filter_weights.argmin())\n",
    "filter_weights_signs = np.sign(filter_weights)\n",
    "showAsImages([filter_weights, filter_weights_signs], dims=(4, 4), titles=[\"Weights\", \"Signs\"])"
   ]
  },
  {
   "cell_type": "code",
   "execution_count": null,
   "metadata": {
    "colab": {
     "base_uri": "https://localhost:8080/",
     "height": 284
    },
    "id": "L5aRf82MeHc-",
    "outputId": "4d99b925-aa2b-4d54-9cae-c2ecd7d9990d"
   },
   "outputs": [
    {
     "name": "stdout",
     "output_type": "stream",
     "text": [
      "Weights for the dense layer for the '0' activation\n"
     ]
    },
    {
     "data": {
      "image/png": "[encoded data removed]",
      "text/plain": [
       "<Figure size 576x576 with 2 Axes>"
      ]
     },
     "metadata": {
      "needs_background": "light",
      "tags": []
     },
     "output_type": "display_data"
    }
   ],
   "source": [
    "print(\"Weights for the dense layer for the '0' activation\")\n",
    "digit = 0\n",
    "dense_weights = model.get_weights()[2][:,digit].reshape(6, 6)\n",
    "dense_weights_signs = np.sign(dense_weights)\n",
    "showAsImages([dense_weights, dense_weights_signs], dims=(6,6), titles=[\"Weights\", \"Signs\"])"
   ]
  },
  {
   "cell_type": "code",
   "execution_count": null,
   "metadata": {
    "colab": {
     "base_uri": "https://localhost:8080/",
     "height": 282
    },
    "id": "mMcUErKxQS87",
    "outputId": "03a18eeb-e25e-438f-f307-01cf75d49749"
   },
   "outputs": [
    {
     "data": {
      "text/plain": [
       "<matplotlib.image.AxesImage at 0x7f0d5945e350>"
      ]
     },
     "execution_count": 110,
     "metadata": {
      "tags": []
     },
     "output_type": "execute_result"
    },
    {
     "data": {
      "image/png": "[encoded data removed]",
      "text/plain": [
       "<Figure size 432x288 with 1 Axes>"
      ]
     },
     "metadata": {
      "needs_background": "light",
      "tags": []
     },
     "output_type": "display_data"
    }
   ],
   "source": [
    "# Network used:\n",
    "#   average pooling with pool_size=(4,4)\n",
    "#   flatten from 7x7 into 49\n",
    "#   dense 49 -> 10 layer with softmax activation\n",
    "# This image shows the 49 weights of the dense layer for the '0' output\n",
    "# and you can see the \"0\".\n",
    "zero_weights = model.get_weights()[0]\n",
    "plt.imshow(zero_weights[:,0].reshape(7, 7), cmap=\"gray\")"
   ]
  },
  {
   "cell_type": "markdown",
   "metadata": {
    "id": "PdebyApmkuwa"
   },
   "source": [
    "# Conclusion\n",
    "\n",
    "Neural networks are difficult learning systems to understand because of the mathematical constructs that make them up. This can cause unpredictable behavior when the neural network is given data that lies outside of the domain on which it was trained.\n",
    "\n",
    "More exploration of equation-learning could be done. Learning systems that learn equations could possibly replace deep neural networks for a lot of machine learning tasks."
   ]
  },
  {
   "cell_type": "markdown",
   "metadata": {
    "id": "R3gQLgM12Ipi"
   },
   "source": [
    "---\n",
    "\n",
    "# Using Tensorflow\n",
    "\n",
    "An brief overview of tensor math and learning models in the Tensorflow library descibed with lots of code examples."
   ]
  },
  {
   "cell_type": "code",
   "execution_count": null,
   "metadata": {
    "id": "tNyxowPX2H9-"
   },
   "outputs": [],
   "source": [
    "# generating simple test data\n",
    "\n",
    "f = open(\"sin_data.csv\", \"w\")\n",
    "f.write(\"x,sin(x)\\n\")\n",
    "for i in range(200):\n",
    "  x = random.random()*2*math.pi\n",
    "  v = math.sin(x)\n",
    "  f.write(str(x)+\",\"+str(v)+\"\\n\")\n",
    "f.close()"
   ]
  },
  {
   "cell_type": "code",
   "execution_count": null,
   "metadata": {
    "colab": {
     "base_uri": "https://localhost:8080/",
     "height": 142
    },
    "id": "MrD6ALb38oYJ",
    "outputId": "789e4d80-71e3-4682-e407-5de4282800c8"
   },
   "outputs": [
    {
     "data": {
      "text/html": [
       "<div>\n",
       "<style scoped>\n",
       "    .dataframe tbody tr th:only-of-type {\n",
       "        vertical-align: middle;\n",
       "    }\n",
       "\n",
       "    .dataframe tbody tr th {\n",
       "        vertical-align: top;\n",
       "    }\n",
       "\n",
       "    .dataframe thead th {\n",
       "        text-align: right;\n",
       "    }\n",
       "</style>\n",
       "<table border=\"1\" class=\"dataframe\">\n",
       "  <thead>\n",
       "    <tr style=\"text-align: right;\">\n",
       "      <th></th>\n",
       "      <th>x</th>\n",
       "      <th>sin(x)</th>\n",
       "    </tr>\n",
       "  </thead>\n",
       "  <tbody>\n",
       "    <tr>\n",
       "      <th>0</th>\n",
       "      <td>2.438507</td>\n",
       "      <td>0.646574</td>\n",
       "    </tr>\n",
       "    <tr>\n",
       "      <th>1</th>\n",
       "      <td>4.413438</td>\n",
       "      <td>-0.955646</td>\n",
       "    </tr>\n",
       "    <tr>\n",
       "      <th>2</th>\n",
       "      <td>1.221277</td>\n",
       "      <td>0.939538</td>\n",
       "    </tr>\n",
       "  </tbody>\n",
       "</table>\n",
       "</div>"
      ],
      "text/plain": [
       "          x    sin(x)\n",
       "0  2.438507  0.646574\n",
       "1  4.413438 -0.955646\n",
       "2  1.221277  0.939538"
      ]
     },
     "execution_count": 4,
     "metadata": {
      "tags": []
     },
     "output_type": "execute_result"
    }
   ],
   "source": [
    "# example loading CSV file into a pandas dataframe\n",
    "sin_dataframe = pd.read_csv(\"sin_data.csv\", sep=\",\")  # type is pd.DataFrame\n",
    "sin_dataframe.head(3)   # returns a new dataframe with only first 3 rows"
   ]
  },
  {
   "cell_type": "markdown",
   "metadata": {
    "id": "pvoHvE2TISno"
   },
   "source": [
    "## Tensor Math\n",
    "\n",
    "The primary objects that Tensorflow provides are tensors -- a generalization of scalars, vectors, and matrices to numerical arrays of arbitrary dimension. Tensors have the following properties:\n",
    "\n",
    "* **dimension**: the number of layers of nested lists needed to represent the tensor (e.g. a vector is a 1-D tensor, a matrix is a 2-D tensor).\n",
    "* **shape**: a list of numbers describing the \"length\" of the tensor in each direction (e.g. matrices all have shape (nrows, ncols))."
   ]
  },
  {
   "cell_type": "code",
   "execution_count": null,
   "metadata": {
    "id": "6DlVtdEVCbyi"
   },
   "outputs": [],
   "source": [
    "# Tensors\n",
    "t0 = tf.constant(4)   # a rank-0 tensor (i.e. a scalar)\n",
    "t1 = tf.constant([1,2,3])   # a rank-1 tensor (i.e. a vector)\n",
    "t2 = tf.constant([[1,2,3], [4,5,6], [7,8,9]])   # a rank-2 tensor (i.e. a matrix)\n",
    "\n",
    "# constructing simple tensors\n",
    "t = tf.zeros([3,2])   # a 3x2 tensor filled with zeros\n",
    "t = tf.random.uniform([3,2], minval=0, maxval=1)\n",
    "t = tf.random.normal([3,2], mean=5, stddev=2)\n",
    "t = tf.eye(4)   # 4x4 identity matrix\n",
    "\n",
    "t = tf.constant([[1,2], [3,4]], dtype=tf.float32)  # manually specify element type\n",
    "\n",
    "a = np.array(t)   # convert Tensor to numpy array\n",
    "t = tf.constant(a)  # convert numpy array to Tensor\n",
    "\n",
    "# Tensor operations\n",
    "ta = tf.constant([[1,2],[3,4]], dtype=tf.float32)\n",
    "tb = tf.constant([[5,6],[7,8]], dtype=tf.float32)\n",
    "t = ta + tb   # element-wise addition\n",
    "t = ta * tb   # element-wise multiplication\n",
    "t = ta @ tb   # \"matrix\" multiplication\n",
    "t = tf.reduce_max(ta)   # largest value\n",
    "t = tf.argmax(ta)       # index of largest value\n",
    "b = ta == tb            # comparison operators are element-wise\n",
    "\n",
    "# Tensor shape, rank, dimension, size\n",
    "t = tf.constant([[1,2,3],[4,5,6]])\n",
    "shape = t.shape     # [2, 3]\n",
    "anelem = t[0,0]     # indexing (returns a Tensor)\n",
    "anelem = t[0][0]    # also indexing\n",
    "t = tf.reshape(t, (3, 2))   # does not shuffle elements in memory, so cheap\n"
   ]
  },
  {
   "cell_type": "markdown",
   "metadata": {
    "id": "vQidSfwvQ3KM"
   },
   "source": [
    "## Automatic Differentiation\n",
    "\n",
    "A _gradient_ is an operation on a scalar-valued function with a tensor input $f: T \\rightarrow \\mathbb{R}$. The result of calculating the gradient of a function $\\nabla f$ is a tensor of same shape as the input. A _Jacobian_ is the generalization of the gradient to tensor-valued functions. If $f: T_{d_1 \\times \\dots \\times d_n} \\rightarrow T_{\\delta_1 \\times \\dots \\times \\delta_m}$, then $\\mathbf{J} f: T_{\\delta_1 \\times \\dots \\times \\delta_m \\times d_1 \\times \\dots \\times d_n}$."
   ]
  },
  {
   "cell_type": "code",
   "execution_count": null,
   "metadata": {
    "colab": {
     "base_uri": "https://localhost:8080/"
    },
    "id": "CctvBtlzFAFT",
    "outputId": "8986a42a-a1f9-4825-ee06-e9dcf0d844df"
   },
   "outputs": [
    {
     "name": "stdout",
     "output_type": "stream",
     "text": [
      "tf.Tensor(\n",
      "[[6.]\n",
      " [7.]], shape=(2, 1), dtype=float32)\n"
     ]
    }
   ],
   "source": [
    "# Automatic Differentiation & Variables\n",
    "\n",
    "x = tf.Variable([[1],[2],[3]], name=\"x\", dtype=tf.float32)\n",
    "\n",
    "# a \"tape\" is needed to store automatic differentiation values\n",
    "# call GradientTape with persistent=True if you want to calculate multiple\n",
    "# gradients or jacobians\n",
    "with tf.GradientTape() as tape:\n",
    "  y = tf.constant([[1,1,1], [5,1,0]], dtype=tf.float32) @ x\n",
    "\n",
    "print(y)\n",
    "j = tape.jacobian(y, x)   # j[output indeces, input indices]\n",
    "\n",
    "# j[output indeces][input indices] is the derivative\n",
    "# of output[output indeces] with respect to input[input indeces]\n",
    "\n",
    "# For example, j[1,0][2,0] is derivative of second component of y\n",
    "# with respect to the third component of x"
   ]
  },
  {
   "cell_type": "markdown",
   "metadata": {
    "id": "g2EWOL4faX14"
   },
   "source": [
    "## A Linear Neural Network\n",
    "\n",
    "Note that normally, a linear feed-forward function for one layer is written as $W\\vec{x} + \\vec{b}$. However in tensorflow, vectors are one-dimentional tensors instead of $n \\times 1$ matrices, which means it is slightly easier to define this function as $\\vec{x}W^t + \\vec{b}$."
   ]
  },
  {
   "cell_type": "markdown",
   "metadata": {
    "id": "pmBXTRtObrAE"
   },
   "source": [
    "---\n",
    "\n",
    "# Maclaurin Series Approximations"
   ]
  },
  {
   "cell_type": "markdown",
   "metadata": {
    "id": "63HvRf4ETACx"
   },
   "source": [
    "## Linear Functions\n",
    "\n",
    "The first step toward approximating polynomials is approximating linear functions. At first glance, this may seem unnecessary since a neural network's feedforward mechanism is primarily linear to begin with. However, the non-linear activation function is precisely the reason this section is still important. Here, I detail how a neural network can model a linear function even when non-linear functions are used in the computation.\n",
    "\n",
    "The network we will build has one input node, one output node, and one hidden node. Consider any activation function $a(x)$ with a non-zero derivative at $x=0$. No matter the function $a$, Taylor's Theorem allows us to rewrite (a portion of) $a$ as an infinite polynomial.\n",
    "\n",
    "$$ a(x) = \\sum_{n = 0}^{\\infty} \\frac{a^{(n)}(0)}{n!} x^n \\qquad \\text{(Taylor's Theorem)} $$\n",
    "\n",
    "First, replace $x$ with $hx$ where $h$ is positive. We will eventually consider what happens when $h$ approaches zero.\n",
    "\n",
    "$$ a(hx) = \\sum_{n = 0}^{\\infty} \\frac{a^{(n)}(0)}{n!} (hx)^n $$\n",
    "\n",
    "Now rewrite this equation by isolating the linear term on the left.\n",
    "\n",
    "$$ ha'(0) x = a(hx) - a(0) - \\sum_{n=2}^{\\infty} \\frac{h^n a^{(n)}(0)}{n!} x^n $$\n",
    "\n",
    "Isolate $x$ on the left.\n",
    "\n",
    "$$ x = \\frac{a(hx)}{ha'(0)} - \\frac{a(0)}{ha'(0)} - \\sum_{n=2}^{\\infty} \\frac{h^{n-1} a^{(n)}(0)}{a'(0)n!} x^n $$\n",
    "\n",
    "If we consider the limit as $h \\rightarrow 0$, the summation drops out because $h^{n-1}$ will vanish for any $n \\ge 2$. We are left with:\n",
    "\n",
    "$$ x = \\lim_{h \\rightarrow 0} \\frac{a(hx) - a(0)}{h a'(0)} $$\n",
    "\n",
    "Let's introduce some constants so we can rewrite the equation to see the correspondence with a neural network.\n",
    "\n",
    "$$ x = \\lim_{h \\rightarrow 0} \\left( W_1 a(W_0 x + B_0) + B_1 \\right) $$\n",
    "\n",
    "| - layer - | - - - - weight - - - - | - - - - - - bias - - - - - - |\n",
    "| --------: | :-----------------: | :--------------: |\n",
    "| first  | $W_0=h$                | $B_0 = 0$        |\n",
    "| second | $W_1=\\frac{1}{ha'(0)}$ | $B_1 = -W_1 a(0)$ |\n",
    "\n",
    "This equation and table shows that we can approximate the identity function with arbitrary accuracy using just one hidden node (i.e. one application of the non-linear function $a$). An arbitrary linear function can be approximated by adjusting the second-layer weight and bias.\n",
    "\n"
   ]
  },
  {
   "cell_type": "markdown",
   "metadata": {
    "id": "cANPfqXTEy1V"
   },
   "source": [
    "## Approximating $x^2$\n",
    "\n",
    "The same general process to approximating linear functions can be applied to approximating quadratic polynomials as well. As before, start with Taylor's Theorem and isolate the desired degree of $x$ on the left (in this case $x^2$).\n",
    "\n",
    "$$ x^2 = \\frac{2a(hx)}{h^2 a^{(2)}(0)} - \\frac{2a(0)}{h^2 a^{(2)}(0)} - \\frac{2a'(0)x}{h a^{(2)}(0)} - \\frac{2}{h^2 a^{(2)}(0)}\\sum_{n=3}^{\\infty} \\frac{h^n a^{(n)}(0)}{n!} x^n $$\n",
    "\n",
    "If we consider the limit as $h \\rightarrow 0$, the sum term drops out because $h^n / h^2$ will always approach zero for any $n \\ge 3$. We are left with the following:\n",
    "\n",
    "$$ x^2 = \\lim_{h \\rightarrow 0} \\left( \\frac{2}{h^2 a^{(2)}(0)}a(hx) - \\frac{2a(0)}{h^2 a^{(2)}(0)} - \\frac{2a'(0)}{h a^{(2)}(0)}x \\right) $$\n",
    "\n",
    "Notice that this formula has an $x$ (all the way to the right) that does not go through an activation function. We can subsitute this $x$ for the linear approximation in the section above. Notably, the expression will now be a multivariate limit, so rename the two limit variables $h_2$ and $h_1$ where $h_1$ is the variable from the linear (degree 1) approximation. Interestingly, this limit does not exist (it evaluates differently depending on how $(h_1, h_2)$ approaches $(0,0)$). However, if $h_1 = h_2^2$, then we get the result we want:\n",
    "\n",
    "$$ x^2 = \\lim_{h \\rightarrow 0} \\frac{2}{h^2 a^{(2)}(0)} \\left( a(hx) - \\frac{a(h^2 x)}{h} - \\frac{(h-1)a(0)}{h} \\right) $$\n",
    "\n"
   ]
  },
  {
   "cell_type": "markdown",
   "metadata": {
    "id": "wnwP2bYajFEO"
   },
   "source": [
    "## Approximating $x^2$ (Second approach)\n",
    "\n",
    "This approach is a little cleaner than the above approach, we still start with Taylor series, but we use the fact that even powers of $x$ are even functions.\n",
    "\n",
    "$$ a(hx) = \\sum_{n = 0}^{\\infty} \\frac{a^{(n)}(0)}{n!} (hx)^n \\qquad \\text{(Taylor's Theorem)} $$\n",
    "\n",
    "$$ a(-hx) = \\sum_{n = 0}^{\\infty} \\frac{a^{(n)}(0)}{n!} (-hx)^n \\qquad \\text{(Taylor's Theorem)} $$\n",
    "\n",
    "If we add these two equations together, we can get every odd term to drop out.\n",
    "\n",
    "$$ a(hx) + a(-hx) = \\sum_{n = 0}^{\\infty} \\left( \\frac{h^n a^{(n)}(0)}{n!} x^n + \\frac{(-1)^n h^n a^{(n)}(0)}{n!} x^n \\right) $$\n",
    "\n",
    "$$ a(hx) + a(-hx) = \\sum_{n = 0}^{\\infty} \\frac{2 h^{2n} a^{(2n)}(0)}{(2n)!} x^{2n} $$\n",
    "\n",
    "Now separate out the first two terms of the sum.\n",
    "\n",
    "$$ a(hx) + a(-hx) = 2 a(0) + h^2 a^{(2)}(0) x^2 + \\sum_{n = 2}^{\\infty} \\frac{2 h^{2n} a^{(2n)}(0)}{(2n)!} x^{2n} $$\n",
    "\n",
    "Isolate $x^2$\n",
    "\n",
    "$$ x^2 = \\frac{a(hx)}{h^2 a^{(2)}(0)} + \\frac{a(-hx)}{h^2 a^{(2)}(0)} - \\frac{2 a(0)}{h^2 a^{(2)}(0)} - \\frac{1}{a^{(2)}(0)} \\sum_{n = 2}^{\\infty} \\frac{2 h^{2n-2} a^{(2n)}(0)}{(2n)!} x^{2n} $$\n",
    "\n",
    "Consider the limit as $h \\rightarrow 0$. The sum term drops out. Factor out common terms, and we are left with:\n",
    "\n",
    "$$ x^2 = \\lim_{h \\rightarrow 0} \\frac{a(hx) + a(-hx) - 2a(0)}{h^2 a^{(2)}(0)} $$\n",
    "\n",
    "This expression converges much faster than the previous method."
   ]
  },
  {
   "cell_type": "markdown",
   "metadata": {
    "id": "lhY8_n_sT5rT"
   },
   "source": [
    "## Approximating $x^d$\n",
    "\n",
    "The process for approximating $x^2$ can be repeated, this time for a general degree $d$. This time, we require that $a^{(d)}(0) \\neq 0$. From Taylor's Theorem, isolate the desired power on the left. The $n$ in the sum iterates from zero to infinity, but skips $d$.\n",
    "\n",
    "$$ x^d = \\frac{d!a(hx)}{h^d a^{(d)}(0)} - \\frac{d!}{h^d a^{(d)}(0)}\\sum_{n\\neq d} \\frac{h^n a^{(n)}(0)}{n!} x^n $$\n",
    "\n",
    "Once again, consider the limit as $h \\rightarrow 0$. All of the terms in the sum where $n > d$ are going to approach zero leaving us with a finite sum.\n",
    "\n",
    "$$ x^d = \\lim_{h \\rightarrow 0} \\left( \\frac{d!}{h^d a^{(d)}(0)} a(hx) - \\sum_{n = 0}^{d - 1} \\frac{d! h^{n-d} a^{(n)}(0)}{n! a^{(d)}(0)} x^n \\right) $$\n",
    "\n",
    "Introduce constants:\n",
    "\n",
    "$$ x^d = \\lim_{h \\rightarrow 0} \\left( A a(hx) - \\sum_{n = 0}^{d - 1} B_n x^n \\right) $$\n",
    "\n",
    "$$ A = \\frac{d!}{h^d a^{(d)}(0)} \\qquad B_n = A h^n a^{(n)}(0) $$\n",
    "\n",
    "Written a different way:\n",
    "\n",
    "$$ x^d = \\lim_{h \\rightarrow 0} \\left( A a(hx) - \\sum_{n = 0}^{d - 1} B_n (hx)^n \\right) $$\n",
    "\n",
    "$$ A = \\frac{d!}{h^d a^{(d)}(0)} \\qquad B_n = A a^{(n)}(0) $$"
   ]
  },
  {
   "cell_type": "markdown",
   "metadata": {
    "id": "pw-_Hw-ibhuE"
   },
   "source": [
    "---\n",
    "\n",
    "# Change-of-Basis Approximation Strategy\n",
    "\n",
    "This section describes a general strategy for approximating any function $f: \\mathbb{R} \\rightarrow \\mathbb{R}$ with a neural network using an arbitrary activation function $a$ (with certain restrictions) to any desired accuracy using a single hidden activation layer. The basic idea is to find a representation of $f$ as a linear combination of various functions of the form $a(hx + k)$. For a more concrete example, see [Using Maclaurin Approximation](#scrollTo=iZycguIdbhuG).\n",
    "\n",
    "Start with:\n",
    "* $f: \\mathbb{R} \\rightarrow \\mathbb{R}$ the function to be approximated\n",
    "* $a: \\mathbb{R} \\rightarrow \\mathbb{R}$ an activation function\n",
    "* A function basis $\\mathcal{F}$, for example:\n",
    "  * polynomials $\\{1, x, x^2, ...\\}$\n",
    "  * sinusoids $\\{1, \\sin(x), \\cos(x), \\sin(2x), \\dots\\}$\n",
    "* A methodology for producing an approximation $f_{app}$ of $f$ using finite subsets of the basis $\\mathcal{F}$\n",
    "  * Maclaurin series (requiring $f_{app}^{(n)}(0) = f^{(n)}(0)$ for some values $n \\ge 0$)\n",
    "  * Point Sampling (requiring $f_{app}(n) = f(n)$ for some values $n$)\n",
    "  * Matching Integrals (requring $\\int_R f^{(n)}_{app}(x)\\ dx = \\int_R f^{(n)}(x)\\ dx$ for some values $n \\ge 0$)\n",
    "  * Remez Algorithm\n",
    "  * Fourier series\n",
    "\n",
    "General process:\n",
    "1. Find an approximation $f_{app}$ of $f$ that is a linear combination of $d$ vectors in $\\mathcal{F}$.\n",
    "2. Construct a set of independent functions $\\mathcal{A} = \\{a(h_0 x + k_0), a(h_1 x + k_1), \\dots, a(h_d x + k_d) \\}$\n",
    "3. Construct a basis $\\mathcal{B}$ of approximations of the functions in $\\mathcal{A}$ where $\\mathcal{B}_i \\approx \\mathcal{A}_i$\n",
    "4. Construct a change of basis matrix $B = \\begin{bmatrix} \\mathcal{B}_0 & \\mathcal{B}_1 & \\cdots & \\mathcal{B}_d \\end{bmatrix}$ that converts from $\\mathcal{B}$-coordinates to $\\mathcal{F}$-coordinates.\n",
    "5. Find the coordinates of $f_{app}$ in $\\mathcal{B}$ by inverting the change of basis matrix: $\\text{coords}_{\\mathcal{B}}(f_{app}) = B^{-1}\\ \\text{coords}_{\\mathcal{F}}(f_{app})$\n",
    "\n",
    "The numbers in $\\text{coords}_{\\mathcal{B}}(f_{app})$ are the weights coming out of the neurons in the hidden layer of the network. The weights and biases fed _into_ the hidden layer neurons are the $h,k$ values from step 2.\n",
    "\n",
    "There are two approximations happening: the approximation of $f$ and the approximation of $a$. Both approximations are represented in the same finite-dimensional subspace of $\\mathcal{F}$, meaning the transformation from one to the other is a finite linear operator.\n",
    "\n"
   ]
  },
  {
   "cell_type": "markdown",
   "metadata": {
    "id": "iZycguIdbhuG"
   },
   "source": [
    "## Using Maclaurin Approximation\n",
    "\n",
    "Here is an example of applying the above approximation strategy using Maclaurin series approximation and the standard basis for $d$-degree polynomials for $\\mathcal{F}$.\n",
    "\n",
    "To start, we will use $\\mathcal{A} = \\{a(0), a(hx), a(2hx), \\dots, a(dhx)\\}$\n",
    "\n",
    "The approximations $\\mathcal{B}$ will be found using the first $d$ terms of the Maclaurin expansion.\n",
    "\n",
    "$$ \\mathcal{A}_j = a(khx) \\approx \\sum_{n=0}^{d} \\frac{j^n h^n a^{(n)}(0)}{n!} x^n = \\mathcal{B}_j $$\n",
    "\n",
    "Now construct the change of basis matrix $B$. The columns of $B$ are the vectors in $\\mathcal{B}$ written with respect to the standard polynomial basis $\\{1, x, x^2, \\dots, x^d\\}$. Note that $a^{(i)}(0) \\ne 0$ for $0 \\le i \\le d$ otherwise the matrix will not be invertible.\n",
    "\n",
    "$$ B = \\begin{bmatrix} \\mathcal{B}_0 & \\mathcal{B}_1 & \\cdots & \\mathcal{B}_d \\end{bmatrix} $$\n",
    "\n",
    "$$ B_{i,j} = \\frac{j^i h^i a^{(i)}(0)}{i!} $$\n",
    "\n",
    "Multiplying by $B$ on the left will convert coordinates with respect to $\\mathcal{B}$ into standard basis coordinates. Both coorinate vectors are column vectors. $p$ is the $d$-degree polynomial approximation of $f$.\n",
    "\n",
    "$$ B\\ \\text{coords}_{\\mathcal{B}}(p) = \\text{coords}(p) $$\n",
    "\n",
    "To get the new coordinates with respect to $\\mathcal{B}$, simply multiply the standard coordinates by the inverse of $B$.\n",
    "\n",
    "$$ \\text{coords}_{\\mathcal{B}}(p) = B^{-1} \\text{coords}(p) $$\n",
    "\n",
    "Our neural network function that approximates $p$ is\n",
    "\n",
    "$$ p(x) = \\lim_{h \\rightarrow 0} \\left( \\text{coords}_{\\mathcal{B}}(p) \\cdot a(\\begin{bmatrix} 0 & hx & 2hx & \\cdots & dhx \\end{bmatrix}^t) \\right) $$"
   ]
  },
  {
   "cell_type": "code",
   "execution_count": null,
   "metadata": {
    "colab": {
     "base_uri": "https://localhost:8080/"
    },
    "id": "xM6d_EqrbhuI",
    "outputId": "38db6b5a-a8ab-4ab0-b584-219e59384574"
   },
   "outputs": [
    {
     "data": {
      "text/plain": [
       "array([[ -25.07715296],\n",
       "       [  97.79126971],\n",
       "       [-151.51657341],\n",
       "       [ 122.7842585 ],\n",
       "       [ -50.69813563],\n",
       "       [   8.5754747 ]])"
      ]
     },
     "execution_count": 39,
     "metadata": {
      "tags": []
     },
     "output_type": "execute_result"
    }
   ],
   "source": [
    "# returns an approximation for poly\n",
    "# poly is a list [b0, b1, b2, ...] representing b0 + b1x + b2x^2 + b3x^3 + ...\n",
    "# a_derivs is the list [a(0), a'(0), a''(0), ...]\n",
    "# h should be close to zero (0.1 usually works well)\n",
    "# returns the coefficients [c0, c1, c2, ...] such that\n",
    "# c0 a(0) + c1 a(hx) + c2 a(2hx) + ... approximates poly\n",
    "def getApprox(poly, a_derivs, h):\n",
    "  degree = len(poly) - 1\n",
    "  # construct B matrix\n",
    "  # Note, the B matrix in the math above is actually matmul(C, B) where C\n",
    "  # is a diagonal matrix of \"row coefficients\"\n",
    "  B = []\n",
    "  for row in range(degree + 1):\n",
    "    B.append([])\n",
    "    for col in range(degree + 1):\n",
    "      B[row].append(math.pow(col, row))\n",
    "  B = np.array(B)\n",
    "\n",
    "  C_inv = []\n",
    "  for row in range(degree + 1):\n",
    "    C_inv.append([])\n",
    "    coefficient = math.factorial(row) / (math.pow(h, row) * a_derivs[row])\n",
    "    for col in range(degree + 1):\n",
    "      C_inv[row].append(coefficient if row == col else 0.0)\n",
    "  C_inv = np.array(C_inv)\n",
    "\n",
    "  # construct coords vector\n",
    "  coords = np.array(poly).reshape((degree+1, 1))\n",
    "\n",
    "  return np.matmul(np.matmul(np.linalg.inv(B), C_inv), coords)\n",
    "\n",
    "# derivatives of 1/(1+exp(-(x-1)))\n",
    "#a_derivs = [0.26894142137, 0.196611933241, 0.0908577476729, -0.0353255805162, -0.123506861366, -0.0510419761245]\n",
    "\n",
    "# derivatives of 1/(1+exp(-(5x - 1)))\n",
    "a_derivs = [0.26894142137, 0.983059666207, 2.27144369182, -4.41569756453, -77.191788354, -159.506175389]\n",
    "\n",
    "# approximate x - (1/6)x^3, a Maclaurin approx for sin(x).\n",
    "#getApprox([0.0, 1.0, 0.0, -1.0/6.0], [0.26894142137, 0.196611933241, 0.0908577476729, -0.0353255805162], 0.5)\n",
    "\n",
    "# approximates 0.5 sin(pi x) + 0.5\n",
    "# via its degree-5 maclaurin expansion\n",
    "getApprox([0.5, 1.57079632679, 0.0, -2.58385639002, 0.0, 1.27508201994],\n",
    "          a_derivs, 0.5)"
   ]
  },
  {
   "cell_type": "code",
   "execution_count": null,
   "metadata": {
    "id": "GOI0KLeTCy_r"
   },
   "outputs": [],
   "source": [
    "# len(inputs) = len(outputs) = d + 1\n",
    "# returns the unique d-degree polynomial p that\n",
    "# satisfies p(inputs[i]) = outputs[i] for each i.\n",
    "def getPolyApprox(inputs, outputs):\n",
    "  degree = len(inputs) - 1\n",
    "  M = []\n",
    "  for row in range(degree + 1):\n",
    "    M.append([])\n",
    "    for col in range(degree + 1):\n",
    "      M[row].append(math.pow(inputs[row], col))\n",
    "  M = np.array(M)\n",
    "\n",
    "  outputs = np.array(outputs).reshape((degree+1, 1))\n",
    "  return np.matmul(np.linalg.inv(M), outputs)\n",
    "\n",
    "def pointSampledApprox(a, p):\n",
    "  degree = len(p) - 1\n",
    "  basis = []\n",
    "  for i in range(degree+1):\n",
    "    c = i / (degree+1)\n",
    "    a_shifted = lambda x: a(5.0 * (x - c))\n",
    "    inputs = [x / degree for x in range(degree+1)]\n",
    "    outputs = [a_shifted(x) for x in inputs]\n",
    "    basis.append(getPolyApprox(inputs, outputs))\n",
    "\n",
    "  B = np.column_stack(basis)\n",
    "  print(np.matmul(np.linalg.inv(B), np.array(p).reshape((degree+1, 1))))\n"
   ]
  },
  {
   "cell_type": "code",
   "execution_count": null,
   "metadata": {
    "colab": {
     "base_uri": "https://localhost:8080/"
    },
    "id": "fiUdhD7EEPxb",
    "outputId": "6e57a9d6-31b9-4445-8473-fd644cc57c5b"
   },
   "outputs": [
    {
     "name": "stdout",
     "output_type": "stream",
     "text": [
      "[[-2.47988103]\n",
      " [10.84523535]\n",
      " [-9.37800578]\n",
      " [-3.47771911]\n",
      " [ 5.89490843]]\n"
     ]
    }
   ],
   "source": [
    "p = getPolyApprox([0.0, 0.25, 0.5, 0.75, 1.0], [0.5, 1.0, 0.5, 0.0, 0.5])\n",
    "pointSampledApprox(lambda x: 1.0 / (1.0 + math.exp(-x)), p)"
   ]
  },
  {
   "cell_type": "markdown",
   "metadata": {
    "id": "FFTFQh0pijW3"
   },
   "source": [
    "# Related Work\n",
    "\n",
    "https://math.stackexchange.com/questions/3147754/why-do-deep-neural-networks-work-well\n",
    "\n",
    "[Movement trajectory classification using supervised machine learning](http://kth.diva-portal.org/smash/get/diva2:1376904/FULLTEXT01.pdf)\n",
    "\n",
    "### Cheng, Model Compression for DNNs survey\n",
    "\n",
    "[Paper](https://arxiv.org/pdf/1710.09282.pdf)\n",
    "\n",
    "* Parameter pruning and quantization\n",
    "* Low-rank factorization\n",
    "* Transferred/compact convolutional filters\n",
    "* Knowledge distillation\n",
    "\n",
    "### Safran, Depth-Width Tradeoffs in Approximating Natural Functions with Neural Networks\n",
    "\n",
    "[Paper](https://arxiv.org/pdf/1610.09887.pdf)\n",
    "\n",
    "* Large enough networks of depth 2 can approximate any  continuous target function on $[0, 1]^d$ to arbitrary accuracy.\n",
    "* Deep network tend to outperform shallow networks of similar complexity.\n",
    "* **Def** The $L_p$-norm of a vector $v$ is $||v||_p = \\sqrt[p]{|v_0|^p + |v_1|^p + \\cdots}$\n",
    "* The the accuracy of expressing the indicator function of a Euclidean ball $\\pmb{x} \\mapsto \\begin{cases} 1 & ||\\pmb{x}||_2 \\le 1 \\\\ 0 & \\text{otherwise} \\end{cases}$ on a two-layer network requires width exponential in $d$ (the dimension of the input space). Same is not true of a three-layer network.\n",
    "* $L_1$ radial functions $\\pmb{x} \\mapsto f(||\\pmb{x}||_1)$ where $f$ is piecewise-linear can be represented _exactly_ by a 3-layer ReLU network, but not by a 2-layer network.\n",
    "\n",
    "### Neural Networks for Localized Approximation\n",
    "\n",
    "[Paper](https://www.ams.org/journals/mcom/1994-63-208/S0025-5718-1994-1240656-2/S0025-5718-1994-1240656-2.pdf)\n",
    "\n",
    "Question: Can neural networks satisfy a _local approximation_ property? i.e. that when the target function is modified only on a small subset of the Euclidean input space, only a few neurons need to be retrained.\n",
    "Result: 2-layer heavyside-activated networks cannot have this property if the input space is more than one-dimensional. In contrast, 3-layer networks or higher are capable of having this property for any-dimensional input spaces.\n",
    "\n",
    "### Sparse Identification of Nonlinear Dynamics with Control (SINDYc)\n",
    "\n",
    "[Paper](https://arxiv.org/abs/1605.06682)\n",
    "\n",
    "### GRACE Contrastive Samples\n",
    "\n",
    "[Paper](https://dl.acm.org/doi/pdf/10.1145/3394486.3403066)\n",
    "\n"
   ]
  }
 ],
 "metadata": {
  "colab": {
   "collapsed_sections": [],
   "name": "CPS491.ipynb",
   "provenance": [],
   "toc_visible": true
  },
  "kernelspec": {
   "display_name": "Python 3",
   "language": "python",
   "name": "python3"
  },
  "language_info": {
   "codemirror_mode": {
    "name": "ipython",
    "version": 3
   },
   "file_extension": ".py",
   "mimetype": "text/x-python",
   "name": "python",
   "nbconvert_exporter": "python",
   "pygments_lexer": "ipython3",
   "version": "3.8.5"
  }
 },
 "nbformat": 4,
 "nbformat_minor": 1
}
