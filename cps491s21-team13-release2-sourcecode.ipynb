{
 "cells": [
  {
   "cell_type": "markdown",
   "metadata": {
    "id": "lZm7vYUv2Arv"
   },
   "source": [
    "Zachary Rowland\n",
    "\n",
    "# CPS 491 Main Jupyter Notebook\n",
    "\n",
    "Contents\n",
    "\n",
    "* [Python Imports](#Python-Imports) Python imports for the whole document\n",
    "* [Tensorflow Models](#Tensorflow-Models) Implementations of neural networks used throughout this document\n",
    "* [Helpful Mathematical Theory](#Helpful-Mathematical-Theory) Math related to the direction of the project\n",
    "* [Using Tensorflow](#Using-Tensorflow) Quick reference and code examples for using Tensorflow\n",
    "* [Change-of-Basis Approximation Strategy](#Change-of-Basis-Approximation-Strategy) A general approximation technique using one hidden layer and an arbitrary activation function.\n",
    "* [Discovering Functions Using SINDy](#Discovering-Functions-Using-SINDy) A data-analysis method for fitting analytical functions to neural networks using linear regression.\n",
    "* [Approximating an Arbitrary Function using Convolution](#Approximating-an-Arbitrary-Function-using-Convolution) A method for approximating an arbitrary function inspired by convolution.\n",
    "\n",
    "[Tensorflow Guide](https://www.tensorflow.org/guide/)\n",
    "\n",
    "This version of the Jupyter notebook is for project release 2. The main content that will guide future exploration can be found under [Discovering Functions Using SINDy](#Discovering-Functions-Using-SINDy), but older work is also included.\n"
   ]
  },
  {
   "cell_type": "markdown",
   "metadata": {
    "id": "BIBLLa2_2lQN"
   },
   "source": [
    "# Python Imports\n",
    "\n",
    "These are just global imports that are used by the whole document. Run the following cell before running anything else."
   ]
  },
  {
   "cell_type": "code",
   "execution_count": 3,
   "metadata": {
    "id": "Qq7w88-22nnh"
   },
   "outputs": [],
   "source": [
    "import math\n",
    "import random\n",
    "import pandas as pd\n",
    "import numpy as np\n",
    "import matplotlib.pyplot as plt\n",
    "import graphviz as gv\n",
    "import sklearn.linear_model\n",
    "import tensorflow as tf"
   ]
  },
  {
   "cell_type": "markdown",
   "metadata": {
    "id": "M32ewWRK9O82"
   },
   "source": [
    "# Tensorflow Models\n",
    "\n",
    "This section defines various learning models that are used throughout this document. The following cell(s) should be run before anything else."
   ]
  },
  {
   "cell_type": "code",
   "execution_count": null,
   "metadata": {
    "id": "D9JU3amh9dLt"
   },
   "outputs": [],
   "source": [
    "class NeuralNet(tf.keras.Model):\n",
    "  \"\"\"\n",
    "  A multipurpose neural network.\n",
    "\n",
    "  Properties:\n",
    "  * a: the activation function\n",
    "  * final_a: boolean, apply the activation function to last layer?\n",
    "  \"\"\"\n",
    "  def __init__(self, layers=(1,1,1), final_a=False, **kwargs):\n",
    "    super().__init__(**kwargs)\n",
    "    self.thelayers = layers\n",
    "    self.final_a = final_a\n",
    "    self.w = []\n",
    "    self.b = []\n",
    "    self.a = tf.nn.sigmoid\n",
    "    self.x = None\n",
    "    for l in range(len(layers) - 1):\n",
    "      weights = tf.random.normal(shape=(layers[l], layers[l+1]))\n",
    "      biases = tf.random.normal(shape=(1, layers[l+1]))\n",
    "      self.w.append(tf.Variable(weights))\n",
    "      self.b.append(tf.Variable(biases))\n",
    "  def print(self):\n",
    "    print(\"=== Begin model printout ===\")\n",
    "    l = 0\n",
    "    while l < len(self.thelayers) - 1:\n",
    "      print(\"=== Layer {} ===\".format(l))\n",
    "      tf.print(\"  w = \\n\", self.w[l], sep=\"\")\n",
    "      tf.print(\"  b = \\n\", self.b[l], sep=\"\")\n",
    "      l += 1\n",
    "    print(\"=== End model printout ===\")\n",
    "  def printActivations(self):\n",
    "    \"\"\"\n",
    "    Prints the activations of each node from the previous\n",
    "    feedforward operation.\n",
    "    \"\"\"\n",
    "    print(\"===  Activations ===\")\n",
    "    l = 0\n",
    "    while l < len(self.thelayers):\n",
    "      tf.print(self.x[l])\n",
    "      l += 1\n",
    "    print(\"=== end ===\")\n",
    "  def getW(self, l, i, j):\n",
    "    \"\"\"\n",
    "    Returns the weight from the i-th node in the l-th\n",
    "    to the j-th node in the (l+1)-th layer\n",
    "    \"\"\"\n",
    "    return float(self.w[l][i,j])\n",
    "  def getB(self, l, i):\n",
    "    \"\"\"\n",
    "    Returns the bias used to compute the activation of\n",
    "    the i-th node in the (l+1)-th layer.\n",
    "    \"\"\"\n",
    "    return float(self.b[l][i])\n",
    "  def __call__(self, x, **kwargs):\n",
    "    # initialize, type conversion stuff\n",
    "    wasrowvec = False\n",
    "    if type(x) == float:\n",
    "      x = tf.constant([[x]])\n",
    "    if len(x.shape) == 1:    # convert row vectors to column vectors\n",
    "      wasrowvec = True\n",
    "      x = tf.reshape(x, (1, -1))\n",
    "    \n",
    "    # propogate values\n",
    "    self.x = [x]\n",
    "    l = 0\n",
    "    while l <= len(self.thelayers) - 3:\n",
    "      x = self.a(tf.matmul(x, self.w[l]) + self.b[l])\n",
    "      self.x.append(x)\n",
    "      l += 1\n",
    "    x = tf.matmul(x, self.w[l]) + self.b[l]   # final layer\n",
    "    if self.final_a:\n",
    "      x = self.a(x)\n",
    "    self.x.append(x)\n",
    "\n",
    "    if wasrowvec:\n",
    "      x = tf.reshape(x, (-1,))\n",
    "    return x\n"
   ]
  },
  {
   "cell_type": "markdown",
   "metadata": {
    "id": "wWqwROWKYaSv"
   },
   "source": [
    "---\n",
    "\n",
    "# Helpful Mathematical Theory"
   ]
  },
  {
   "cell_type": "markdown",
   "metadata": {
    "id": "9kcWiTr6jzWc"
   },
   "source": [
    "## Linear Systems Background\n",
    "\n",
    "Some vocabulary:\n",
    "\n",
    "* **Def** A _signal_ (denoted with $x$ or $y$) just refers to a real-valued function (usually over time). Alternatively, it can be thought of as a list of (output) values.\n",
    "* **Def** _Shifted signal_: $x \\Rsh s$ is the signal such that $(x \\Rsh s)(t) = x(t - s)$. Usually, $x(t - s)$ denotes the shifted signal itself, but using the denotation $\\Rsh$ clarifies that shifting is an operation on a signal. \n",
    "* **Def** A _system_ or _transform_ (denoted $T$) is a \"function on functions\", a transformation from one signal to another.\n",
    "* **Def** A _linear system_ is a system that satisfies homogeneity and additivity from linear algebra.\n",
    "* **Def** A _shift-invariant system_ $T$ satisfies the property $T[x \\Rsh s] = T[x] \\Rsh s$ for any signal and shift amount.\n",
    "* **Def** The _unit impulse_ signal (denoted $\\delta(t)$) is a spike at time zero and is defined such that:\n",
    "$$ \\int_{-\\infty}^{t} \\delta(\\tau)\\ d\\tau = \\begin{cases} 0 \\qquad t < 0 \\\\ 1 \\qquad t > 0 \\end{cases}$$\n",
    "\n",
    "Any signal can be represented as a linear combination of shifted and scaled impulse signals:\n",
    "$$ x(t) = \\int_{-\\infty}^{\\infty} x(\\tau)\\ \\delta(t - \\tau)\\ d\\tau $$\n",
    "\n",
    "Suppose $T$ is a linear shift-invariant transform. Then, by properties of linearity and shift-invariance:\n",
    "$$ T[x(t)] = \\int_{-\\infty}^{\\infty} x(\\tau)\\ (T[\\delta])(t - \\tau) \\ d\\tau $$\n",
    "This means that $T$ is completely characterized by how it maps the unit impulse signal. $T[\\delta]$ is called the _impulse response signal_."
   ]
  },
  {
   "cell_type": "markdown",
   "metadata": {
    "id": "lV_WsO4Bq5g6"
   },
   "source": [
    "**Def** A _convolution_ is a combination of two signals. We say $x * y$ is the result of convolving $x$ with $y$.\n",
    "  $$ (x * y)(t) = \\int_{-\\infty}^{\\infty} x(\\tau)\\ y(t - \\tau)\\ d\\tau $$\n",
    "  $$ x * y = \\int_{-\\infty}^{\\infty} x(\\tau)\\ (y \\Rsh \\tau)\\ d\\tau $$\n",
    "  Think of convolution as constructing a new signal that is a linear combination of a set of base signals. But each base signal is just a shifted version of a single signal $y$. The factors that scale the base signals are the outputs of $x$.\n",
    "\n",
    "Special Convolutions:\n",
    " * $x * \\delta = x$\n",
    " * $x * 1 = \\int_{-\\infty}^{\\infty} x(\\tau)\\ d\\tau$\n",
    " * $x * \\text{step} = \\int_{-\\infty}^{t}x(\\tau)\\ d\\tau \\qquad$ (\"step\" is the integral of $\\delta$)\n",
    "\n"
   ]
  },
  {
   "cell_type": "markdown",
   "metadata": {
    "id": "eGLvr2-LjP1E"
   },
   "source": [
    "Differentiation on real functions is a shift-invariant linear operation, so it can be expressed as a convolution ($d$ is the \"derivative\" of $\\delta$):\n",
    "$$ \\frac{dx}{dt} = x * d = \\int_{-\\infty}^{\\infty} x(\\tau)\\ (d \\Rsh \\tau)\\ d\\tau $$"
   ]
  },
  {
   "cell_type": "markdown",
   "metadata": {
    "id": "I9u25xiz6B_X"
   },
   "source": [
    "A Taylor series is similar to a convolution, but uses a discrete sum instead of the continuous integral.\n",
    "\n",
    "$$ f(x) = \\sum_{n=0}^{\\infty} \\frac{f^{(n)}(a)}{n!} (x - a)^n \\qquad \\forall x, a \\in \\mathbb{R} $$\n",
    "\n",
    "$$ f(x) = \\sum_{n=0}^\\infty \\frac{f^{(n)}(0)}{n!} x^n $$"
   ]
  },
  {
   "cell_type": "markdown",
   "metadata": {
    "id": "faQpaJauIQ6W"
   },
   "source": [
    "## Neural Net vs. Fuzzy Inference System\n",
    "\n",
    "The feedforward calculation of a neural network is a (linear) affine transformation composed with a nonlinear function $\\sigma$.\n",
    "\n",
    "$$ x^{(l+1)} = \\sigma(W^{(l)} x^{(l)} + b^{(l)}) \\qquad \\text{whole layer}$$\n",
    "\n",
    "$$ x^{(l+1)}_i = \\sigma\\left( \\sum_j W_{i,j}^{(l)} x_j^{(l)} + b_i^{(l)} \\right) \\qquad \\text{single node} $$\n",
    "\n",
    "_Index confusion_:\n",
    "* _Superscripts in parentheses_ always refer to the layer.\n",
    "* _Subscripts_ index the elements within a particular layer. Vectors only have one subscript. Matrices have two comma-separated subscripts for the _row_ and _col_ respectively. Letting the _col_ vary looks like moving left-right across the matrix.\n",
    "* Matrix vector multiplication example: $\\sum_j W_{i,j}x_j = (Wx)_i$\n",
    "\n",
    "### Piecewise-linear neural network\n",
    "\n",
    "If the activation function $\\sigma$ is piecewise-linear, such as a rectified linear or absolute value, then the entire feed-forward network will be piecewise-linear because composing two piecewise-linear functions yields another piecewise-linear function.\n",
    "\n",
    "**Theorem** The composition of two piecewise-affine functions is itself piecewise-affine.\n",
    "\n",
    "**Proof** Let $f$ and $g$ be piecewise-affine. Since $f$ is piecewise, the domain of $f$ can be divided into regions $\\{r_1, r_2, ...\\}$ such that $f$ is purely affine on any one region $r_i$. The same can be said for $g$ on regions $\\{s_1, s_2, ...\\}$. Now the composition of two purely affine functions is itself affine. This means that $(g \\circ f)$ is affine on any region $r_i \\cap \\{x | f(x) \\in s_j\\}$ since this region is a subset of $r_i$, and its mapping via $f$ is a subset of $s_j$. So $(g \\circ f)$ is piecewise-affine.\n",
    "\n",
    "### Fuzzy Inference System\n",
    "\n",
    "The function defined by a fuzzy inference system $f: \\mathbb{R}^n \\rightarrow \\mathbb{R}^m$ is piecewise-polynomial of degree $n$. This is because for each region in the domain, $f$ is defined as a linear combination of $2^n$ membership functions. As an example, for a one-input one-output system, on the domain $[0,1]$, these membership functions are $(1 - x)$ and $x$.\n",
    "\n",
    "$$ f(x) = c_0(1 - x) + c_1x $$\n",
    "\n",
    "If the input becomes 2-dimensional, then $f$ on the unit square becomes:\n",
    "\n",
    "$$ f(x,y) = c_{00}(1-x)(1-y) + c_{01}(1-x)y + c_{10}x(1-y) + c_{11}xy $$\n",
    "\n",
    "Each additional variable requires an additional multiplication in the definition of the membership functions."
   ]
  },
  {
   "cell_type": "markdown",
   "metadata": {
    "id": "1n-Av1fvLDQp"
   },
   "source": [
    "## Universal Approximation Theorem\n",
    "\n",
    "The universal approximation theorem says that neural networks with either arbitrary width or depth can approximate any continuous function to arbitrary accuracy.\n",
    "\n",
    "* **Arbitrary Width** Given a non-polynomial activation function $\\sigma: \\mathbb{R} \\rightarrow \\mathbb{R}$ and input,output dimensions $d,D \\in \\mathbb{Z}^+$\n",
    " * for every continuous function $f: \\mathbb{R}^d \\rightarrow \\mathbb{R}^D$,\n",
    " * for every compact subset $K$ of $\\mathbb{R}^d$,\n",
    " * for every $\\epsilon > 0$,\n",
    " * there exists linear affine maps $W_1, W_2$ such that\n",
    " * $\\sup| f(x) - (W_2 \\circ \\sigma \\circ W_1)(x) | < \\epsilon$\n",
    "* **Arbitrary Depth**\n",
    " * for every function $f: \\mathbb{R}^n \\rightarrow \\mathbb{R}^m$,\n",
    " * for every $\\epsilon > 0$,\n",
    " * there exists a fully-connected ReLU network $F$ with width $d_m = \\max\\{n+1,m\\}$ such that,\n",
    " * $\\int_{\\mathbb{R}^n} | f(x) - F(x) |^p dx < \\epsilon$"
   ]
  },
  {
   "cell_type": "markdown",
   "metadata": {
    "id": "6yt_hgDzz30c"
   },
   "source": [
    "## Fourier Series\n",
    "\n",
    "Fourier's Theorem states that any periodic function $f$ with period $L$ can be written as a sum of sines and cosines:\n",
    "\n",
    "$$ f(x) = a_0 + \\sum_{n=1}^{\\infty} \\left[ a_n\\cos\\left(\\frac{2\\pi nx}{L}\\right) + b_n\\sin\\left(\\frac{2\\pi nx}{L}\\right) \\right] \\qquad \\text{(Fourier's Theorem)} $$\n",
    "\n",
    "where the coefficients can be calculated as follows:\n",
    "\n",
    "$$ a_n = \\frac{2}{L}\\int_0^{L} f(x)\\cos\\left( \\frac{2\\pi nx}{L} \\right)\\ dx $$\n",
    "$$ b_n = \\frac{2}{L}\\int_0^{L} f(x)\\sin\\left( \\frac{2\\pi nx}{L} \\right)\\ dx $$\n",
    "\n",
    "There is an equivalent exponential form that also generalizes to complex functions:\n",
    "\n",
    "$$ f(x) = \\sum_{n=-\\infty}^{\\infty} C_n e^{i\\, 2\\pi nx/L} \\qquad \\text{(Fourier's Theorem)} $$\n",
    "\n",
    "$$ C_n = \\frac{1}{L}\\int_0^L f(x) e^{i\\, 2\\pi nx/L}\\ dx $$"
   ]
  },
  {
   "cell_type": "markdown",
   "metadata": {
    "id": "YOD0kL4hQ1Lv"
   },
   "source": [
    "## Fourier Approximations\n",
    "\n",
    "Fourier approximations work because the set of functions $\\{\\frac{1}{\\pi}\\sin nx | n \\ge 1\\} \\cup \\{\\frac{1}{\\pi} \\cos nx | n \\ge 1\\} \\cup \\{\\frac{1}{2\\pi}\\}$ forms an orthonormal basis of the set of real-valued functions with period $2\\pi$. This is because:\n",
    "\n",
    "* All functions in this set have unit length (e.g. $\\int_0^{2\\pi} \\sin^2 (nx)\\ dx = 1$)\n",
    "* All functions in this set are pairwise orthogonal (e.g. $\\int_0^{2\\pi} \\sin(nx)\\cos(mx)\\ dx = 0$)\n",
    "* There are \"enough\" of them to span the entire vector space\n",
    "\n",
    "Finding the Fourier approximation of a function $f$ just requires calculating the coorinates of $f$ in this new basis. Recall the projection formula:\n",
    "\n",
    "$$ \\text{proj}_{\\vec{w}} \\vec{v} = \\frac{\\vec{v} \\cdot \\vec{w}}{||\\vec{w}||^2} \\vec{w} $$\n",
    "\n",
    "So we just need to project our function $f$ onto each basis vector. For example,\n",
    "\n",
    "$$ \\text{proj}_{\\sin(x)/\\pi} f = \\frac{1}{\\pi^2} \\left( \\int_0^{2\\pi} f(x) \\sin(x)\\ dx \\right) \\sin(x) $$\n",
    "\n",
    "Similar approximations can be done with any set of orthogonal functions such as [orthogonal polynomials](https://en.wikipedia.org/wiki/Orthogonal_polynomials)."
   ]
  },
  {
   "cell_type": "markdown",
   "metadata": {
    "id": "9lbEMxF8W7sp"
   },
   "source": [
    "The discrete Fourier Transform transforms a sequence of complex numbers $ x_0, x_2, \\dots, x_{N-1} $ into another sequence:\n",
    "\n",
    "$$ X = F\\pmb{x} $$\n",
    "\n",
    "$$ \\begin{bmatrix} X_0 \\\\ X_1 \\\\ \\vdots \\end{bmatrix} = \\begin{bmatrix} \\omega^{0 \\cdot 0} & \\omega^{0 \\cdot 1} & \\\\ \\omega^{1 \\cdot 0} & \\omega^{1 \\cdot 1} & \\cdots \\\\ & \\vdots & \\end{bmatrix} \\begin{bmatrix} x_0 \\\\ x_1 \\\\ \\vdots \\end{bmatrix} $$\n",
    "\n",
    "$$ \\omega = e^{-\\frac{2 \\pi i}{N}} $$\n",
    "\n"
   ]
  },
  {
   "cell_type": "markdown",
   "metadata": {
    "id": "6TT2evCQasjc"
   },
   "source": [
    "## Spline Theory\n",
    "\n",
    "Notes from \"A Spline Theory of Deep Networks\" by Balestriero and Baraniuk.\n",
    "\n",
    "* **Def** A function $f: \\mathbb{R^n} \\rightarrow \\mathbb{R}$ is _convex_ if the line segment connecting any two points on the graph lies entirely above the graph (think positive concavity or positive second derivative).\n",
    "* **Def** An _affine spline_ is a continuous piecewise-affine function ($\\mathbb{R^n} \\rightarrow \\mathbb{R}$).\n",
    "* **Def** A _max-affine spline_ is defined as the maximum of a set of affine functions over the entire domain. Max-affine splines are necessarily globally convex and continuous no matter the choices of affine functions.\n",
    "* **Def** An _adaptive-partitioning spline_ (such as a max-affine spline) is a spline were the domain partitioning is not a direct parameter, but instead determined by other parameters, and where the domain partitioning automatically changes as the direct parameters change.\n",
    "* **Def** An _affine spline operator_ is obtained by simply concatenating affine splines to produce a function with multivariate output.\n",
    "* **Def** A _max-affine spline operator_ (MASO) is an affine spline operator produced by concatenating max-affine splines.\n",
    "\n",
    "Main result: most deep networks can be written as a composition of MASOs, one for each layer, even though a MASO can only approximate a convex function."
   ]
  },
  {
   "cell_type": "markdown",
   "metadata": {
    "id": "VvvNnEY4Er_b"
   },
   "source": [
    "## Linear Regression with Vectors\n",
    "\n",
    "Suppose we have $n$ datapoints $(x_i, y_i)$ where $x_i, y_i \\in \\mathbb{R}$. A linear regression problem attempts to find a function $f(x) = mx + b$ such that some sort of error function, like square differences, are minimized. This problem can reframed as finding values of $m,b$ such that the approximation below is \"closest\"\n",
    "\n",
    "$$ \\pmb{y} \\approx X \\pmb{ w } $$\n",
    "$$ \\begin{bmatrix} y_0 \\\\ y_1 \\\\ \\vdots \\end{bmatrix} \\approx \\begin{bmatrix} x_0 & 1 \\\\ x_1 & 1 \\\\ \\vdots & \\vdots \\end{bmatrix} \\begin{bmatrix} m \\\\ b \\end{bmatrix} $$\n",
    "\n",
    "Here is another interpretation of the above equation: Given each $x_i$, the vector $\\pmb{y}$ is a representation of a function (think of \"coordinates\"). It represents a function by simply listing outputs associated with the given inputs. This vector sits in some vector space $V$. The columns of the $X$ matrix are also vectors in $V$ (representations of $x \\mapsto x$ and $x \\mapsto 1$).\n",
    "\n",
    "But $\\pmb{w}$ is a different representation of a function in a different, lower-dimensional vector space $W$. The matrix $X$ maps vectors from $W$ into $V$. The problem now becomes: \"find the vector $\\pmb{w}$ such that the distance from $\\pmb{y}$ to $X\\pmb{w}$ is minimum\":\n",
    "\n",
    "$$ \\pmb{w} = \\min_{w} || Xw - \\pmb{y} ||^2 $$\n",
    "\n",
    "There are two ways of finding $\\pmb{w}$. The more traditional way is to use calculus. The partial derivatives are taken with respect to $m$ and $b$. Note that this is just another way to say that the sum of the square differences must be minimum.\n",
    "\n",
    "$$ \\nabla || X\\pmb{w} - \\pmb{y} ||^2 = \\pmb{0} $$\n",
    "\n",
    "Another way is to project the vector $\\pmb{y}$ onto the space $X(W)$. The vectors $\\pmb{w_i}$ can be any orthogonal basis of $W$.\n",
    "\n",
    "$$ X(\\pmb{w}) = \\text{proj}_{X(W)}(\\pmb{y}) = \\sum_i \\frac{\\pmb{y} \\cdot X(\\pmb{w_i})}{|| X(\\pmb{w_i}) ||^2} X(\\pmb{w_i}) $$\n"
   ]
  },
  {
   "cell_type": "code",
   "execution_count": null,
   "metadata": {
    "colab": {
     "base_uri": "https://localhost:8080/",
     "height": 283
    },
    "id": "PhP3ND14ZWyK",
    "outputId": "10927112-416c-43f3-e903-7610c4891a03"
   },
   "outputs": [
    {
     "name": "stdout",
     "output_type": "stream",
     "text": [
      "Approximation: 0.40 + 0.60x + -1.41x^2\n"
     ]
    },
    {
     "data": {
      "image/png": "[encoded data removed]",
      "text/plain": [
       "<Figure size 432x288 with 1 Axes>"
      ]
     },
     "metadata": {
      "needs_background": "light",
      "tags": []
     },
     "output_type": "display_data"
    }
   ],
   "source": [
    "# Example: quadratic regression using the projection method\n",
    "\n",
    "# Generate data   yvec = 0.5sin(pi xvec + pi/4)\n",
    "n = 11\n",
    "xvec = np.linspace(0.0, 1.0, num=n)\n",
    "yvec = 0.5 * np.sin(np.pi * xvec + np.pi * 0.25)\n",
    "xsquarevec = xvec ** 2.0\n",
    "onesvec = np.ones((n,))\n",
    "\n",
    "# Construct the X matrix\n",
    "X = np.column_stack((onesvec, xvec, xsquarevec))\n",
    "\n",
    "# Calculate Xw by projecting onto the orthogonal basis \"Xorth\"\n",
    "Xorth, _ = np.linalg.qr(X)\n",
    "Xw = np.zeros((n, 1))\n",
    "for c in range(3):\n",
    "  col = Xorth[:,c:c+1]\n",
    "  Xw = Xw + (np.matmul(yvec, col) / np.sum(col ** 2.0)) * col\n",
    "\n",
    "# To get the original w vector, take any three coordinates from\n",
    "# Xw and the corresponding rows from T. Then w = inv(X) Xw\n",
    "Xsquare = np.resize(X, (3, 3))\n",
    "w = np.matmul(np.linalg.inv(Xsquare), np.resize(Xw, (3,1)))\n",
    "print(\"Approximation: {:.2f} + {:.2f}x + {:.2f}x^2\".format(w[0,0], w[1,0], w[2,0]))\n",
    "\n",
    "plt.plot(xvec, yvec, color=\"red\")\n",
    "plt.plot(xvec, [w[0,0] + w[1,0]*x + w[2,0]*x*x for x in list(xvec)])\n",
    "plt.show()\n"
   ]
  },
  {
   "cell_type": "markdown",
   "metadata": {
    "id": "BSa2iWcBqFRz"
   },
   "source": [
    "## Dimensionality Reduction\n",
    "\n",
    "* **Def** _Dimensionality reduction_ refers to some method of squeezing high dimensional data into a lower dimensional space in some meaningful way. These transformations can be linear or non-linear.\n",
    "* **Def** _Feature selection_ is probably the simplest linear dimensionality reduction strategy. You simply eliminate one or more variables that are deemed unimportant.\n",
    "* **Def** _Feature projection_ a generic linear dimensionality reduction strategy. Instead of naively eliminating one or more variables, you linearly-project the data into a smaller dimensional space. Think of rewriting the data in a different basis, then performing a feature selection.\n",
    "\n",
    "* **Def** The _covariance_ of two random variables $X,Y$ is a measure of their correlation. A covariance near zero means they are independent. While univariable variance is $E(X - E(X))^2$, covariance is $E(X - E(X))(Y - E(Y))$.\n",
    "* **Def** The _covariance matrix_ of $d$-dimensional data is a $d \\times d$ matrix containing the covariances of each pair of dimensions.\n",
    "\n",
    "The eigenvectors of the covariance matrix represent sort of the \"principal components\" of the distribution. If you were to rewrite the data using the eigenvector coordinates, the eigenvectors corresponding to the largest eigenvalues represent the directions in which the data is the most \"spread out\" or the most varied.\n",
    "\n",
    "* **Def** _Principal Component Analysis_ is the primary version of feature projection where we keep the features in which the data is the most varied and eliminate features where the data does not vary as much. We can do this by rewriting the data in terms of a basis of eigenvectors of the covariance matrix and discard the \"shortest eigenvectors\" (smallest eigenvalues).\n",
    "\n",
    "* **Dynamic Mode Decomposition** Another feature projection technique.\n"
   ]
  },
  {
   "cell_type": "markdown",
   "metadata": {
    "id": "R3gQLgM12Ipi"
   },
   "source": [
    "---\n",
    "\n",
    "# Using Tensorflow\n",
    "\n",
    "An brief overview of tensor math and learning models in the Tensorflow library descibed with lots of code examples."
   ]
  },
  {
   "cell_type": "code",
   "execution_count": null,
   "metadata": {
    "id": "tNyxowPX2H9-"
   },
   "outputs": [],
   "source": [
    "# generating simple test data\n",
    "\n",
    "f = open(\"sin_data.csv\", \"w\")\n",
    "f.write(\"x,sin(x)\\n\")\n",
    "for i in range(200):\n",
    "  x = random.random()*2*math.pi\n",
    "  v = math.sin(x)\n",
    "  f.write(str(x)+\",\"+str(v)+\"\\n\")\n",
    "f.close()"
   ]
  },
  {
   "cell_type": "code",
   "execution_count": null,
   "metadata": {
    "colab": {
     "base_uri": "https://localhost:8080/",
     "height": 142
    },
    "id": "MrD6ALb38oYJ",
    "outputId": "789e4d80-71e3-4682-e407-5de4282800c8"
   },
   "outputs": [
    {
     "data": {
      "text/html": [
       "<div>\n",
       "<style scoped>\n",
       "    .dataframe tbody tr th:only-of-type {\n",
       "        vertical-align: middle;\n",
       "    }\n",
       "\n",
       "    .dataframe tbody tr th {\n",
       "        vertical-align: top;\n",
       "    }\n",
       "\n",
       "    .dataframe thead th {\n",
       "        text-align: right;\n",
       "    }\n",
       "</style>\n",
       "<table border=\"1\" class=\"dataframe\">\n",
       "  <thead>\n",
       "    <tr style=\"text-align: right;\">\n",
       "      <th></th>\n",
       "      <th>x</th>\n",
       "      <th>sin(x)</th>\n",
       "    </tr>\n",
       "  </thead>\n",
       "  <tbody>\n",
       "    <tr>\n",
       "      <th>0</th>\n",
       "      <td>2.438507</td>\n",
       "      <td>0.646574</td>\n",
       "    </tr>\n",
       "    <tr>\n",
       "      <th>1</th>\n",
       "      <td>4.413438</td>\n",
       "      <td>-0.955646</td>\n",
       "    </tr>\n",
       "    <tr>\n",
       "      <th>2</th>\n",
       "      <td>1.221277</td>\n",
       "      <td>0.939538</td>\n",
       "    </tr>\n",
       "  </tbody>\n",
       "</table>\n",
       "</div>"
      ],
      "text/plain": [
       "          x    sin(x)\n",
       "0  2.438507  0.646574\n",
       "1  4.413438 -0.955646\n",
       "2  1.221277  0.939538"
      ]
     },
     "execution_count": 4,
     "metadata": {
      "tags": []
     },
     "output_type": "execute_result"
    }
   ],
   "source": [
    "# example loading CSV file into a pandas dataframe\n",
    "sin_dataframe = pd.read_csv(\"sin_data.csv\", sep=\",\")  # type is pd.DataFrame\n",
    "sin_dataframe.head(3)   # returns a new dataframe with only first 3 rows"
   ]
  },
  {
   "cell_type": "markdown",
   "metadata": {
    "id": "pvoHvE2TISno"
   },
   "source": [
    "## Tensor Math\n",
    "\n",
    "The primary objects that Tensorflow provides are tensors -- a generalization of scalars, vectors, and matrices to numerical arrays of arbitrary dimension. Tensors have the following properties:\n",
    "\n",
    "* **dimension**: the number of layers of nested lists needed to represent the tensor (e.g. a vector is a 1-D tensor, a matrix is a 2-D tensor).\n",
    "* **shape**: a list of numbers describing the \"length\" of the tensor in each direction (e.g. matrices all have shape (nrows, ncols))."
   ]
  },
  {
   "cell_type": "code",
   "execution_count": null,
   "metadata": {
    "id": "6DlVtdEVCbyi"
   },
   "outputs": [],
   "source": [
    "# Tensors\n",
    "t0 = tf.constant(4)   # a rank-0 tensor (i.e. a scalar)\n",
    "t1 = tf.constant([1,2,3])   # a rank-1 tensor (i.e. a vector)\n",
    "t2 = tf.constant([[1,2,3], [4,5,6], [7,8,9]])   # a rank-2 tensor (i.e. a matrix)\n",
    "\n",
    "# constructing simple tensors\n",
    "t = tf.zeros([3,2])   # a 3x2 tensor filled with zeros\n",
    "t = tf.random.uniform([3,2], minval=0, maxval=1)\n",
    "t = tf.random.normal([3,2], mean=5, stddev=2)\n",
    "t = tf.eye(4)   # 4x4 identity matrix\n",
    "\n",
    "t = tf.constant([[1,2], [3,4]], dtype=tf.float32)  # manually specify element type\n",
    "\n",
    "a = np.array(t)   # convert Tensor to numpy array\n",
    "t = tf.constant(a)  # convert numpy array to Tensor\n",
    "\n",
    "# Tensor operations\n",
    "ta = tf.constant([[1,2],[3,4]], dtype=tf.float32)\n",
    "tb = tf.constant([[5,6],[7,8]], dtype=tf.float32)\n",
    "t = ta + tb   # element-wise addition\n",
    "t = ta * tb   # element-wise multiplication\n",
    "t = ta @ tb   # \"matrix\" multiplication\n",
    "t = tf.reduce_max(ta)   # largest value\n",
    "t = tf.argmax(ta)       # index of largest value\n",
    "b = ta == tb            # comparison operators are element-wise\n",
    "\n",
    "# Tensor shape, rank, dimension, size\n",
    "t = tf.constant([[1,2,3],[4,5,6]])\n",
    "shape = t.shape     # [2, 3]\n",
    "anelem = t[0,0]     # indexing (returns a Tensor)\n",
    "anelem = t[0][0]    # also indexing\n",
    "t = tf.reshape(t, (3, 2))   # does not shuffle elements in memory, so cheap\n"
   ]
  },
  {
   "cell_type": "markdown",
   "metadata": {
    "id": "vQidSfwvQ3KM"
   },
   "source": [
    "## Automatic Differentiation\n",
    "\n",
    "A _gradient_ is an operation on a scalar-valued function with a tensor input $f: T \\rightarrow \\mathbb{R}$. The result of calculating the gradient of a function $\\nabla f$ is a tensor of same shape as the input. A _Jacobian_ is the generalization of the gradient to tensor-valued functions. If $f: T_{d_1 \\times \\dots \\times d_n} \\rightarrow T_{\\delta_1 \\times \\dots \\times \\delta_m}$, then $\\mathbf{J} f: T_{\\delta_1 \\times \\dots \\times \\delta_m \\times d_1 \\times \\dots \\times d_n}$."
   ]
  },
  {
   "cell_type": "code",
   "execution_count": null,
   "metadata": {
    "colab": {
     "base_uri": "https://localhost:8080/"
    },
    "id": "CctvBtlzFAFT",
    "outputId": "8986a42a-a1f9-4825-ee06-e9dcf0d844df"
   },
   "outputs": [
    {
     "name": "stdout",
     "output_type": "stream",
     "text": [
      "tf.Tensor(\n",
      "[[6.]\n",
      " [7.]], shape=(2, 1), dtype=float32)\n"
     ]
    }
   ],
   "source": [
    "# Automatic Differentiation & Variables\n",
    "\n",
    "x = tf.Variable([[1],[2],[3]], name=\"x\", dtype=tf.float32)\n",
    "\n",
    "# a \"tape\" is needed to store automatic differentiation values\n",
    "# call GradientTape with persistent=True if you want to calculate multiple\n",
    "# gradients or jacobians\n",
    "with tf.GradientTape() as tape:\n",
    "  y = tf.constant([[1,1,1], [5,1,0]], dtype=tf.float32) @ x\n",
    "\n",
    "print(y)\n",
    "j = tape.jacobian(y, x)   # j[output indeces, input indices]\n",
    "\n",
    "# j[output indeces][input indices] is the derivative\n",
    "# of output[output indeces] with respect to input[input indeces]\n",
    "\n",
    "# For example, j[1,0][2,0] is derivative of second component of y\n",
    "# with respect to the third component of x"
   ]
  },
  {
   "cell_type": "markdown",
   "metadata": {
    "id": "g2EWOL4faX14"
   },
   "source": [
    "## A Linear Neural Network\n",
    "\n",
    "Note that normally, a linear feed-forward function for one layer is written as $W\\vec{x} + \\vec{b}$. However in tensorflow, vectors are one-dimentional tensors instead of $n \\times 1$ matrices, which means it is slightly easier to define this function as $\\vec{x}W^t + \\vec{b}$."
   ]
  },
  {
   "cell_type": "code",
   "execution_count": null,
   "metadata": {
    "id": "D2Wu7P5WaaHf"
   },
   "outputs": [],
   "source": [
    "# A 1-input 1-output linear neural network.\n",
    "class LinearModel(tf.keras.Model):\n",
    "  def __init__(self, indim, outdim, **kwargs):\n",
    "    super().__init__(**kwargs)\n",
    "    self.indim = indim\n",
    "    self.outdim = outdim\n",
    "    self.w = tf.Variable(tf.random.normal(shape=(indim, outdim)))\n",
    "    self.b = tf.Variable(tf.random.normal(shape=(1, outdim)))\n",
    "  def __call__(self, x, **kwargs):\n",
    "    return tf.matmul(x, self.w) + self.b\n",
    "\n",
    "# model and test data\n",
    "mymodel = LinearModel(1, 1)\n",
    "mymodel.compile(run_eagerly=False,\n",
    "                optimizer=tf.keras.optimizers.SGD(learning_rate=0.2),\n",
    "                loss=tf.keras.losses.mean_squared_error)\n",
    "x = tf.random.uniform(shape=(1000,1,1), minval=-1, maxval=1)\n",
    "y = x * 0.5 + tf.random.normal(shape=(1000,1,1), mean=0.3, stddev=0.05)\n",
    "y_obs = mymodel(x)"
   ]
  },
  {
   "cell_type": "code",
   "execution_count": null,
   "metadata": {
    "colab": {
     "base_uri": "https://localhost:8080/"
    },
    "id": "dx8ssCLCxljj",
    "outputId": "f5faf036-0ea7-49ae-ca9a-bfec2564afed"
   },
   "outputs": [
    {
     "name": "stdout",
     "output_type": "stream",
     "text": [
      "Epoch 1/10\n",
      "1/1 [==============================] - 0s 297ms/step - loss: 0.3333\n",
      "Epoch 2/10\n",
      "1/1 [==============================] - 0s 6ms/step - loss: 0.1694\n",
      "Epoch 3/10\n",
      "1/1 [==============================] - 0s 6ms/step - loss: 0.0984\n",
      "Epoch 4/10\n",
      "1/1 [==============================] - 0s 5ms/step - loss: 0.0638\n",
      "Epoch 5/10\n",
      "1/1 [==============================] - 0s 5ms/step - loss: 0.0446\n",
      "Epoch 6/10\n",
      "1/1 [==============================] - 0s 4ms/step - loss: 0.0326\n",
      "Epoch 7/10\n",
      "1/1 [==============================] - 0s 5ms/step - loss: 0.0245\n",
      "Epoch 8/10\n",
      "1/1 [==============================] - 0s 5ms/step - loss: 0.0188\n",
      "Epoch 9/10\n",
      "1/1 [==============================] - 0s 5ms/step - loss: 0.0146\n",
      "Epoch 10/10\n",
      "1/1 [==============================] - 0s 4ms/step - loss: 0.0115\n"
     ]
    }
   ],
   "source": [
    "# training\n",
    "\n",
    "mymodel.fit(x, y, epochs=10, batch_size=1000, verbose=1)\n",
    "y_obs = mymodel(x)\n"
   ]
  },
  {
   "cell_type": "code",
   "execution_count": null,
   "metadata": {
    "colab": {
     "base_uri": "https://localhost:8080/",
     "height": 269
    },
    "id": "FqERFvuJO7Ml",
    "outputId": "94260208-01f1-47f9-84ca-ccdfb0bf6d4b"
   },
   "outputs": [
    {
     "data": {
      "image/png": "[encoded data removed]",
      "text/plain": [
       "<Figure size 432x288 with 1 Axes>"
      ]
     },
     "metadata": {
      "needs_background": "light",
      "tags": []
     },
     "output_type": "display_data"
    }
   ],
   "source": [
    "# show results\n",
    "plt.ylim(-1, 1)\n",
    "plt.xlim(-1, 1)\n",
    "plt.axhline(color=\"black\")\n",
    "plt.axvline(color=\"black\")\n",
    "plt.scatter(x, y, c=\"black\", s=3)\n",
    "plt.scatter(x, y_obs, c=\"red\", s=3)\n",
    "plt.show()"
   ]
  },
  {
   "cell_type": "markdown",
   "metadata": {
    "id": "pw-_Hw-ibhuE"
   },
   "source": [
    "---\n",
    "\n",
    "# Change-of-Basis Approximation Strategy\n",
    "\n",
    "This section describes a general strategy for approximating any function $f: \\mathbb{R} \\rightarrow \\mathbb{R}$ with a neural network using an arbitrary activation function $a$ (with certain restrictions) to any desired accuracy using a single hidden activation layer. The basic idea is to find a representation of $f$ as a linear combination of various functions of the form $a(hx + k)$. For a more concrete example, see [Using Maclaurin Approximation](#scrollTo=iZycguIdbhuG).\n",
    "\n",
    "Start with:\n",
    "* $f: \\mathbb{R} \\rightarrow \\mathbb{R}$ the function to be approximated\n",
    "* $a: \\mathbb{R} \\rightarrow \\mathbb{R}$ an activation function\n",
    "* A function basis $\\mathcal{F}$, for example:\n",
    "  * polynomials $\\{1, x, x^2, ...\\}$\n",
    "  * sinusoids $\\{1, \\sin(x), \\cos(x), \\sin(2x), \\dots\\}$\n",
    "* A methodology for producing an approximation $f_{app}$ of $f$ using finite subsets of the basis $\\mathcal{F}$\n",
    "  * Maclaurin series (requiring $f_{app}^{(n)}(0) = f^{(n)}(0)$ for some values $n \\ge 0$)\n",
    "  * Point Sampling (requiring $f_{app}(n) = f(n)$ for some values $n$)\n",
    "  * Matching Integrals (requring $\\int_R f^{(n)}_{app}(x)\\ dx = \\int_R f^{(n)}(x)\\ dx$ for some values $n \\ge 0$)\n",
    "  * Remez Algorithm\n",
    "  * Fourier series\n",
    "\n",
    "General process:\n",
    "1. Find an approximation $f_{app}$ of $f$ that is a linear combination of $d$ vectors in $\\mathcal{F}$.\n",
    "2. Construct a set of independent functions $\\mathcal{A} = \\{a(h_0 x + k_0), a(h_1 x + k_1), \\dots, a(h_d x + k_d) \\}$\n",
    "3. Construct a basis $\\mathcal{B}$ of approximations of the functions in $\\mathcal{A}$ where $\\mathcal{B}_i \\approx \\mathcal{A}_i$\n",
    "4. Construct a change of basis matrix $B = \\begin{bmatrix} \\mathcal{B}_0 & \\mathcal{B}_1 & \\cdots & \\mathcal{B}_d \\end{bmatrix}$ that converts from $\\mathcal{B}$-coordinates to $\\mathcal{F}$-coordinates.\n",
    "5. Find the coordinates of $f_{app}$ in $\\mathcal{B}$ by inverting the change of basis matrix: $\\text{coords}_{\\mathcal{B}}(f_{app}) = B^{-1}\\ \\text{coords}_{\\mathcal{F}}(f_{app})$\n",
    "\n",
    "The numbers in $\\text{coords}_{\\mathcal{B}}(f_{app})$ are the weights coming out of the neurons in the hidden layer of the network. The weights and biases fed _into_ the hidden layer neurons are the $h,k$ values from step 2.\n",
    "\n",
    "There are two approximations happening: the approximation of $f$ and the approximation of $a$. Both approximations are represented in the same finite-dimensional subspace of $\\mathcal{F}$, meaning the transformation from one to the other is a finite linear operator.\n",
    "\n"
   ]
  },
  {
   "cell_type": "markdown",
   "metadata": {
    "id": "iZycguIdbhuG"
   },
   "source": [
    "## Using Maclaurin Approximation\n",
    "\n",
    "Here is an example of applying the above approximation strategy using Maclaurin series approximation and the standard basis for $d$-degree polynomials for $\\mathcal{F}$.\n",
    "\n",
    "To start, we will use $\\mathcal{A} = \\{a(0), a(hx), a(2hx), \\dots, a(dhx)\\}$\n",
    "\n",
    "The approximations $\\mathcal{B}$ will be found using the first $d$ terms of the Maclaurin expansion.\n",
    "\n",
    "$$ \\mathcal{A}_j = a(khx) \\approx \\sum_{n=0}^{d} \\frac{j^n h^n a^{(n)}(0)}{n!} x^n = \\mathcal{B}_j $$\n",
    "\n",
    "Now construct the change of basis matrix $B$. The columns of $B$ are the vectors in $\\mathcal{B}$ written with respect to the standard polynomial basis $\\{1, x, x^2, \\dots, x^d\\}$. Note that $a^{(i)}(0) \\ne 0$ for $0 \\le i \\le d$ otherwise the matrix will not be invertible.\n",
    "\n",
    "$$ B = \\begin{bmatrix} \\mathcal{B}_0 & \\mathcal{B}_1 & \\cdots & \\mathcal{B}_d \\end{bmatrix} $$\n",
    "\n",
    "$$ B_{i,j} = \\frac{j^i h^i a^{(i)}(0)}{i!} $$\n",
    "\n",
    "Multiplying by $B$ on the left will convert coordinates with respect to $\\mathcal{B}$ into standard basis coordinates. Both coorinate vectors are column vectors. $p$ is the $d$-degree polynomial approximation of $f$.\n",
    "\n",
    "$$ B\\ \\text{coords}_{\\mathcal{B}}(p) = \\text{coords}(p) $$\n",
    "\n",
    "To get the new coordinates with respect to $\\mathcal{B}$, simply multiply the standard coordinates by the inverse of $B$.\n",
    "\n",
    "$$ \\text{coords}_{\\mathcal{B}}(p) = B^{-1} \\text{coords}(p) $$\n",
    "\n",
    "Our neural network function that approximates $p$ is\n",
    "\n",
    "$$ p(x) = \\lim_{h \\rightarrow 0} \\left( \\text{coords}_{\\mathcal{B}}(p) \\cdot a(\\begin{bmatrix} 0 & hx & 2hx & \\cdots & dhx \\end{bmatrix}^t) \\right) $$"
   ]
  },
  {
   "cell_type": "code",
   "execution_count": null,
   "metadata": {
    "colab": {
     "base_uri": "https://localhost:8080/"
    },
    "id": "xM6d_EqrbhuI",
    "outputId": "38db6b5a-a8ab-4ab0-b584-219e59384574"
   },
   "outputs": [
    {
     "data": {
      "text/plain": [
       "array([[ -25.07715296],\n",
       "       [  97.79126971],\n",
       "       [-151.51657341],\n",
       "       [ 122.7842585 ],\n",
       "       [ -50.69813563],\n",
       "       [   8.5754747 ]])"
      ]
     },
     "execution_count": 39,
     "metadata": {
      "tags": []
     },
     "output_type": "execute_result"
    }
   ],
   "source": [
    "# returns an approximation for poly\n",
    "# poly is a list [b0, b1, b2, ...] representing b0 + b1x + b2x^2 + b3x^3 + ...\n",
    "# a_derivs is the list [a(0), a'(0), a''(0), ...]\n",
    "# h should be close to zero (0.1 usually works well)\n",
    "# returns the coefficients [c0, c1, c2, ...] such that\n",
    "# c0 a(0) + c1 a(hx) + c2 a(2hx) + ... approximates poly\n",
    "def getApprox(poly, a_derivs, h):\n",
    "  degree = len(poly) - 1\n",
    "  # construct B matrix\n",
    "  # Note, the B matrix in the math above is actually matmul(C, B) where C\n",
    "  # is a diagonal matrix of \"row coefficients\"\n",
    "  B = []\n",
    "  for row in range(degree + 1):\n",
    "    B.append([])\n",
    "    for col in range(degree + 1):\n",
    "      B[row].append(math.pow(col, row))\n",
    "  B = np.array(B)\n",
    "\n",
    "  C_inv = []\n",
    "  for row in range(degree + 1):\n",
    "    C_inv.append([])\n",
    "    coefficient = math.factorial(row) / (math.pow(h, row) * a_derivs[row])\n",
    "    for col in range(degree + 1):\n",
    "      C_inv[row].append(coefficient if row == col else 0.0)\n",
    "  C_inv = np.array(C_inv)\n",
    "\n",
    "  # construct coords vector\n",
    "  coords = np.array(poly).reshape((degree+1, 1))\n",
    "\n",
    "  return np.matmul(np.matmul(np.linalg.inv(B), C_inv), coords)\n",
    "\n",
    "# derivatives of 1/(1+exp(-(x-1)))\n",
    "#a_derivs = [0.26894142137, 0.196611933241, 0.0908577476729, -0.0353255805162, -0.123506861366, -0.0510419761245]\n",
    "\n",
    "# derivatives of 1/(1+exp(-(5x - 1)))\n",
    "a_derivs = [0.26894142137, 0.983059666207, 2.27144369182, -4.41569756453, -77.191788354, -159.506175389]\n",
    "\n",
    "# approximate x - (1/6)x^3, a Maclaurin approx for sin(x).\n",
    "#getApprox([0.0, 1.0, 0.0, -1.0/6.0], [0.26894142137, 0.196611933241, 0.0908577476729, -0.0353255805162], 0.5)\n",
    "\n",
    "# approximates 0.5 sin(pi x) + 0.5\n",
    "# via its degree-5 maclaurin expansion\n",
    "getApprox([0.5, 1.57079632679, 0.0, -2.58385639002, 0.0, 1.27508201994],\n",
    "          a_derivs, 0.5)"
   ]
  },
  {
   "cell_type": "code",
   "execution_count": null,
   "metadata": {
    "id": "GOI0KLeTCy_r"
   },
   "outputs": [],
   "source": [
    "# len(inputs) = len(outputs) = d + 1\n",
    "# returns the unique d-degree polynomial p that\n",
    "# satisfies p(inputs[i]) = outputs[i] for each i.\n",
    "def getPolyApprox(inputs, outputs):\n",
    "  degree = len(inputs) - 1\n",
    "  M = []\n",
    "  for row in range(degree + 1):\n",
    "    M.append([])\n",
    "    for col in range(degree + 1):\n",
    "      M[row].append(math.pow(inputs[row], col))\n",
    "  M = np.array(M)\n",
    "\n",
    "  outputs = np.array(outputs).reshape((degree+1, 1))\n",
    "  return np.matmul(np.linalg.inv(M), outputs)\n",
    "\n",
    "def pointSampledApprox(a, p):\n",
    "  degree = len(p) - 1\n",
    "  basis = []\n",
    "  for i in range(degree+1):\n",
    "    c = i / (degree+1)\n",
    "    a_shifted = lambda x: a(5.0 * (x - c))\n",
    "    inputs = [x / degree for x in range(degree+1)]\n",
    "    outputs = [a_shifted(x) for x in inputs]\n",
    "    basis.append(getPolyApprox(inputs, outputs))\n",
    "\n",
    "  B = np.column_stack(basis)\n",
    "  print(np.matmul(np.linalg.inv(B), np.array(p).reshape((degree+1, 1))))\n"
   ]
  },
  {
   "cell_type": "code",
   "execution_count": null,
   "metadata": {
    "colab": {
     "base_uri": "https://localhost:8080/"
    },
    "id": "fiUdhD7EEPxb",
    "outputId": "6e57a9d6-31b9-4445-8473-fd644cc57c5b"
   },
   "outputs": [
    {
     "name": "stdout",
     "output_type": "stream",
     "text": [
      "[[-2.47988103]\n",
      " [10.84523535]\n",
      " [-9.37800578]\n",
      " [-3.47771911]\n",
      " [ 5.89490843]]\n"
     ]
    }
   ],
   "source": [
    "p = getPolyApprox([0.0, 0.25, 0.5, 0.75, 1.0], [0.5, 1.0, 0.5, 0.0, 0.5])\n",
    "pointSampledApprox(lambda x: 1.0 / (1.0 + math.exp(-x)), p)"
   ]
  },
  {
   "cell_type": "markdown",
   "metadata": {
    "id": "6uvPXxgQf5pb"
   },
   "source": [
    "## Catalog of Approximations\n",
    "\n",
    "Can we make a catalog of neural networks that approximate common mathematical functions?\n",
    "\n",
    "* $f(x) = x$\n",
    "  * Maclaurin approx.\n",
    "    * Formula: $\\frac{1}{ha'(0)}(a(hx) - a(0))$\n",
    "    * Conditions: $h \\approx 0$, $a'(0) \\ne 0$\n",
    "* $f(x) = x^2$\n",
    "  * Maclaurin approx.\n",
    "    * $\\frac{1}{h^2 a''(0)} (a(-hx) -2a(0) + a(hx))$\n",
    "    * Conditions: $h \\approx 0$, $a''(0) \\ne 0$\n",
    "* $f(x) = \\sin(x)$\n",
    "  * Cubic Maclaurin approx. ($x - \\frac{1}{6}x^3$)\n",
    "    * Formula: $-56.393a(0) + 143.749a(0.5x) - 128.491a(x) + 41.135a(1.5x)$"
   ]
  },
  {
   "cell_type": "markdown",
   "metadata": {
    "id": "SPh35ur6hgj1"
   },
   "source": [
    "---\n",
    "\n",
    "# Discovering Functions Using SINDy\n",
    "\n",
    "Paper:\n",
    "Brunton, Steven L., et. al. \"Sparse Identification of Nonlinear Dynamics with Control (SINDYc).\" 2016. https://arxiv.org/abs/1605.06682.\n",
    "\n",
    "SINDy is a method for fitting functions to time data using linear regression. SINDy finds a best fit function of the form $f(x) = w_0 f_0(x) + w_1 f_1(x) + \\cdots + w_n f_n(x) + b$ for time data $(x_t, y_t)$. More precisely, it finds the coefficients $w_i$ and $b$ that optimize the approximation:\n",
    "\n",
    "$$ \\begin{bmatrix} y_0 \\\\ y_1 \\\\ \\vdots \\end{bmatrix} \\approx \\begin{bmatrix} f_0(x_0) & f_1(x_0) \\\\ f_0(x_1) & f_1(x_1) & \\cdots \\\\ \\vdots & \\vdots \\end{bmatrix} \\begin{bmatrix} w_0 \\\\ w_1 \\\\ \\vdots \\end{bmatrix} + b \\begin{bmatrix} 1 \\\\ 1 \\\\ \\vdots \\end{bmatrix}$$\n",
    "\n",
    "The approximation above is specifically for functions $f: \\mathbb{R} \\rightarrow \\mathbb{R}$, but it generalizes to data of arbitrary dimensions.\n",
    "\n",
    "We could use SINDy to fit functions based on input/output data from a trained neural network. The main two questions are:\n",
    "1. What is the best way to gather data from a trained neural network?\n",
    "2. What sets of functions $f_i$ can we use to give us useful information? The $f_i$ functions should be independent of each other otherwise there would be infinite best-fit models.\n",
    "\n",
    "If we took a SINDy approach to neural network compression, we would essentially ignore the actual neural network implementation and structure and just treat them as data-generating machines."
   ]
  },
  {
   "cell_type": "markdown",
   "metadata": {
    "id": "Mmetbo-rdIRi"
   },
   "source": [
    "## Fitting Polynomials\n",
    "\n",
    "An obvious choice of library functions is powers of the input ($x$, $x^2$, ...) which would give us polynomial models. We could then compare the resulting polynomial model with known polynomial approximations for common functions (e.g. Maclaurin series)."
   ]
  },
  {
   "cell_type": "code",
   "execution_count": null,
   "metadata": {
    "colab": {
     "base_uri": "https://localhost:8080/",
     "height": 282
    },
    "id": "FRyr2eJWVoGO",
    "outputId": "08333df0-ca2b-4d34-8094-be51cae2803a"
   },
   "outputs": [
    {
     "name": "stdout",
     "output_type": "stream",
     "text": [
      "Model: + 0.99x^0 + -0.98x^1 + 0.52x^2 + -0.18x^3 + 0.09x^4 + 0.00x^5\n"
     ]
    },
    {
     "data": {
      "image/png": "[encoded data removed]",
      "text/plain": [
       "<Figure size 432x288 with 1 Axes>"
      ]
     },
     "metadata": {
      "needs_background": "light",
      "tags": []
     },
     "output_type": "display_data"
    }
   ],
   "source": [
    "# Construct data\n",
    "f = lambda x: np.exp(-x)\n",
    "xdata = np.random.uniform(low=-1.0, high=1.0, size=[100])\n",
    "ydata = f(xdata) + np.random.normal(scale=0.08, size=[100])\n",
    "\n",
    "# Fit a fifth-degree polynomial with regression\n",
    "X = np.column_stack([xdata, xdata**2.0, xdata**3.0, xdata**4.0, xdata**5.0])\n",
    "reg = sklearn.linear_model.LinearRegression()\n",
    "reg.fit(X, ydata)\n",
    "\n",
    "# Print model\n",
    "print(\"Model:\", end=\"\")\n",
    "for c, b in zip([reg.intercept_]+list(reg.coef_), range(6)):\n",
    "  print(f\" + {c:.2f}x^{b}\", end=\"\")\n",
    "print()\n",
    "\n",
    "# Plot data and model predictions\n",
    "plt.axhline(color=\"black\"); plt.axvline(color=\"black\")\n",
    "plt.scatter(xdata, ydata)\n",
    "plt.scatter(xdata, reg.predict(X))\n",
    "plt.show()"
   ]
  },
  {
   "cell_type": "markdown",
   "metadata": {
    "id": "hqNmWz43fxXx"
   },
   "source": [
    "## Fitting Sinusoids\n",
    "\n",
    "Another obvious choice of library functions is sinusoids.\n",
    "\n",
    "For example, suppose we know that the data is approximately sinusoidal with angular frequency $\\omega$, then we could find a model of the form\n",
    "$$ r\\sin(\\omega x + \\psi) + b $$\n",
    "by using the library $\\{\\sin(\\omega x), \\cos(\\omega x)\\}$:\n",
    "\n",
    "$$ r \\sin(\\omega x + \\psi) + b = w_0\\sin(\\omega x) + w_1\\cos(\\omega x) + b $$\n",
    "\n",
    "We would just need to convert the cartesian coordinates $w_0, w_1$ into polar coordinates $r,\\psi$:\n",
    "\n",
    "$$ r = \\sqrt{w_0^2 + w_1^2} \\qquad \\psi = \\begin{cases} \\cos^{-1}(w_0/r) & w_1 \\ge 0 \\\\ 2\\pi - \\cos^{-1}(w_0/r) & w_1 < 0 \\end{cases} $$"
   ]
  },
  {
   "cell_type": "code",
   "execution_count": null,
   "metadata": {
    "colab": {
     "base_uri": "https://localhost:8080/",
     "height": 352
    },
    "id": "kaBtbUwa0em0",
    "outputId": "c70c144a-9cf6-4108-da58-7507bf084756"
   },
   "outputs": [
    {
     "name": "stdout",
     "output_type": "stream",
     "text": [
      "Model: 0.37sin(x) + 0.35cos(x) + 0.21\n",
      "Model: 0.51sin(x + 0.76) + 0.21\n",
      "Model R^2 value: 0.98\n",
      "<matplotlib.collections.PathCollection object at 0x7fd74b8980d0>\n",
      "<matplotlib.collections.PathCollection object at 0x7fd74b80f450>\n"
     ]
    },
    {
     "data": {
      "image/png": "[encoded data removed]",
      "text/plain": [
       "<Figure size 432x288 with 1 Axes>"
      ]
     },
     "metadata": {
      "needs_background": "light",
      "tags": []
     },
     "output_type": "display_data"
    }
   ],
   "source": [
    "# Construct data\n",
    "f = lambda x: 0.5*tf.sin(x + 0.79) + 0.2\n",
    "xdata = tf.random.uniform([100], minval=0.0, maxval=math.pi * 2.0)\n",
    "ydata = f(xdata) + tf.random.normal([100], stddev=0.05)\n",
    "\n",
    "# (x,y) -> (r,theta)\n",
    "def cart2polar(x, y):\n",
    "  r = math.sqrt(x**2.0 + y**2.0)\n",
    "  theta = math.acos(x/r) if y >= 0.0 else 2*math.pi - math.acos(x/r)\n",
    "  return [r,theta]\n",
    "\n",
    "# Fit regression against our basis {sin(x), cos(x)}\n",
    "# to get w0, w1, b\n",
    "X = np.column_stack([tf.sin(xdata), tf.cos(xdata)])\n",
    "reg = sklearn.linear_model.LinearRegression()\n",
    "reg.fit(X, ydata)\n",
    "w0, w1 = reg.coef_\n",
    "b = reg.intercept_\n",
    "\n",
    "# Output model equation in two different forms\n",
    "# Plot data and model predictions\n",
    "print(f\"Model: {w0:.2f}sin(x) + {w1:.2f}cos(x) + {b:.2f}\")\n",
    "r, theta = cart2polar(w0, w1)\n",
    "print(f\"Model: {r:.2f}sin(x + {theta:.2f}) + {b:.2f}\")\n",
    "print(f\"Model R^2 value: {reg.score(X, ydata):.2f}\")\n",
    "print(plt.scatter(xdata, ydata))\n",
    "print(plt.scatter(xdata, reg.predict(X)))"
   ]
  },
  {
   "cell_type": "markdown",
   "metadata": {
    "id": "x7ypzwuy3ks5"
   },
   "source": [
    "Alternatively, suppose we know our data is sinusoidal, but don't know the angular frequency $\\omega$:\n",
    "$$ f(x) = \\sin(\\omega x) $$\n",
    "To find $\\omega$, we could fit a model of the form:\n",
    "$$ w_1\\sin(x) + w_2\\sin(2x) + \\cdots + w_n\\sin(nx) $$\n",
    "For now, this technique will remain informal, but in the future, it should be grounded on Fourier approximations. The general idea is that coefficients corresponding to sine functions with angular frequency near $\\omega$ should be the largest coefficients. Based on the spread of the coefficients, we can interpolate to more precisely estimate the true value of $\\omega$.\n",
    "\n"
   ]
  },
  {
   "cell_type": "code",
   "execution_count": null,
   "metadata": {
    "colab": {
     "base_uri": "https://localhost:8080/",
     "height": 282
    },
    "id": "3YLoWS1I6OLx",
    "outputId": "5ec833cd-cc15-4dd8-cc23-b1aefc92003d"
   },
   "outputs": [
    {
     "name": "stdout",
     "output_type": "stream",
     "text": [
      "Closest frequency: 2.0\n"
     ]
    },
    {
     "data": {
      "image/png": "[encoded data removed]",
      "text/plain": [
       "<Figure size 432x288 with 1 Axes>"
      ]
     },
     "metadata": {
      "needs_background": "light",
      "tags": []
     },
     "output_type": "display_data"
    }
   ],
   "source": [
    "# Construct data\n",
    "f = lambda x: np.sin(2.1*x)\n",
    "xdata = tf.random.uniform([100], minval=0.0, maxval=math.pi * 2.0)\n",
    "ydata = f(xdata) + tf.random.normal([100], stddev=0.05)\n",
    "\n",
    "# Fit a regression using a basis of sinusoids\n",
    "X = np.column_stack([np.sin(n*0.5*xdata) for n in range(1,11)])\n",
    "reg = sklearn.linear_model.LinearRegression()\n",
    "reg.fit(X, ydata)\n",
    "\n",
    "# Find largest coefficient\n",
    "i_of_largest_coef = np.argmax(reg.coef_)\n",
    "print(\"Closest frequency:\", 0.5*(i_of_largest_coef+1))\n",
    "\n",
    "# Plot data and model predictions\n",
    "plt.axhline(color=\"black\"); plt.axvline(color=\"black\")\n",
    "plt.scatter(xdata, ydata)\n",
    "plt.scatter(xdata, reg.predict(X))\n",
    "plt.show()"
   ]
  },
  {
   "cell_type": "markdown",
   "metadata": {
    "id": "K7cblEvy49nJ"
   },
   "source": [
    "---\n",
    "\n",
    "# Approximating an Arbitrary Function using Convolution\n",
    "\n",
    "This section describes a neural network configuration that can approximate a real-valued function $\\mathbb{R} \\rightarrow \\mathbb{R}$ on a certain domain. The structure is inspired by signal convolution in linear systems, but it is also reminiscent of a fuzzy logic system. [Implementation](#scrollTo=x5qhSvWBw4bI) provides code for exploration and testing.\n"
   ]
  },
  {
   "cell_type": "code",
   "execution_count": 4,
   "metadata": {
    "colab": {
     "base_uri": "https://localhost:8080/",
     "height": 272
    },
    "id": "H2P0q-x8JUQc",
    "outputId": "7e3bf013-8dfb-45d0-8e88-d76e51fd37ea"
   },
   "outputs": [
    {
     "data": {
      "image/svg+xml": [
       "<?xml version=\"1.0\" encoding=\"UTF-8\" standalone=\"no\"?>\n",
       "<!DOCTYPE svg PUBLIC \"-//W3C//DTD SVG 1.1//EN\"\n",
       " \"http://www.w3.org/Graphics/SVG/1.1/DTD/svg11.dtd\">\n",
       "<!-- Generated by graphviz version 2.43.0 (0)\n",
       " -->\n",
       "<!-- Title: %3 Pages: 1 -->\n",
       "<svg width=\"422pt\" height=\"188pt\"\n",
       " viewBox=\"0.00 0.00 422.00 188.00\" xmlns=\"http://www.w3.org/2000/svg\" xmlns:xlink=\"http://www.w3.org/1999/xlink\">\n",
       "<g id=\"graph0\" class=\"graph\" transform=\"scale(1 1) rotate(0) translate(4 184)\">\n",
       "<title>%3</title>\n",
       "<polygon fill=\"white\" stroke=\"transparent\" points=\"-4,4 -4,-184 418,-184 418,4 -4,4\"/>\n",
       "<!-- i -->\n",
       "<g id=\"node1\" class=\"node\">\n",
       "<title>i</title>\n",
       "<ellipse fill=\"none\" stroke=\"black\" cx=\"207\" cy=\"-18\" rx=\"27\" ry=\"18\"/>\n",
       "<text text-anchor=\"middle\" x=\"207\" y=\"-14.3\" font-family=\"Times,serif\" font-size=\"14.00\">x</text>\n",
       "</g>\n",
       "<!-- o -->\n",
       "<g id=\"node2\" class=\"node\">\n",
       "<title>o</title>\n",
       "<ellipse fill=\"none\" stroke=\"black\" cx=\"207\" cy=\"-162\" rx=\"27\" ry=\"18\"/>\n",
       "<text text-anchor=\"middle\" x=\"207\" y=\"-158.3\" font-family=\"Times,serif\" font-size=\"14.00\">y</text>\n",
       "</g>\n",
       "<!-- a -->\n",
       "<g id=\"node3\" class=\"node\">\n",
       "<title>a</title>\n",
       "<ellipse fill=\"none\" stroke=\"black\" cx=\"27\" cy=\"-90\" rx=\"27\" ry=\"18\"/>\n",
       "</g>\n",
       "<!-- o&#45;&#45;a -->\n",
       "<g id=\"edge1\" class=\"edge\">\n",
       "<title>o&#45;&#45;a</title>\n",
       "<path fill=\"none\" stroke=\"black\" d=\"M183.31,-153C154.56,-143.13 104.77,-125.51 63,-108 58.16,-105.97 53.01,-103.65 48.18,-101.38\"/>\n",
       "</g>\n",
       "<!-- b -->\n",
       "<g id=\"node4\" class=\"node\">\n",
       "<title>b</title>\n",
       "<ellipse fill=\"none\" stroke=\"black\" cx=\"99\" cy=\"-90\" rx=\"27\" ry=\"18\"/>\n",
       "</g>\n",
       "<!-- o&#45;&#45;b -->\n",
       "<g id=\"edge2\" class=\"edge\">\n",
       "<title>o&#45;&#45;b</title>\n",
       "<path fill=\"none\" stroke=\"black\" d=\"M188.19,-148.81C168.37,-135.96 137.34,-115.85 117.6,-103.05\"/>\n",
       "</g>\n",
       "<!-- c -->\n",
       "<g id=\"node5\" class=\"node\">\n",
       "<title>c</title>\n",
       "<ellipse fill=\"none\" stroke=\"black\" cx=\"171\" cy=\"-90\" rx=\"27\" ry=\"18\"/>\n",
       "</g>\n",
       "<!-- o&#45;&#45;c -->\n",
       "<g id=\"edge3\" class=\"edge\">\n",
       "<title>o&#45;&#45;c</title>\n",
       "<path fill=\"none\" stroke=\"black\" d=\"M198.65,-144.76C192.83,-133.46 185.11,-118.44 179.3,-107.15\"/>\n",
       "</g>\n",
       "<!-- d -->\n",
       "<g id=\"node6\" class=\"node\">\n",
       "<title>d</title>\n",
       "<ellipse fill=\"none\" stroke=\"black\" cx=\"243\" cy=\"-90\" rx=\"27\" ry=\"18\"/>\n",
       "</g>\n",
       "<!-- o&#45;&#45;d -->\n",
       "<g id=\"edge4\" class=\"edge\">\n",
       "<title>o&#45;&#45;d</title>\n",
       "<path fill=\"none\" stroke=\"black\" d=\"M215.35,-144.76C221.17,-133.46 228.89,-118.44 234.7,-107.15\"/>\n",
       "</g>\n",
       "<!-- e -->\n",
       "<g id=\"node7\" class=\"node\">\n",
       "<title>e</title>\n",
       "<ellipse fill=\"none\" stroke=\"black\" cx=\"315\" cy=\"-90\" rx=\"27\" ry=\"18\"/>\n",
       "</g>\n",
       "<!-- o&#45;&#45;e -->\n",
       "<g id=\"edge5\" class=\"edge\">\n",
       "<title>o&#45;&#45;e</title>\n",
       "<path fill=\"none\" stroke=\"black\" d=\"M225.81,-148.81C245.63,-135.96 276.66,-115.85 296.4,-103.05\"/>\n",
       "</g>\n",
       "<!-- f -->\n",
       "<g id=\"node8\" class=\"node\">\n",
       "<title>f</title>\n",
       "<ellipse fill=\"none\" stroke=\"black\" cx=\"387\" cy=\"-90\" rx=\"27\" ry=\"18\"/>\n",
       "</g>\n",
       "<!-- o&#45;&#45;f -->\n",
       "<g id=\"edge6\" class=\"edge\">\n",
       "<title>o&#45;&#45;f</title>\n",
       "<path fill=\"none\" stroke=\"black\" d=\"M230.69,-153C259.44,-143.13 309.23,-125.51 351,-108 355.84,-105.97 360.99,-103.65 365.82,-101.38\"/>\n",
       "</g>\n",
       "<!-- a&#45;&#45;i -->\n",
       "<g id=\"edge7\" class=\"edge\">\n",
       "<title>a&#45;&#45;i</title>\n",
       "<path fill=\"none\" stroke=\"black\" d=\"M48.18,-78.62C53.01,-76.35 58.16,-74.03 63,-72 104.77,-54.49 154.56,-36.87 183.31,-27\"/>\n",
       "</g>\n",
       "<!-- b&#45;&#45;i -->\n",
       "<g id=\"edge8\" class=\"edge\">\n",
       "<title>b&#45;&#45;i</title>\n",
       "<path fill=\"none\" stroke=\"black\" d=\"M117.81,-76.81C137.63,-63.96 168.66,-43.85 188.4,-31.05\"/>\n",
       "</g>\n",
       "<!-- c&#45;&#45;i -->\n",
       "<g id=\"edge9\" class=\"edge\">\n",
       "<title>c&#45;&#45;i</title>\n",
       "<path fill=\"none\" stroke=\"black\" d=\"M179.35,-72.76C185.17,-61.46 192.89,-46.44 198.7,-35.15\"/>\n",
       "</g>\n",
       "<!-- d&#45;&#45;i -->\n",
       "<g id=\"edge10\" class=\"edge\">\n",
       "<title>d&#45;&#45;i</title>\n",
       "<path fill=\"none\" stroke=\"black\" d=\"M234.65,-72.76C228.83,-61.46 221.11,-46.44 215.3,-35.15\"/>\n",
       "</g>\n",
       "<!-- e&#45;&#45;i -->\n",
       "<g id=\"edge11\" class=\"edge\">\n",
       "<title>e&#45;&#45;i</title>\n",
       "<path fill=\"none\" stroke=\"black\" d=\"M296.19,-76.81C276.37,-63.96 245.34,-43.85 225.6,-31.05\"/>\n",
       "</g>\n",
       "<!-- f&#45;&#45;i -->\n",
       "<g id=\"edge12\" class=\"edge\">\n",
       "<title>f&#45;&#45;i</title>\n",
       "<path fill=\"none\" stroke=\"black\" d=\"M365.82,-78.62C360.99,-76.35 355.84,-74.03 351,-72 309.23,-54.49 259.44,-36.87 230.69,-27\"/>\n",
       "</g>\n",
       "</g>\n",
       "</svg>\n"
      ],
      "text/plain": [
       "<graphviz.dot.Graph at 0x7febfcaa6340>"
      ]
     },
     "execution_count": 4,
     "metadata": {},
     "output_type": "execute_result"
    }
   ],
   "source": [
    "g = gv.Graph()\n",
    "g.node_attr[\"label\"] = \"\"\n",
    "g.node(\"i\", \"x\")\n",
    "g.node(\"o\", \"y\")\n",
    "g.edges([\"oa\", \"ob\", \"oc\", \"od\", \"oe\", \"of\"])\n",
    "g.edges([\"ai\", \"bi\", \"ci\", \"di\", \"ei\", \"fi\"])\n",
    "g"
   ]
  },
  {
   "cell_type": "markdown",
   "metadata": {
    "id": "x1MttPUnA-Ku"
   },
   "source": [
    "The network has one input node, one output node, and one hidden layer. Let $h$ denote the number of nodes in the hidden layer. The approximation becomes better as $h$ increases.\n",
    "\n",
    "Broadly, this network approximates a function by partitioning the domain of interest into $h$ equally-sized segments. The goal for any input is to get one particular node in the hidden layer to activate while the rest are deactivated. The activated node should correspond to the segment in which the input resides. The final set of weights can then easily be tuned so that the final output corresponds to the activated node according to the function being approximated.\n",
    "\n",
    "Intuitively, each hidden node \"detects\" when the input is close to a particular value. To accomplish this, an activation function $a$ should be used such that:\n",
    "\n",
    "$$a(0) = 1$$\n",
    "$$\\lim_{x \\rightarrow \\infty} a(x) = \\lim_{x \\rightarrow -\\infty} a(x) = 0$$\n",
    "\n",
    "For example, a gaussian or \"spike\" curve will suffice. Now suppose the $i$-th hidden node needs to detect when the input is near $x_i$. Then the activation $v_i$ of that node should be:\n",
    "\n",
    "$$ v_i = a(wx -wx_i) $$\n",
    "\n",
    "The weight $w$ can be varied, but the bias needs to be set so that $v_i = 1$ when $x = x_i$.\n",
    "\n",
    "If we are approximating a function $f$, then the output $y$ is given by:\n",
    "$$ y = \\sum_{i=1}^{h} v_i f(x_i) $$"
   ]
  },
  {
   "cell_type": "markdown",
   "metadata": {
    "id": "kpJhTEJEPVUv"
   },
   "source": [
    "The neural network is essentially just calculating $f$ by approximating the following equation:\n",
    "\n",
    "$$ f(x) = \\int_{a}^{b} f(\\tau)\\ \\delta(x - \\tau)\\ d\\tau \\approx \\sum_{i=1}^{h} f(i \\Delta)\\ r(x - i \\Delta) $$\n",
    "\n",
    "where $(a,b)$ is our domain of interest, $\\Delta = (b - a)/h$, $r(0) = 1$, and $r(x) = 0$ for $x \\ge h$ or $x \\le -h$.\n",
    "\n",
    "If we substitute the computation for $v_i$ into the equation for $y$, we can see the similarity:\n",
    "\n",
    "$$ y = \\sum_{i=1}^{h} f(x_i)\\ a(wx - wx_i)$$\n",
    "\n",
    "If we let $x_i = i\\Delta$ and $a(wt) = r(t)$, then the correspondence becomes complete.\n",
    "\n",
    "$$ y = \\sum_{i=1}^{h} f(i\\Delta)\\ a(w \\cdot (x - i\\Delta))$$"
   ]
  },
  {
   "cell_type": "markdown",
   "metadata": {
    "id": "x5qhSvWBw4bI"
   },
   "source": [
    "## Implementation\n",
    "\n",
    "Currently, the function being approximated is $0.5 \\sin(\\pi x)$. Change [this cell](#scrollTo=AKMcQ9OXEPdR) if you want to approximate a different function.\n",
    "\n",
    "[This cell](#scrollTo=zXPo8b9yndcO) manually sets the weights and biases of the network to the values prescribed by the theory. These are not guarenteed to be the best values (training the network afterwards does give improvements), but gives a good starting point.\n",
    "\n",
    "If the weights and biases are randomly initialized, the network probably won't learn on its own to use this approximation method. It just serves as a demonstration of how a network with one hidden layer could theoretically learn any real valued function."
   ]
  },
  {
   "cell_type": "code",
   "execution_count": null,
   "metadata": {
    "id": "ZR1yszCaDnkB"
   },
   "outputs": [],
   "source": [
    "# Constructs a new model called \"sinModel\"\n",
    "# MyModel(h) constructs the 3-layer network described above with h\n",
    "# nodes in the hidden layer.\n",
    "class MyModel(tf.keras.Model):\n",
    "  def __init__(self, h, **kwargs):\n",
    "    super().__init__(**kwargs)\n",
    "    #self.a = lambda x: tf.exp(-x**2)   # the gaussian activation function\n",
    "    self.a = lambda x: tf.maximum(1-tf.abs(x), 0)  # sawtooth activation\n",
    "    self.w1 = tf.Variable(tf.random.uniform(shape=[1, h]))\n",
    "    self.b1 = tf.Variable(tf.random.uniform(shape=[1, h]))\n",
    "    self.w2 = tf.Variable(tf.random.uniform(shape=[h, 1]))\n",
    "    self.b2 = tf.Variable(tf.random.uniform(shape=[1, 1]))\n",
    "  def hl_act(self, i, x, **kwargs):\n",
    "    w1 = tf.reshape(self.w1[0,i], [1, 1])\n",
    "    b1 = tf.reshape(self.b1[0,i], [1, 1])\n",
    "    return self.a(tf.matmul(x, w1) + b1)\n",
    "  def __call__(self, x, **kwargs):\n",
    "    hiddenlayer = self.a(tf.matmul(x, self.w1) + self.b1)\n",
    "    return tf.matmul(hiddenlayer, self.w2) + self.b2\n",
    "\n",
    "sinModel = MyModel(6)"
   ]
  },
  {
   "cell_type": "code",
   "execution_count": null,
   "metadata": {
    "id": "AKMcQ9OXEPdR"
   },
   "outputs": [],
   "source": [
    "# The function we want to approximate.\n",
    "# In this case, 0.5sin(pi*x)\n",
    "def f(x):\n",
    "  return 0.5 * tf.sin(math.pi * x)"
   ]
  },
  {
   "cell_type": "code",
   "execution_count": null,
   "metadata": {
    "colab": {
     "base_uri": "https://localhost:8080/"
    },
    "id": "zXPo8b9yndcO",
    "outputId": "3c5c8556-3045-4e08-a546-c4605b1f576f"
   },
   "outputs": [
    {
     "data": {
      "text/plain": [
       "<tf.Variable 'UnreadVariable' shape=(1, 1) dtype=float32, numpy=array([[0.]], dtype=float32)>"
      ]
     },
     "execution_count": 23,
     "metadata": {
      "tags": []
     },
     "output_type": "execute_result"
    }
   ],
   "source": [
    "# Manually set the weights and biases to approximate f on\n",
    "# the interval [0,1]. Six sample values are used.\n",
    "\n",
    "parts = tf.constant([[0.0, 0.2, 0.4, 0.6, 0.8, 1.0]])\n",
    "w = 5.0\n",
    "\n",
    "sinModel = MyModel(6)\n",
    "sinModel.w1.assign(tf.constant([[w, w, w, w, w, w]]))\n",
    "sinModel.b1.assign(parts * -w)\n",
    "sinModel.w2.assign(f(tf.reshape(parts, (6, 1))))\n",
    "sinModel.b2.assign(tf.zeros(shape=(1,1)))"
   ]
  },
  {
   "cell_type": "code",
   "execution_count": null,
   "metadata": {
    "colab": {
     "base_uri": "https://localhost:8080/",
     "height": 265
    },
    "id": "9BCjyzJMwEa4",
    "outputId": "e99dc62b-f156-4b13-c399-26c0c83ee1f0"
   },
   "outputs": [
    {
     "data": {
      "image/png": "[encoded data removed]",
      "text/plain": [
       "<Figure size 432x288 with 1 Axes>"
      ]
     },
     "metadata": {
      "needs_background": "light",
      "tags": []
     },
     "output_type": "display_data"
    }
   ],
   "source": [
    "# Test: plot the model approximation and the actual function f\n",
    "x = tf.random.uniform((100, 1, 1), minval=0.0, maxval=1.0)\n",
    "y = f(x)\n",
    "y_obs = sinModel(x)\n",
    "plt.scatter(x, y, c=\"black\", s=3)\n",
    "plt.scatter(x, y_obs, c=\"red\", s=3)\n",
    "plt.show()"
   ]
  },
  {
   "cell_type": "code",
   "execution_count": null,
   "metadata": {
    "colab": {
     "base_uri": "https://localhost:8080/"
    },
    "id": "8a7YWF7kuVwi",
    "outputId": "a2f6ab76-ff38-4b0e-d0d9-c8d05610799b"
   },
   "outputs": [
    {
     "data": {
      "text/plain": [
       "<tensorflow.python.keras.callbacks.History at 0x7fa45ecaebe0>"
      ]
     },
     "execution_count": 25,
     "metadata": {
      "tags": []
     },
     "output_type": "execute_result"
    }
   ],
   "source": [
    "# Train the model\n",
    "sinModel.compile(run_eagerly=False,\n",
    "                optimizer=tf.keras.optimizers.SGD(learning_rate=0.01),\n",
    "                loss=tf.keras.losses.mean_squared_error)\n",
    "sinModel.fit(x, y, epochs=1000, batch_size=100, verbose=0)"
   ]
  },
  {
   "cell_type": "code",
   "execution_count": null,
   "metadata": {
    "colab": {
     "base_uri": "https://localhost:8080/"
    },
    "id": "W5KmpevavagN",
    "outputId": "c99f7be3-bd9f-4dec-826f-9af33c641958"
   },
   "outputs": [
    {
     "name": "stdout",
     "output_type": "stream",
     "text": [
      "<tf.Variable 'Variable:0' shape=(1, 6) dtype=float32, numpy=\n",
      "array([[5.       , 4.999203 , 4.9981747, 5.000848 , 5.0031466, 5.       ]],\n",
      "      dtype=float32)>\n"
     ]
    }
   ],
   "source": [
    "# print weights and biases\n",
    "print(sinModel.w1)"
   ]
  },
  {
   "cell_type": "code",
   "execution_count": null,
   "metadata": {
    "colab": {
     "base_uri": "https://localhost:8080/",
     "height": 268
    },
    "id": "3TM7e1I8-jEv",
    "outputId": "e2da51ba-9fb0-4995-8e26-371177c382e5"
   },
   "outputs": [
    {
     "data": {
      "image/png": "[encoded data removed]",
      "text/plain": [
       "<Figure size 432x288 with 1 Axes>"
      ]
     },
     "metadata": {
      "needs_background": "light",
      "tags": []
     },
     "output_type": "display_data"
    }
   ],
   "source": [
    "# plot the activation of the 0-th hidden node\n",
    "x = tf.random.uniform((100, 1, 1), minval=0.0, maxval=1.0)\n",
    "y = f(x)\n",
    "y_obs = sinModel.hl_act(0, x)\n",
    "\n",
    "plt.scatter(x, y, c=\"black\", s=3)\n",
    "plt.scatter(x, y_obs, c=\"red\", s=3)\n",
    "plt.show()"
   ]
  },
  {
   "cell_type": "markdown",
   "metadata": {
    "id": "TkR9VW56xEpj"
   },
   "source": [
    "## 4-layer version\n",
    "\n",
    "Commonly used activation functions like sigmoid and the rectified linear don't usually tend toward zero on both ends. However, inserting another hidden layer allows us to use sigmoidal activation functions.\n",
    "\n",
    "Broadly, the purpose of the nodes in the second hidden layer is the same as the hidden nodes in the 3-layer version: to activate when the input is close to some fixed value. The nodes in the first hidden layer should be zero, when read from left to right, until some node where the values switch to one.\n",
    "\n",
    "Speaking of the hidden layers in terms of signals, the second hidden layer is the \"derivative\" of the first, and the feed-forward calculation between them can be compared to convolving the first signal with the $\\delta$ signal."
   ]
  },
  {
   "cell_type": "code",
   "execution_count": null,
   "metadata": {
    "colab": {
     "base_uri": "https://localhost:8080/",
     "height": 368
    },
    "id": "yLpzCW_Y9ZHy",
    "outputId": "8e14d8d5-e32a-4cd1-9f2c-77cec33c9fce"
   },
   "outputs": [
    {
     "data": {
      "image/svg+xml": [
       "<?xml version=\"1.0\" encoding=\"UTF-8\" standalone=\"no\"?>\n",
       "<!DOCTYPE svg PUBLIC \"-//W3C//DTD SVG 1.1//EN\"\n",
       " \"http://www.w3.org/Graphics/SVG/1.1/DTD/svg11.dtd\">\n",
       "<!-- Generated by graphviz version 2.40.1 (20161225.0304)\n",
       " -->\n",
       "<!-- Title: %3 Pages: 1 -->\n",
       "<svg width=\"422pt\" height=\"260pt\"\n",
       " viewBox=\"0.00 0.00 422.00 260.00\" xmlns=\"http://www.w3.org/2000/svg\" xmlns:xlink=\"http://www.w3.org/1999/xlink\">\n",
       "<g id=\"graph0\" class=\"graph\" transform=\"scale(1 1) rotate(0) translate(4 256)\">\n",
       "<title>%3</title>\n",
       "<polygon fill=\"#ffffff\" stroke=\"transparent\" points=\"-4,4 -4,-256 418,-256 418,4 -4,4\"/>\n",
       "<!-- i -->\n",
       "<g id=\"node1\" class=\"node\">\n",
       "<title>i</title>\n",
       "<ellipse fill=\"none\" stroke=\"#000000\" cx=\"207\" cy=\"-18\" rx=\"27\" ry=\"18\"/>\n",
       "<text text-anchor=\"middle\" x=\"207\" y=\"-14.3\" font-family=\"Times,serif\" font-size=\"14.00\" fill=\"#000000\">x</text>\n",
       "</g>\n",
       "<!-- o -->\n",
       "<g id=\"node2\" class=\"node\">\n",
       "<title>o</title>\n",
       "<ellipse fill=\"none\" stroke=\"#000000\" cx=\"207\" cy=\"-234\" rx=\"27\" ry=\"18\"/>\n",
       "<text text-anchor=\"middle\" x=\"207\" y=\"-230.3\" font-family=\"Times,serif\" font-size=\"14.00\" fill=\"#000000\">y</text>\n",
       "</g>\n",
       "<!-- a -->\n",
       "<g id=\"node5\" class=\"node\">\n",
       "<title>a</title>\n",
       "<ellipse fill=\"none\" stroke=\"#000000\" cx=\"27\" cy=\"-162\" rx=\"27\" ry=\"18\"/>\n",
       "<text text-anchor=\"middle\" x=\"27\" y=\"-158.3\" font-family=\"Times,serif\" font-size=\"14.00\" fill=\"#000000\">0</text>\n",
       "</g>\n",
       "<!-- o&#45;&#45;a -->\n",
       "<g id=\"edge1\" class=\"edge\">\n",
       "<title>o&#45;&#45;a</title>\n",
       "<path fill=\"none\" stroke=\"#000000\" d=\"M182.7416,-225.7783C153.869,-215.7927 104.3615,-198.0365 63,-180 58.2601,-177.9331 53.2525,-175.5571 48.5278,-173.2234\"/>\n",
       "</g>\n",
       "<!-- b -->\n",
       "<g id=\"node6\" class=\"node\">\n",
       "<title>b</title>\n",
       "<ellipse fill=\"none\" stroke=\"#000000\" cx=\"99\" cy=\"-162\" rx=\"27\" ry=\"18\"/>\n",
       "<text text-anchor=\"middle\" x=\"99\" y=\"-158.3\" font-family=\"Times,serif\" font-size=\"14.00\" fill=\"#000000\">0</text>\n",
       "</g>\n",
       "<!-- o&#45;&#45;b -->\n",
       "<g id=\"edge2\" class=\"edge\">\n",
       "<title>o&#45;&#45;b</title>\n",
       "<path fill=\"none\" stroke=\"#000000\" d=\"M187.6918,-221.1278C168.0337,-208.0225 137.7386,-187.8257 118.1411,-174.7607\"/>\n",
       "</g>\n",
       "<!-- d -->\n",
       "<g id=\"node7\" class=\"node\">\n",
       "<title>d</title>\n",
       "<ellipse fill=\"none\" stroke=\"#000000\" cx=\"243\" cy=\"-162\" rx=\"27\" ry=\"18\"/>\n",
       "<text text-anchor=\"middle\" x=\"243\" y=\"-158.3\" font-family=\"Times,serif\" font-size=\"14.00\" fill=\"#000000\">0</text>\n",
       "</g>\n",
       "<!-- o&#45;&#45;d -->\n",
       "<g id=\"edge4\" class=\"edge\">\n",
       "<title>o&#45;&#45;d</title>\n",
       "<path fill=\"none\" stroke=\"#000000\" d=\"M215.7146,-216.5708C221.3747,-205.2506 228.7216,-190.5568 234.3657,-179.2687\"/>\n",
       "</g>\n",
       "<!-- e -->\n",
       "<g id=\"node8\" class=\"node\">\n",
       "<title>e</title>\n",
       "<ellipse fill=\"none\" stroke=\"#000000\" cx=\"315\" cy=\"-162\" rx=\"27\" ry=\"18\"/>\n",
       "<text text-anchor=\"middle\" x=\"315\" y=\"-158.3\" font-family=\"Times,serif\" font-size=\"14.00\" fill=\"#000000\">0</text>\n",
       "</g>\n",
       "<!-- o&#45;&#45;e -->\n",
       "<g id=\"edge5\" class=\"edge\">\n",
       "<title>o&#45;&#45;e</title>\n",
       "<path fill=\"none\" stroke=\"#000000\" d=\"M226.3082,-221.1278C245.9663,-208.0225 276.2614,-187.8257 295.8589,-174.7607\"/>\n",
       "</g>\n",
       "<!-- f -->\n",
       "<g id=\"node9\" class=\"node\">\n",
       "<title>f</title>\n",
       "<ellipse fill=\"none\" stroke=\"#000000\" cx=\"387\" cy=\"-162\" rx=\"27\" ry=\"18\"/>\n",
       "<text text-anchor=\"middle\" x=\"387\" y=\"-158.3\" font-family=\"Times,serif\" font-size=\"14.00\" fill=\"#000000\">0</text>\n",
       "</g>\n",
       "<!-- o&#45;&#45;f -->\n",
       "<g id=\"edge6\" class=\"edge\">\n",
       "<title>o&#45;&#45;f</title>\n",
       "<path fill=\"none\" stroke=\"#000000\" d=\"M231.2584,-225.7783C260.131,-215.7927 309.6385,-198.0365 351,-180 355.7399,-177.9331 360.7475,-175.5571 365.4722,-173.2234\"/>\n",
       "</g>\n",
       "<!-- c -->\n",
       "<g id=\"node13\" class=\"node\">\n",
       "<title>c</title>\n",
       "<ellipse fill=\"none\" stroke=\"#000000\" cx=\"171\" cy=\"-162\" rx=\"27\" ry=\"18\"/>\n",
       "<text text-anchor=\"middle\" x=\"171\" y=\"-158.3\" font-family=\"Times,serif\" font-size=\"14.00\" fill=\"#000000\">1</text>\n",
       "</g>\n",
       "<!-- o&#45;&#45;c -->\n",
       "<g id=\"edge3\" class=\"edge\">\n",
       "<title>o&#45;&#45;c</title>\n",
       "<path fill=\"none\" stroke=\"#000000\" d=\"M198.2854,-216.5708C192.6253,-205.2506 185.2784,-190.5568 179.6343,-179.2687\"/>\n",
       "</g>\n",
       "<!-- u -->\n",
       "<g id=\"node3\" class=\"node\">\n",
       "<title>u</title>\n",
       "<ellipse fill=\"none\" stroke=\"#000000\" cx=\"63\" cy=\"-90\" rx=\"27\" ry=\"18\"/>\n",
       "<text text-anchor=\"middle\" x=\"63\" y=\"-86.3\" font-family=\"Times,serif\" font-size=\"14.00\" fill=\"#000000\">0</text>\n",
       "</g>\n",
       "<!-- u&#45;&#45;i -->\n",
       "<g id=\"edge17\" class=\"edge\">\n",
       "<title>u&#45;&#45;i</title>\n",
       "<path fill=\"none\" stroke=\"#000000\" d=\"M84.8705,-79.0647C112.0934,-65.4533 158.297,-42.3515 185.3955,-28.8022\"/>\n",
       "</g>\n",
       "<!-- v -->\n",
       "<g id=\"node4\" class=\"node\">\n",
       "<title>v</title>\n",
       "<ellipse fill=\"none\" stroke=\"#000000\" cx=\"135\" cy=\"-90\" rx=\"27\" ry=\"18\"/>\n",
       "<text text-anchor=\"middle\" x=\"135\" y=\"-86.3\" font-family=\"Times,serif\" font-size=\"14.00\" fill=\"#000000\">0</text>\n",
       "</g>\n",
       "<!-- v&#45;&#45;i -->\n",
       "<g id=\"edge18\" class=\"edge\">\n",
       "<title>v&#45;&#45;i</title>\n",
       "<path fill=\"none\" stroke=\"#000000\" d=\"M150.2693,-74.7307C162.488,-62.512 179.5398,-45.4602 191.7527,-33.2473\"/>\n",
       "</g>\n",
       "<!-- a&#45;&#45;u -->\n",
       "<g id=\"edge7\" class=\"edge\">\n",
       "<title>a&#45;&#45;u</title>\n",
       "<path fill=\"none\" stroke=\"#000000\" d=\"M35.7146,-144.5708C41.3747,-133.2506 48.7216,-118.5568 54.3657,-107.2687\"/>\n",
       "</g>\n",
       "<!-- b&#45;&#45;u -->\n",
       "<g id=\"edge8\" class=\"edge\">\n",
       "<title>b&#45;&#45;u</title>\n",
       "<path fill=\"none\" stroke=\"#000000\" d=\"M90.2854,-144.5708C84.6253,-133.2506 77.2784,-118.5568 71.6343,-107.2687\"/>\n",
       "</g>\n",
       "<!-- b&#45;&#45;v -->\n",
       "<g id=\"edge9\" class=\"edge\">\n",
       "<title>b&#45;&#45;v</title>\n",
       "<path fill=\"none\" stroke=\"#000000\" d=\"M107.7146,-144.5708C113.3747,-133.2506 120.7216,-118.5568 126.3657,-107.2687\"/>\n",
       "</g>\n",
       "<!-- w -->\n",
       "<g id=\"node10\" class=\"node\">\n",
       "<title>w</title>\n",
       "<ellipse fill=\"none\" stroke=\"#000000\" cx=\"207\" cy=\"-90\" rx=\"27\" ry=\"18\"/>\n",
       "<text text-anchor=\"middle\" x=\"207\" y=\"-86.3\" font-family=\"Times,serif\" font-size=\"14.00\" fill=\"#000000\">1</text>\n",
       "</g>\n",
       "<!-- d&#45;&#45;w -->\n",
       "<g id=\"edge12\" class=\"edge\">\n",
       "<title>d&#45;&#45;w</title>\n",
       "<path fill=\"none\" stroke=\"#000000\" d=\"M234.2854,-144.5708C228.6253,-133.2506 221.2784,-118.5568 215.6343,-107.2687\"/>\n",
       "</g>\n",
       "<!-- x -->\n",
       "<g id=\"node11\" class=\"node\">\n",
       "<title>x</title>\n",
       "<ellipse fill=\"none\" stroke=\"#000000\" cx=\"279\" cy=\"-90\" rx=\"27\" ry=\"18\"/>\n",
       "<text text-anchor=\"middle\" x=\"279\" y=\"-86.3\" font-family=\"Times,serif\" font-size=\"14.00\" fill=\"#000000\">1</text>\n",
       "</g>\n",
       "<!-- d&#45;&#45;x -->\n",
       "<g id=\"edge13\" class=\"edge\">\n",
       "<title>d&#45;&#45;x</title>\n",
       "<path fill=\"none\" stroke=\"#000000\" d=\"M251.7146,-144.5708C257.3747,-133.2506 264.7216,-118.5568 270.3657,-107.2687\"/>\n",
       "</g>\n",
       "<!-- e&#45;&#45;x -->\n",
       "<g id=\"edge14\" class=\"edge\">\n",
       "<title>e&#45;&#45;x</title>\n",
       "<path fill=\"none\" stroke=\"#000000\" d=\"M306.2854,-144.5708C300.6253,-133.2506 293.2784,-118.5568 287.6343,-107.2687\"/>\n",
       "</g>\n",
       "<!-- y -->\n",
       "<g id=\"node12\" class=\"node\">\n",
       "<title>y</title>\n",
       "<ellipse fill=\"none\" stroke=\"#000000\" cx=\"351\" cy=\"-90\" rx=\"27\" ry=\"18\"/>\n",
       "<text text-anchor=\"middle\" x=\"351\" y=\"-86.3\" font-family=\"Times,serif\" font-size=\"14.00\" fill=\"#000000\">1</text>\n",
       "</g>\n",
       "<!-- e&#45;&#45;y -->\n",
       "<g id=\"edge15\" class=\"edge\">\n",
       "<title>e&#45;&#45;y</title>\n",
       "<path fill=\"none\" stroke=\"#000000\" d=\"M323.7146,-144.5708C329.3747,-133.2506 336.7216,-118.5568 342.3657,-107.2687\"/>\n",
       "</g>\n",
       "<!-- f&#45;&#45;y -->\n",
       "<g id=\"edge16\" class=\"edge\">\n",
       "<title>f&#45;&#45;y</title>\n",
       "<path fill=\"none\" stroke=\"#000000\" d=\"M378.2854,-144.5708C372.6253,-133.2506 365.2784,-118.5568 359.6343,-107.2687\"/>\n",
       "</g>\n",
       "<!-- w&#45;&#45;i -->\n",
       "<g id=\"edge19\" class=\"edge\">\n",
       "<title>w&#45;&#45;i</title>\n",
       "<path fill=\"none\" stroke=\"#000000\" d=\"M207,-71.8314C207,-61 207,-47.2876 207,-36.4133\"/>\n",
       "</g>\n",
       "<!-- x&#45;&#45;i -->\n",
       "<g id=\"edge20\" class=\"edge\">\n",
       "<title>x&#45;&#45;i</title>\n",
       "<path fill=\"none\" stroke=\"#000000\" d=\"M263.7307,-74.7307C251.512,-62.512 234.4602,-45.4602 222.2473,-33.2473\"/>\n",
       "</g>\n",
       "<!-- y&#45;&#45;i -->\n",
       "<g id=\"edge21\" class=\"edge\">\n",
       "<title>y&#45;&#45;i</title>\n",
       "<path fill=\"none\" stroke=\"#000000\" d=\"M329.1295,-79.0647C301.9066,-65.4533 255.703,-42.3515 228.6045,-28.8022\"/>\n",
       "</g>\n",
       "<!-- c&#45;&#45;v -->\n",
       "<g id=\"edge10\" class=\"edge\">\n",
       "<title>c&#45;&#45;v</title>\n",
       "<path fill=\"none\" stroke=\"#000000\" d=\"M162.2854,-144.5708C156.6253,-133.2506 149.2784,-118.5568 143.6343,-107.2687\"/>\n",
       "</g>\n",
       "<!-- c&#45;&#45;w -->\n",
       "<g id=\"edge11\" class=\"edge\">\n",
       "<title>c&#45;&#45;w</title>\n",
       "<path fill=\"none\" stroke=\"#000000\" d=\"M179.7146,-144.5708C185.3747,-133.2506 192.7216,-118.5568 198.3657,-107.2687\"/>\n",
       "</g>\n",
       "</g>\n",
       "</svg>\n"
      ],
      "text/plain": [
       "<graphviz.dot.Graph at 0x7fa45ebb47b8>"
      ]
     },
     "execution_count": 28,
     "metadata": {
      "tags": []
     },
     "output_type": "execute_result"
    }
   ],
   "source": [
    "g = gv.Graph()\n",
    "g.node(\"i\", \"x\")\n",
    "g.node(\"o\", \"y\")\n",
    "for n in [\"u\", \"v\", \"a\", \"b\", \"d\", \"e\", \"f\"]: g.node(n, \"0\")\n",
    "for n in [\"w\", \"x\", \"y\", \"c\"]: g.node(n, \"1\")\n",
    "g.edges([\"oa\", \"ob\", \"oc\", \"od\", \"oe\", \"of\"])\n",
    "g.edges([\"au\", \"bu\", \"bv\", \"cv\", \"cw\", \"dw\", \"dx\", \"ex\", \"ey\", \"fy\"])\n",
    "g.edges([\"ui\", \"vi\", \"wi\", \"xi\", \"yi\"])\n",
    "g"
   ]
  }
 ],
 "metadata": {
  "colab": {
   "collapsed_sections": [],
   "name": "CPS491.ipynb",
   "provenance": [],
   "toc_visible": true
  },
  "kernelspec": {
   "display_name": "Python 3",
   "language": "python",
   "name": "python3"
  },
  "language_info": {
   "codemirror_mode": {
    "name": "ipython",
    "version": 3
   },
   "file_extension": ".py",
   "mimetype": "text/x-python",
   "name": "python",
   "nbconvert_exporter": "python",
   "pygments_lexer": "ipython3",
   "version": "3.8.5"
  }
 },
 "nbformat": 4,
 "nbformat_minor": 1
}
