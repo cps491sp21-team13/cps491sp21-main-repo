{
 "cells": [
  {
   "cell_type": "markdown",
   "metadata": {
    "id": "lZm7vYUv2Arv"
   },
   "source": [
    "# CPS 491 Main Jupyter Notebook\n",
    "\n",
    "Author: Zachary Rowland\n",
    "\n",
    "Contents\n",
    "\n",
    "* [Python Imports](#Python-Imports) Python imports for the whole document\n",
    "* [Linear Systems Background](#Linear-Systems-Background) Brief overview of core concepts and vocabulary from Linear Systems and signals analysis\n",
    "* [Using Tensorflow](#Using-Tensorflow) Quick reference and code examples for using Tensorflow\n",
    "* [Approximations](#Approximations) Mathematical background and implementation detailing how to approximate simple functions using neural networks.\n",
    "  * [Approximating $x^2$](#Approximating-the-Square-Function) Shows how a neural network can approximate a square function to arbitrary precision.\n",
    "  * [Approximating](#Approximating-General-Powers) Generalizing the approximation of $x^2$ to arbitrary powers of $x$.\n",
    "* [Approximating an Arbitrary Function using Convolution](#Approximating-an-Arbitrary-Function-using-Convolution) A method for approximating an arbitrary function inspired by convolution.\n",
    "  * [Theory and Method](#Theory-and-Method)\n",
    "  * [Implementation](#Implementation) Example code for approximating a function $f$.\n",
    "  * [4-Layer Version](#Four-Layer-Version) Allows sigmoid-like activation functions to be used instead of \"spike\" or gaussian curve activations.\n",
    "\n",
    "[Tensorflow Guide](https://www.tensorflow.org/guide/)\n"
   ]
  },
  {
   "cell_type": "markdown",
   "metadata": {
    "id": "BIBLLa2_2lQN"
   },
   "source": [
    "# Python Imports\n",
    "\n",
    "These are just global imports that are used by the whole document. Run the following cell before running anything else."
   ]
  },
  {
   "cell_type": "code",
   "execution_count": null,
   "metadata": {
    "id": "Qq7w88-22nnh"
   },
   "outputs": [],
   "source": [
    "import math\n",
    "import random\n",
    "import pandas as pd\n",
    "import numpy as np\n",
    "import matplotlib.pyplot as plt\n",
    "import graphviz as gv\n",
    "import tensorflow as tf"
   ]
  },
  {
   "cell_type": "markdown",
   "metadata": {
    "id": "9kcWiTr6jzWc"
   },
   "source": [
    "---\n",
    "\n",
    "# Linear Systems Background"
   ]
  },
  {
   "cell_type": "markdown",
   "metadata": {
    "id": "LIZB4T1sj2tH"
   },
   "source": [
    "Some vocabulary:\n",
    "\n",
    "* **Def** A _signal_ (denoted with $x$ or $y$) just refers to a real-valued function (usually over time). Alternatively, it can be thought of as a list of (output) values.\n",
    "* **Def** _Shifted signal_: $x \\Rsh s$ is the signal such that $(x \\Rsh s)(t) = x(t - s)$. Usually, $x(t - s)$ denotes the shifted signal itself, but using the denotation $\\Rsh$ clarifies that shifting is an operation on a signal. \n",
    "* **Def** A _system_ or _transform_ (denoted $T$) is a \"function on functions\", a transformation from one signal to another.\n",
    "* **Def** A _linear system_ is a system that satisfies homogeneity and additivity from linear algebra.\n",
    "* **Def** A _shift-invariant system_ $T$ satisfies the property $T[x \\Rsh s] = T[x] \\Rsh s$ for any signal and shift amount.\n",
    "* **Def** The _unit impulse_ signal (denoted $\\delta(t)$) is a spike at time zero and is defined such that:\n",
    "$$ \\int_{-\\infty}^{t} \\delta(\\tau)\\ d\\tau = \\begin{cases} 0 \\qquad t < 0 \\\\ 1 \\qquad t > 0 \\end{cases}$$\n",
    "\n",
    "Any signal can be represented as a linear combination of shifted and scaled impulse signals:\n",
    "$$ x(t) = \\int_{-\\infty}^{\\infty} x(\\tau)\\ \\delta(t - \\tau)\\ d\\tau $$\n",
    "\n",
    "Suppose $T$ is a linear shift-invariant transform. Then, by properties of linearity and shift-invariance:\n",
    "$$ T[x(t)] = \\int_{-\\infty}^{\\infty} x(\\tau)\\ (T[\\delta])(t - \\tau) \\ d\\tau $$\n",
    "This means that $T$ is completely characterized by how it maps the unit impulse signal. $T[\\delta]$ is called the _impulse response signal_."
   ]
  },
  {
   "cell_type": "markdown",
   "metadata": {
    "id": "lV_WsO4Bq5g6"
   },
   "source": [
    "**Def** A _convolution_ is a combination of two signals. We say $x * y$ is the result of convolving $x$ with $y$.\n",
    "  $$ (x * y)(t) = \\int_{-\\infty}^{\\infty} x(\\tau)\\ y(t - \\tau)\\ d\\tau $$\n",
    "  $$ x * y = \\int_{-\\infty}^{\\infty} x(\\tau)\\ (y \\Rsh \\tau)\\ d\\tau $$\n",
    "  Think of convolution as constructing a new signal that is a linear combination of a set of base signals. But each base signal is just a shifted version of a single signal $y$. The factors that scale the base signals are the outputs of $x$.\n",
    "\n",
    "Special Convolutions:\n",
    " * $x * \\delta = x$\n",
    " * $x * 1 = \\int_{-\\infty}^{\\infty} x(\\tau)\\ d\\tau$\n",
    " * $x * \\text{step} = \\int_{-\\infty}^{t}x(\\tau)\\ d\\tau \\qquad$ (\"step\" is the integral of $\\delta$)\n",
    "\n"
   ]
  },
  {
   "cell_type": "markdown",
   "metadata": {
    "id": "eGLvr2-LjP1E"
   },
   "source": [
    "Differentiation on real functions is a shift-invariant linear operation, so it can be expressed as a convolution ($d$ is the \"derivative\" of $\\delta$):\n",
    "$$ \\frac{dx}{dt} = x * d = \\int_{-\\infty}^{\\infty} x(\\tau)\\ (d \\Rsh \\tau)\\ d\\tau $$"
   ]
  },
  {
   "cell_type": "markdown",
   "metadata": {
    "id": "I9u25xiz6B_X"
   },
   "source": [
    "A Taylor series is similar to a convolution, but uses a discrete sum instead of the continuous integral.\n",
    "\n",
    "$$ f(x) = \\sum_{n=0}^{\\infty} \\frac{f^{(n)}(a)}{n!} (x - a)^n \\qquad \\forall x, a \\in \\mathbb{R} $$"
   ]
  },
  {
   "cell_type": "markdown",
   "metadata": {
    "id": "R3gQLgM12Ipi"
   },
   "source": [
    "---\n",
    "\n",
    "# Using Tensorflow\n",
    "\n",
    "An brief overview of tensor math and learning models in the Tensorflow library descibed with lots of code examples."
   ]
  },
  {
   "cell_type": "code",
   "execution_count": null,
   "metadata": {
    "id": "tNyxowPX2H9-"
   },
   "outputs": [],
   "source": [
    "# generating simple test data\n",
    "\n",
    "f = open(\"sin_data.csv\", \"w\")\n",
    "f.write(\"x,sin(x)\\n\")\n",
    "for i in range(200):\n",
    "  x = random.random()*2*math.pi\n",
    "  v = math.sin(x)\n",
    "  f.write(str(x)+\",\"+str(v)+\"\\n\")\n",
    "f.close()"
   ]
  },
  {
   "cell_type": "code",
   "execution_count": null,
   "metadata": {
    "colab": {
     "base_uri": "https://localhost:8080/",
     "height": 142
    },
    "id": "MrD6ALb38oYJ",
    "outputId": "08dc3663-b97a-4656-d4eb-48ee205a4a79"
   },
   "outputs": [
    {
     "data": {
      "text/html": [
       "<div>\n",
       "<style scoped>\n",
       "    .dataframe tbody tr th:only-of-type {\n",
       "        vertical-align: middle;\n",
       "    }\n",
       "\n",
       "    .dataframe tbody tr th {\n",
       "        vertical-align: top;\n",
       "    }\n",
       "\n",
       "    .dataframe thead th {\n",
       "        text-align: right;\n",
       "    }\n",
       "</style>\n",
       "<table border=\"1\" class=\"dataframe\">\n",
       "  <thead>\n",
       "    <tr style=\"text-align: right;\">\n",
       "      <th></th>\n",
       "      <th>x</th>\n",
       "      <th>sin(x)</th>\n",
       "    </tr>\n",
       "  </thead>\n",
       "  <tbody>\n",
       "    <tr>\n",
       "      <th>0</th>\n",
       "      <td>4.813718</td>\n",
       "      <td>-0.994871</td>\n",
       "    </tr>\n",
       "    <tr>\n",
       "      <th>1</th>\n",
       "      <td>2.562307</td>\n",
       "      <td>0.547426</td>\n",
       "    </tr>\n",
       "    <tr>\n",
       "      <th>2</th>\n",
       "      <td>3.390245</td>\n",
       "      <td>-0.246098</td>\n",
       "    </tr>\n",
       "  </tbody>\n",
       "</table>\n",
       "</div>"
      ],
      "text/plain": [
       "          x    sin(x)\n",
       "0  4.813718 -0.994871\n",
       "1  2.562307  0.547426\n",
       "2  3.390245 -0.246098"
      ]
     },
     "execution_count": 3,
     "metadata": {
      "tags": []
     },
     "output_type": "execute_result"
    }
   ],
   "source": [
    "# example loading CSV file into a pandas dataframe\n",
    "sin_dataframe = pd.read_csv(\"sin_data.csv\", sep=\",\")  # type is pd.DataFrame\n",
    "sin_dataframe.head(3)   # returns a new dataframe with only first 3 rows"
   ]
  },
  {
   "cell_type": "markdown",
   "metadata": {
    "id": "pvoHvE2TISno"
   },
   "source": [
    "## Tensor Math\n",
    "\n",
    "The primary objects that Tensorflow provides are tensors -- a generalization of scalars, vectors, and matrices to numerical arrays of arbitrary dimension. Tensors have the following properties:\n",
    "\n",
    "* **dimension**: the number of layers of nested lists needed to represent the tensor (e.g. a vector is a 1-D tensor, a matrix is a 2-D tensor).\n",
    "* **shape**: a list of numbers describing the \"length\" of the tensor in each direction (e.g. matrices all have shape (nrows, ncols))."
   ]
  },
  {
   "cell_type": "code",
   "execution_count": null,
   "metadata": {
    "id": "6DlVtdEVCbyi"
   },
   "outputs": [],
   "source": [
    "# Tensors\n",
    "t0 = tf.constant(4)   # a rank-0 tensor (i.e. a scalar)\n",
    "t1 = tf.constant([1,2,3])   # a rank-1 tensor (i.e. a vector)\n",
    "t2 = tf.constant([[1,2,3], [4,5,6], [7,8,9]])   # a rank-2 tensor (i.e. a matrix)\n",
    "\n",
    "# constructing simple tensors\n",
    "t = tf.zeros([3,2])   # a 3x2 tensor filled with zeros\n",
    "t = tf.random.uniform([3,2], minval=0, maxval=1)\n",
    "t = tf.random.normal([3,2], mean=5, stddev=2)\n",
    "t = tf.eye(4)   # 4x4 identity matrix\n",
    "\n",
    "t = tf.constant([[1,2], [3,4]], dtype=tf.float32)  # manually specify element type\n",
    "\n",
    "a = np.array(t)   # convert Tensor to numpy array\n",
    "t = tf.constant(a)  # convert numpy array to Tensor\n",
    "\n",
    "# Tensor operations\n",
    "ta = tf.constant([[1,2],[3,4]], dtype=tf.float32)\n",
    "tb = tf.constant([[5,6],[7,8]], dtype=tf.float32)\n",
    "t = ta + tb   # element-wise addition\n",
    "t = ta * tb   # element-wise multiplication\n",
    "t = ta @ tb   # \"matrix\" multiplication\n",
    "t = tf.reduce_max(ta)   # largest value\n",
    "t = tf.argmax(ta)       # index of largest value\n",
    "b = ta == tb            # comparison operators are element-wise\n",
    "\n",
    "# Tensor shape, rank, dimension, size\n",
    "t = tf.constant([[1,2,3],[4,5,6]])\n",
    "shape = t.shape     # [2, 3]\n",
    "anelem = t[0,0]     # indexing (returns a Tensor)\n",
    "anelem = t[0][0]    # also indexing\n",
    "t = tf.reshape(t, (3, 2))   # does not shuffle elements in memory, so cheap\n"
   ]
  },
  {
   "cell_type": "markdown",
   "metadata": {
    "id": "vQidSfwvQ3KM"
   },
   "source": [
    "## Automatic Differentiation\n",
    "\n",
    "A _gradient_ is an operation on a scalar-valued function with a tensor input $f: T \\rightarrow \\mathbb{R}$. The result of calculating the gradient of a function $\\nabla f$ is a tensor of same shape as the input. A _Jacobian_ is the generalization of the gradient to tensor-valued functions. If $f: T_{d_1 \\times \\dots \\times d_n} \\rightarrow T_{\\delta_1 \\times \\dots \\times \\delta_m}$, then $\\mathbf{J} f: T_{\\delta_1 \\times \\dots \\times \\delta_m \\times d_1 \\times \\dots \\times d_n}$."
   ]
  },
  {
   "cell_type": "code",
   "execution_count": null,
   "metadata": {
    "colab": {
     "base_uri": "https://localhost:8080/"
    },
    "id": "CctvBtlzFAFT",
    "outputId": "35261eb3-3c16-4fd2-993a-b6eeac27209f"
   },
   "outputs": [
    {
     "name": "stdout",
     "output_type": "stream",
     "text": [
      "tf.Tensor(\n",
      "[[6.]\n",
      " [7.]], shape=(2, 1), dtype=float32)\n"
     ]
    }
   ],
   "source": [
    "# Automatic Differentiation & Variables\n",
    "\n",
    "x = tf.Variable([[1],[2],[3]], name=\"x\", dtype=tf.float32)\n",
    "\n",
    "# a \"tape\" is needed to store automatic differentiation values\n",
    "# call GradientTape with persistent=True if you want to calculate multiple\n",
    "# gradients or jacobians\n",
    "with tf.GradientTape() as tape:\n",
    "  y = tf.constant([[1,1,1], [5,1,0]], dtype=tf.float32) @ x\n",
    "\n",
    "print(y)\n",
    "j = tape.jacobian(y, x)   # j[output indeces, input indices]\n",
    "\n",
    "# j[output indeces][input indices] is the derivative\n",
    "# of output[output indeces] with respect to input[input indeces]\n",
    "\n",
    "# For example, j[1,0][2,0] is derivative of second component of y\n",
    "# with respect to the third component of x"
   ]
  },
  {
   "cell_type": "markdown",
   "metadata": {
    "id": "g2EWOL4faX14"
   },
   "source": [
    "## A Linear Neural Network\n",
    "\n",
    "Note that normally, a linear feed-forward function for one layer is written as $W\\vec{x} + \\vec{b}$. However in tensorflow, vectors are one-dimentional tensors instead of $n \\times 1$ matrices, which means it is slightly easier to define this function as $\\vec{x}W^t + \\vec{b}$."
   ]
  },
  {
   "cell_type": "code",
   "execution_count": null,
   "metadata": {
    "id": "D2Wu7P5WaaHf"
   },
   "outputs": [],
   "source": [
    "# A 1-input 1-output linear neural network.\n",
    "class LinearModel(tf.keras.Model):\n",
    "  def __init__(self, indim, outdim, **kwargs):\n",
    "    super().__init__(**kwargs)\n",
    "    self.indim = indim\n",
    "    self.outdim = outdim\n",
    "    self.w = tf.Variable(tf.random.normal(shape=(indim, outdim)))\n",
    "    self.b = tf.Variable(tf.random.normal(shape=(1, outdim)))\n",
    "  def __call__(self, x, **kwargs):\n",
    "    return tf.matmul(x, self.w) + self.b\n",
    "\n",
    "# model and test data\n",
    "mymodel = LinearModel(1, 1)\n",
    "mymodel.compile(run_eagerly=False,\n",
    "                optimizer=tf.keras.optimizers.SGD(learning_rate=0.2),\n",
    "                loss=tf.keras.losses.mean_squared_error)\n",
    "x = tf.random.uniform(shape=(1000,1,1), minval=-1, maxval=1)\n",
    "y = x * 0.5 + tf.random.normal(shape=(1000,1,1), mean=0.3, stddev=0.05)\n",
    "y_obs = mymodel(x)"
   ]
  },
  {
   "cell_type": "code",
   "execution_count": null,
   "metadata": {
    "colab": {
     "base_uri": "https://localhost:8080/"
    },
    "id": "dx8ssCLCxljj",
    "outputId": "0ec023f1-12c9-4ccf-dcf0-e53fdeaeb461"
   },
   "outputs": [
    {
     "name": "stdout",
     "output_type": "stream",
     "text": [
      "Epoch 1/10\n",
      "1/1 [==============================] - 0s 4ms/step - loss: 0.0026\n",
      "Epoch 2/10\n",
      "1/1 [==============================] - 0s 6ms/step - loss: 0.0026\n",
      "Epoch 3/10\n",
      "1/1 [==============================] - 0s 5ms/step - loss: 0.0026\n",
      "Epoch 4/10\n",
      "1/1 [==============================] - 0s 9ms/step - loss: 0.0026\n",
      "Epoch 5/10\n",
      "1/1 [==============================] - 0s 6ms/step - loss: 0.0026\n",
      "Epoch 6/10\n",
      "1/1 [==============================] - 0s 4ms/step - loss: 0.0026\n",
      "Epoch 7/10\n",
      "1/1 [==============================] - 0s 6ms/step - loss: 0.0026\n",
      "Epoch 8/10\n",
      "1/1 [==============================] - 0s 5ms/step - loss: 0.0026\n",
      "Epoch 9/10\n",
      "1/1 [==============================] - 0s 5ms/step - loss: 0.0026\n",
      "Epoch 10/10\n",
      "1/1 [==============================] - 0s 5ms/step - loss: 0.0026\n"
     ]
    }
   ],
   "source": [
    "# training\n",
    "\n",
    "mymodel.fit(x, y, epochs=10, batch_size=1000, verbose=1)\n",
    "y_obs = mymodel(x)\n"
   ]
  },
  {
   "cell_type": "code",
   "execution_count": null,
   "metadata": {
    "colab": {
     "base_uri": "https://localhost:8080/",
     "height": 269
    },
    "id": "FqERFvuJO7Ml",
    "outputId": "4223c498-56e3-48a0-b6f7-35d71f74f18b"
   },
   "outputs": [
    {
     "data": {
      "image/png": "[encoded data removed]",
      "text/plain": [
       "<Figure size 432x288 with 1 Axes>"
      ]
     },
     "metadata": {
      "needs_background": "light",
      "tags": []
     },
     "output_type": "display_data"
    }
   ],
   "source": [
    "# show results\n",
    "plt.ylim(-1, 1)\n",
    "plt.xlim(-1, 1)\n",
    "plt.axhline(color=\"black\")\n",
    "plt.axvline(color=\"black\")\n",
    "plt.scatter(x, y, c=\"black\", s=3)\n",
    "plt.scatter(x, y_obs, c=\"red\", s=3)\n",
    "plt.show()"
   ]
  },
  {
   "cell_type": "markdown",
   "metadata": {
    "id": "rRObQdkuiUbh"
   },
   "source": [
    "---\n",
    "\n",
    "# Approximations"
   ]
  },
  {
   "cell_type": "markdown",
   "metadata": {
    "id": "cANPfqXTEy1V"
   },
   "source": [
    "## Approximating the Square Function\n",
    "\n",
    "Consider any activation function $a(x)$ with a non-zero second-derivative at $x = 0$. This section shows how to construct a neural network using $a$ that can approximate the function $x^2$ with arbitrary accuracy. We start with Taylor's Theorem.\n",
    "\n",
    "$$ a(x) = \\sum_{n = 0}^{\\infty} \\frac{a^{(n)}(0)}{n!} x^n \\qquad \\text{(Taylor's Theorem)} $$\n",
    "\n",
    "First, replace $x$ with $hx$ where $h$ is positive. We will eventually consider what happens when $h$ approaches zero.\n",
    "\n",
    "$$ a(hx) = \\sum_{n = 0}^{\\infty} \\frac{a^{(n)}(0)}{n!} (hx)^n $$\n",
    "\n",
    "Now isolate the $x^2$ term on one side.\n",
    "\n",
    "$$ \\frac{h^2 a^{(2)}(0)}{2} x^2 = a(hx) - a(0) - ha'(0)x - \\sum_{n=3}^{\\infty} \\frac{h^n a^{(n)}(0)}{n!} x^n $$\n",
    "\n",
    "Isolate $x^2$\n",
    "\n",
    "$$ x^2 = \\frac{2a(hx)}{h^2 a^{(2)}(0)} - \\frac{2a(0)}{h^2 a^{(2)}(0)} - \\frac{2a'(0)x}{h a^{(2)}(0)} - \\frac{2}{h^2 a^{(2)}(0)}\\sum_{n=3}^{\\infty} \\frac{h^n a^{(n)}(0)}{n!} x^n $$\n",
    "\n",
    "If we consider the limit as $h \\rightarrow 0$, the sum term drops out because $h^n / h^2$ will always approach zero for any $h \\ge 3$. We are left with the following:\n",
    "\n",
    "$$ x^2 = \\lim_{h \\rightarrow 0} \\left( \\frac{2}{h^2 a^{(2)}(0)}a(hx) - \\frac{2a(0)}{h^2 a^{(2)}(0)} - \\frac{2a'(0)}{h a^{(2)}(0)}x \\right) $$\n",
    "\n",
    "We can simplify by defining three constants (these constants will end up being two weights and a bias for the last layer of a neural network):\n",
    "\n",
    "$$ x^2 = \\lim_{h \\rightarrow 0} \\left( Aa(hx) - B - Cx \\right) $$\n",
    "\n",
    "$$ A = \\frac{2}{h^2 a^{(2)}(0)} \\qquad B = Aa(0) \\qquad C = Aha'(0) $$\n",
    "\n"
   ]
  },
  {
   "cell_type": "markdown",
   "metadata": {
    "id": "lhY8_n_sT5rT"
   },
   "source": [
    "## Approximating General Powers\n",
    "\n",
    "The process for approximating $x^2$ can be repeated, this time for a general degree $d$. This time, we require that $a^{(d)}(0) \\neq 0$. From Taylor's Theorem, isolate the desired power on the left. The $n$ in the sum iterates from zero to infinity, but skips $d$.\n",
    "\n",
    "$$ x^d = \\frac{d!a(hx)}{h^d a^{(d)}(0)} - \\frac{d!}{h^d a^{(d)}(0)}\\sum_{n\\neq d} \\frac{h^n a^{(n)}(0)}{n!} x^n $$\n",
    "\n",
    "Once again, consider the limit as $h \\rightarrow 0$. All of the terms in the sum where $n > d$ are going to approach zero leaving us with a finite sum.\n",
    "\n",
    "$$ x^d = \\lim_{h \\rightarrow 0} \\left( \\frac{d!}{h^d a^{(d)}(0)} a(hx) - \\sum_{n = 0}^{d - 1} \\frac{d! h^{n-d} a^{(n)}(0)}{n! a^{(d)}(0)} x^n \\right) $$\n",
    "\n",
    "Introduce constants:\n",
    "\n",
    "$$ x^d = \\lim_{h \\rightarrow 0} \\left( A a(hx) - \\sum_{n = 0}^{d - 1} B_n x^n \\right) $$\n",
    "\n",
    "$$ A = \\frac{d!}{h^d a^{(d)}(0)} \\qquad B_n = A h^n a^{(n)}(0) $$"
   ]
  },
  {
   "cell_type": "markdown",
   "metadata": {
    "id": "p3GNjYx5jqep"
   },
   "source": [
    "## Approximating Multiplication\n",
    "\n",
    "This section is old and needs to be upated with documentation and to more closely align with the math described to approximate $x^2$."
   ]
  },
  {
   "cell_type": "code",
   "execution_count": null,
   "metadata": {
    "id": "737HAhh8j5CT"
   },
   "outputs": [],
   "source": [
    "class MultModel(tf.keras.Model):\n",
    "  def __init__(self, **kwargs):\n",
    "    super().__init__(**kwargs)\n",
    "    self.w1 = tf.Variable(tf.random.uniform(shape=(2, 4), minval=-1, maxval=1))\n",
    "    self.w2 = tf.Variable(tf.random.uniform(shape=(4,1)))\n",
    "  def __call__(self, x, **kwargs):\n",
    "    interm = tf.nn.sigmoid(tf.matmul(x, self.w1) - 0.2)\n",
    "    return tf.matmul(interm, self.w2)\n",
    "\n",
    "# model and test data\n",
    "mymodel = MultModel()\n",
    "mymodel.compile(run_eagerly=False,\n",
    "                optimizer=tf.keras.optimizers.SGD(learning_rate=0.001),\n",
    "                loss=tf.keras.losses.mean_squared_error)\n",
    "x = tf.random.uniform(shape=(1000,1,2), minval=-1.0, maxval=1.0)\n",
    "y = tf.map_fn(fn=lambda t: tf.constant(t[0,0]*t[0,1], shape=(1,1)), elems=x)\n",
    "y_obs_0 = mymodel(x)\n"
   ]
  },
  {
   "cell_type": "code",
   "execution_count": null,
   "metadata": {
    "id": "9kM3WqmtPnQG"
   },
   "outputs": [],
   "source": [
    "# manually set weights\n",
    "lb = 0.001 # lambda\n",
    "mu = 1.0/(4*0.2475*lb*lb)\n",
    "mymodel.w1 = tf.Variable(tf.constant([[lb, lb, -lb, -lb], [lb, -lb, lb, -lb]]))\n",
    "mymodel.w2 = tf.Variable(tf.constant([[mu], [-mu], [-mu], [mu]]))"
   ]
  },
  {
   "cell_type": "code",
   "execution_count": null,
   "metadata": {
    "colab": {
     "base_uri": "https://localhost:8080/"
    },
    "id": "Zkm3D_I-o6to",
    "outputId": "2374587e-67bf-4d41-c793-8412ca2b9d71"
   },
   "outputs": [
    {
     "name": "stdout",
     "output_type": "stream",
     "text": [
      "Epoch 1/10\n",
      "1/1 [==============================] - 0s 261ms/step - loss: 0.0941\n",
      "Epoch 2/10\n",
      "1/1 [==============================] - 0s 5ms/step - loss: 2698417012736.0000\n",
      "Epoch 3/10\n",
      "1/1 [==============================] - 0s 3ms/step - loss: 4056183209984.0000\n",
      "Epoch 4/10\n",
      "1/1 [==============================] - 0s 5ms/step - loss: 4040029372416.0000\n",
      "Epoch 5/10\n",
      "1/1 [==============================] - 0s 4ms/step - loss: 4023937925120.0000\n",
      "Epoch 6/10\n",
      "1/1 [==============================] - 0s 3ms/step - loss: 4007911489536.0000\n",
      "Epoch 7/10\n",
      "1/1 [==============================] - 0s 5ms/step - loss: 3991950327808.0000\n",
      "Epoch 8/10\n",
      "1/1 [==============================] - 0s 4ms/step - loss: 3976051294208.0000\n",
      "Epoch 9/10\n",
      "1/1 [==============================] - 0s 5ms/step - loss: 3960218058752.0000\n",
      "Epoch 10/10\n",
      "1/1 [==============================] - 0s 7ms/step - loss: 3944445378560.0000\n"
     ]
    }
   ],
   "source": [
    "# training\n",
    "\n",
    "mymodel.fit(x, y, epochs=10, batch_size=1000, verbose=1)\n",
    "y_obs_1 = mymodel(x)"
   ]
  },
  {
   "cell_type": "code",
   "execution_count": null,
   "metadata": {
    "colab": {
     "base_uri": "https://localhost:8080/",
     "height": 286
    },
    "id": "v-Npn99Gtasb",
    "outputId": "9492e801-2fcd-490e-e95e-b864627c556d"
   },
   "outputs": [
    {
     "name": "stdout",
     "output_type": "stream",
     "text": [
      "1985972.375\n"
     ]
    },
    {
     "data": {
      "image/png": "[encoded data removed]",
      "text/plain": [
       "<Figure size 432x288 with 1 Axes>"
      ]
     },
     "metadata": {
      "needs_background": "light",
      "tags": []
     },
     "output_type": "display_data"
    }
   ],
   "source": [
    "# examine x**2 function\n",
    "def mysquare(inp):\n",
    "  inp = tf.constant([[inp, inp]])\n",
    "  out = mymodel(inp)\n",
    "  return float(out)\n",
    "\n",
    "print(mysquare(1.0))\n",
    "\n",
    "in_list = tf.range(-1.0, 1.0, 0.05)\n",
    "out_list_1 = [mysquare(float(t)) for t in in_list]\n",
    "out_list_2 = in_list * in_list\n",
    "myplot(in_list, [out_list_1, out_list_2])"
   ]
  },
  {
   "cell_type": "markdown",
   "metadata": {
    "id": "--hHE_VKAL6x"
   },
   "source": [
    "## Stacking ReLUs\n",
    "\n",
    "Experimenting with approximating a function using small ReLU networks."
   ]
  },
  {
   "cell_type": "code",
   "execution_count": null,
   "metadata": {
    "id": "Gekni5yCALlU"
   },
   "outputs": [],
   "source": [
    "# MyModel(numHL, hlWidth) builds a network with one input, one output and numHL\n",
    "# hidden layers. There must be at least one hidden layer. Each hidden layer\n",
    "# contains hlWidth nodes. The network is fully connected.\n",
    "class MyModel(tf.keras.Model):\n",
    "  def __init__(self, numHL, hlWidth, **kwargs):\n",
    "    super().__init__(**kwargs)\n",
    "    # build weights\n",
    "    self.w = [0.0]*(numHL + 1)\n",
    "    self.w[0] = tf.Variable(tf.random.uniform(shape=[1, hlWidth], minval=-0.1, maxval=0.1))\n",
    "    self.w[numHL] = tf.Variable(tf.random.uniform(shape=[hlWidth,1], minval=-0.1, maxval=0.1))\n",
    "    for i in range(1, numHL):\n",
    "      self.w[i] = tf.Variable(tf.random.uniform(shape=[hlWidth, hlWidth], minval=0.1, maxval=0.1))\n",
    "    # build biases\n",
    "    self.b = [0.0]*(numHL + 1)\n",
    "    self.b[numHL] = tf.Variable(tf.constant([[0.1]]))\n",
    "    for i in range(0, numHL):\n",
    "      self.b[i] = tf.Variable(tf.fill((1, hlWidth), 0.1))\n",
    "  def __call__(self, x, **kwargs):\n",
    "    interm = x\n",
    "    for w, b in zip(self.w[:-1], self.b[:-1]):\n",
    "      interm = tf.nn.relu(tf.matmul(interm, w) + b)\n",
    "    return tf.matmul(interm, self.w[-1]) + self.b[-1]"
   ]
  },
  {
   "cell_type": "code",
   "execution_count": null,
   "metadata": {
    "id": "jxXmmOqMIR0n"
   },
   "outputs": [],
   "source": [
    "# make a new random model\n",
    "reluModel = MyModel(1, 2)"
   ]
  },
  {
   "cell_type": "code",
   "execution_count": null,
   "metadata": {
    "colab": {
     "base_uri": "https://localhost:8080/"
    },
    "id": "UB_2lJ74PTME",
    "outputId": "d9d3c9f5-14c6-4386-cd10-f2db7431802c"
   },
   "outputs": [
    {
     "data": {
      "text/plain": [
       "<tf.Variable 'UnreadVariable' shape=(1, 1) dtype=float32, numpy=array([[1.]], dtype=float32)>"
      ]
     },
     "execution_count": 16,
     "metadata": {
      "tags": []
     },
     "output_type": "execute_result"
    }
   ],
   "source": [
    "# manually set weights/biases\n",
    "reluModel.w[0].assign(tf.constant([[0.8, -1.0]]))\n",
    "reluModel.b[0].assign(tf.constant([[-1.0, 1.0]]))\n",
    "reluModel.w[1].assign(tf.constant([[-1.0], [-1]]))\n",
    "reluModel.b[1].assign(tf.constant([[1.0]]))"
   ]
  },
  {
   "cell_type": "code",
   "execution_count": null,
   "metadata": {
    "colab": {
     "base_uri": "https://localhost:8080/",
     "height": 265
    },
    "id": "LTkbV3BC7omA",
    "outputId": "25ddde49-c669-4fe9-c4dc-7e8cb23de05e"
   },
   "outputs": [
    {
     "data": {
      "image/png": "[encoded data removed]",
      "text/plain": [
       "<Figure size 432x288 with 1 Axes>"
      ]
     },
     "metadata": {
      "needs_background": "light",
      "tags": []
     },
     "output_type": "display_data"
    }
   ],
   "source": [
    "# Test: plot the model approximation and the actual function f\n",
    "x = tf.random.uniform((1000, 1, 1), minval=0.0, maxval=1.0)\n",
    "y = 0.5 * tf.sin(x * math.pi)\n",
    "y_obs = reluModel(x)\n",
    "plt.scatter(x, y, c=\"black\", s=3)\n",
    "plt.scatter(x, y_obs, c=\"red\", s=3)\n",
    "plt.show()"
   ]
  },
  {
   "cell_type": "code",
   "execution_count": null,
   "metadata": {
    "colab": {
     "base_uri": "https://localhost:8080/"
    },
    "id": "usop0Mky8EJn",
    "outputId": "217a3374-477a-401a-8136-957fc0b827f3"
   },
   "outputs": [
    {
     "name": "stdout",
     "output_type": "stream",
     "text": [
      "Epoch 1/10\n",
      "10/10 [==============================] - 0s 2ms/step - loss: 0.0215\n",
      "Epoch 2/10\n",
      "10/10 [==============================] - 0s 1ms/step - loss: 0.0225\n",
      "Epoch 3/10\n",
      "10/10 [==============================] - 0s 2ms/step - loss: 0.0235\n",
      "Epoch 4/10\n",
      "10/10 [==============================] - 0s 2ms/step - loss: 0.0225\n",
      "Epoch 5/10\n",
      "10/10 [==============================] - 0s 1ms/step - loss: 0.0219\n",
      "Epoch 6/10\n",
      "10/10 [==============================] - 0s 1ms/step - loss: 0.0234\n",
      "Epoch 7/10\n",
      "10/10 [==============================] - 0s 1ms/step - loss: 0.0233\n",
      "Epoch 8/10\n",
      "10/10 [==============================] - 0s 2ms/step - loss: 0.0230\n",
      "Epoch 9/10\n",
      "10/10 [==============================] - 0s 1ms/step - loss: 0.0236\n",
      "Epoch 10/10\n",
      "10/10 [==============================] - 0s 1ms/step - loss: 0.0219\n"
     ]
    },
    {
     "data": {
      "text/plain": [
       "<tensorflow.python.keras.callbacks.History at 0x7f0bd75d9fd0>"
      ]
     },
     "execution_count": 159,
     "metadata": {
      "tags": []
     },
     "output_type": "execute_result"
    }
   ],
   "source": [
    "# Train the model\n",
    "reluModel.compile(run_eagerly=False,\n",
    "                optimizer=tf.keras.optimizers.SGD(learning_rate=0.5),\n",
    "                loss=tf.keras.losses.mean_squared_error)\n",
    "reluModel.fit(x, y, epochs=10, batch_size=100, verbose=1)"
   ]
  },
  {
   "cell_type": "markdown",
   "metadata": {
    "id": "Gv8f22uFYpcf"
   },
   "source": [
    "## Stacking Sigmoid Units\n",
    "\n",
    "Experimentation with small sigmoid-based networks. I have an easier time getting sigmoid-based networks to learn than ReLUs."
   ]
  },
  {
   "cell_type": "code",
   "execution_count": null,
   "metadata": {
    "id": "cAIORyd1YwSb"
   },
   "outputs": [],
   "source": [
    "# SigmoidModel(numHL, hlWidth) builds a network with one input, one output and numHL\n",
    "# hidden layers. There must be at least one hidden layer. Each hidden layer\n",
    "# contains hlWidth nodes. The network is fully connected.\n",
    "class SigmoidModel(tf.keras.Model):\n",
    "  def __init__(self, numHL, hlWidth, **kwargs):\n",
    "    super().__init__(**kwargs)\n",
    "    # build weights\n",
    "    self.w = [0.0]*(numHL + 1)\n",
    "    self.w[0] = tf.Variable(tf.random.uniform(shape=[1, hlWidth]))\n",
    "    self.w[numHL] = tf.Variable(tf.random.uniform(shape=[hlWidth,1]))\n",
    "    for i in range(1, numHL):\n",
    "      self.w[i] = tf.Variable(tf.random.uniform(shape=[hlWidth, hlWidth]))\n",
    "    # build biases\n",
    "    self.b = [0.0]*(numHL + 1)\n",
    "    self.b[numHL] = tf.Variable(tf.constant([[0.1]]))\n",
    "    for i in range(0, numHL):\n",
    "      self.b[i] = tf.Variable(tf.fill((1, hlWidth), 0.1))\n",
    "  def __call__(self, x, **kwargs):\n",
    "    interm = x\n",
    "    for w, b in zip(self.w[:-1], self.b[:-1]):\n",
    "      interm = tf.nn.sigmoid(tf.matmul(interm, w) + b)\n",
    "    return tf.matmul(interm, self.w[-1]) + self.b[-1]"
   ]
  },
  {
   "cell_type": "code",
   "execution_count": null,
   "metadata": {
    "id": "IAPt46DkY9Gf"
   },
   "outputs": [],
   "source": [
    "# make a new random model. The current model has\n",
    "# one hidden layer with two nodes.\n",
    "sigmoidModel = SigmoidModel(1, 2)\n",
    "sigmoidModel.compile(run_eagerly=False,\n",
    "                optimizer=tf.keras.optimizers.SGD(learning_rate=0.1),\n",
    "                loss=tf.keras.losses.mean_squared_error)"
   ]
  },
  {
   "cell_type": "code",
   "execution_count": null,
   "metadata": {
    "colab": {
     "base_uri": "https://localhost:8080/",
     "height": 265
    },
    "id": "RcqHtnNPZEQY",
    "outputId": "3688f4f1-681e-49ac-b47e-eab433edeb79"
   },
   "outputs": [
    {
     "data": {
      "image/png": "[encoded data removed]",
      "text/plain": [
       "<Figure size 432x288 with 1 Axes>"
      ]
     },
     "metadata": {
      "needs_background": "light",
      "tags": []
     },
     "output_type": "display_data"
    }
   ],
   "source": [
    "# Test: plot the model approximation and the actual function f\n",
    "x = tf.random.uniform((1000, 1, 1), minval=0.0, maxval=1.0)\n",
    "y = 0.5*tf.sin(x * math.pi * 2.0)\n",
    "y_obs = sigmoidModel(x)\n",
    "plt.scatter(x, y, c=\"black\", s=3)\n",
    "plt.scatter(x, y_obs, c=\"red\", s=3)\n",
    "plt.show()"
   ]
  },
  {
   "cell_type": "code",
   "execution_count": null,
   "metadata": {
    "colab": {
     "base_uri": "https://localhost:8080/"
    },
    "id": "dofKda81ZGoy",
    "outputId": "063b4eca-8896-42cd-fd2c-2e0c073e65b8"
   },
   "outputs": [
    {
     "data": {
      "text/plain": [
       "<tensorflow.python.keras.callbacks.History at 0x7ff59d568be0>"
      ]
     },
     "execution_count": 146,
     "metadata": {
      "tags": []
     },
     "output_type": "execute_result"
    }
   ],
   "source": [
    "# Train the model\n",
    "sigmoidModel.fit(x, y, epochs=1000, batch_size=100, verbose=0)"
   ]
  },
  {
   "cell_type": "code",
   "execution_count": null,
   "metadata": {
    "colab": {
     "base_uri": "https://localhost:8080/",
     "height": 312
    },
    "id": "IOlQTyZTgAv5",
    "outputId": "fc1343ff-62d2-42fb-f131-ea81f1523e35"
   },
   "outputs": [
    {
     "data": {
      "image/svg+xml": [
       "<?xml version=\"1.0\" encoding=\"UTF-8\" standalone=\"no\"?>\n",
       "<!DOCTYPE svg PUBLIC \"-//W3C//DTD SVG 1.1//EN\"\n",
       " \"http://www.w3.org/Graphics/SVG/1.1/DTD/svg11.dtd\">\n",
       "<!-- Generated by graphviz version 2.40.1 (20161225.0304)\n",
       " -->\n",
       "<!-- Title: %3 Pages: 1 -->\n",
       "<svg width=\"223pt\" height=\"218pt\"\n",
       " viewBox=\"0.00 0.00 223.14 218.00\" xmlns=\"http://www.w3.org/2000/svg\" xmlns:xlink=\"http://www.w3.org/1999/xlink\">\n",
       "<g id=\"graph0\" class=\"graph\" transform=\"scale(1 1) rotate(0) translate(4 214)\">\n",
       "<title>%3</title>\n",
       "<polygon fill=\"#ffffff\" stroke=\"transparent\" points=\"-4,4 -4,-214 219.1407,-214 219.1407,4 -4,4\"/>\n",
       "<!-- y -->\n",
       "<g id=\"node1\" class=\"node\">\n",
       "<title>y</title>\n",
       "<ellipse fill=\"none\" stroke=\"#000000\" cx=\"116.1407\" cy=\"-192\" rx=\"27\" ry=\"18\"/>\n",
       "<text text-anchor=\"middle\" x=\"116.1407\" y=\"-188.3\" font-family=\"Times,serif\" font-size=\"14.00\" fill=\"#000000\">y</text>\n",
       "</g>\n",
       "<!-- h2 -->\n",
       "<g id=\"node2\" class=\"node\">\n",
       "<title>h2</title>\n",
       "<ellipse fill=\"none\" stroke=\"#000000\" cx=\"116.1407\" cy=\"-105\" rx=\"27\" ry=\"18\"/>\n",
       "<text text-anchor=\"middle\" x=\"116.1407\" y=\"-101.3\" font-family=\"Times,serif\" font-size=\"14.00\" fill=\"#000000\">h2</text>\n",
       "</g>\n",
       "<!-- y&#45;&#45;h2 -->\n",
       "<g id=\"edge1\" class=\"edge\">\n",
       "<title>y&#45;&#45;h2</title>\n",
       "<path fill=\"none\" stroke=\"#000000\" d=\"M116.1407,-173.9735C116.1407,-159.0422 116.1407,-137.9283 116.1407,-123.0034\"/>\n",
       "<text text-anchor=\"middle\" x=\"131.6407\" y=\"-144.8\" font-family=\"Times,serif\" font-size=\"14.00\" fill=\"#000000\">&#45;6.00</text>\n",
       "</g>\n",
       "<!-- h1 -->\n",
       "<g id=\"node3\" class=\"node\">\n",
       "<title>h1</title>\n",
       "<ellipse fill=\"none\" stroke=\"#000000\" cx=\"44.1407\" cy=\"-105\" rx=\"27\" ry=\"18\"/>\n",
       "<text text-anchor=\"middle\" x=\"44.1407\" y=\"-101.3\" font-family=\"Times,serif\" font-size=\"14.00\" fill=\"#000000\">h1</text>\n",
       "</g>\n",
       "<!-- y&#45;&#45;h1 -->\n",
       "<g id=\"edge2\" class=\"edge\">\n",
       "<title>y&#45;&#45;h1</title>\n",
       "<path fill=\"none\" stroke=\"#000000\" d=\"M102.4437,-176.3269C97.0088,-170.0476 90.7328,-162.7204 85.1407,-156 75.5488,-144.4729 64.9479,-131.2738 56.9287,-121.1916\"/>\n",
       "<text text-anchor=\"middle\" x=\"98.6407\" y=\"-144.8\" font-family=\"Times,serif\" font-size=\"14.00\" fill=\"#000000\">3.68</text>\n",
       "</g>\n",
       "<!-- 1  -->\n",
       "<g id=\"node4\" class=\"node\">\n",
       "<title>1 </title>\n",
       "<ellipse fill=\"none\" stroke=\"#000000\" cx=\"188.1407\" cy=\"-105\" rx=\"27\" ry=\"18\"/>\n",
       "<text text-anchor=\"middle\" x=\"188.1407\" y=\"-101.3\" font-family=\"Times,serif\" font-size=\"14.00\" fill=\"#000000\">1 </text>\n",
       "</g>\n",
       "<!-- y&#45;&#45;1  -->\n",
       "<g id=\"edge3\" class=\"edge\">\n",
       "<title>y&#45;&#45;1 </title>\n",
       "<path fill=\"none\" stroke=\"#000000\" d=\"M131.6315,-177.0386C137.9033,-170.7364 145.0796,-163.2036 151.1407,-156 160.4369,-144.9513 169.9835,-131.7372 177.0508,-121.5284\"/>\n",
       "<text text-anchor=\"middle\" x=\"175.6407\" y=\"-144.8\" font-family=\"Times,serif\" font-size=\"14.00\" fill=\"#000000\">1.13</text>\n",
       "</g>\n",
       "<!-- x -->\n",
       "<g id=\"node5\" class=\"node\">\n",
       "<title>x</title>\n",
       "<ellipse fill=\"none\" stroke=\"#000000\" cx=\"44.1407\" cy=\"-18\" rx=\"27\" ry=\"18\"/>\n",
       "<text text-anchor=\"middle\" x=\"44.1407\" y=\"-14.3\" font-family=\"Times,serif\" font-size=\"14.00\" fill=\"#000000\">x</text>\n",
       "</g>\n",
       "<!-- h2&#45;&#45;x -->\n",
       "<g id=\"edge5\" class=\"edge\">\n",
       "<title>h2&#45;&#45;x</title>\n",
       "<path fill=\"none\" stroke=\"#000000\" d=\"M106.4449,-87.7192C100.343,-77.475 91.9711,-64.4873 83.1407,-54 76.6121,-46.2466 68.4935,-38.5095 61.3565,-32.2063\"/>\n",
       "<text text-anchor=\"middle\" x=\"109.6407\" y=\"-57.8\" font-family=\"Times,serif\" font-size=\"14.00\" fill=\"#000000\">&#45;2.59</text>\n",
       "</g>\n",
       "<!-- 1 -->\n",
       "<g id=\"node6\" class=\"node\">\n",
       "<title>1</title>\n",
       "<ellipse fill=\"none\" stroke=\"#000000\" cx=\"137.1407\" cy=\"-18\" rx=\"27\" ry=\"18\"/>\n",
       "<text text-anchor=\"middle\" x=\"137.1407\" y=\"-14.3\" font-family=\"Times,serif\" font-size=\"14.00\" fill=\"#000000\">1</text>\n",
       "</g>\n",
       "<!-- h2&#45;&#45;1 -->\n",
       "<g id=\"edge7\" class=\"edge\">\n",
       "<title>h2&#45;&#45;1</title>\n",
       "<path fill=\"none\" stroke=\"#000000\" d=\"M128.1497,-88.6102C131.7789,-82.7252 135.2901,-75.8452 137.1407,-69 140.006,-58.4013 140.0955,-46.1045 139.4261,-36.2413\"/>\n",
       "<text text-anchor=\"middle\" x=\"152.6407\" y=\"-57.8\" font-family=\"Times,serif\" font-size=\"14.00\" fill=\"#000000\">1.27</text>\n",
       "</g>\n",
       "<!-- h1&#45;&#45;x -->\n",
       "<g id=\"edge4\" class=\"edge\">\n",
       "<title>h1&#45;&#45;x</title>\n",
       "<path fill=\"none\" stroke=\"#000000\" d=\"M23.49,-92.9184C15.2361,-86.8842 6.6352,-78.7721 2.1407,-69 -4.809,-53.8899 9.5883,-39.535 23.38,-29.9275\"/>\n",
       "<text text-anchor=\"middle\" x=\"17.6407\" y=\"-57.8\" font-family=\"Times,serif\" font-size=\"14.00\" fill=\"#000000\">&#45;8.18</text>\n",
       "</g>\n",
       "<!-- h1&#45;&#45;1 -->\n",
       "<g id=\"edge6\" class=\"edge\">\n",
       "<title>h1&#45;&#45;1</title>\n",
       "<path fill=\"none\" stroke=\"#000000\" d=\"M42.8361,-86.7718C43.0197,-76.1918 44.9706,-63.1837 52.1407,-54 59.8825,-44.0839 90.0982,-32.7904 112.3103,-25.5386\"/>\n",
       "<text text-anchor=\"middle\" x=\"65.6407\" y=\"-57.8\" font-family=\"Times,serif\" font-size=\"14.00\" fill=\"#000000\">4.08</text>\n",
       "</g>\n",
       "</g>\n",
       "</svg>\n"
      ],
      "text/plain": [
       "<graphviz.dot.Graph at 0x7f76087842b0>"
      ]
     },
     "execution_count": 32,
     "metadata": {
      "tags": []
     },
     "output_type": "execute_result"
    }
   ],
   "source": [
    "# Plot the network\n",
    "g = gv.Graph()\n",
    "g.edge(\"y\", \"h2\", \"%.2f\" % float(sigmoidModel.w[1][1,0]))\n",
    "g.edge(\"y\", \"h1\", \"%.2f\" % float(sigmoidModel.w[1][0,0]))\n",
    "g.edge(\"y\", \"1 \", \"%.2f\" % float(sigmoidModel.b[1][0,0]))\n",
    "\n",
    "g.edge(\"h1\", \"x\", \"%.2f\" % float(sigmoidModel.w[0][0,0]))\n",
    "g.edge(\"h2\", \"x\", \"%.2f\" % float(sigmoidModel.w[0][0,1]))\n",
    "g.edge(\"h1\", \"1\", \"%.2f\" % float(sigmoidModel.b[0][0,0]))\n",
    "g.edge(\"h2\", \"1\", \"%.2f\" % float(sigmoidModel.b[0][0,1]))\n",
    "g"
   ]
  },
  {
   "cell_type": "code",
   "execution_count": null,
   "metadata": {
    "colab": {
     "base_uri": "https://localhost:8080/"
    },
    "id": "R7Obu53Kkef2",
    "outputId": "21d2a40a-024d-462e-821b-80801534f446"
   },
   "outputs": [
    {
     "data": {
      "text/plain": [
       "<tf.Tensor: shape=(1, 1), dtype=float32, numpy=array([[-0.748565]], dtype=float32)>"
      ]
     },
     "execution_count": 283,
     "metadata": {
      "tags": []
     },
     "output_type": "execute_result"
    }
   ],
   "source": [
    "tf.matmul(tf.nn.sigmoid(tf.matmul(tf.constant([[0.5]]), sigmoidModel.w[0]) + sigmoidModel.b[0]), sigmoidModel.w[1]) + sigmoidModel.b[1]"
   ]
  },
  {
   "cell_type": "markdown",
   "metadata": {
    "id": "K7cblEvy49nJ"
   },
   "source": [
    "---\n",
    "\n",
    "# Approximating an Arbitrary Function using Convolution\n",
    "\n",
    "This section describes a neural network configuration that can approximate a real-valued function $\\mathbb{R} \\rightarrow \\mathbb{R}$ on a certain domain. The structure is inspired by signal convolution in linear systems, but it is also reminiscent of a fuzzy logic system. [Theory and Method](#scrollTo=pgvQywdywT27) describes the mathematical principles and [Implementation](#scrollTo=x5qhSvWBw4bI) provides code for exploration and testing.\n"
   ]
  },
  {
   "cell_type": "markdown",
   "metadata": {
    "id": "pgvQywdywT27"
   },
   "source": [
    "## Theory and Method"
   ]
  },
  {
   "cell_type": "code",
   "execution_count": null,
   "metadata": {
    "colab": {
     "base_uri": "https://localhost:8080/",
     "height": 272
    },
    "id": "H2P0q-x8JUQc",
    "outputId": "19cd1898-507e-415e-b5cd-b83144c507c9"
   },
   "outputs": [
    {
     "data": {
      "image/svg+xml": [
       "<?xml version=\"1.0\" encoding=\"UTF-8\" standalone=\"no\"?>\n",
       "<!DOCTYPE svg PUBLIC \"-//W3C//DTD SVG 1.1//EN\"\n",
       " \"http://www.w3.org/Graphics/SVG/1.1/DTD/svg11.dtd\">\n",
       "<!-- Generated by graphviz version 2.40.1 (20161225.0304)\n",
       " -->\n",
       "<!-- Title: %3 Pages: 1 -->\n",
       "<svg width=\"422pt\" height=\"188pt\"\n",
       " viewBox=\"0.00 0.00 422.00 188.00\" xmlns=\"http://www.w3.org/2000/svg\" xmlns:xlink=\"http://www.w3.org/1999/xlink\">\n",
       "<g id=\"graph0\" class=\"graph\" transform=\"scale(1 1) rotate(0) translate(4 184)\">\n",
       "<title>%3</title>\n",
       "<polygon fill=\"#ffffff\" stroke=\"transparent\" points=\"-4,4 -4,-184 418,-184 418,4 -4,4\"/>\n",
       "<!-- i -->\n",
       "<g id=\"node1\" class=\"node\">\n",
       "<title>i</title>\n",
       "<ellipse fill=\"none\" stroke=\"#000000\" cx=\"207\" cy=\"-18\" rx=\"27\" ry=\"18\"/>\n",
       "<text text-anchor=\"middle\" x=\"207\" y=\"-14.3\" font-family=\"Times,serif\" font-size=\"14.00\" fill=\"#000000\">x</text>\n",
       "</g>\n",
       "<!-- o -->\n",
       "<g id=\"node2\" class=\"node\">\n",
       "<title>o</title>\n",
       "<ellipse fill=\"none\" stroke=\"#000000\" cx=\"207\" cy=\"-162\" rx=\"27\" ry=\"18\"/>\n",
       "<text text-anchor=\"middle\" x=\"207\" y=\"-158.3\" font-family=\"Times,serif\" font-size=\"14.00\" fill=\"#000000\">y</text>\n",
       "</g>\n",
       "<!-- a -->\n",
       "<g id=\"node3\" class=\"node\">\n",
       "<title>a</title>\n",
       "<ellipse fill=\"none\" stroke=\"#000000\" cx=\"27\" cy=\"-90\" rx=\"27\" ry=\"18\"/>\n",
       "</g>\n",
       "<!-- o&#45;&#45;a -->\n",
       "<g id=\"edge1\" class=\"edge\">\n",
       "<title>o&#45;&#45;a</title>\n",
       "<path fill=\"none\" stroke=\"#000000\" d=\"M182.7416,-153.7783C153.869,-143.7927 104.3615,-126.0365 63,-108 58.2601,-105.9331 53.2525,-103.5571 48.5278,-101.2234\"/>\n",
       "</g>\n",
       "<!-- b -->\n",
       "<g id=\"node4\" class=\"node\">\n",
       "<title>b</title>\n",
       "<ellipse fill=\"none\" stroke=\"#000000\" cx=\"99\" cy=\"-90\" rx=\"27\" ry=\"18\"/>\n",
       "</g>\n",
       "<!-- o&#45;&#45;b -->\n",
       "<g id=\"edge2\" class=\"edge\">\n",
       "<title>o&#45;&#45;b</title>\n",
       "<path fill=\"none\" stroke=\"#000000\" d=\"M187.6918,-149.1278C168.0337,-136.0225 137.7386,-115.8257 118.1411,-102.7607\"/>\n",
       "</g>\n",
       "<!-- c -->\n",
       "<g id=\"node5\" class=\"node\">\n",
       "<title>c</title>\n",
       "<ellipse fill=\"none\" stroke=\"#000000\" cx=\"171\" cy=\"-90\" rx=\"27\" ry=\"18\"/>\n",
       "</g>\n",
       "<!-- o&#45;&#45;c -->\n",
       "<g id=\"edge3\" class=\"edge\">\n",
       "<title>o&#45;&#45;c</title>\n",
       "<path fill=\"none\" stroke=\"#000000\" d=\"M198.2854,-144.5708C192.6253,-133.2506 185.2784,-118.5568 179.6343,-107.2687\"/>\n",
       "</g>\n",
       "<!-- d -->\n",
       "<g id=\"node6\" class=\"node\">\n",
       "<title>d</title>\n",
       "<ellipse fill=\"none\" stroke=\"#000000\" cx=\"243\" cy=\"-90\" rx=\"27\" ry=\"18\"/>\n",
       "</g>\n",
       "<!-- o&#45;&#45;d -->\n",
       "<g id=\"edge4\" class=\"edge\">\n",
       "<title>o&#45;&#45;d</title>\n",
       "<path fill=\"none\" stroke=\"#000000\" d=\"M215.7146,-144.5708C221.3747,-133.2506 228.7216,-118.5568 234.3657,-107.2687\"/>\n",
       "</g>\n",
       "<!-- e -->\n",
       "<g id=\"node7\" class=\"node\">\n",
       "<title>e</title>\n",
       "<ellipse fill=\"none\" stroke=\"#000000\" cx=\"315\" cy=\"-90\" rx=\"27\" ry=\"18\"/>\n",
       "</g>\n",
       "<!-- o&#45;&#45;e -->\n",
       "<g id=\"edge5\" class=\"edge\">\n",
       "<title>o&#45;&#45;e</title>\n",
       "<path fill=\"none\" stroke=\"#000000\" d=\"M226.3082,-149.1278C245.9663,-136.0225 276.2614,-115.8257 295.8589,-102.7607\"/>\n",
       "</g>\n",
       "<!-- f -->\n",
       "<g id=\"node8\" class=\"node\">\n",
       "<title>f</title>\n",
       "<ellipse fill=\"none\" stroke=\"#000000\" cx=\"387\" cy=\"-90\" rx=\"27\" ry=\"18\"/>\n",
       "</g>\n",
       "<!-- o&#45;&#45;f -->\n",
       "<g id=\"edge6\" class=\"edge\">\n",
       "<title>o&#45;&#45;f</title>\n",
       "<path fill=\"none\" stroke=\"#000000\" d=\"M231.2584,-153.7783C260.131,-143.7927 309.6385,-126.0365 351,-108 355.7399,-105.9331 360.7475,-103.5571 365.4722,-101.2234\"/>\n",
       "</g>\n",
       "<!-- a&#45;&#45;i -->\n",
       "<g id=\"edge7\" class=\"edge\">\n",
       "<title>a&#45;&#45;i</title>\n",
       "<path fill=\"none\" stroke=\"#000000\" d=\"M48.5278,-78.7766C53.2525,-76.4429 58.2601,-74.0669 63,-72 104.3615,-53.9635 153.869,-36.2073 182.7416,-26.2217\"/>\n",
       "</g>\n",
       "<!-- b&#45;&#45;i -->\n",
       "<g id=\"edge8\" class=\"edge\">\n",
       "<title>b&#45;&#45;i</title>\n",
       "<path fill=\"none\" stroke=\"#000000\" d=\"M118.3082,-77.1278C137.9663,-64.0225 168.2614,-43.8257 187.8589,-30.7607\"/>\n",
       "</g>\n",
       "<!-- c&#45;&#45;i -->\n",
       "<g id=\"edge9\" class=\"edge\">\n",
       "<title>c&#45;&#45;i</title>\n",
       "<path fill=\"none\" stroke=\"#000000\" d=\"M179.7146,-72.5708C185.3747,-61.2506 192.7216,-46.5568 198.3657,-35.2687\"/>\n",
       "</g>\n",
       "<!-- d&#45;&#45;i -->\n",
       "<g id=\"edge10\" class=\"edge\">\n",
       "<title>d&#45;&#45;i</title>\n",
       "<path fill=\"none\" stroke=\"#000000\" d=\"M234.2854,-72.5708C228.6253,-61.2506 221.2784,-46.5568 215.6343,-35.2687\"/>\n",
       "</g>\n",
       "<!-- e&#45;&#45;i -->\n",
       "<g id=\"edge11\" class=\"edge\">\n",
       "<title>e&#45;&#45;i</title>\n",
       "<path fill=\"none\" stroke=\"#000000\" d=\"M295.6918,-77.1278C276.0337,-64.0225 245.7386,-43.8257 226.1411,-30.7607\"/>\n",
       "</g>\n",
       "<!-- f&#45;&#45;i -->\n",
       "<g id=\"edge12\" class=\"edge\">\n",
       "<title>f&#45;&#45;i</title>\n",
       "<path fill=\"none\" stroke=\"#000000\" d=\"M365.4722,-78.7766C360.7475,-76.4429 355.7399,-74.0669 351,-72 309.6385,-53.9635 260.131,-36.2073 231.2584,-26.2217\"/>\n",
       "</g>\n",
       "</g>\n",
       "</svg>\n"
      ],
      "text/plain": [
       "<graphviz.dot.Graph at 0x7f9595a77b00>"
      ]
     },
     "execution_count": 31,
     "metadata": {
      "tags": []
     },
     "output_type": "execute_result"
    }
   ],
   "source": [
    "g = gv.Graph()\n",
    "g.node_attr[\"label\"] = \"\"\n",
    "g.node(\"i\", \"x\")\n",
    "g.node(\"o\", \"y\")\n",
    "g.edges([\"oa\", \"ob\", \"oc\", \"od\", \"oe\", \"of\"])\n",
    "g.edges([\"ai\", \"bi\", \"ci\", \"di\", \"ei\", \"fi\"])\n",
    "g"
   ]
  },
  {
   "cell_type": "markdown",
   "metadata": {
    "id": "x1MttPUnA-Ku"
   },
   "source": [
    "The network has one input node, one output node, and one hidden layer. Let $h$ denote the number of nodes in the hidden layer. The approximation becomes better as $h$ increases.\n",
    "\n",
    "Broadly, this network approximates a function by partitioning the domain of interest into $h$ equally-sized segments. The goal for any input is to get one particular node in the hidden layer to activate while the rest are deactivated. The activated node should correspond to the segment in which the input resides. The final set of weights can then easily be tuned so that the final output corresponds to the activated node according to the function being approximated.\n",
    "\n",
    "Intuitively, each hidden node \"detects\" when the input is close to a particular value. To accomplish this, an activation function $a$ should be used such that:\n",
    "\n",
    "$$a(0) = 1$$\n",
    "$$\\lim_{x \\rightarrow \\infty} a(x) = \\lim_{x \\rightarrow -\\infty} a(x) = 0$$\n",
    "\n",
    "For example, a gaussian or \"spike\" curve will suffice. Now suppose the $i$-th hidden node needs to detect when the input is near $x_i$. Then the activation $v_i$ of that node should be:\n",
    "\n",
    "$$ v_i = a(wx -wx_i) $$\n",
    "\n",
    "The weight $w$ can be varied, but the bias needs to be set so that $v_i = 1$ when $x = x_i$.\n",
    "\n",
    "If we are approximating a function $f$, then the output $y$ is given by:\n",
    "$$ y = \\sum_{i=1}^{h} v_i f(x_i) $$"
   ]
  },
  {
   "cell_type": "markdown",
   "metadata": {
    "id": "kpJhTEJEPVUv"
   },
   "source": [
    "The neural network is essentially just calculating $f$ by approximating the following equation:\n",
    "\n",
    "$$ f(x) = \\int_{a}^{b} f(\\tau)\\ \\delta(x - \\tau)\\ d\\tau \\approx \\sum_{i=1}^{h} f(i \\Delta)\\ r(x - i \\Delta) $$\n",
    "\n",
    "where $(a,b)$ is our domain of interest, $\\Delta = (b - a)/h$, $r(0) = 1$, and $r(x) = 0$ for $x \\ge h$ or $x \\le -h$.\n",
    "\n",
    "If we substitute the computation for $v_i$ into the equation for $y$, we can see the similarity:\n",
    "\n",
    "$$ y = \\sum_{i=1}^{h} f(x_i)\\ a(wx - wx_i)$$\n",
    "\n",
    "If we let $x_i = i\\Delta$ and $a(wt) = r(t)$, then the correspondence becomes complete.\n",
    "\n",
    "$$ y = \\sum_{i=1}^{h} f(i\\Delta)\\ a(w \\cdot (x - i\\Delta))$$"
   ]
  },
  {
   "cell_type": "markdown",
   "metadata": {
    "id": "x5qhSvWBw4bI"
   },
   "source": [
    "## Implementation\n",
    "\n",
    "Currently, the function being approximated is $0.5 \\sin(\\pi x)$. Change [this cell](#scrollTo=AKMcQ9OXEPdR) if you want to approximate a different function.\n",
    "\n",
    "[This cell](#scrollTo=zXPo8b9yndcO) manually sets the weights and biases of the network to the values prescribed by the theory. These are not guarenteed to be the best values (training the network afterwards does give improvements), but gives a good starting point.\n",
    "\n",
    "If the weights and biases are randomly initialized, the network probably won't learn on its own to use this approximation method. It just serves as a demonstration of how a network with one hidden layer could theoretically learn any real valued function."
   ]
  },
  {
   "cell_type": "code",
   "execution_count": null,
   "metadata": {
    "id": "ZR1yszCaDnkB"
   },
   "outputs": [],
   "source": [
    "# Constructs a new model called \"sinModel\"\n",
    "# MyModel(h) constructs the 3-layer network described above with h\n",
    "# nodes in the hidden layer.\n",
    "class MyModel(tf.keras.Model):\n",
    "  def __init__(self, h, **kwargs):\n",
    "    super().__init__(**kwargs)\n",
    "    #self.a = lambda x: tf.exp(-x**2)   # the gaussian activation function\n",
    "    self.a = lambda x: tf.maximum(1-tf.abs(x), 0)  # sawtooth activation\n",
    "    self.w1 = tf.Variable(tf.random.uniform(shape=[1, h]))\n",
    "    self.b1 = tf.Variable(tf.random.uniform(shape=[1, h]))\n",
    "    self.w2 = tf.Variable(tf.random.uniform(shape=[h, 1]))\n",
    "    self.b2 = tf.Variable(tf.random.uniform(shape=[1, 1]))\n",
    "  def hl_act(self, i, x, **kwargs):\n",
    "    w1 = tf.reshape(self.w1[0,i], [1, 1])\n",
    "    b1 = tf.reshape(self.b1[0,i], [1, 1])\n",
    "    return self.a(tf.matmul(x, w1) + b1)\n",
    "  def __call__(self, x, **kwargs):\n",
    "    hiddenlayer = self.a(tf.matmul(x, self.w1) + self.b1)\n",
    "    return tf.matmul(hiddenlayer, self.w2) + self.b2\n",
    "\n",
    "sinModel = MyModel(6)"
   ]
  },
  {
   "cell_type": "code",
   "execution_count": null,
   "metadata": {
    "id": "AKMcQ9OXEPdR"
   },
   "outputs": [],
   "source": [
    "# The function we want to approximate.\n",
    "# In this case, 0.5sin(pi*x)\n",
    "def f(x):\n",
    "  return 0.5 * tf.sin(math.pi * x)"
   ]
  },
  {
   "cell_type": "code",
   "execution_count": null,
   "metadata": {
    "colab": {
     "base_uri": "https://localhost:8080/"
    },
    "id": "zXPo8b9yndcO",
    "outputId": "305b0e0b-2dbd-4929-f810-b68b68ac63d9"
   },
   "outputs": [
    {
     "data": {
      "text/plain": [
       "<tf.Variable 'UnreadVariable' shape=(1, 1) dtype=float32, numpy=array([[0.]], dtype=float32)>"
      ]
     },
     "execution_count": 333,
     "metadata": {
      "tags": []
     },
     "output_type": "execute_result"
    }
   ],
   "source": [
    "# Manually set the weights and biases to approximate f on\n",
    "# the interval [0,1]. Six sample values are used.\n",
    "\n",
    "parts = tf.constant([[0.0, 0.2, 0.4, 0.6, 0.8, 1.0]])\n",
    "w = 5.0\n",
    "\n",
    "sinModel = MyModel(6)\n",
    "sinModel.w1.assign(tf.constant([[w, w, w, w, w, w]]))\n",
    "sinModel.b1.assign(parts * -w)\n",
    "sinModel.w2.assign(f(tf.reshape(parts, (6, 1))))\n",
    "sinModel.b2.assign(tf.zeros(shape=(1,1)))"
   ]
  },
  {
   "cell_type": "code",
   "execution_count": null,
   "metadata": {
    "colab": {
     "base_uri": "https://localhost:8080/",
     "height": 265
    },
    "id": "9BCjyzJMwEa4",
    "outputId": "899d7fc3-c14b-4b14-8af1-2e107404e846"
   },
   "outputs": [
    {
     "data": {
      "image/png": "[encoded data removed]",
      "text/plain": [
       "<Figure size 432x288 with 1 Axes>"
      ]
     },
     "metadata": {
      "needs_background": "light",
      "tags": []
     },
     "output_type": "display_data"
    }
   ],
   "source": [
    "# Test: plot the model approximation and the actual function f\n",
    "x = tf.random.uniform((100, 1, 1), minval=0.0, maxval=1.0)\n",
    "y = f(x)\n",
    "y_obs = sinModel(x)\n",
    "plt.scatter(x, y, c=\"black\", s=3)\n",
    "plt.scatter(x, y_obs, c=\"red\", s=3)\n",
    "plt.show()"
   ]
  },
  {
   "cell_type": "code",
   "execution_count": null,
   "metadata": {
    "colab": {
     "base_uri": "https://localhost:8080/"
    },
    "id": "8a7YWF7kuVwi",
    "outputId": "56851789-6af3-476c-842f-4e2f95d480f7"
   },
   "outputs": [
    {
     "data": {
      "text/plain": [
       "<tensorflow.python.keras.callbacks.History at 0x7fc6afc9bd68>"
      ]
     },
     "execution_count": 346,
     "metadata": {
      "tags": []
     },
     "output_type": "execute_result"
    }
   ],
   "source": [
    "# Train the model\n",
    "sinModel.compile(run_eagerly=False,\n",
    "                optimizer=tf.keras.optimizers.SGD(learning_rate=0.01),\n",
    "                loss=tf.keras.losses.mean_squared_error)\n",
    "sinModel.fit(x, y, epochs=1000, batch_size=100, verbose=0)"
   ]
  },
  {
   "cell_type": "code",
   "execution_count": null,
   "metadata": {
    "colab": {
     "base_uri": "https://localhost:8080/"
    },
    "id": "W5KmpevavagN",
    "outputId": "7564d822-7ca0-4136-e80f-34baba93da12"
   },
   "outputs": [
    {
     "name": "stdout",
     "output_type": "stream",
     "text": [
      "<tf.Variable 'Variable:0' shape=(1, 6) dtype=float32, numpy=\n",
      "array([[5.       , 4.998653 , 4.994859 , 4.9996285, 5.008215 , 5.       ]],\n",
      "      dtype=float32)>\n"
     ]
    }
   ],
   "source": [
    "# print weights and biases\n",
    "print(sinModel.w1)"
   ]
  },
  {
   "cell_type": "code",
   "execution_count": null,
   "metadata": {
    "colab": {
     "base_uri": "https://localhost:8080/",
     "height": 265
    },
    "id": "3TM7e1I8-jEv",
    "outputId": "dc248cda-fc91-4435-b5a5-693cd934133a"
   },
   "outputs": [
    {
     "data": {
      "image/png": "[encoded data removed]",
      "text/plain": [
       "<Figure size 432x288 with 1 Axes>"
      ]
     },
     "metadata": {
      "needs_background": "light",
      "tags": []
     },
     "output_type": "display_data"
    }
   ],
   "source": [
    "# plot the activation of the 0-th hidden node\n",
    "x = tf.random.uniform((100, 1, 1), minval=0.0, maxval=1.0)\n",
    "y = f(x)\n",
    "y_obs = sinModel.hl_act(0, x)\n",
    "\n",
    "plt.scatter(x, y, c=\"black\", s=3)\n",
    "plt.scatter(x, y_obs, c=\"red\", s=3)\n",
    "plt.show()"
   ]
  },
  {
   "cell_type": "markdown",
   "metadata": {
    "id": "TkR9VW56xEpj"
   },
   "source": [
    "## Four-Layer Version\n",
    "\n",
    "Commonly used activation functions like sigmoid and the rectified linear don't usually tend toward zero on both ends. However, inserting another hidden layer allows us to use sigmoidal activation functions.\n",
    "\n",
    "Broadly, the purpose of the nodes in the second hidden layer is the same as the hidden nodes in the 3-layer version: to activate when the input is close to some fixed value. The nodes in the first hidden layer should be zero, when read from left to right, until some node where the values switch to one.\n",
    "\n",
    "Speaking of the hidden layers in terms of signals, the second hidden layer is the \"derivative\" of the first, and the feed-forward calculation between them can be compared to convolving the first signal with the $\\delta$ signal."
   ]
  },
  {
   "cell_type": "code",
   "execution_count": null,
   "metadata": {
    "colab": {
     "base_uri": "https://localhost:8080/",
     "height": 368
    },
    "id": "yLpzCW_Y9ZHy",
    "outputId": "cbf38cd6-5566-4e51-c0aa-579847acd52b"
   },
   "outputs": [
    {
     "data": {
      "image/svg+xml": [
       "<?xml version=\"1.0\" encoding=\"UTF-8\" standalone=\"no\"?>\n",
       "<!DOCTYPE svg PUBLIC \"-//W3C//DTD SVG 1.1//EN\"\n",
       " \"http://www.w3.org/Graphics/SVG/1.1/DTD/svg11.dtd\">\n",
       "<!-- Generated by graphviz version 2.40.1 (20161225.0304)\n",
       " -->\n",
       "<!-- Title: %3 Pages: 1 -->\n",
       "<svg width=\"422pt\" height=\"260pt\"\n",
       " viewBox=\"0.00 0.00 422.00 260.00\" xmlns=\"http://www.w3.org/2000/svg\" xmlns:xlink=\"http://www.w3.org/1999/xlink\">\n",
       "<g id=\"graph0\" class=\"graph\" transform=\"scale(1 1) rotate(0) translate(4 256)\">\n",
       "<title>%3</title>\n",
       "<polygon fill=\"#ffffff\" stroke=\"transparent\" points=\"-4,4 -4,-256 418,-256 418,4 -4,4\"/>\n",
       "<!-- i -->\n",
       "<g id=\"node1\" class=\"node\">\n",
       "<title>i</title>\n",
       "<ellipse fill=\"none\" stroke=\"#000000\" cx=\"207\" cy=\"-18\" rx=\"27\" ry=\"18\"/>\n",
       "<text text-anchor=\"middle\" x=\"207\" y=\"-14.3\" font-family=\"Times,serif\" font-size=\"14.00\" fill=\"#000000\">x</text>\n",
       "</g>\n",
       "<!-- o -->\n",
       "<g id=\"node2\" class=\"node\">\n",
       "<title>o</title>\n",
       "<ellipse fill=\"none\" stroke=\"#000000\" cx=\"207\" cy=\"-234\" rx=\"27\" ry=\"18\"/>\n",
       "<text text-anchor=\"middle\" x=\"207\" y=\"-230.3\" font-family=\"Times,serif\" font-size=\"14.00\" fill=\"#000000\">y</text>\n",
       "</g>\n",
       "<!-- a -->\n",
       "<g id=\"node5\" class=\"node\">\n",
       "<title>a</title>\n",
       "<ellipse fill=\"none\" stroke=\"#000000\" cx=\"27\" cy=\"-162\" rx=\"27\" ry=\"18\"/>\n",
       "<text text-anchor=\"middle\" x=\"27\" y=\"-158.3\" font-family=\"Times,serif\" font-size=\"14.00\" fill=\"#000000\">0</text>\n",
       "</g>\n",
       "<!-- o&#45;&#45;a -->\n",
       "<g id=\"edge1\" class=\"edge\">\n",
       "<title>o&#45;&#45;a</title>\n",
       "<path fill=\"none\" stroke=\"#000000\" d=\"M182.7416,-225.7783C153.869,-215.7927 104.3615,-198.0365 63,-180 58.2601,-177.9331 53.2525,-175.5571 48.5278,-173.2234\"/>\n",
       "</g>\n",
       "<!-- b -->\n",
       "<g id=\"node6\" class=\"node\">\n",
       "<title>b</title>\n",
       "<ellipse fill=\"none\" stroke=\"#000000\" cx=\"99\" cy=\"-162\" rx=\"27\" ry=\"18\"/>\n",
       "<text text-anchor=\"middle\" x=\"99\" y=\"-158.3\" font-family=\"Times,serif\" font-size=\"14.00\" fill=\"#000000\">0</text>\n",
       "</g>\n",
       "<!-- o&#45;&#45;b -->\n",
       "<g id=\"edge2\" class=\"edge\">\n",
       "<title>o&#45;&#45;b</title>\n",
       "<path fill=\"none\" stroke=\"#000000\" d=\"M187.6918,-221.1278C168.0337,-208.0225 137.7386,-187.8257 118.1411,-174.7607\"/>\n",
       "</g>\n",
       "<!-- d -->\n",
       "<g id=\"node7\" class=\"node\">\n",
       "<title>d</title>\n",
       "<ellipse fill=\"none\" stroke=\"#000000\" cx=\"243\" cy=\"-162\" rx=\"27\" ry=\"18\"/>\n",
       "<text text-anchor=\"middle\" x=\"243\" y=\"-158.3\" font-family=\"Times,serif\" font-size=\"14.00\" fill=\"#000000\">0</text>\n",
       "</g>\n",
       "<!-- o&#45;&#45;d -->\n",
       "<g id=\"edge4\" class=\"edge\">\n",
       "<title>o&#45;&#45;d</title>\n",
       "<path fill=\"none\" stroke=\"#000000\" d=\"M215.7146,-216.5708C221.3747,-205.2506 228.7216,-190.5568 234.3657,-179.2687\"/>\n",
       "</g>\n",
       "<!-- e -->\n",
       "<g id=\"node8\" class=\"node\">\n",
       "<title>e</title>\n",
       "<ellipse fill=\"none\" stroke=\"#000000\" cx=\"315\" cy=\"-162\" rx=\"27\" ry=\"18\"/>\n",
       "<text text-anchor=\"middle\" x=\"315\" y=\"-158.3\" font-family=\"Times,serif\" font-size=\"14.00\" fill=\"#000000\">0</text>\n",
       "</g>\n",
       "<!-- o&#45;&#45;e -->\n",
       "<g id=\"edge5\" class=\"edge\">\n",
       "<title>o&#45;&#45;e</title>\n",
       "<path fill=\"none\" stroke=\"#000000\" d=\"M226.3082,-221.1278C245.9663,-208.0225 276.2614,-187.8257 295.8589,-174.7607\"/>\n",
       "</g>\n",
       "<!-- f -->\n",
       "<g id=\"node9\" class=\"node\">\n",
       "<title>f</title>\n",
       "<ellipse fill=\"none\" stroke=\"#000000\" cx=\"387\" cy=\"-162\" rx=\"27\" ry=\"18\"/>\n",
       "<text text-anchor=\"middle\" x=\"387\" y=\"-158.3\" font-family=\"Times,serif\" font-size=\"14.00\" fill=\"#000000\">0</text>\n",
       "</g>\n",
       "<!-- o&#45;&#45;f -->\n",
       "<g id=\"edge6\" class=\"edge\">\n",
       "<title>o&#45;&#45;f</title>\n",
       "<path fill=\"none\" stroke=\"#000000\" d=\"M231.2584,-225.7783C260.131,-215.7927 309.6385,-198.0365 351,-180 355.7399,-177.9331 360.7475,-175.5571 365.4722,-173.2234\"/>\n",
       "</g>\n",
       "<!-- c -->\n",
       "<g id=\"node13\" class=\"node\">\n",
       "<title>c</title>\n",
       "<ellipse fill=\"none\" stroke=\"#000000\" cx=\"171\" cy=\"-162\" rx=\"27\" ry=\"18\"/>\n",
       "<text text-anchor=\"middle\" x=\"171\" y=\"-158.3\" font-family=\"Times,serif\" font-size=\"14.00\" fill=\"#000000\">1</text>\n",
       "</g>\n",
       "<!-- o&#45;&#45;c -->\n",
       "<g id=\"edge3\" class=\"edge\">\n",
       "<title>o&#45;&#45;c</title>\n",
       "<path fill=\"none\" stroke=\"#000000\" d=\"M198.2854,-216.5708C192.6253,-205.2506 185.2784,-190.5568 179.6343,-179.2687\"/>\n",
       "</g>\n",
       "<!-- u -->\n",
       "<g id=\"node3\" class=\"node\">\n",
       "<title>u</title>\n",
       "<ellipse fill=\"none\" stroke=\"#000000\" cx=\"63\" cy=\"-90\" rx=\"27\" ry=\"18\"/>\n",
       "<text text-anchor=\"middle\" x=\"63\" y=\"-86.3\" font-family=\"Times,serif\" font-size=\"14.00\" fill=\"#000000\">0</text>\n",
       "</g>\n",
       "<!-- u&#45;&#45;i -->\n",
       "<g id=\"edge17\" class=\"edge\">\n",
       "<title>u&#45;&#45;i</title>\n",
       "<path fill=\"none\" stroke=\"#000000\" d=\"M84.8705,-79.0647C112.0934,-65.4533 158.297,-42.3515 185.3955,-28.8022\"/>\n",
       "</g>\n",
       "<!-- v -->\n",
       "<g id=\"node4\" class=\"node\">\n",
       "<title>v</title>\n",
       "<ellipse fill=\"none\" stroke=\"#000000\" cx=\"135\" cy=\"-90\" rx=\"27\" ry=\"18\"/>\n",
       "<text text-anchor=\"middle\" x=\"135\" y=\"-86.3\" font-family=\"Times,serif\" font-size=\"14.00\" fill=\"#000000\">0</text>\n",
       "</g>\n",
       "<!-- v&#45;&#45;i -->\n",
       "<g id=\"edge18\" class=\"edge\">\n",
       "<title>v&#45;&#45;i</title>\n",
       "<path fill=\"none\" stroke=\"#000000\" d=\"M150.2693,-74.7307C162.488,-62.512 179.5398,-45.4602 191.7527,-33.2473\"/>\n",
       "</g>\n",
       "<!-- a&#45;&#45;u -->\n",
       "<g id=\"edge7\" class=\"edge\">\n",
       "<title>a&#45;&#45;u</title>\n",
       "<path fill=\"none\" stroke=\"#000000\" d=\"M35.7146,-144.5708C41.3747,-133.2506 48.7216,-118.5568 54.3657,-107.2687\"/>\n",
       "</g>\n",
       "<!-- b&#45;&#45;u -->\n",
       "<g id=\"edge8\" class=\"edge\">\n",
       "<title>b&#45;&#45;u</title>\n",
       "<path fill=\"none\" stroke=\"#000000\" d=\"M90.2854,-144.5708C84.6253,-133.2506 77.2784,-118.5568 71.6343,-107.2687\"/>\n",
       "</g>\n",
       "<!-- b&#45;&#45;v -->\n",
       "<g id=\"edge9\" class=\"edge\">\n",
       "<title>b&#45;&#45;v</title>\n",
       "<path fill=\"none\" stroke=\"#000000\" d=\"M107.7146,-144.5708C113.3747,-133.2506 120.7216,-118.5568 126.3657,-107.2687\"/>\n",
       "</g>\n",
       "<!-- w -->\n",
       "<g id=\"node10\" class=\"node\">\n",
       "<title>w</title>\n",
       "<ellipse fill=\"none\" stroke=\"#000000\" cx=\"207\" cy=\"-90\" rx=\"27\" ry=\"18\"/>\n",
       "<text text-anchor=\"middle\" x=\"207\" y=\"-86.3\" font-family=\"Times,serif\" font-size=\"14.00\" fill=\"#000000\">1</text>\n",
       "</g>\n",
       "<!-- d&#45;&#45;w -->\n",
       "<g id=\"edge12\" class=\"edge\">\n",
       "<title>d&#45;&#45;w</title>\n",
       "<path fill=\"none\" stroke=\"#000000\" d=\"M234.2854,-144.5708C228.6253,-133.2506 221.2784,-118.5568 215.6343,-107.2687\"/>\n",
       "</g>\n",
       "<!-- x -->\n",
       "<g id=\"node11\" class=\"node\">\n",
       "<title>x</title>\n",
       "<ellipse fill=\"none\" stroke=\"#000000\" cx=\"279\" cy=\"-90\" rx=\"27\" ry=\"18\"/>\n",
       "<text text-anchor=\"middle\" x=\"279\" y=\"-86.3\" font-family=\"Times,serif\" font-size=\"14.00\" fill=\"#000000\">1</text>\n",
       "</g>\n",
       "<!-- d&#45;&#45;x -->\n",
       "<g id=\"edge13\" class=\"edge\">\n",
       "<title>d&#45;&#45;x</title>\n",
       "<path fill=\"none\" stroke=\"#000000\" d=\"M251.7146,-144.5708C257.3747,-133.2506 264.7216,-118.5568 270.3657,-107.2687\"/>\n",
       "</g>\n",
       "<!-- e&#45;&#45;x -->\n",
       "<g id=\"edge14\" class=\"edge\">\n",
       "<title>e&#45;&#45;x</title>\n",
       "<path fill=\"none\" stroke=\"#000000\" d=\"M306.2854,-144.5708C300.6253,-133.2506 293.2784,-118.5568 287.6343,-107.2687\"/>\n",
       "</g>\n",
       "<!-- y -->\n",
       "<g id=\"node12\" class=\"node\">\n",
       "<title>y</title>\n",
       "<ellipse fill=\"none\" stroke=\"#000000\" cx=\"351\" cy=\"-90\" rx=\"27\" ry=\"18\"/>\n",
       "<text text-anchor=\"middle\" x=\"351\" y=\"-86.3\" font-family=\"Times,serif\" font-size=\"14.00\" fill=\"#000000\">1</text>\n",
       "</g>\n",
       "<!-- e&#45;&#45;y -->\n",
       "<g id=\"edge15\" class=\"edge\">\n",
       "<title>e&#45;&#45;y</title>\n",
       "<path fill=\"none\" stroke=\"#000000\" d=\"M323.7146,-144.5708C329.3747,-133.2506 336.7216,-118.5568 342.3657,-107.2687\"/>\n",
       "</g>\n",
       "<!-- f&#45;&#45;y -->\n",
       "<g id=\"edge16\" class=\"edge\">\n",
       "<title>f&#45;&#45;y</title>\n",
       "<path fill=\"none\" stroke=\"#000000\" d=\"M378.2854,-144.5708C372.6253,-133.2506 365.2784,-118.5568 359.6343,-107.2687\"/>\n",
       "</g>\n",
       "<!-- w&#45;&#45;i -->\n",
       "<g id=\"edge19\" class=\"edge\">\n",
       "<title>w&#45;&#45;i</title>\n",
       "<path fill=\"none\" stroke=\"#000000\" d=\"M207,-71.8314C207,-61 207,-47.2876 207,-36.4133\"/>\n",
       "</g>\n",
       "<!-- x&#45;&#45;i -->\n",
       "<g id=\"edge20\" class=\"edge\">\n",
       "<title>x&#45;&#45;i</title>\n",
       "<path fill=\"none\" stroke=\"#000000\" d=\"M263.7307,-74.7307C251.512,-62.512 234.4602,-45.4602 222.2473,-33.2473\"/>\n",
       "</g>\n",
       "<!-- y&#45;&#45;i -->\n",
       "<g id=\"edge21\" class=\"edge\">\n",
       "<title>y&#45;&#45;i</title>\n",
       "<path fill=\"none\" stroke=\"#000000\" d=\"M329.1295,-79.0647C301.9066,-65.4533 255.703,-42.3515 228.6045,-28.8022\"/>\n",
       "</g>\n",
       "<!-- c&#45;&#45;v -->\n",
       "<g id=\"edge10\" class=\"edge\">\n",
       "<title>c&#45;&#45;v</title>\n",
       "<path fill=\"none\" stroke=\"#000000\" d=\"M162.2854,-144.5708C156.6253,-133.2506 149.2784,-118.5568 143.6343,-107.2687\"/>\n",
       "</g>\n",
       "<!-- c&#45;&#45;w -->\n",
       "<g id=\"edge11\" class=\"edge\">\n",
       "<title>c&#45;&#45;w</title>\n",
       "<path fill=\"none\" stroke=\"#000000\" d=\"M179.7146,-144.5708C185.3747,-133.2506 192.7216,-118.5568 198.3657,-107.2687\"/>\n",
       "</g>\n",
       "</g>\n",
       "</svg>\n"
      ],
      "text/plain": [
       "<graphviz.dot.Graph at 0x7f6aae49dbe0>"
      ]
     },
     "execution_count": 38,
     "metadata": {
      "tags": []
     },
     "output_type": "execute_result"
    }
   ],
   "source": [
    "g = gv.Graph()\n",
    "g.node(\"i\", \"x\")\n",
    "g.node(\"o\", \"y\")\n",
    "for n in [\"u\", \"v\", \"a\", \"b\", \"d\", \"e\", \"f\"]: g.node(n, \"0\")\n",
    "for n in [\"w\", \"x\", \"y\", \"c\"]: g.node(n, \"1\")\n",
    "g.edges([\"oa\", \"ob\", \"oc\", \"od\", \"oe\", \"of\"])\n",
    "g.edges([\"au\", \"bu\", \"bv\", \"cv\", \"cw\", \"dw\", \"dx\", \"ex\", \"ey\", \"fy\"])\n",
    "g.edges([\"ui\", \"vi\", \"wi\", \"xi\", \"yi\"])\n",
    "g"
   ]
  }
 ],
 "metadata": {
  "colab": {
   "collapsed_sections": [
    "p3GNjYx5jqep"
   ],
   "name": "CPS491.ipynb",
   "provenance": [],
   "toc_visible": true
  },
  "kernelspec": {
   "display_name": "Python 3",
   "language": "python",
   "name": "python3"
  },
  "language_info": {
   "codemirror_mode": {
    "name": "ipython",
    "version": 3
   },
   "file_extension": ".py",
   "mimetype": "text/x-python",
   "name": "python",
   "nbconvert_exporter": "python",
   "pygments_lexer": "ipython3",
   "version": "3.8.5"
  }
 },
 "nbformat": 4,
 "nbformat_minor": 1
}
