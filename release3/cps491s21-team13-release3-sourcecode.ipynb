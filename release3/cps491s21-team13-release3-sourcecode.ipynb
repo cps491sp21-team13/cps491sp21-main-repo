{
 "cells": [
  {
   "cell_type": "markdown",
   "metadata": {
    "id": "lZm7vYUv2Arv"
   },
   "source": [
    "Zachary Rowland\n",
    "\n",
    "# CPS 491 Main Jupyter Notebook\n",
    "\n",
    "Contents\n",
    "\n",
    "- [Python Imports](#Python-Imports) Python imports for the whole document\n",
    "- [Introduction](#Introduction) Project motivation\n",
    "- [Discovering Functions using SINDy](#Discovering-Functions-Using-SINDy) Introduction to SINDy and model fitting using regression\n",
    "- [Applying SINDy to MNIST](#Applying-SINDy-to-MNIST) Experimenting with finding concise equations for image classification.\n",
    "- [Maclaurin Series Approximations](#Maclaurin-Series-Approximations) Older work experimenting with Maclaurin approximations.\n",
    "- [Change-of-Basis Approximation Strategy](#Change-of-Basis-Approximation-Strategy) A general approximation technique using one hidden layer and an arbitrary activation function.\n",
    "- [Approximating an Arbitrary Function using Convolution](#Approximating-an-Arbitrary-Function-using-Convolution) A method for approximating an arbitrary function inspired by convolution.\n",
    "- [Helpful Mathematical Theory](#Helpful-Mathematical-Theory) Math that might be related to the direction of the project.\n",
    "- [Related Work](#Related-Work) A small literature review of model compression and approximation theory of neural networks.\n",
    "\n",
    "[Tensorflow Guide](https://www.tensorflow.org/guide/)\n"
   ]
  },
  {
   "cell_type": "markdown",
   "metadata": {
    "id": "BIBLLa2_2lQN"
   },
   "source": [
    "# Python Imports\n",
    "\n",
    "These are just global imports that are used by the whole document. Run the following cell before running anything else."
   ]
  },
  {
   "cell_type": "code",
   "execution_count": 3,
   "metadata": {
    "id": "Qq7w88-22nnh"
   },
   "outputs": [],
   "source": [
    "import math\n",
    "import random\n",
    "import pandas as pd\n",
    "import numpy as np\n",
    "import matplotlib.pyplot as plt\n",
    "import graphviz as gv\n",
    "import sklearn.linear_model\n",
    "import tensorflow as tf\n",
    "\n",
    "from tensorflow import keras\n",
    "from tensorflow.keras.datasets import mnist\n",
    "from IPython.display import display, Math, Latex"
   ]
  },
  {
   "cell_type": "markdown",
   "metadata": {
    "id": "GaeUpA0Zc9u3"
   },
   "source": [
    "# Introduction\n",
    "\n",
    "Learning systems have always been an important part of data analysis. The simplest method of learning a function from data is the linear regression, but today's deep neural networks have proven capable of learning a variety of non-linear functions. However, deep neural networks are still shrowded in an air of mystery because of their complexity. Deep neural networks commonly have thousands of parameters that describe the precise function that the network implements as opposed to the two parameters learned by a simple linear regression. The main benefit of increasing the number of parameters is increasing expressivity, the amount and types of functions that can be learned. But the downside of expressive learning systems is intractable resulting models.\n",
    "\n",
    "Many researchers interested in applying deep learning consider trading tractability for expressivity to be an acceptable trade-off. However, [Lin et. al.](https://arxiv.org/pdf/1608.08225.pdf) questions if this exchange is necessary. Most phenomena in the natural sciences can be described with low-complexity mathematical models built from a combination of a small number of simple \"base functions\" such as polynomials, sinusoids, and exponentials. This insight suggests that neural networks are probably much more complex than is necessary to express the functions they are learning. Large sections of a trained network might be performing meaningless computations, or performing useful computations that could be computed with less machinary.\n",
    "\n",
    "The inscrutible nature of DNNs motivates research into smaller learning systems that that are more tractable.\n",
    "\n",
    "1. **Model compression** attempts to reduce the complexity of a trained DNN by pruning pieces off of the network that are deemed unnecessary.\n",
    "2. **Alternative learning systems** such as fuzzy inference systems attempt to make the function-approximation framework itself intuitive to humans.\n",
    "\n"
   ]
  },
  {
   "cell_type": "markdown",
   "metadata": {
    "id": "POCjrhlSnvOo"
   },
   "source": [
    "# Searching for an Analytical Model Compression Scheme\n",
    "\n",
    "Part of the reason neural networks are hard to understand is that their mathematical representation is dissimilar to any other mathematical models we usually come across. To illustrate, consider the following function that represents some trained neural network with three hidden nodes using the standard sigmoid activation function $\\sigma(x) = (1+e^{-x})^{-1}$.\n",
    "\n",
    "$$ f(x) = 1.98\\sigma(2.32x - 0.27) + 2.18\\sigma(-2.20x + 6.91) + 1.81\\sigma(2.37x -14.45) - 3.07 $$\n",
    "\n",
    "This function turns out to be a very good approximation of $\\sin(x)$ for $x \\in [0, 2\\pi]$. However, the only way we know that is from a crude analysis of the outputs such as a root-mean-square comparison.\n",
    "A good question is whether or not there is some theory that formalizes, and makes intuitive, the connection between the parameters and structure of $f$ and the more commonly used sine function.\n",
    "\n",
    "To illustrate the challenge, consider the set of polynomial functions $\\mathbb{R} \\rightarrow \\mathbb{R}$ of the form $p(x) = \\theta_0 + \\theta_1 x + \\theta_2 x^2 \\cdots + \\theta_d x^d$. Given data $(x_0, y_0)...(x_n, y_n)$, a unique $n$-degree polynomial that precisely models this data can be found by solving a simple linear system (assuming the $x_i$ values are all different).\n",
    "\n",
    "$$ \\pmb{0} = X\\pmb{\\theta} - \\pmb{y} $$\n",
    "$$ \\begin{bmatrix} 0 \\\\ 0 \\\\ \\vdots \\end{bmatrix} = \\begin{bmatrix} 1 & x_0 & x_0^2 & \\\\ 1 & x_1 & x_1^2 & \\cdots \\\\ & \\vdots \\end{bmatrix} \\begin{bmatrix} \\theta_0 \\\\ \\theta_1 \\\\ \\vdots \\end{bmatrix} - \\begin{bmatrix} y_0 \\\\ y_1 \\\\ \\vdots \\end{bmatrix}  $$\n",
    "\n",
    "Lower-degree, best-fit polynomials can be found through a similar method called regression. For degrees less than $n$, the $X$ matrix becomes non-square and the system above will probably be unsolvable. So instead, the goal is to minimize the distance between $X\\pmb{\\theta} - \\pmb{y}$ and the zero vector:\n",
    "$$ \\pmb{\\theta} = \\min_{\\theta} || X\\theta - \\pmb{y} ||^2 $$\n",
    "This problem can be viewed as finding the point on an embedded hyperplane that is closest to the origin. This means that the parameters $\\pmb{\\theta}$ are unique, and an method for finding these parameters such as gradient descent should always converge to this unique answer. Furthermore, there is established theory on finding polynomial approximations for other common functions such as Taylor expansions.\n",
    "\n",
    "Neural networks, on the otherhand, do not have these nice properties. Given a neural network $f(x;\\theta)$ trained to learn some true function $g(x)$:\n",
    "\n",
    "1. The parameters $\\theta$ are not necessarily unique. Different sets of parameters could give two different globally optimal functions (or the same optimal function expressed with different parameter sets).\n",
    "2. The parameters $\\theta$ learned from an iterative process such as gradient descent are not guarenteed to be not globally optimal, only _locally optimal_ as determined by the values to which $\\theta$ was initialized."
   ]
  },
  {
   "cell_type": "markdown",
   "metadata": {
    "id": "en1Gx53UcGZl"
   },
   "source": [
    "One way we could start is by defining a mechanized scheme for how a neural network _could_ approximate a given function, but not necessarily how the network _will_ approximate that function after training. For example, Lin points out that the operation of multipliying two real numbers $\\mathbb{R}^2 \\rightarrow \\mathbb{R}$ can be approximated to arbitrary accuracy with a 3-layer network with 4 hidden nodes:\n",
    "\n",
    "$$ \\text{mult}(x_1, x_2) = \\lim_{h \\rightarrow 0} \\frac{\\sigma(ha) + \\sigma(-ha) - \\sigma(hb) - \\sigma(-hb)}{4 h^2 \\sigma''(0)} $$\n",
    "\n",
    "$$ \\text{where}\\ \\ a = x_1 + x_2 \\qquad b = x_1 - x_2 $$\n",
    "\n",
    "This approximation is independent of the activation function $\\sigma$ used, only requiring $\\sigma''(0) \\ne 0$. This multiplication operation can be used to construct neural networks that approximate any polynomial. The only additional component needed is a way to propogate values unchanged from one layer to the next, in other words, an approximation of the identity function:\n",
    "\n",
    "$$ \\text{id}(x) = x = \\lim_{h \\rightarrow 0} \\frac{\\sigma(hx) - a(0)}{h \\sigma'(0)} $$\n",
    "\n",
    "These two components, along with the native addition operation, can be used to define neural networks that approximate any multivariate polynomial. Furthermore, Taylor's theorem provides a way of constructing polynomials that approximate any differentiable curve on some domain. Consequently, given a function $g$, we can generate sequences of neural networks that approach $g$ by changing $h$ or by approximating more terms in the Taylor expansion of $g$.\n"
   ]
  },
  {
   "cell_type": "markdown",
   "metadata": {
    "id": "Avdj7EjWfLXd"
   },
   "source": [
    "Theoretically, a tool could be built that searches for these Taylor constructions in trained neural networks and identifies the original function being approximated. However, building such a tool might not be practical or desirable for a number of reasons.\n",
    "\n",
    "First, there are many ways of combining $\\text{mult}$ and $\\text{id}$ to approximate a particular polynomial. For example, different compositions of multiplication often yield the same power of $x$ e.g. $\\text{mult}(\\text{mult}(x, x), \\text{mult}(x, x)) = \\text{mult}(x, \\text{mult}(x, \\text{mult}(x, x)))$. This means that the set of network configurations we are searching for is large and hard to describe.\n",
    "\n",
    "Second, requiring $h$ to approach zero leads to neural networks with very large and small parameters, especially as powers of $h$ become involved. In practice, neural networks are initialized randomly with numbers roughly in the single digits, and the training rate will probably be too small to push these parameters high enough while simultaneously being too large to make subtle changes to parameters close to zero. In essence, real networks will almost certainly never learn parameters like this.\n",
    "\n",
    "To summarize, any theory behind neural networks would have to keep in mind how neural networks are actually constructed and how they learn: they are constructed using sigmoid-like activation functions and learn using an iterative refinement process that finds a local best approximation based on a root-mean-square error calculation."
   ]
  },
  {
   "cell_type": "markdown",
   "metadata": {
    "id": "L9NWJxfq-9dK"
   },
   "source": [
    "# Data-Driven Approach\n",
    "\n",
    "The difficulties of understanding DNNs analytically motivate a more data-driven approach of model compression. A data-driven approach ignores the structure of a neural network entirely and only uses the network to generate data. The data generated by the machine is then fitted with a mathematical model. For regression problems, a data-driven system that learns mathematical equations has potential to replace the neural network altogether. Alternatively, if the trained neural network is not fully connected, the network could be collapsed into equations section-by-section, and the learned equations could then be composed to represent the whole network."
   ]
  },
  {
   "cell_type": "markdown",
   "metadata": {
    "id": "SPh35ur6hgj1"
   },
   "source": [
    "# Discovering Functions Using SINDy\n",
    "\n",
    "Paper: \\\\\n",
    "Brunton, Steven L., et. al. \"Sparse Identification of Nonlinear Dynamics with Control (SINDYc).\" 2016. https://arxiv.org/abs/1605.06682.\n",
    "\n",
    "SINDy is a method for fitting functions to time data using linear regression. SINDy finds a best fit function of the form $f(x) = w_0 f_0(x) + w_1 f_1(x) + \\cdots + w_n f_n(x) + b$ for time data $(x_t, y_t)$. More precisely, it finds the coefficients $w_i$ and $b$ that optimize the approximation:\n",
    "\n",
    "$$ \\begin{bmatrix} y_0 \\\\ y_1 \\\\ \\vdots \\end{bmatrix} \\approx \\begin{bmatrix} f_0(x_0) & f_1(x_0) \\\\ f_0(x_1) & f_1(x_1) & \\cdots \\\\ \\vdots & \\vdots \\end{bmatrix} \\begin{bmatrix} w_0 \\\\ w_1 \\\\ \\vdots \\end{bmatrix} + b \\begin{bmatrix} 1 \\\\ 1 \\\\ \\vdots \\end{bmatrix}$$\n",
    "\n",
    "The approximation above is specifically for functions $f: \\mathbb{R} \\rightarrow \\mathbb{R}$, but it generalizes to data of arbitrary dimensions.\n",
    "\n",
    "We could use SINDy to fit functions based on input/output data from a trained neural network. The main two questions are:\n",
    "1. What is the best way to gather data from a trained neural network?\n",
    "2. What sets of functions $f_i$ can we use to give us useful information? The $f_i$ functions should be independent of each other otherwise there would be infinite best-fit models."
   ]
  },
  {
   "cell_type": "markdown",
   "metadata": {
    "id": "Mmetbo-rdIRi"
   },
   "source": [
    "## Fitting Polynomials\n",
    "\n",
    "An obvious choice of library functions is powers of the input ($x$, $x^2$, ...) which would give us polynomial models. We could then compare the resulting polynomial model with known polynomial approximations for common functions (e.g. Maclaurin series)."
   ]
  },
  {
   "cell_type": "code",
   "execution_count": null,
   "metadata": {
    "colab": {
     "base_uri": "https://localhost:8080/",
     "height": 282
    },
    "id": "FRyr2eJWVoGO",
    "outputId": "08333df0-ca2b-4d34-8094-be51cae2803a"
   },
   "outputs": [
    {
     "name": "stdout",
     "output_type": "stream",
     "text": [
      "Model: + 0.99x^0 + -0.98x^1 + 0.52x^2 + -0.18x^3 + 0.09x^4 + 0.00x^5\n"
     ]
    },
    {
     "data": {
      "image/png": "[encoded data removed]",
      "text/plain": [
       "<Figure size 432x288 with 1 Axes>"
      ]
     },
     "metadata": {
      "needs_background": "light",
      "tags": []
     },
     "output_type": "display_data"
    }
   ],
   "source": [
    "# Construct data\n",
    "f = lambda x: np.exp(-x)\n",
    "xdata = np.random.uniform(low=-1.0, high=1.0, size=[100])\n",
    "ydata = f(xdata) + np.random.normal(scale=0.08, size=[100])\n",
    "\n",
    "# Fit a fifth-degree polynomial with regression\n",
    "X = np.column_stack([xdata, xdata**2.0, xdata**3.0, xdata**4.0, xdata**5.0])\n",
    "reg = sklearn.linear_model.LinearRegression()\n",
    "reg.fit(X, ydata)\n",
    "\n",
    "# Print model\n",
    "print(\"Model:\", end=\"\")\n",
    "for c, b in zip([reg.intercept_]+list(reg.coef_), range(6)):\n",
    "  print(f\" + {c:.2f}x^{b}\", end=\"\")\n",
    "print()\n",
    "\n",
    "# Plot data and model predictions\n",
    "plt.axhline(color=\"black\"); plt.axvline(color=\"black\")\n",
    "plt.scatter(xdata, ydata)\n",
    "plt.scatter(xdata, reg.predict(X))\n",
    "plt.show()"
   ]
  },
  {
   "cell_type": "markdown",
   "metadata": {
    "id": "hqNmWz43fxXx"
   },
   "source": [
    "## Fitting Sinusoids\n",
    "\n",
    "Another obvious choice of library functions is sinusoids.\n",
    "\n",
    "For example, suppose we know that the data is approximately sinusoidal with angular frequency $\\omega$, then we could find a model of the form\n",
    "$$ r\\sin(\\omega x + \\psi) + b $$\n",
    "by using the library $\\{\\sin(\\omega x), \\cos(\\omega x)\\}$:\n",
    "\n",
    "$$ r \\sin(\\omega x + \\psi) + b = w_0\\sin(\\omega x) + w_1\\cos(\\omega x) + b $$\n",
    "\n",
    "We would just need to convert the cartesian coordinates $w_0, w_1$ into polar coordinates $r,\\psi$:\n",
    "\n",
    "$$ r = \\sqrt{w_0^2 + w_1^2} \\qquad \\psi = \\begin{cases} \\cos^{-1}(w_0/r) & w_1 \\ge 0 \\\\ 2\\pi - \\cos^{-1}(w_0/r) & w_1 < 0 \\end{cases} $$"
   ]
  },
  {
   "cell_type": "code",
   "execution_count": null,
   "metadata": {
    "colab": {
     "base_uri": "https://localhost:8080/",
     "height": 352
    },
    "id": "kaBtbUwa0em0",
    "outputId": "c70c144a-9cf6-4108-da58-7507bf084756"
   },
   "outputs": [
    {
     "name": "stdout",
     "output_type": "stream",
     "text": [
      "Model: 0.37sin(x) + 0.35cos(x) + 0.21\n",
      "Model: 0.51sin(x + 0.76) + 0.21\n",
      "Model R^2 value: 0.98\n",
      "<matplotlib.collections.PathCollection object at 0x7fd74b8980d0>\n",
      "<matplotlib.collections.PathCollection object at 0x7fd74b80f450>\n"
     ]
    },
    {
     "data": {
      "image/png": "[encoded data removed]",
      "text/plain": [
       "<Figure size 432x288 with 1 Axes>"
      ]
     },
     "metadata": {
      "needs_background": "light",
      "tags": []
     },
     "output_type": "display_data"
    }
   ],
   "source": [
    "# Construct data\n",
    "f = lambda x: 0.5*tf.sin(x + 0.79) + 0.2\n",
    "xdata = tf.random.uniform([100], minval=0.0, maxval=math.pi * 2.0)\n",
    "ydata = f(xdata) + tf.random.normal([100], stddev=0.05)\n",
    "\n",
    "# (x,y) -> (r,theta)\n",
    "def cart2polar(x, y):\n",
    "  r = math.sqrt(x**2.0 + y**2.0)\n",
    "  theta = math.acos(x/r) if y >= 0.0 else 2*math.pi - math.acos(x/r)\n",
    "  return [r,theta]\n",
    "\n",
    "# Fit regression against our basis {sin(x), cos(x)}\n",
    "# to get w0, w1, b\n",
    "X = np.column_stack([tf.sin(xdata), tf.cos(xdata)])\n",
    "reg = sklearn.linear_model.LinearRegression()\n",
    "reg.fit(X, ydata)\n",
    "w0, w1 = reg.coef_\n",
    "b = reg.intercept_\n",
    "\n",
    "# Output model equation in two different forms\n",
    "# Plot data and model predictions\n",
    "print(f\"Model: {w0:.2f}sin(x) + {w1:.2f}cos(x) + {b:.2f}\")\n",
    "r, theta = cart2polar(w0, w1)\n",
    "print(f\"Model: {r:.2f}sin(x + {theta:.2f}) + {b:.2f}\")\n",
    "print(f\"Model R^2 value: {reg.score(X, ydata):.2f}\")\n",
    "print(plt.scatter(xdata, ydata))\n",
    "print(plt.scatter(xdata, reg.predict(X)))"
   ]
  },
  {
   "cell_type": "markdown",
   "metadata": {
    "id": "x7ypzwuy3ks5"
   },
   "source": [
    "Alternatively, suppose we know our data is sinusoidal, but don't know the angular frequency $\\omega$:\n",
    "\n",
    "$$ f(x) = \\sin(\\omega x) $$\n",
    "\n",
    "To find the angular frequency, we could use Fourier analysis. The Fourier transform of a pure sine wave will be zero everywhere except for at the frequency of the wave:\n",
    "\n",
    "$$ \\hat{f}(\\xi) = \\int_{-\\infty}^{\\infty} f(t)\\cos(2\\pi\\xi t)\\ dt - i\\int_{-\\infty}^{\\infty} f(t)\\sin(2\\pi\\xi t)\\ dt $$\n",
    "\n",
    "We are not interested in calculating values of the Fourier transform, but only in discovering frequencies where $\\hat{f}$ is large. This means we can integrate on a finite interval instead of over all real numbers:\n",
    "\n",
    "$$ g(\\xi) = \\int_{0}^{L} f(t)\\cos(2\\pi\\xi t)\\ dt - i\\int_{0}^{L} f(t)\\sin(2\\pi\\xi t)\\ dt $$\n",
    "\n",
    "The function $g$ converges to $\\hat{f}$ as the range of the integration increases. But importantly, even if the range is small, the value of $n$ that maximizes $g$ should be approximately the same $n$ value that maximizes $\\hat{f}$.\n",
    "\n",
    "$$ \\max_{\\xi}|g(\\xi)| \\approx \\max_{\\xi}|\\hat{f}(\\xi)| $$\n",
    "\n",
    "Now we have the correspondence:\n",
    "\n",
    "$$ g\\left( \\frac{n}{L} \\right) = \\frac{L}{2} (a_n - ib_n) $$\n",
    "\n",
    "where $a_n$ and $b_n$ are the coefficients of the Fourier series expansion of $f$:\n",
    "\n",
    "$$ f(x) = a_0 + \\sum_{n=1}^{\\infty} \\left[ a_n\\cos\\left(\\frac{2\\pi nx}{L}\\right) + b_n\\sin\\left(\\frac{2\\pi nx}{L}\\right) \\right] $$\n",
    "\n",
    "$$ a_n = \\frac{2}{L}\\int_0^{L} f(x)\\cos\\left( \\frac{2\\pi nx}{L} \\right)\\ dx $$\n",
    "$$ b_n = \\frac{2}{L}\\int_0^{L} f(x)\\sin\\left( \\frac{2\\pi nx}{L} \\right)\\ dx $$\n",
    "\n",
    "So, we want to find\n",
    "\n",
    "$$ \\max_{\\xi} \\left| g\\left(\\xi\\right)\\right| = \\frac{L}{2}(a_{L\\xi}^2 + b_{L\\xi}^2) $$\n"
   ]
  },
  {
   "cell_type": "code",
   "execution_count": null,
   "metadata": {
    "colab": {
     "base_uri": "https://localhost:8080/",
     "height": 282
    },
    "id": "3YLoWS1I6OLx",
    "outputId": "5ec833cd-cc15-4dd8-cc23-b1aefc92003d",
    "scrolled": true
   },
   "outputs": [
    {
     "name": "stdout",
     "output_type": "stream",
     "text": [
      "Closest frequency: 2.0\n"
     ]
    },
    {
     "data": {
      "image/png": "[encoded data removed]",
      "text/plain": [
       "<Figure size 432x288 with 1 Axes>"
      ]
     },
     "metadata": {
      "needs_background": "light",
      "tags": []
     },
     "output_type": "display_data"
    }
   ],
   "source": [
    "# TODO: complete this demo\n",
    "# Construct data\n",
    "f = lambda x: np.sin(2.1*x)\n",
    "xdata = tf.random.uniform([100], minval=0.0, maxval=math.pi * 2.0)\n",
    "ydata = f(xdata) + tf.random.normal([100], stddev=0.05)\n",
    "\n",
    "# Fit a regression using a basis of sinusoids\n",
    "X = np.column_stack([np.sin(n*0.5*xdata) for n in range(1,11)]\\\n",
    "                  + [np.cos(n*0.5*xdata) for n in range(1, 11)])\n",
    "reg = sklearn.linear_model.LinearRegression()\n",
    "reg.fit(X, ydata)\n",
    "\n",
    "# Find largest coefficient\n",
    "i_of_largest_coef = np.argmax(reg.coef_)\n",
    "print(\"Closest frequency:\", 0.5*(i_of_largest_coef+1))\n",
    "\n",
    "# Estimate the frequency\n",
    "\n",
    "\n",
    "# Plot data and model predictions\n",
    "plt.axhline(color=\"black\"); plt.axvline(color=\"black\")\n",
    "plt.scatter(xdata, ydata)\n",
    "plt.scatter(xdata, reg.predict(X))\n",
    "plt.show()"
   ]
  },
  {
   "cell_type": "markdown",
   "metadata": {
    "id": "oFk57ovx_80X"
   },
   "source": [
    "## Multivariable Inputs\n",
    "\n",
    "So far, I have only really considered neural networks that learn a function $f: \\mathbb{R}\\rightarrow \\mathbb{R}$. However, a network trained on the MNIST dataset is a function $f: \\mathbb{R}^{784} \\rightarrow \\mathbb{R}^{10}$. What are the consequences of this increased dimensionality?\n",
    "\n",
    "Well, increasing the output dimensionality shouldn't be too difficult to handle because we can just consider each output individually. For MNIST, we could start by just examining the first output that detects the digit '0'.\n",
    "\n",
    "Large input dimensions may be a little more challenging. If the goal is to find a mathematical representation of $f$ that is more concise than the neural network itself, then there is little point in finding a function $f$ that is dependent on all 784 input variables (not to mention the combinations of those input variables). We need a way of systematically eliminating terms that are unimportant. Can we define a process such as the following:\n",
    "\n",
    "* repeat:\n",
    "  1. Fit data against a set of basis functions $B$\n",
    "  2. Eliminate unimportant basis functions\n",
    "  3. Identify new basis functions that may be significant and add them to $B$.\n",
    "\n",
    "The third step is the most difficult. To start, we could just naively consider every basis function to be possibly significant. We could start with $B = \\{x_1, x_2, ..., x_{784}\\}$ and find a linear fit, eliminate terms with small coefficients, then add $\\{x_1^2, x_1 x_2, x_1 x_3, ..., x_1 x_{784}\\}$, and so on. However, it would be nice to have a way of determining which basis functions are most likely to be significant by using the model from the previous iteration."
   ]
  },
  {
   "cell_type": "markdown",
   "metadata": {
    "id": "s9suONCK45lu"
   },
   "source": [
    "**Idea 1**: _the functions in $B$ should only be compositions of basis functions from the $B$ of the previous iteration._\n",
    "\n",
    "For example, we could start by fitting a linear regression against $B=\\{x_1, x_2, x_3, x_4\\}$. Suppose we find out that the coefficients on $x_3$ and $x_4$ are negligible. Then our next set of basis functions could be $B = \\{x_1, x_2, x_1^2, x_2^2, x_1 x_2\\}$ only constructed from the previously significant functions. The problem is that if the coefficient on $x_3$ is close to zero, that doesn't mean $x_3$ is unimportant, it just means that _on average_, the output doesn't change with respect to $x_3$.\n",
    "\n",
    "**Idea 2**: _find ways of representing compound functions using sums of other functions_\n",
    "\n",
    "For example, a function of the form $a\\cos(x) + b\\sin(x)$ can always be rewritten in the form $r\\sin(x + \\psi)$ via a simple cartesian->polar coordinate conversion. Fourier series and Taylor series are also techniques for doing this, but prevent their own challenges:\n",
    "* While there are algorithms to convert functions into polynomials, sinusoids, etc (Maclaurin series, Fourier analysis), there are not general algorithms to convert back to the original functions."
   ]
  },
  {
   "cell_type": "markdown",
   "metadata": {
    "id": "v5-4EKOyudwY"
   },
   "source": [
    "# Applying SINDy to MNIST"
   ]
  },
  {
   "cell_type": "code",
   "execution_count": 4,
   "metadata": {
    "id": "dF49LEdAf3JY"
   },
   "outputs": [],
   "source": [
    "# Function definitions for this section\n",
    "\n",
    "def constructModel():\n",
    "  \"\"\"Builds a 4-layer neural network, trains it on MNIST data,\n",
    "  prints information, saves the model to a file, returns model\"\"\"\n",
    "  (x_train, y_train), (x_test, y_test) = keras.datasets.mnist.load_data()\n",
    "  x_train = x_train.reshape(60000, 784).astype(\"float32\") / 255\n",
    "  x_test = x_test.reshape(10000, 784).astype(\"float32\") / 255\n",
    "\n",
    "  # Build and compile model\n",
    "  inputs = keras.Input(shape=(784,))\n",
    "  hiddl1 = keras.layers.Dense(183, activation=\"relu\")(inputs)\n",
    "  hiddl2 = keras.layers.Dense(57, activation=\"relu\")(hiddl1)\n",
    "  outputs = keras.layers.Dense(10, activation=\"relu\")(hiddl2)\n",
    "  model = keras.Model(inputs=inputs, outputs=outputs, name=\"mnist_model\")\n",
    "  model.summary()\n",
    "  model.compile(\n",
    "      loss=keras.losses.SparseCategoricalCrossentropy(from_logits=True),\n",
    "      optimizer=keras.optimizers.RMSprop(),\n",
    "      metrics=[\"accuracy\"],\n",
    "  )\n",
    "\n",
    "  # Fit data, print test results\n",
    "  model.fit(x_train, y_train, batch_size=64, epochs=3, validation_split=0.2)\n",
    "  test_scores = model.evaluate(x_test, y_test, verbose=2)\n",
    "  print(\"Test loss:\", test_scores[0])\n",
    "  print(\"Test accuracy:\", test_scores[1])\n",
    "  model.save(\"mnist_model.h5\")\n",
    "  print(\"Saved model to mnist_model.h5\")\n",
    "  return model\n",
    "\n",
    "def getDataForDigit(digit, model=None):\n",
    "  \"\"\"\n",
    "  Returns (x_data, y_data)\n",
    "  x_data: numpy array (10000, 784)\n",
    "  y_data: numpy array (10000,)\n",
    "  If model is `None` then it is loaded from file\n",
    "  \"\"\"\n",
    "  _, (x_data, _) = keras.datasets.mnist.load_data()\n",
    "  x_data = x_data.reshape(10000, 784).astype(\"float32\") / 255\n",
    "  if not model:\n",
    "    model = keras.models.load_model(\"mnist_model.h5\")\n",
    "  y_data = model.predict(x_data)\n",
    "  y_data = np.array([y[digit] for y in y_data])\n",
    "  return x_data, y_data\n",
    "\n",
    "def linearRegression(X, y_data):\n",
    "  \"\"\"Returns the regression object that results from\n",
    "  fitting the given data\"\"\"\n",
    "  reg = sklearn.linear_model.LinearRegression()\n",
    "  reg.fit(X, y_data)\n",
    "  return reg\n",
    "\n",
    "def showAsImages(pixeldatalist, titles=None):\n",
    "  \"\"\"\n",
    "  Displays `len(pixeldatalist)` images, each 28x28 pixels\n",
    "  \"\"\"\n",
    "  pixeldatalist = [np.array(item) for item in pixeldatalist]\n",
    "  f, axes = plt.subplots(1, len(pixeldatalist))\n",
    "  for i, axis in enumerate(axes):\n",
    "    axis.imshow(pixeldatalist[i].reshape(28, 28), cmap=\"gray\")\n",
    "    if titles:\n",
    "      axis.set_title(titles[i])\n",
    "  f.set_size_inches(8, 8)\n",
    "  plt.show()"
   ]
  },
  {
   "cell_type": "code",
   "execution_count": 7,
   "metadata": {
    "colab": {
     "base_uri": "https://localhost:8080/"
    },
    "id": "3UXXIU74dp5s",
    "outputId": "4bb7fc59-aae1-47e5-9ce0-f01f1d2fb4b1"
   },
   "outputs": [
    {
     "name": "stdout",
     "output_type": "stream",
     "text": [
      "Model: \"mnist_model\"\n",
      "_________________________________________________________________\n",
      "Layer (type)                 Output Shape              Param #   \n",
      "=================================================================\n",
      "input_2 (InputLayer)         [(None, 784)]             0         \n",
      "_________________________________________________________________\n",
      "dense_3 (Dense)              (None, 183)               143655    \n",
      "_________________________________________________________________\n",
      "dense_4 (Dense)              (None, 57)                10488     \n",
      "_________________________________________________________________\n",
      "dense_5 (Dense)              (None, 10)                580       \n",
      "=================================================================\n",
      "Total params: 154,723\n",
      "Trainable params: 154,723\n",
      "Non-trainable params: 0\n",
      "_________________________________________________________________\n",
      "Epoch 1/3\n",
      "750/750 [==============================] - 3s 3ms/step - loss: 0.6764 - accuracy: 0.7927 - val_loss: 0.3750 - val_accuracy: 0.8652\n",
      "Epoch 2/3\n",
      "750/750 [==============================] - 2s 3ms/step - loss: 0.3495 - accuracy: 0.8722 - val_loss: 0.3411 - val_accuracy: 0.8720\n",
      "Epoch 3/3\n",
      "750/750 [==============================] - 2s 3ms/step - loss: 0.3102 - accuracy: 0.8827 - val_loss: 0.3237 - val_accuracy: 0.8779\n",
      "313/313 - 0s - loss: 0.3129 - accuracy: 0.8826\n",
      "Test loss: 0.3129315972328186\n",
      "Test accuracy: 0.8826000094413757\n",
      "Saved model to mnist_model.h5\n"
     ]
    },
    {
     "data": {
      "text/plain": [
       "<tensorflow.python.keras.engine.functional.Functional at 0x7f0a843a0370>"
      ]
     },
     "execution_count": 7,
     "metadata": {},
     "output_type": "execute_result"
    }
   ],
   "source": [
    "constructModel()"
   ]
  },
  {
   "cell_type": "markdown",
   "metadata": {
    "id": "0aJRDTBf4moS"
   },
   "source": [
    "## Linear Model\n",
    "\n",
    "First thing we could try is just fitting a linear model to our network data for any given digit. For any digit (output node), we can treat the network as a function $\\mathbb{R}^{784} \\rightarrow \\mathbb{R}$ by ignoring the other nine output nodes. The code below finds the best linear fit for the specified digit and displays the coefficients associated with each pixel. Black indicates a negative weight while white indicates a positive weight.\n",
    "\n",
    "We will evaluate the model based on the coefficient of determination ($R^2$ value) and based on compositionality (number of terms in the equation). We can see that only being linear, our model already has an $R^2$ of 0.8, but hopfully introducing non-linearity will improve the accuracy."
   ]
  },
  {
   "cell_type": "code",
   "execution_count": null,
   "metadata": {
    "colab": {
     "base_uri": "https://localhost:8080/",
     "height": 338
    },
    "id": "LCcs9oA-hxgN",
    "outputId": "02e1e831-3947-4718-c0a1-ced1741d9964"
   },
   "outputs": [
    {
     "name": "stdout",
     "output_type": "stream",
     "text": [
      "Regression results for digit '0'\n"
     ]
    },
    {
     "data": {
      "image/png": "[encoded data removed]",
      "text/plain": [
       "<Figure size 576x576 with 2 Axes>"
      ]
     },
     "metadata": {
      "needs_background": "light",
      "tags": []
     },
     "output_type": "display_data"
    },
    {
     "name": "stdout",
     "output_type": "stream",
     "text": [
      "Intercept: 1.4778\n",
      "Lowest weight -20871.75 is at pixel 670\n",
      "R^2: 0.8038\n"
     ]
    }
   ],
   "source": [
    "digit = 0\n",
    "\n",
    "x_data, y_data = getDataForDigit(digit)\n",
    "reg = linearRegression(x_data, y_data)\n",
    "\n",
    "print(f\"Regression results for digit '{digit}'\")\n",
    "showAsImages([reg.coef_, tf.nn.sigmoid(reg.coef_)], [\"Weights\", \"$\\\\sigma$(Weights)\"])\n",
    "print(f\"Intercept: {reg.intercept_:.4f}\")\n",
    "print(f\"Lowest weight {reg.coef_.min():.2f} is at pixel {reg.coef_.argmin()}\")\n",
    "print(f\"R^2: {reg.score(x_data, y_data):.4f}\")"
   ]
  },
  {
   "cell_type": "markdown",
   "metadata": {
    "id": "ahdpUYdM1j7B"
   },
   "source": [
    "Since a major goal is reducing compositionality, and since dealing with 784 input parameters is a little cumbersome, we need a way of elimitating some pixels entirely. One strategy is to prioritize pixels based on their variance in the dataset. For the MNIST images, most of the pixels along the edge of the image are black no matter which image we look at, so these pixels have a variance of zero and should not be included in our mathematical model.\n",
    "\n",
    "Intuitively, if we are building a progressively more complex equation, we should add the pixels with the **highest variance first**. This could possibly be extended to **terms with high variance** instead of just input variables."
   ]
  },
  {
   "cell_type": "code",
   "execution_count": null,
   "metadata": {
    "colab": {
     "base_uri": "https://localhost:8080/",
     "height": 302
    },
    "id": "S5IGeUyPX-Lx",
    "outputId": "6ccc692d-3e6e-4c53-83dc-e7bacf91fbf9"
   },
   "outputs": [
    {
     "data": {
      "image/png": "[encoded data removed]",
      "text/plain": [
       "<Figure size 576x576 with 2 Axes>"
      ]
     },
     "metadata": {
      "needs_background": "light",
      "tags": []
     },
     "output_type": "display_data"
    },
    {
     "name": "stdout",
     "output_type": "stream",
     "text": [
      "Max pixel variance is 0.2009 at pixel 378\n",
      "Max pixel average is 0.5606 at pixel 435\n"
     ]
    }
   ],
   "source": [
    "x_data, _ = getDataForDigit(0)\n",
    "\n",
    "pixel_averages = np.average(x_data, axis=0)\n",
    "pixel_variances = np.var(x_data, axis=0)\n",
    "\n",
    "showAsImages([pixel_averages, pixel_variances], [\"Pixel Averages\", \" Pixel Variances\"])\n",
    "\n",
    "print(f\"Max pixel variance is {pixel_variances.max():.4f} at pixel {pixel_variances.argmax()}\")\n",
    "print(f\"Max pixel average is {pixel_averages.max():.4f} at pixel {pixel_averages.argmax()}\")"
   ]
  },
  {
   "cell_type": "markdown",
   "metadata": {},
   "source": [
    "The graph below shows how the accuracy of the equation increases as more pixels are included in the linear model. Pixels with higher variance in the input space are added before low-variance pixels. The graph confirms our expectations that the marginal benefit of adding a single pixel decreases as the number of pixels already in the equation increases."
   ]
  },
  {
   "cell_type": "code",
   "execution_count": null,
   "metadata": {
    "colab": {
     "base_uri": "https://localhost:8080/",
     "height": 318
    },
    "id": "X08Cty8kbvCV",
    "outputId": "5e1254d2-fabf-4a9a-9767-4729b68c9cc1"
   },
   "outputs": [
    {
     "name": "stdout",
     "output_type": "stream",
     "text": [
      "Show how linear model gets better as more pixels are added.\n",
      "Pixels with highest variance are added first.\n"
     ]
    },
    {
     "data": {
      "image/png": "[encoded data removed]",
      "text/plain": [
       "<Figure size 432x288 with 1 Axes>"
      ]
     },
     "metadata": {
      "needs_background": "light",
      "tags": []
     },
     "output_type": "display_data"
    }
   ],
   "source": [
    "x_data, y_data = getDataForDigit(0)\n",
    "\n",
    "pixel_variances = sorted(enumerate(np.average(x_data, axis=0)), key=lambda pair: pair[1], reverse=True)\n",
    "\n",
    "r2vals = []\n",
    "for numpixtoinclude in range(1, 200):\n",
    "  includeinreg = [x_data[:,pair[0]] for pair in pixel_variances[:numpixtoinclude]]\n",
    "  X = np.column_stack(includeinreg)\n",
    "  reg = linearRegression(X, y_data)\n",
    "  r2vals.append(reg.score(X, y_data))\n",
    "\n",
    "print(\"Show how linear model gets better as more pixels are added.\")\n",
    "print(\"Pixels with highest variance are added first.\")\n",
    "axis = plt.figure().add_subplot(111)\n",
    "axis.set_ylim([0, 1])\n",
    "axis.plot(range(1, 200), r2vals)\n",
    "axis.set_xlabel(\"# pixels\")\n",
    "axis.set_ylabel(\"$R^2$\")\n",
    "plt.show()\n"
   ]
  },
  {
   "cell_type": "markdown",
   "metadata": {},
   "source": [
    "## Introducing Quadratic Terms\n",
    "\n",
    "Here, we will start to construct some Python infrastructure for dealing with data and mathematical equations together. We will introduce a `pruneByVariance` function on equations which removes terms with low variance in the input space. The output of the following code first shows the best fit linear equation of the top ten high-variance terms and its accuracy (0.45). The equation is then augmented with the quadratic terms built from those ten inputs and prunned back down to ten terms. Four of the original linear terms were replaced with quadratic terms which increased the accuracy to 0.51."
   ]
  },
  {
   "cell_type": "code",
   "execution_count": 10,
   "metadata": {
    "colab": {
     "base_uri": "https://localhost:8080/",
     "height": 94
    },
    "id": "bMzrIzu1g1Px",
    "outputId": "f2a56777-2412-4116-fc97-f3b5e877666d"
   },
   "outputs": [
    {
     "name": "stdout",
     "output_type": "stream",
     "text": [
      "$-3.07x_{378} + -0.44x_{406} + 1.05x_{627} + -0.07x_{437} + -2.46x_{409} + -0.48x_{461} + -0.58x_{433} + -1.93x_{462} + 0.50x_{628} + -1.23x_{464}$\n",
      "0.44579526260682245\n",
      "$-10.66x_{378} + -3.53x_{409} + -3.54x_{462} + -4.21x_{461} + 6.96x_{378}x_{378} + 4.27x_{406}x_{409} + 2.47x_{627} + 4.60x_{461}x_{462} + -1.85x_{406}x_{437} + -2.35x_{627}x_{409}$\n",
      "0.5052866163968938\n"
     ]
    }
   ],
   "source": [
    "class Term:\n",
    "  def __init__(self, name, data):\n",
    "    self._name = name\n",
    "    self._data = data\n",
    "    self._coef = None\n",
    "    self._var = None\n",
    "  def __lt__(self, other):\n",
    "    return self._coef < other._coef\n",
    "  def __eq__(self, other):\n",
    "    return self._coef == other._coef\n",
    "  def __repr__(self):\n",
    "    if self._coef == None:\n",
    "      return f\"\\\\_{self._name}\"\n",
    "    return f\"{self._coef:.2f}{self._name}\"\n",
    "  def __mul__(self, other):\n",
    "    return Term(self._name+other._name, self._data*other._data)\n",
    "  def getVariance(self):\n",
    "    if self._var != None: return self._var\n",
    "    self._var = np.var(self._data)\n",
    "    return self._var\n",
    "  def getCoefMag(self):\n",
    "    return np.abs(self._coef)\n",
    "\n",
    "class Equation:\n",
    "  def __init__(self, terms=None):\n",
    "    self._terms = []\n",
    "    self.rsquared_ = None\n",
    "    self.intercept_ = None\n",
    "  def fitTerms(self, y_data):\n",
    "    X = np.column_stack([t._data for t in self._terms])\n",
    "    reg = sklearn.linear_model.LinearRegression()\n",
    "    reg.fit(X, y_data)\n",
    "    for i, c in enumerate(reg.coef_):\n",
    "      self._terms[i]._coef = c\n",
    "    self.rsquared_ = reg.score(X, y_data)\n",
    "    self.intercept_ = reg.intercept_\n",
    "  def pruneByVariance(self, remaining):\n",
    "    self._terms = sorted(eq._terms, key=Term.getVariance, reverse=True)[:remaining]\n",
    "  def pruneByCoef(self, remaining):\n",
    "    self._terms = sorted(eq._terms, key=Term.getCoefMag, reverse=True)[:remaining]\n",
    "  def pruneByVarTimesCoef(self, remaining):\n",
    "    keyFunc = lambda t: t.getCoefMag()*t.getVariance()\n",
    "    self._terms = sorted(eq._terms, key=keyFunc, reverse=True)[:remaining]\n",
    "  def display(self):\n",
    "    print(\"$\"+\" + \".join([t.__repr__() for t in self._terms])+\"$\")\n",
    "    #display(Latex(\"$\"+\" + \".join([t.__repr__() for t in self._terms])+\"$\"))\n",
    "\n",
    "x_data, y_data = getDataForDigit(0)\n",
    "\n",
    "# Get top linear terms\n",
    "eq = Equation()\n",
    "for i, singlepixeldata in enumerate(x_data.T):\n",
    "  eq._terms.append(Term(\"x_{%d}\" % i, singlepixeldata))\n",
    "eq.fitTerms(y_data)\n",
    "eq.pruneByVariance(10)\n",
    "eq.fitTerms(y_data)\n",
    "eq.display()\n",
    "print(eq.rsquared_)\n",
    "#eq.pruneByVariance(5)\n",
    "\n",
    "# Add quadratic terms (build from the linear terms)\n",
    "quadTerms = []\n",
    "for i, t1 in enumerate(eq._terms):\n",
    "  for t2 in eq._terms[i:]:\n",
    "    quadTerms.append(t1*t2)\n",
    "eq._terms += quadTerms\n",
    "\n",
    "eq.fitTerms(y_data)\n",
    "eq.pruneByCoef(10)\n",
    "eq.fitTerms(y_data)\n",
    "eq.display()\n",
    "print(eq.rsquared_)"
   ]
  },
  {
   "cell_type": "markdown",
   "metadata": {
    "id": "pmBXTRtObrAE"
   },
   "source": [
    "---\n",
    "\n",
    "# Maclaurin Series Approximations"
   ]
  },
  {
   "cell_type": "markdown",
   "metadata": {
    "id": "63HvRf4ETACx"
   },
   "source": [
    "## Linear Functions\n",
    "\n",
    "The first step toward approximating polynomials is approximating linear functions. At first glance, this may seem unnecessary since a neural network's feedforward mechanism is primarily linear to begin with. However, the non-linear activation function is precisely the reason this section is still important. Here, I detail how a neural network can model a linear function even when non-linear functions are used in the computation.\n",
    "\n",
    "The network we will build has one input node, one output node, and one hidden node. Consider any activation function $a(x)$ with a non-zero derivative at $x=0$. No matter the function $a$, Taylor's Theorem allows us to rewrite (a portion of) $a$ as an infinite polynomial.\n",
    "\n",
    "$$ a(x) = \\sum_{n = 0}^{\\infty} \\frac{a^{(n)}(0)}{n!} x^n \\qquad \\text{(Taylor's Theorem)} $$\n",
    "\n",
    "First, replace $x$ with $hx$ where $h$ is positive. We will eventually consider what happens when $h$ approaches zero.\n",
    "\n",
    "$$ a(hx) = \\sum_{n = 0}^{\\infty} \\frac{a^{(n)}(0)}{n!} (hx)^n $$\n",
    "\n",
    "Now rewrite this equation by isolating the linear term on the left.\n",
    "\n",
    "$$ ha'(0) x = a(hx) - a(0) - \\sum_{n=2}^{\\infty} \\frac{h^n a^{(n)}(0)}{n!} x^n $$\n",
    "\n",
    "Isolate $x$ on the left.\n",
    "\n",
    "$$ x = \\frac{a(hx)}{ha'(0)} - \\frac{a(0)}{ha'(0)} - \\sum_{n=2}^{\\infty} \\frac{h^{n-1} a^{(n)}(0)}{a'(0)n!} x^n $$\n",
    "\n",
    "If we consider the limit as $h \\rightarrow 0$, the summation drops out because $h^{n-1}$ will vanish for any $n \\ge 2$. We are left with:\n",
    "\n",
    "$$ x = \\lim_{h \\rightarrow 0} \\frac{a(hx) - a(0)}{h a'(0)} $$\n",
    "\n",
    "Let's introduce some constants so we can rewrite the equation to see the correspondence with a neural network.\n",
    "\n",
    "$$ x = \\lim_{h \\rightarrow 0} \\left( W_1 a(W_0 x + B_0) + B_1 \\right) $$\n",
    "\n",
    "| - layer - | - - - - weight - - - - | - - - - - - bias - - - - - - |\n",
    "| --------: | :-----------------: | :--------------: |\n",
    "| first  | $W_0=h$                | $B_0 = 0$        |\n",
    "| second | $W_1=\\frac{1}{ha'(0)}$ | $B_1 = -W_1 a(0)$ |\n",
    "\n",
    "This equation and table shows that we can approximate the identity function with arbitrary accuracy using just one hidden node (i.e. one application of the non-linear function $a$). An arbitrary linear function can be approximated by adjusting the second-layer weight and bias.\n",
    "\n"
   ]
  },
  {
   "cell_type": "markdown",
   "metadata": {
    "id": "cANPfqXTEy1V"
   },
   "source": [
    "## Approximating $x^2$\n",
    "\n",
    "The same general process to approximating linear functions can be applied to approximating quadratic polynomials as well. As before, start with Taylor's Theorem and isolate the desired degree of $x$ on the left (in this case $x^2$).\n",
    "\n",
    "$$ x^2 = \\frac{2a(hx)}{h^2 a^{(2)}(0)} - \\frac{2a(0)}{h^2 a^{(2)}(0)} - \\frac{2a'(0)x}{h a^{(2)}(0)} - \\frac{2}{h^2 a^{(2)}(0)}\\sum_{n=3}^{\\infty} \\frac{h^n a^{(n)}(0)}{n!} x^n $$\n",
    "\n",
    "If we consider the limit as $h \\rightarrow 0$, the sum term drops out because $h^n / h^2$ will always approach zero for any $n \\ge 3$. We are left with the following:\n",
    "\n",
    "$$ x^2 = \\lim_{h \\rightarrow 0} \\left( \\frac{2}{h^2 a^{(2)}(0)}a(hx) - \\frac{2a(0)}{h^2 a^{(2)}(0)} - \\frac{2a'(0)}{h a^{(2)}(0)}x \\right) $$\n",
    "\n",
    "Notice that this formula has an $x$ (all the way to the right) that does not go through an activation function. We can subsitute this $x$ for the linear approximation in the section above. Notably, the expression will now be a multivariate limit, so rename the two limit variables $h_2$ and $h_1$ where $h_1$ is the variable from the linear (degree 1) approximation. Interestingly, this limit does not exist (it evaluates differently depending on how $(h_1, h_2)$ approaches $(0,0)$). However, if $h_1 = h_2^2$, then we get the result we want:\n",
    "\n",
    "$$ x^2 = \\lim_{h \\rightarrow 0} \\frac{2}{h^2 a^{(2)}(0)} \\left( a(hx) - \\frac{a(h^2 x)}{h} - \\frac{(h-1)a(0)}{h} \\right) $$\n",
    "\n"
   ]
  },
  {
   "cell_type": "markdown",
   "metadata": {
    "id": "wnwP2bYajFEO"
   },
   "source": [
    "## Approximating $x^2$ (Second approach)\n",
    "\n",
    "This approach is a little cleaner than the above approach, we still start with Taylor series, but we use the fact that even powers of $x$ are even functions.\n",
    "\n",
    "$$ a(hx) = \\sum_{n = 0}^{\\infty} \\frac{a^{(n)}(0)}{n!} (hx)^n \\qquad \\text{(Taylor's Theorem)} $$\n",
    "\n",
    "$$ a(-hx) = \\sum_{n = 0}^{\\infty} \\frac{a^{(n)}(0)}{n!} (-hx)^n \\qquad \\text{(Taylor's Theorem)} $$\n",
    "\n",
    "If we add these two equations together, we can get every odd term to drop out.\n",
    "\n",
    "$$ a(hx) + a(-hx) = \\sum_{n = 0}^{\\infty} \\left( \\frac{h^n a^{(n)}(0)}{n!} x^n + \\frac{(-1)^n h^n a^{(n)}(0)}{n!} x^n \\right) $$\n",
    "\n",
    "$$ a(hx) + a(-hx) = \\sum_{n = 0}^{\\infty} \\frac{2 h^{2n} a^{(2n)}(0)}{(2n)!} x^{2n} $$\n",
    "\n",
    "Now separate out the first two terms of the sum.\n",
    "\n",
    "$$ a(hx) + a(-hx) = 2 a(0) + h^2 a^{(2)}(0) x^2 + \\sum_{n = 2}^{\\infty} \\frac{2 h^{2n} a^{(2n)}(0)}{(2n)!} x^{2n} $$\n",
    "\n",
    "Isolate $x^2$\n",
    "\n",
    "$$ x^2 = \\frac{a(hx)}{h^2 a^{(2)}(0)} + \\frac{a(-hx)}{h^2 a^{(2)}(0)} - \\frac{2 a(0)}{h^2 a^{(2)}(0)} - \\frac{1}{a^{(2)}(0)} \\sum_{n = 2}^{\\infty} \\frac{2 h^{2n-2} a^{(2n)}(0)}{(2n)!} x^{2n} $$\n",
    "\n",
    "Consider the limit as $h \\rightarrow 0$. The sum term drops out. Factor out common terms, and we are left with:\n",
    "\n",
    "$$ x^2 = \\lim_{h \\rightarrow 0} \\frac{a(hx) + a(-hx) - 2a(0)}{h^2 a^{(2)}(0)} $$\n",
    "\n",
    "This expression converges much faster than the previous method."
   ]
  },
  {
   "cell_type": "markdown",
   "metadata": {
    "id": "lhY8_n_sT5rT"
   },
   "source": [
    "## Approximating $x^d$\n",
    "\n",
    "The process for approximating $x^2$ can be repeated, this time for a general degree $d$. This time, we require that $a^{(d)}(0) \\neq 0$. From Taylor's Theorem, isolate the desired power on the left. The $n$ in the sum iterates from zero to infinity, but skips $d$.\n",
    "\n",
    "$$ x^d = \\frac{d!a(hx)}{h^d a^{(d)}(0)} - \\frac{d!}{h^d a^{(d)}(0)}\\sum_{n\\neq d} \\frac{h^n a^{(n)}(0)}{n!} x^n $$\n",
    "\n",
    "Once again, consider the limit as $h \\rightarrow 0$. All of the terms in the sum where $n > d$ are going to approach zero leaving us with a finite sum.\n",
    "\n",
    "$$ x^d = \\lim_{h \\rightarrow 0} \\left( \\frac{d!}{h^d a^{(d)}(0)} a(hx) - \\sum_{n = 0}^{d - 1} \\frac{d! h^{n-d} a^{(n)}(0)}{n! a^{(d)}(0)} x^n \\right) $$\n",
    "\n",
    "Introduce constants:\n",
    "\n",
    "$$ x^d = \\lim_{h \\rightarrow 0} \\left( A a(hx) - \\sum_{n = 0}^{d - 1} B_n x^n \\right) $$\n",
    "\n",
    "$$ A = \\frac{d!}{h^d a^{(d)}(0)} \\qquad B_n = A h^n a^{(n)}(0) $$\n",
    "\n",
    "Written a different way:\n",
    "\n",
    "$$ x^d = \\lim_{h \\rightarrow 0} \\left( A a(hx) - \\sum_{n = 0}^{d - 1} B_n (hx)^n \\right) $$\n",
    "\n",
    "$$ A = \\frac{d!}{h^d a^{(d)}(0)} \\qquad B_n = A a^{(n)}(0) $$"
   ]
  },
  {
   "cell_type": "markdown",
   "metadata": {
    "id": "pw-_Hw-ibhuE"
   },
   "source": [
    "---\n",
    "\n",
    "# Change-of-Basis Approximation Strategy\n",
    "\n",
    "This section describes a general strategy for approximating any function $f: \\mathbb{R} \\rightarrow \\mathbb{R}$ with a neural network using an arbitrary activation function $a$ (with certain restrictions) to any desired accuracy using a single hidden activation layer. The basic idea is to find a representation of $f$ as a linear combination of various functions of the form $a(hx + k)$. For a more concrete example, see [Using Maclaurin Approximation](#scrollTo=iZycguIdbhuG).\n",
    "\n",
    "Start with:\n",
    "* $f: \\mathbb{R} \\rightarrow \\mathbb{R}$ the function to be approximated\n",
    "* $a: \\mathbb{R} \\rightarrow \\mathbb{R}$ an activation function\n",
    "* A function basis $\\mathcal{F}$, for example:\n",
    "  * polynomials $\\{1, x, x^2, ...\\}$\n",
    "  * sinusoids $\\{1, \\sin(x), \\cos(x), \\sin(2x), \\dots\\}$\n",
    "* A methodology for producing an approximation $f_{app}$ of $f$ using finite subsets of the basis $\\mathcal{F}$\n",
    "  * Maclaurin series (requiring $f_{app}^{(n)}(0) = f^{(n)}(0)$ for some values $n \\ge 0$)\n",
    "  * Point Sampling (requiring $f_{app}(n) = f(n)$ for some values $n$)\n",
    "  * Matching Integrals (requring $\\int_R f^{(n)}_{app}(x)\\ dx = \\int_R f^{(n)}(x)\\ dx$ for some values $n \\ge 0$)\n",
    "  * Remez Algorithm\n",
    "  * Fourier series\n",
    "\n",
    "General process:\n",
    "1. Find an approximation $f_{app}$ of $f$ that is a linear combination of $d$ vectors in $\\mathcal{F}$.\n",
    "2. Construct a set of independent functions $\\mathcal{A} = \\{a(h_0 x + k_0), a(h_1 x + k_1), \\dots, a(h_d x + k_d) \\}$\n",
    "3. Construct a basis $\\mathcal{B}$ of approximations of the functions in $\\mathcal{A}$ where $\\mathcal{B}_i \\approx \\mathcal{A}_i$\n",
    "4. Construct a change of basis matrix $B = \\begin{bmatrix} \\mathcal{B}_0 & \\mathcal{B}_1 & \\cdots & \\mathcal{B}_d \\end{bmatrix}$ that converts from $\\mathcal{B}$-coordinates to $\\mathcal{F}$-coordinates.\n",
    "5. Find the coordinates of $f_{app}$ in $\\mathcal{B}$ by inverting the change of basis matrix: $\\text{coords}_{\\mathcal{B}}(f_{app}) = B^{-1}\\ \\text{coords}_{\\mathcal{F}}(f_{app})$\n",
    "\n",
    "The numbers in $\\text{coords}_{\\mathcal{B}}(f_{app})$ are the weights coming out of the neurons in the hidden layer of the network. The weights and biases fed _into_ the hidden layer neurons are the $h,k$ values from step 2.\n",
    "\n",
    "There are two approximations happening: the approximation of $f$ and the approximation of $a$. Both approximations are represented in the same finite-dimensional subspace of $\\mathcal{F}$, meaning the transformation from one to the other is a finite linear operator.\n",
    "\n"
   ]
  },
  {
   "cell_type": "markdown",
   "metadata": {
    "id": "iZycguIdbhuG"
   },
   "source": [
    "## Using Maclaurin Approximation\n",
    "\n",
    "Here is an example of applying the above approximation strategy using Maclaurin series approximation and the standard basis for $d$-degree polynomials for $\\mathcal{F}$.\n",
    "\n",
    "To start, we will use $\\mathcal{A} = \\{a(0), a(hx), a(2hx), \\dots, a(dhx)\\}$\n",
    "\n",
    "The approximations $\\mathcal{B}$ will be found using the first $d$ terms of the Maclaurin expansion.\n",
    "\n",
    "$$ \\mathcal{A}_j = a(khx) \\approx \\sum_{n=0}^{d} \\frac{j^n h^n a^{(n)}(0)}{n!} x^n = \\mathcal{B}_j $$\n",
    "\n",
    "Now construct the change of basis matrix $B$. The columns of $B$ are the vectors in $\\mathcal{B}$ written with respect to the standard polynomial basis $\\{1, x, x^2, \\dots, x^d\\}$. Note that $a^{(i)}(0) \\ne 0$ for $0 \\le i \\le d$ otherwise the matrix will not be invertible.\n",
    "\n",
    "$$ B = \\begin{bmatrix} \\mathcal{B}_0 & \\mathcal{B}_1 & \\cdots & \\mathcal{B}_d \\end{bmatrix} $$\n",
    "\n",
    "$$ B_{i,j} = \\frac{j^i h^i a^{(i)}(0)}{i!} $$\n",
    "\n",
    "Multiplying by $B$ on the left will convert coordinates with respect to $\\mathcal{B}$ into standard basis coordinates. Both coorinate vectors are column vectors. $p$ is the $d$-degree polynomial approximation of $f$.\n",
    "\n",
    "$$ B\\ \\text{coords}_{\\mathcal{B}}(p) = \\text{coords}(p) $$\n",
    "\n",
    "To get the new coordinates with respect to $\\mathcal{B}$, simply multiply the standard coordinates by the inverse of $B$.\n",
    "\n",
    "$$ \\text{coords}_{\\mathcal{B}}(p) = B^{-1} \\text{coords}(p) $$\n",
    "\n",
    "Our neural network function that approximates $p$ is\n",
    "\n",
    "$$ p(x) = \\lim_{h \\rightarrow 0} \\left( \\text{coords}_{\\mathcal{B}}(p) \\cdot a(\\begin{bmatrix} 0 & hx & 2hx & \\cdots & dhx \\end{bmatrix}^t) \\right) $$"
   ]
  },
  {
   "cell_type": "code",
   "execution_count": null,
   "metadata": {
    "colab": {
     "base_uri": "https://localhost:8080/"
    },
    "id": "xM6d_EqrbhuI",
    "outputId": "38db6b5a-a8ab-4ab0-b584-219e59384574"
   },
   "outputs": [
    {
     "data": {
      "text/plain": [
       "array([[ -25.07715296],\n",
       "       [  97.79126971],\n",
       "       [-151.51657341],\n",
       "       [ 122.7842585 ],\n",
       "       [ -50.69813563],\n",
       "       [   8.5754747 ]])"
      ]
     },
     "execution_count": 39,
     "metadata": {
      "tags": []
     },
     "output_type": "execute_result"
    }
   ],
   "source": [
    "# returns an approximation for poly\n",
    "# poly is a list [b0, b1, b2, ...] representing b0 + b1x + b2x^2 + b3x^3 + ...\n",
    "# a_derivs is the list [a(0), a'(0), a''(0), ...]\n",
    "# h should be close to zero (0.1 usually works well)\n",
    "# returns the coefficients [c0, c1, c2, ...] such that\n",
    "# c0 a(0) + c1 a(hx) + c2 a(2hx) + ... approximates poly\n",
    "def getApprox(poly, a_derivs, h):\n",
    "  degree = len(poly) - 1\n",
    "  # construct B matrix\n",
    "  # Note, the B matrix in the math above is actually matmul(C, B) where C\n",
    "  # is a diagonal matrix of \"row coefficients\"\n",
    "  B = []\n",
    "  for row in range(degree + 1):\n",
    "    B.append([])\n",
    "    for col in range(degree + 1):\n",
    "      B[row].append(math.pow(col, row))\n",
    "  B = np.array(B)\n",
    "\n",
    "  C_inv = []\n",
    "  for row in range(degree + 1):\n",
    "    C_inv.append([])\n",
    "    coefficient = math.factorial(row) / (math.pow(h, row) * a_derivs[row])\n",
    "    for col in range(degree + 1):\n",
    "      C_inv[row].append(coefficient if row == col else 0.0)\n",
    "  C_inv = np.array(C_inv)\n",
    "\n",
    "  # construct coords vector\n",
    "  coords = np.array(poly).reshape((degree+1, 1))\n",
    "\n",
    "  return np.matmul(np.matmul(np.linalg.inv(B), C_inv), coords)\n",
    "\n",
    "# derivatives of 1/(1+exp(-(x-1)))\n",
    "#a_derivs = [0.26894142137, 0.196611933241, 0.0908577476729, -0.0353255805162, -0.123506861366, -0.0510419761245]\n",
    "\n",
    "# derivatives of 1/(1+exp(-(5x - 1)))\n",
    "a_derivs = [0.26894142137, 0.983059666207, 2.27144369182, -4.41569756453, -77.191788354, -159.506175389]\n",
    "\n",
    "# approximate x - (1/6)x^3, a Maclaurin approx for sin(x).\n",
    "#getApprox([0.0, 1.0, 0.0, -1.0/6.0], [0.26894142137, 0.196611933241, 0.0908577476729, -0.0353255805162], 0.5)\n",
    "\n",
    "# approximates 0.5 sin(pi x) + 0.5\n",
    "# via its degree-5 maclaurin expansion\n",
    "getApprox([0.5, 1.57079632679, 0.0, -2.58385639002, 0.0, 1.27508201994],\n",
    "          a_derivs, 0.5)"
   ]
  },
  {
   "cell_type": "code",
   "execution_count": null,
   "metadata": {
    "id": "GOI0KLeTCy_r"
   },
   "outputs": [],
   "source": [
    "# len(inputs) = len(outputs) = d + 1\n",
    "# returns the unique d-degree polynomial p that\n",
    "# satisfies p(inputs[i]) = outputs[i] for each i.\n",
    "def getPolyApprox(inputs, outputs):\n",
    "  degree = len(inputs) - 1\n",
    "  M = []\n",
    "  for row in range(degree + 1):\n",
    "    M.append([])\n",
    "    for col in range(degree + 1):\n",
    "      M[row].append(math.pow(inputs[row], col))\n",
    "  M = np.array(M)\n",
    "\n",
    "  outputs = np.array(outputs).reshape((degree+1, 1))\n",
    "  return np.matmul(np.linalg.inv(M), outputs)\n",
    "\n",
    "def pointSampledApprox(a, p):\n",
    "  degree = len(p) - 1\n",
    "  basis = []\n",
    "  for i in range(degree+1):\n",
    "    c = i / (degree+1)\n",
    "    a_shifted = lambda x: a(5.0 * (x - c))\n",
    "    inputs = [x / degree for x in range(degree+1)]\n",
    "    outputs = [a_shifted(x) for x in inputs]\n",
    "    basis.append(getPolyApprox(inputs, outputs))\n",
    "\n",
    "  B = np.column_stack(basis)\n",
    "  print(np.matmul(np.linalg.inv(B), np.array(p).reshape((degree+1, 1))))\n"
   ]
  },
  {
   "cell_type": "code",
   "execution_count": null,
   "metadata": {
    "colab": {
     "base_uri": "https://localhost:8080/"
    },
    "id": "fiUdhD7EEPxb",
    "outputId": "6e57a9d6-31b9-4445-8473-fd644cc57c5b"
   },
   "outputs": [
    {
     "name": "stdout",
     "output_type": "stream",
     "text": [
      "[[-2.47988103]\n",
      " [10.84523535]\n",
      " [-9.37800578]\n",
      " [-3.47771911]\n",
      " [ 5.89490843]]\n"
     ]
    }
   ],
   "source": [
    "p = getPolyApprox([0.0, 0.25, 0.5, 0.75, 1.0], [0.5, 1.0, 0.5, 0.0, 0.5])\n",
    "pointSampledApprox(lambda x: 1.0 / (1.0 + math.exp(-x)), p)"
   ]
  },
  {
   "cell_type": "markdown",
   "metadata": {
    "id": "K7cblEvy49nJ"
   },
   "source": [
    "---\n",
    "\n",
    "# Approximating an Arbitrary Function using Convolution\n",
    "\n",
    "This section describes a neural network configuration that can approximate a real-valued function $\\mathbb{R} \\rightarrow \\mathbb{R}$ on a certain domain. The structure is inspired by signal convolution in linear systems, but it is also reminiscent of a fuzzy logic system. [Implementation](#scrollTo=x5qhSvWBw4bI) provides code for exploration and testing.\n"
   ]
  },
  {
   "cell_type": "code",
   "execution_count": null,
   "metadata": {
    "colab": {
     "base_uri": "https://localhost:8080/",
     "height": 272
    },
    "id": "H2P0q-x8JUQc",
    "outputId": "7e3bf013-8dfb-45d0-8e88-d76e51fd37ea"
   },
   "outputs": [
    {
     "data": {
      "image/svg+xml": [
       "<?xml version=\"1.0\" encoding=\"UTF-8\" standalone=\"no\"?>\n",
       "<!DOCTYPE svg PUBLIC \"-//W3C//DTD SVG 1.1//EN\"\n",
       " \"http://www.w3.org/Graphics/SVG/1.1/DTD/svg11.dtd\">\n",
       "<!-- Generated by graphviz version 2.40.1 (20161225.0304)\n",
       " -->\n",
       "<!-- Title: %3 Pages: 1 -->\n",
       "<svg width=\"422pt\" height=\"188pt\"\n",
       " viewBox=\"0.00 0.00 422.00 188.00\" xmlns=\"http://www.w3.org/2000/svg\" xmlns:xlink=\"http://www.w3.org/1999/xlink\">\n",
       "<g id=\"graph0\" class=\"graph\" transform=\"scale(1 1) rotate(0) translate(4 184)\">\n",
       "<title>%3</title>\n",
       "<polygon fill=\"#ffffff\" stroke=\"transparent\" points=\"-4,4 -4,-184 418,-184 418,4 -4,4\"/>\n",
       "<!-- i -->\n",
       "<g id=\"node1\" class=\"node\">\n",
       "<title>i</title>\n",
       "<ellipse fill=\"none\" stroke=\"#000000\" cx=\"207\" cy=\"-18\" rx=\"27\" ry=\"18\"/>\n",
       "<text text-anchor=\"middle\" x=\"207\" y=\"-14.3\" font-family=\"Times,serif\" font-size=\"14.00\" fill=\"#000000\">x</text>\n",
       "</g>\n",
       "<!-- o -->\n",
       "<g id=\"node2\" class=\"node\">\n",
       "<title>o</title>\n",
       "<ellipse fill=\"none\" stroke=\"#000000\" cx=\"207\" cy=\"-162\" rx=\"27\" ry=\"18\"/>\n",
       "<text text-anchor=\"middle\" x=\"207\" y=\"-158.3\" font-family=\"Times,serif\" font-size=\"14.00\" fill=\"#000000\">y</text>\n",
       "</g>\n",
       "<!-- a -->\n",
       "<g id=\"node3\" class=\"node\">\n",
       "<title>a</title>\n",
       "<ellipse fill=\"none\" stroke=\"#000000\" cx=\"27\" cy=\"-90\" rx=\"27\" ry=\"18\"/>\n",
       "</g>\n",
       "<!-- o&#45;&#45;a -->\n",
       "<g id=\"edge1\" class=\"edge\">\n",
       "<title>o&#45;&#45;a</title>\n",
       "<path fill=\"none\" stroke=\"#000000\" d=\"M182.7416,-153.7783C153.869,-143.7927 104.3615,-126.0365 63,-108 58.2601,-105.9331 53.2525,-103.5571 48.5278,-101.2234\"/>\n",
       "</g>\n",
       "<!-- b -->\n",
       "<g id=\"node4\" class=\"node\">\n",
       "<title>b</title>\n",
       "<ellipse fill=\"none\" stroke=\"#000000\" cx=\"99\" cy=\"-90\" rx=\"27\" ry=\"18\"/>\n",
       "</g>\n",
       "<!-- o&#45;&#45;b -->\n",
       "<g id=\"edge2\" class=\"edge\">\n",
       "<title>o&#45;&#45;b</title>\n",
       "<path fill=\"none\" stroke=\"#000000\" d=\"M187.6918,-149.1278C168.0337,-136.0225 137.7386,-115.8257 118.1411,-102.7607\"/>\n",
       "</g>\n",
       "<!-- c -->\n",
       "<g id=\"node5\" class=\"node\">\n",
       "<title>c</title>\n",
       "<ellipse fill=\"none\" stroke=\"#000000\" cx=\"171\" cy=\"-90\" rx=\"27\" ry=\"18\"/>\n",
       "</g>\n",
       "<!-- o&#45;&#45;c -->\n",
       "<g id=\"edge3\" class=\"edge\">\n",
       "<title>o&#45;&#45;c</title>\n",
       "<path fill=\"none\" stroke=\"#000000\" d=\"M198.2854,-144.5708C192.6253,-133.2506 185.2784,-118.5568 179.6343,-107.2687\"/>\n",
       "</g>\n",
       "<!-- d -->\n",
       "<g id=\"node6\" class=\"node\">\n",
       "<title>d</title>\n",
       "<ellipse fill=\"none\" stroke=\"#000000\" cx=\"243\" cy=\"-90\" rx=\"27\" ry=\"18\"/>\n",
       "</g>\n",
       "<!-- o&#45;&#45;d -->\n",
       "<g id=\"edge4\" class=\"edge\">\n",
       "<title>o&#45;&#45;d</title>\n",
       "<path fill=\"none\" stroke=\"#000000\" d=\"M215.7146,-144.5708C221.3747,-133.2506 228.7216,-118.5568 234.3657,-107.2687\"/>\n",
       "</g>\n",
       "<!-- e -->\n",
       "<g id=\"node7\" class=\"node\">\n",
       "<title>e</title>\n",
       "<ellipse fill=\"none\" stroke=\"#000000\" cx=\"315\" cy=\"-90\" rx=\"27\" ry=\"18\"/>\n",
       "</g>\n",
       "<!-- o&#45;&#45;e -->\n",
       "<g id=\"edge5\" class=\"edge\">\n",
       "<title>o&#45;&#45;e</title>\n",
       "<path fill=\"none\" stroke=\"#000000\" d=\"M226.3082,-149.1278C245.9663,-136.0225 276.2614,-115.8257 295.8589,-102.7607\"/>\n",
       "</g>\n",
       "<!-- f -->\n",
       "<g id=\"node8\" class=\"node\">\n",
       "<title>f</title>\n",
       "<ellipse fill=\"none\" stroke=\"#000000\" cx=\"387\" cy=\"-90\" rx=\"27\" ry=\"18\"/>\n",
       "</g>\n",
       "<!-- o&#45;&#45;f -->\n",
       "<g id=\"edge6\" class=\"edge\">\n",
       "<title>o&#45;&#45;f</title>\n",
       "<path fill=\"none\" stroke=\"#000000\" d=\"M231.2584,-153.7783C260.131,-143.7927 309.6385,-126.0365 351,-108 355.7399,-105.9331 360.7475,-103.5571 365.4722,-101.2234\"/>\n",
       "</g>\n",
       "<!-- a&#45;&#45;i -->\n",
       "<g id=\"edge7\" class=\"edge\">\n",
       "<title>a&#45;&#45;i</title>\n",
       "<path fill=\"none\" stroke=\"#000000\" d=\"M48.5278,-78.7766C53.2525,-76.4429 58.2601,-74.0669 63,-72 104.3615,-53.9635 153.869,-36.2073 182.7416,-26.2217\"/>\n",
       "</g>\n",
       "<!-- b&#45;&#45;i -->\n",
       "<g id=\"edge8\" class=\"edge\">\n",
       "<title>b&#45;&#45;i</title>\n",
       "<path fill=\"none\" stroke=\"#000000\" d=\"M118.3082,-77.1278C137.9663,-64.0225 168.2614,-43.8257 187.8589,-30.7607\"/>\n",
       "</g>\n",
       "<!-- c&#45;&#45;i -->\n",
       "<g id=\"edge9\" class=\"edge\">\n",
       "<title>c&#45;&#45;i</title>\n",
       "<path fill=\"none\" stroke=\"#000000\" d=\"M179.7146,-72.5708C185.3747,-61.2506 192.7216,-46.5568 198.3657,-35.2687\"/>\n",
       "</g>\n",
       "<!-- d&#45;&#45;i -->\n",
       "<g id=\"edge10\" class=\"edge\">\n",
       "<title>d&#45;&#45;i</title>\n",
       "<path fill=\"none\" stroke=\"#000000\" d=\"M234.2854,-72.5708C228.6253,-61.2506 221.2784,-46.5568 215.6343,-35.2687\"/>\n",
       "</g>\n",
       "<!-- e&#45;&#45;i -->\n",
       "<g id=\"edge11\" class=\"edge\">\n",
       "<title>e&#45;&#45;i</title>\n",
       "<path fill=\"none\" stroke=\"#000000\" d=\"M295.6918,-77.1278C276.0337,-64.0225 245.7386,-43.8257 226.1411,-30.7607\"/>\n",
       "</g>\n",
       "<!-- f&#45;&#45;i -->\n",
       "<g id=\"edge12\" class=\"edge\">\n",
       "<title>f&#45;&#45;i</title>\n",
       "<path fill=\"none\" stroke=\"#000000\" d=\"M365.4722,-78.7766C360.7475,-76.4429 355.7399,-74.0669 351,-72 309.6385,-53.9635 260.131,-36.2073 231.2584,-26.2217\"/>\n",
       "</g>\n",
       "</g>\n",
       "</svg>\n"
      ],
      "text/plain": [
       "<graphviz.dot.Graph at 0x7fa45db0f978>"
      ]
     },
     "execution_count": 20,
     "metadata": {
      "tags": []
     },
     "output_type": "execute_result"
    }
   ],
   "source": [
    "g = gv.Graph()\n",
    "g.node_attr[\"label\"] = \"\"\n",
    "g.node(\"i\", \"x\")\n",
    "g.node(\"o\", \"y\")\n",
    "g.edges([\"oa\", \"ob\", \"oc\", \"od\", \"oe\", \"of\"])\n",
    "g.edges([\"ai\", \"bi\", \"ci\", \"di\", \"ei\", \"fi\"])\n",
    "g"
   ]
  },
  {
   "cell_type": "markdown",
   "metadata": {
    "id": "x1MttPUnA-Ku"
   },
   "source": [
    "The network has one input node, one output node, and one hidden layer. Let $h$ denote the number of nodes in the hidden layer. The approximation becomes better as $h$ increases.\n",
    "\n",
    "Broadly, this network approximates a function by partitioning the domain of interest into $h$ equally-sized segments. The goal for any input is to get one particular node in the hidden layer to activate while the rest are deactivated. The activated node should correspond to the segment in which the input resides. The final set of weights can then easily be tuned so that the final output corresponds to the activated node according to the function being approximated.\n",
    "\n",
    "Intuitively, each hidden node \"detects\" when the input is close to a particular value. To accomplish this, an activation function $a$ should be used such that:\n",
    "\n",
    "$$a(0) = 1$$\n",
    "$$\\lim_{x \\rightarrow \\infty} a(x) = \\lim_{x \\rightarrow -\\infty} a(x) = 0$$\n",
    "\n",
    "For example, a gaussian or \"spike\" curve will suffice. Now suppose the $i$-th hidden node needs to detect when the input is near $x_i$. Then the activation $v_i$ of that node should be:\n",
    "\n",
    "$$ v_i = a(wx -wx_i) $$\n",
    "\n",
    "The weight $w$ can be varied, but the bias needs to be set so that $v_i = 1$ when $x = x_i$.\n",
    "\n",
    "If we are approximating a function $f$, then the output $y$ is given by:\n",
    "$$ y = \\sum_{i=1}^{h} v_i f(x_i) $$"
   ]
  },
  {
   "cell_type": "markdown",
   "metadata": {
    "id": "kpJhTEJEPVUv"
   },
   "source": [
    "The neural network is essentially just calculating $f$ by approximating the following equation:\n",
    "\n",
    "$$ f(x) = \\int_{a}^{b} f(\\tau)\\ \\delta(x - \\tau)\\ d\\tau \\approx \\sum_{i=1}^{h} f(i \\Delta)\\ r(x - i \\Delta) $$\n",
    "\n",
    "where $(a,b)$ is our domain of interest, $\\Delta = (b - a)/h$, $r(0) = 1$, and $r(x) = 0$ for $x \\ge h$ or $x \\le -h$.\n",
    "\n",
    "If we substitute the computation for $v_i$ into the equation for $y$, we can see the similarity:\n",
    "\n",
    "$$ y = \\sum_{i=1}^{h} f(x_i)\\ a(wx - wx_i)$$\n",
    "\n",
    "If we let $x_i = i\\Delta$ and $a(wt) = r(t)$, then the correspondence becomes complete.\n",
    "\n",
    "$$ y = \\sum_{i=1}^{h} f(i\\Delta)\\ a(w \\cdot (x - i\\Delta))$$"
   ]
  },
  {
   "cell_type": "markdown",
   "metadata": {
    "id": "x5qhSvWBw4bI"
   },
   "source": [
    "## Implementation\n",
    "\n",
    "Currently, the function being approximated is $0.5 \\sin(\\pi x)$. Change [this cell](#scrollTo=AKMcQ9OXEPdR) if you want to approximate a different function.\n",
    "\n",
    "[This cell](#scrollTo=zXPo8b9yndcO) manually sets the weights and biases of the network to the values prescribed by the theory. These are not guarenteed to be the best values (training the network afterwards does give improvements), but gives a good starting point.\n",
    "\n",
    "If the weights and biases are randomly initialized, the network probably won't learn on its own to use this approximation method. It just serves as a demonstration of how a network with one hidden layer could theoretically learn any real valued function."
   ]
  },
  {
   "cell_type": "code",
   "execution_count": null,
   "metadata": {
    "id": "ZR1yszCaDnkB"
   },
   "outputs": [],
   "source": [
    "# Constructs a new model called \"sinModel\"\n",
    "# MyModel(h) constructs the 3-layer network described above with h\n",
    "# nodes in the hidden layer.\n",
    "class MyModel(tf.keras.Model):\n",
    "  def __init__(self, h, **kwargs):\n",
    "    super().__init__(**kwargs)\n",
    "    #self.a = lambda x: tf.exp(-x**2)   # the gaussian activation function\n",
    "    self.a = lambda x: tf.maximum(1-tf.abs(x), 0)  # sawtooth activation\n",
    "    self.w1 = tf.Variable(tf.random.uniform(shape=[1, h]))\n",
    "    self.b1 = tf.Variable(tf.random.uniform(shape=[1, h]))\n",
    "    self.w2 = tf.Variable(tf.random.uniform(shape=[h, 1]))\n",
    "    self.b2 = tf.Variable(tf.random.uniform(shape=[1, 1]))\n",
    "  def hl_act(self, i, x, **kwargs):\n",
    "    w1 = tf.reshape(self.w1[0,i], [1, 1])\n",
    "    b1 = tf.reshape(self.b1[0,i], [1, 1])\n",
    "    return self.a(tf.matmul(x, w1) + b1)\n",
    "  def __call__(self, x, **kwargs):\n",
    "    hiddenlayer = self.a(tf.matmul(x, self.w1) + self.b1)\n",
    "    return tf.matmul(hiddenlayer, self.w2) + self.b2\n",
    "\n",
    "sinModel = MyModel(6)"
   ]
  },
  {
   "cell_type": "code",
   "execution_count": null,
   "metadata": {
    "id": "AKMcQ9OXEPdR"
   },
   "outputs": [],
   "source": [
    "# The function we want to approximate.\n",
    "# In this case, 0.5sin(pi*x)\n",
    "def f(x):\n",
    "  return 0.5 * tf.sin(math.pi * x)"
   ]
  },
  {
   "cell_type": "code",
   "execution_count": null,
   "metadata": {
    "colab": {
     "base_uri": "https://localhost:8080/"
    },
    "id": "zXPo8b9yndcO",
    "outputId": "3c5c8556-3045-4e08-a546-c4605b1f576f"
   },
   "outputs": [
    {
     "data": {
      "text/plain": [
       "<tf.Variable 'UnreadVariable' shape=(1, 1) dtype=float32, numpy=array([[0.]], dtype=float32)>"
      ]
     },
     "execution_count": 23,
     "metadata": {
      "tags": []
     },
     "output_type": "execute_result"
    }
   ],
   "source": [
    "# Manually set the weights and biases to approximate f on\n",
    "# the interval [0,1]. Six sample values are used.\n",
    "\n",
    "parts = tf.constant([[0.0, 0.2, 0.4, 0.6, 0.8, 1.0]])\n",
    "w = 5.0\n",
    "\n",
    "sinModel = MyModel(6)\n",
    "sinModel.w1.assign(tf.constant([[w, w, w, w, w, w]]))\n",
    "sinModel.b1.assign(parts * -w)\n",
    "sinModel.w2.assign(f(tf.reshape(parts, (6, 1))))\n",
    "sinModel.b2.assign(tf.zeros(shape=(1,1)))"
   ]
  },
  {
   "cell_type": "code",
   "execution_count": null,
   "metadata": {
    "colab": {
     "base_uri": "https://localhost:8080/",
     "height": 265
    },
    "id": "9BCjyzJMwEa4",
    "outputId": "e99dc62b-f156-4b13-c399-26c0c83ee1f0"
   },
   "outputs": [
    {
     "data": {
      "image/png": "[encoded data removed]",
      "text/plain": [
       "<Figure size 432x288 with 1 Axes>"
      ]
     },
     "metadata": {
      "needs_background": "light",
      "tags": []
     },
     "output_type": "display_data"
    }
   ],
   "source": [
    "# Test: plot the model approximation and the actual function f\n",
    "x = tf.random.uniform((100, 1, 1), minval=0.0, maxval=1.0)\n",
    "y = f(x)\n",
    "y_obs = sinModel(x)\n",
    "plt.scatter(x, y, c=\"black\", s=3)\n",
    "plt.scatter(x, y_obs, c=\"red\", s=3)\n",
    "plt.show()"
   ]
  },
  {
   "cell_type": "code",
   "execution_count": null,
   "metadata": {
    "colab": {
     "base_uri": "https://localhost:8080/"
    },
    "id": "8a7YWF7kuVwi",
    "outputId": "a2f6ab76-ff38-4b0e-d0d9-c8d05610799b"
   },
   "outputs": [
    {
     "data": {
      "text/plain": [
       "<tensorflow.python.keras.callbacks.History at 0x7fa45ecaebe0>"
      ]
     },
     "execution_count": 25,
     "metadata": {
      "tags": []
     },
     "output_type": "execute_result"
    }
   ],
   "source": [
    "# Train the model\n",
    "sinModel.compile(run_eagerly=False,\n",
    "                optimizer=tf.keras.optimizers.SGD(learning_rate=0.01),\n",
    "                loss=tf.keras.losses.mean_squared_error)\n",
    "sinModel.fit(x, y, epochs=1000, batch_size=100, verbose=0)"
   ]
  },
  {
   "cell_type": "code",
   "execution_count": null,
   "metadata": {
    "colab": {
     "base_uri": "https://localhost:8080/"
    },
    "id": "W5KmpevavagN",
    "outputId": "c99f7be3-bd9f-4dec-826f-9af33c641958"
   },
   "outputs": [
    {
     "name": "stdout",
     "output_type": "stream",
     "text": [
      "<tf.Variable 'Variable:0' shape=(1, 6) dtype=float32, numpy=\n",
      "array([[5.       , 4.999203 , 4.9981747, 5.000848 , 5.0031466, 5.       ]],\n",
      "      dtype=float32)>\n"
     ]
    }
   ],
   "source": [
    "# print weights and biases\n",
    "print(sinModel.w1)"
   ]
  },
  {
   "cell_type": "code",
   "execution_count": null,
   "metadata": {
    "colab": {
     "base_uri": "https://localhost:8080/",
     "height": 268
    },
    "id": "3TM7e1I8-jEv",
    "outputId": "e2da51ba-9fb0-4995-8e26-371177c382e5"
   },
   "outputs": [
    {
     "data": {
      "image/png": "[encoded data removed]",
      "text/plain": [
       "<Figure size 432x288 with 1 Axes>"
      ]
     },
     "metadata": {
      "needs_background": "light",
      "tags": []
     },
     "output_type": "display_data"
    }
   ],
   "source": [
    "# plot the activation of the 0-th hidden node\n",
    "x = tf.random.uniform((100, 1, 1), minval=0.0, maxval=1.0)\n",
    "y = f(x)\n",
    "y_obs = sinModel.hl_act(0, x)\n",
    "\n",
    "plt.scatter(x, y, c=\"black\", s=3)\n",
    "plt.scatter(x, y_obs, c=\"red\", s=3)\n",
    "plt.show()"
   ]
  },
  {
   "cell_type": "markdown",
   "metadata": {
    "id": "TkR9VW56xEpj"
   },
   "source": [
    "## 4-layer version\n",
    "\n",
    "Commonly used activation functions like sigmoid and the rectified linear don't usually tend toward zero on both ends. However, inserting another hidden layer allows us to use sigmoidal activation functions.\n",
    "\n",
    "Broadly, the purpose of the nodes in the second hidden layer is the same as the hidden nodes in the 3-layer version: to activate when the input is close to some fixed value. The nodes in the first hidden layer should be zero, when read from left to right, until some node where the values switch to one.\n",
    "\n",
    "Speaking of the hidden layers in terms of signals, the second hidden layer is the \"derivative\" of the first, and the feed-forward calculation between them can be compared to convolving the first signal with the $\\delta$ signal."
   ]
  },
  {
   "cell_type": "markdown",
   "metadata": {
    "id": "wWqwROWKYaSv"
   },
   "source": [
    "---\n",
    "\n",
    "# Helpful Mathematical Theory"
   ]
  },
  {
   "cell_type": "markdown",
   "metadata": {
    "id": "9kcWiTr6jzWc"
   },
   "source": [
    "## Linear Systems Background\n",
    "\n",
    "Some vocabulary:\n",
    "\n",
    "* **Def** A _signal_ (denoted with $x$ or $y$) just refers to a real-valued function (usually over time). Alternatively, it can be thought of as a list of (output) values.\n",
    "* **Def** _Shifted signal_: $x \\Rsh s$ is the signal such that $(x \\Rsh s)(t) = x(t - s)$. Usually, $x(t - s)$ denotes the shifted signal itself, but using the denotation $\\Rsh$ clarifies that shifting is an operation on a signal. \n",
    "* **Def** A _system_ or _transform_ (denoted $T$) is a \"function on functions\", a transformation from one signal to another.\n",
    "* **Def** A _linear system_ is a system that satisfies homogeneity and additivity from linear algebra.\n",
    "* **Def** A _shift-invariant system_ $T$ satisfies the property $T[x \\Rsh s] = T[x] \\Rsh s$ for any signal and shift amount.\n",
    "* **Def** The _unit impulse_ signal (denoted $\\delta(t)$) is a spike at time zero and is defined such that:\n",
    "$$ \\int_{-\\infty}^{t} \\delta(\\tau)\\ d\\tau = \\begin{cases} 0 \\qquad t < 0 \\\\ 1 \\qquad t > 0 \\end{cases}$$\n",
    "\n",
    "Any signal can be represented as a linear combination of shifted and scaled impulse signals:\n",
    "$$ x(t) = \\int_{-\\infty}^{\\infty} x(\\tau)\\ \\delta(t - \\tau)\\ d\\tau $$\n",
    "\n",
    "Suppose $T$ is a linear shift-invariant transform. Then, by properties of linearity and shift-invariance:\n",
    "$$ T[x(t)] = \\int_{-\\infty}^{\\infty} x(\\tau)\\ (T[\\delta])(t - \\tau) \\ d\\tau $$\n",
    "This means that $T$ is completely characterized by how it maps the unit impulse signal. $T[\\delta]$ is called the _impulse response signal_."
   ]
  },
  {
   "cell_type": "markdown",
   "metadata": {
    "id": "lV_WsO4Bq5g6"
   },
   "source": [
    "**Def** A _convolution_ is a combination of two signals. We say $x * y$ is the result of convolving $x$ with $y$.\n",
    "  $$ (x * y)(t) = \\int_{-\\infty}^{\\infty} x(\\tau)\\ y(t - \\tau)\\ d\\tau $$\n",
    "  $$ x * y = \\int_{-\\infty}^{\\infty} x(\\tau)\\ (y \\Rsh \\tau)\\ d\\tau $$\n",
    "  Think of convolution as constructing a new signal that is a linear combination of a set of base signals. But each base signal is just a shifted version of a single signal $y$. The factors that scale the base signals are the outputs of $x$.\n",
    "\n",
    "Special Convolutions:\n",
    " * $x * \\delta = x$\n",
    " * $x * 1 = \\int_{-\\infty}^{\\infty} x(\\tau)\\ d\\tau$\n",
    " * $x * \\text{step} = \\int_{-\\infty}^{t}x(\\tau)\\ d\\tau \\qquad$ (\"step\" is the integral of $\\delta$)\n",
    "\n"
   ]
  },
  {
   "cell_type": "markdown",
   "metadata": {
    "id": "eGLvr2-LjP1E"
   },
   "source": [
    "Differentiation on real functions is a shift-invariant linear operation, so it can be expressed as a convolution ($d$ is the \"derivative\" of $\\delta$):\n",
    "$$ \\frac{dx}{dt} = x * d = \\int_{-\\infty}^{\\infty} x(\\tau)\\ (d \\Rsh \\tau)\\ d\\tau $$"
   ]
  },
  {
   "cell_type": "markdown",
   "metadata": {
    "id": "I9u25xiz6B_X"
   },
   "source": [
    "A Taylor series is similar to a convolution, but uses a discrete sum instead of the continuous integral.\n",
    "\n",
    "$$ f(x) = \\sum_{n=0}^{\\infty} \\frac{f^{(n)}(a)}{n!} (x - a)^n \\qquad \\forall x, a \\in \\mathbb{R} $$\n",
    "\n",
    "$$ f(x) = \\sum_{n=0}^\\infty \\frac{f^{(n)}(0)}{n!} x^n $$"
   ]
  },
  {
   "cell_type": "markdown",
   "metadata": {
    "id": "faQpaJauIQ6W"
   },
   "source": [
    "## Neural Net vs. Fuzzy Inference System\n",
    "\n",
    "The feedforward calculation of a neural network is a (linear) affine transformation composed with a nonlinear function $\\sigma$.\n",
    "\n",
    "$$ x^{(l+1)} = \\sigma(W^{(l)} x^{(l)} + b^{(l)}) \\qquad \\text{whole layer}$$\n",
    "\n",
    "$$ x^{(l+1)}_i = \\sigma\\left( \\sum_j W_{i,j}^{(l)} x_j^{(l)} + b_i^{(l)} \\right) \\qquad \\text{single node} $$\n",
    "\n",
    "_Index confusion_:\n",
    "* _Superscripts in parentheses_ always refer to the layer.\n",
    "* _Subscripts_ index the elements within a particular layer. Vectors only have one subscript. Matrices have two comma-separated subscripts for the _row_ and _col_ respectively. Letting the _col_ vary looks like moving left-right across the matrix.\n",
    "* Matrix vector multiplication example: $\\sum_j W_{i,j}x_j = (Wx)_i$\n",
    "\n",
    "### Piecewise-linear neural network\n",
    "\n",
    "If the activation function $\\sigma$ is piecewise-linear, such as a rectified linear or absolute value, then the entire feed-forward network will be piecewise-linear because composing two piecewise-linear functions yields another piecewise-linear function.\n",
    "\n",
    "**Theorem** The composition of two piecewise-affine functions is itself piecewise-affine.\n",
    "\n",
    "**Proof** Let $f$ and $g$ be piecewise-affine. Since $f$ is piecewise, the domain of $f$ can be divided into regions $\\{r_1, r_2, ...\\}$ such that $f$ is purely affine on any one region $r_i$. The same can be said for $g$ on regions $\\{s_1, s_2, ...\\}$. Now the composition of two purely affine functions is itself affine. This means that $(g \\circ f)$ is affine on any region $r_i \\cap \\{x | f(x) \\in s_j\\}$ since this region is a subset of $r_i$, and its mapping via $f$ is a subset of $s_j$. So $(g \\circ f)$ is piecewise-affine.\n",
    "\n",
    "### Fuzzy Inference System\n",
    "\n",
    "The function defined by a fuzzy inference system $f: \\mathbb{R}^n \\rightarrow \\mathbb{R}^m$ is piecewise-polynomial of degree $n$. This is because for each region in the domain, $f$ is defined as a linear combination of $2^n$ membership functions. As an example, for a one-input one-output system, on the domain $[0,1]$, these membership functions are $(1 - x)$ and $x$.\n",
    "\n",
    "$$ f(x) = c_0(1 - x) + c_1x $$\n",
    "\n",
    "If the input becomes 2-dimensional, then $f$ on the unit square becomes:\n",
    "\n",
    "$$ f(x,y) = c_{00}(1-x)(1-y) + c_{01}(1-x)y + c_{10}x(1-y) + c_{11}xy $$\n",
    "\n",
    "Each additional variable requires an additional multiplication in the definition of the membership functions."
   ]
  },
  {
   "cell_type": "markdown",
   "metadata": {
    "id": "1n-Av1fvLDQp"
   },
   "source": [
    "## Universal Approximation Theorem\n",
    "\n",
    "The universal approximation theorem says that neural networks with either arbitrary width or depth can approximate any continuous function to arbitrary accuracy.\n",
    "\n",
    "* **Arbitrary Width** Given a non-polynomial activation function $\\sigma: \\mathbb{R} \\rightarrow \\mathbb{R}$ and input,output dimensions $d,D \\in \\mathbb{Z}^+$\n",
    " * for every continuous function $f: \\mathbb{R}^d \\rightarrow \\mathbb{R}^D$,\n",
    " * for every compact subset $K$ of $\\mathbb{R}^d$,\n",
    " * for every $\\epsilon > 0$,\n",
    " * there exists linear affine maps $W_1, W_2$ such that\n",
    " * $\\sup| f(x) - (W_2 \\circ \\sigma \\circ W_1)(x) | < \\epsilon$\n",
    "* **Arbitrary Depth**\n",
    " * for every function $f: \\mathbb{R}^n \\rightarrow \\mathbb{R}^m$,\n",
    " * for every $\\epsilon > 0$,\n",
    " * there exists a fully-connected ReLU network $F$ with width $d_m = \\max\\{n+1,m\\}$ such that,\n",
    " * $\\int_{\\mathbb{R}^n} | f(x) - F(x) |^p dx < \\epsilon$"
   ]
  },
  {
   "cell_type": "markdown",
   "metadata": {
    "id": "6yt_hgDzz30c"
   },
   "source": [
    "## Fourier Series\n",
    "\n",
    "Fourier's Theorem states that any periodic function $f$ with period $L$ can be written as a sum of sines and cosines:\n",
    "\n",
    "$$ f(x) = a_0 + \\sum_{n=1}^{\\infty} \\left[ a_n\\cos\\left(\\frac{2\\pi nx}{L}\\right) + b_n\\sin\\left(\\frac{2\\pi nx}{L}\\right) \\right] \\qquad \\text{(Fourier's Theorem)} $$\n",
    "\n",
    "where the coefficients can be calculated as follows:\n",
    "\n",
    "$$ a_n = \\frac{2}{L}\\int_0^{L} f(x)\\cos\\left( \\frac{2\\pi nx}{L} \\right)\\ dx $$\n",
    "$$ b_n = \\frac{2}{L}\\int_0^{L} f(x)\\sin\\left( \\frac{2\\pi nx}{L} \\right)\\ dx $$\n",
    "\n",
    "There is an equivalent exponential form that also generalizes to complex functions:\n",
    "\n",
    "$$ f(x) = \\sum_{n=-\\infty}^{\\infty} C_n e^{i\\, 2\\pi nx/L} \\qquad \\text{(Fourier's Theorem)} $$\n",
    "\n",
    "$$ C_n = \\frac{1}{L}\\int_0^L f(x) e^{i\\, 2\\pi nx/L}\\ dx $$"
   ]
  },
  {
   "cell_type": "markdown",
   "metadata": {
    "id": "YOD0kL4hQ1Lv"
   },
   "source": [
    "## Fourier Approximations\n",
    "\n",
    "Fourier approximations work because the set of functions $\\{\\frac{1}{\\pi}\\sin nx | n \\ge 1\\} \\cup \\{\\frac{1}{\\pi} \\cos nx | n \\ge 1\\} \\cup \\{\\frac{1}{2\\pi}\\}$ forms an orthonormal basis of the set of real-valued functions with period $2\\pi$. This is because:\n",
    "\n",
    "* All functions in this set have unit length (e.g. $\\int_0^{2\\pi} \\sin^2 (nx)\\ dx = 1$)\n",
    "* All functions in this set are pairwise orthogonal (e.g. $\\int_0^{2\\pi} \\sin(nx)\\cos(mx)\\ dx = 0$)\n",
    "* There are \"enough\" of them to span the entire vector space\n",
    "\n",
    "Finding the Fourier approximation of a function $f$ just requires calculating the coorinates of $f$ in this new basis. Recall the projection formula:\n",
    "\n",
    "$$ \\text{proj}_{\\vec{w}} \\vec{v} = \\frac{\\vec{v} \\cdot \\vec{w}}{||\\vec{w}||^2} \\vec{w} $$\n",
    "\n",
    "So we just need to project our function $f$ onto each basis vector. For example,\n",
    "\n",
    "$$ \\text{proj}_{\\sin(x)/\\pi} f = \\frac{1}{\\pi^2} \\left( \\int_0^{2\\pi} f(x) \\sin(x)\\ dx \\right) \\sin(x) $$\n",
    "\n",
    "Similar approximations can be done with any set of orthogonal functions such as [orthogonal polynomials](https://en.wikipedia.org/wiki/Orthogonal_polynomials)."
   ]
  },
  {
   "cell_type": "markdown",
   "metadata": {
    "id": "9lbEMxF8W7sp"
   },
   "source": [
    "The discrete Fourier Transform transforms a sequence of complex numbers $ x_0, x_2, \\dots, x_{N-1} $ into another sequence:\n",
    "\n",
    "$$ X = F\\pmb{x} $$\n",
    "\n",
    "$$ \\begin{bmatrix} X_0 \\\\ X_1 \\\\ \\vdots \\end{bmatrix} = \\begin{bmatrix} \\omega^{0 \\cdot 0} & \\omega^{0 \\cdot 1} & \\\\ \\omega^{1 \\cdot 0} & \\omega^{1 \\cdot 1} & \\cdots \\\\ & \\vdots & \\end{bmatrix} \\begin{bmatrix} x_0 \\\\ x_1 \\\\ \\vdots \\end{bmatrix} $$\n",
    "\n",
    "$$ \\omega = e^{-\\frac{2 \\pi i}{N}} $$\n",
    "\n"
   ]
  },
  {
   "cell_type": "markdown",
   "metadata": {
    "id": "6TT2evCQasjc"
   },
   "source": [
    "## Spline Theory\n",
    "\n",
    "Notes from \"A Spline Theory of Deep Networks\" by Balestriero and Baraniuk.\n",
    "\n",
    "* **Def** A function $f: \\mathbb{R^n} \\rightarrow \\mathbb{R}$ is _convex_ if the line segment connecting any two points on the graph lies entirely above the graph (think positive concavity or positive second derivative).\n",
    "* **Def** An _affine spline_ is a continuous piecewise-affine function ($\\mathbb{R^n} \\rightarrow \\mathbb{R}$).\n",
    "* **Def** A _max-affine spline_ is defined as the maximum of a set of affine functions over the entire domain. Max-affine splines are necessarily globally convex and continuous no matter the choices of affine functions.\n",
    "* **Def** An _adaptive-partitioning spline_ (such as a max-affine spline) is a spline were the domain partitioning is not a direct parameter, but instead determined by other parameters, and where the domain partitioning automatically changes as the direct parameters change.\n",
    "* **Def** An _affine spline operator_ is obtained by simply concatenating affine splines to produce a function with multivariate output.\n",
    "* **Def** A _max-affine spline operator_ (MASO) is an affine spline operator produced by concatenating max-affine splines.\n",
    "\n",
    "Main result: most deep networks can be written as a composition of MASOs, one for each layer, even though a MASO can only approximate a convex function."
   ]
  },
  {
   "cell_type": "markdown",
   "metadata": {
    "id": "VvvNnEY4Er_b"
   },
   "source": [
    "## Linear Regression with Vectors\n",
    "\n",
    "Suppose we have $n$ datapoints $(x_i, y_i)$ where $x_i, y_i \\in \\mathbb{R}$. A linear regression problem attempts to find a function $f(x) = mx + b$ such that some sort of error function, like square differences, are minimized. This problem can reframed as finding values of $m,b$ such that the approximation below is \"closest\"\n",
    "\n",
    "$$ \\pmb{y} \\approx X \\pmb{ w } $$\n",
    "$$ \\begin{bmatrix} y_0 \\\\ y_1 \\\\ \\vdots \\end{bmatrix} \\approx \\begin{bmatrix} x_0 & 1 \\\\ x_1 & 1 \\\\ \\vdots & \\vdots \\end{bmatrix} \\begin{bmatrix} m \\\\ b \\end{bmatrix} $$\n",
    "\n",
    "Here is another interpretation of the above equation: Given each $x_i$, the vector $\\pmb{y}$ is a representation of a function (think of \"coordinates\"). It represents a function by simply listing outputs associated with the given inputs. This vector sits in some vector space $V$. The columns of the $X$ matrix are also vectors in $V$ (representations of $x \\mapsto x$ and $x \\mapsto 1$).\n",
    "\n",
    "But $\\pmb{w}$ is a different representation of a function in a different, lower-dimensional vector space $W$. The matrix $X$ maps vectors from $W$ into $V$. The problem now becomes: \"find the vector $\\pmb{w}$ such that the distance from $\\pmb{y}$ to $X\\pmb{w}$ is minimum\":\n",
    "\n",
    "$$ \\pmb{w} = \\min_{w} || Xw - \\pmb{y} ||^2 $$\n",
    "\n",
    "There are two ways of finding $\\pmb{w}$. The more traditional way is to use calculus. The partial derivatives are taken with respect to $m$ and $b$. Note that this is just another way to say that the sum of the square differences must be minimum.\n",
    "\n",
    "$$ \\nabla || X\\pmb{w} - \\pmb{y} ||^2 = \\pmb{0} $$\n",
    "\n",
    "Another way is to project the vector $\\pmb{y}$ onto the space $X(W)$. The vectors $\\pmb{w_i}$ can be any orthogonal basis of $W$.\n",
    "\n",
    "$$ X(\\pmb{w}) = \\text{proj}_{X(W)}(\\pmb{y}) = \\sum_i \\frac{\\pmb{y} \\cdot X(\\pmb{w_i})}{|| X(\\pmb{w_i}) ||^2} X(\\pmb{w_i}) $$\n"
   ]
  },
  {
   "cell_type": "code",
   "execution_count": null,
   "metadata": {
    "colab": {
     "base_uri": "https://localhost:8080/",
     "height": 283
    },
    "id": "PhP3ND14ZWyK",
    "outputId": "10927112-416c-43f3-e903-7610c4891a03"
   },
   "outputs": [
    {
     "name": "stdout",
     "output_type": "stream",
     "text": [
      "Approximation: 0.40 + 0.60x + -1.41x^2\n"
     ]
    },
    {
     "data": {
      "image/png": "[encoded data removed]",
      "text/plain": [
       "<Figure size 432x288 with 1 Axes>"
      ]
     },
     "metadata": {
      "needs_background": "light",
      "tags": []
     },
     "output_type": "display_data"
    }
   ],
   "source": [
    "# Example: quadratic regression using the projection method\n",
    "\n",
    "# Generate data   yvec = 0.5sin(pi xvec + pi/4)\n",
    "n = 11\n",
    "xvec = np.linspace(0.0, 1.0, num=n)\n",
    "yvec = 0.5 * np.sin(np.pi * xvec + np.pi * 0.25)\n",
    "xsquarevec = xvec ** 2.0\n",
    "onesvec = np.ones((n,))\n",
    "\n",
    "# Construct the X matrix\n",
    "X = np.column_stack((onesvec, xvec, xsquarevec))\n",
    "\n",
    "# Calculate Xw by projecting onto the orthogonal basis \"Xorth\"\n",
    "Xorth, _ = np.linalg.qr(X)\n",
    "Xw = np.zeros((n, 1))\n",
    "for c in range(3):\n",
    "  col = Xorth[:,c:c+1]\n",
    "  Xw = Xw + (np.matmul(yvec, col) / np.sum(col ** 2.0)) * col\n",
    "\n",
    "# To get the original w vector, take any three coordinates from\n",
    "# Xw and the corresponding rows from T. Then w = inv(X) Xw\n",
    "Xsquare = np.resize(X, (3, 3))\n",
    "w = np.matmul(np.linalg.inv(Xsquare), np.resize(Xw, (3,1)))\n",
    "print(\"Approximation: {:.2f} + {:.2f}x + {:.2f}x^2\".format(w[0,0], w[1,0], w[2,0]))\n",
    "\n",
    "plt.plot(xvec, yvec, color=\"red\")\n",
    "plt.plot(xvec, [w[0,0] + w[1,0]*x + w[2,0]*x*x for x in list(xvec)])\n",
    "plt.show()\n"
   ]
  },
  {
   "cell_type": "markdown",
   "metadata": {
    "id": "BSa2iWcBqFRz"
   },
   "source": [
    "## Dimensionality Reduction\n",
    "\n",
    "* **Def** _Dimensionality reduction_ refers to some method of squeezing high dimensional data into a lower dimensional space in some meaningful way. These transformations can be linear or non-linear.\n",
    "* **Def** _Feature selection_ is probably the simplest linear dimensionality reduction strategy. You simply eliminate one or more variables that are deemed unimportant.\n",
    "* **Def** _Feature projection_ a generic linear dimensionality reduction strategy. Instead of naively eliminating one or more variables, you linearly-project the data into a smaller dimensional space. Think of rewriting the data in a different basis, then performing a feature selection.\n",
    "\n",
    "* **Def** The _covariance_ of two random variables $X,Y$ is a measure of their correlation. A covariance near zero means they are independent. While univariable variance is $E(X - E(X))^2$, covariance is $E(X - E(X))(Y - E(Y))$.\n",
    "* **Def** The _covariance matrix_ of $d$-dimensional data is a $d \\times d$ matrix containing the covariances of each pair of dimensions.\n",
    "\n",
    "The eigenvectors of the covariance matrix represent sort of the \"principal components\" of the distribution. If you were to rewrite the data using the eigenvector coordinates, the eigenvectors corresponding to the largest eigenvalues represent the directions in which the data is the most \"spread out\" or the most varied.\n",
    "\n",
    "* **Def** _Principal Component Analysis_ is the primary version of feature projection where we keep the features in which the data is the most varied and eliminate features where the data does not vary as much. We can do this by rewriting the data in terms of a basis of eigenvectors of the covariance matrix and discard the \"shortest eigenvectors\" (smallest eigenvalues).\n",
    "\n",
    "* **Dynamic Mode Decomposition** Another feature projection technique.\n"
   ]
  },
  {
   "cell_type": "code",
   "execution_count": null,
   "metadata": {
    "colab": {
     "base_uri": "https://localhost:8080/",
     "height": 368
    },
    "id": "yLpzCW_Y9ZHy",
    "outputId": "8e14d8d5-e32a-4cd1-9f2c-77cec33c9fce"
   },
   "outputs": [
    {
     "data": {
      "image/svg+xml": [
       "<?xml version=\"1.0\" encoding=\"UTF-8\" standalone=\"no\"?>\n",
       "<!DOCTYPE svg PUBLIC \"-//W3C//DTD SVG 1.1//EN\"\n",
       " \"http://www.w3.org/Graphics/SVG/1.1/DTD/svg11.dtd\">\n",
       "<!-- Generated by graphviz version 2.40.1 (20161225.0304)\n",
       " -->\n",
       "<!-- Title: %3 Pages: 1 -->\n",
       "<svg width=\"422pt\" height=\"260pt\"\n",
       " viewBox=\"0.00 0.00 422.00 260.00\" xmlns=\"http://www.w3.org/2000/svg\" xmlns:xlink=\"http://www.w3.org/1999/xlink\">\n",
       "<g id=\"graph0\" class=\"graph\" transform=\"scale(1 1) rotate(0) translate(4 256)\">\n",
       "<title>%3</title>\n",
       "<polygon fill=\"#ffffff\" stroke=\"transparent\" points=\"-4,4 -4,-256 418,-256 418,4 -4,4\"/>\n",
       "<!-- i -->\n",
       "<g id=\"node1\" class=\"node\">\n",
       "<title>i</title>\n",
       "<ellipse fill=\"none\" stroke=\"#000000\" cx=\"207\" cy=\"-18\" rx=\"27\" ry=\"18\"/>\n",
       "<text text-anchor=\"middle\" x=\"207\" y=\"-14.3\" font-family=\"Times,serif\" font-size=\"14.00\" fill=\"#000000\">x</text>\n",
       "</g>\n",
       "<!-- o -->\n",
       "<g id=\"node2\" class=\"node\">\n",
       "<title>o</title>\n",
       "<ellipse fill=\"none\" stroke=\"#000000\" cx=\"207\" cy=\"-234\" rx=\"27\" ry=\"18\"/>\n",
       "<text text-anchor=\"middle\" x=\"207\" y=\"-230.3\" font-family=\"Times,serif\" font-size=\"14.00\" fill=\"#000000\">y</text>\n",
       "</g>\n",
       "<!-- a -->\n",
       "<g id=\"node5\" class=\"node\">\n",
       "<title>a</title>\n",
       "<ellipse fill=\"none\" stroke=\"#000000\" cx=\"27\" cy=\"-162\" rx=\"27\" ry=\"18\"/>\n",
       "<text text-anchor=\"middle\" x=\"27\" y=\"-158.3\" font-family=\"Times,serif\" font-size=\"14.00\" fill=\"#000000\">0</text>\n",
       "</g>\n",
       "<!-- o&#45;&#45;a -->\n",
       "<g id=\"edge1\" class=\"edge\">\n",
       "<title>o&#45;&#45;a</title>\n",
       "<path fill=\"none\" stroke=\"#000000\" d=\"M182.7416,-225.7783C153.869,-215.7927 104.3615,-198.0365 63,-180 58.2601,-177.9331 53.2525,-175.5571 48.5278,-173.2234\"/>\n",
       "</g>\n",
       "<!-- b -->\n",
       "<g id=\"node6\" class=\"node\">\n",
       "<title>b</title>\n",
       "<ellipse fill=\"none\" stroke=\"#000000\" cx=\"99\" cy=\"-162\" rx=\"27\" ry=\"18\"/>\n",
       "<text text-anchor=\"middle\" x=\"99\" y=\"-158.3\" font-family=\"Times,serif\" font-size=\"14.00\" fill=\"#000000\">0</text>\n",
       "</g>\n",
       "<!-- o&#45;&#45;b -->\n",
       "<g id=\"edge2\" class=\"edge\">\n",
       "<title>o&#45;&#45;b</title>\n",
       "<path fill=\"none\" stroke=\"#000000\" d=\"M187.6918,-221.1278C168.0337,-208.0225 137.7386,-187.8257 118.1411,-174.7607\"/>\n",
       "</g>\n",
       "<!-- d -->\n",
       "<g id=\"node7\" class=\"node\">\n",
       "<title>d</title>\n",
       "<ellipse fill=\"none\" stroke=\"#000000\" cx=\"243\" cy=\"-162\" rx=\"27\" ry=\"18\"/>\n",
       "<text text-anchor=\"middle\" x=\"243\" y=\"-158.3\" font-family=\"Times,serif\" font-size=\"14.00\" fill=\"#000000\">0</text>\n",
       "</g>\n",
       "<!-- o&#45;&#45;d -->\n",
       "<g id=\"edge4\" class=\"edge\">\n",
       "<title>o&#45;&#45;d</title>\n",
       "<path fill=\"none\" stroke=\"#000000\" d=\"M215.7146,-216.5708C221.3747,-205.2506 228.7216,-190.5568 234.3657,-179.2687\"/>\n",
       "</g>\n",
       "<!-- e -->\n",
       "<g id=\"node8\" class=\"node\">\n",
       "<title>e</title>\n",
       "<ellipse fill=\"none\" stroke=\"#000000\" cx=\"315\" cy=\"-162\" rx=\"27\" ry=\"18\"/>\n",
       "<text text-anchor=\"middle\" x=\"315\" y=\"-158.3\" font-family=\"Times,serif\" font-size=\"14.00\" fill=\"#000000\">0</text>\n",
       "</g>\n",
       "<!-- o&#45;&#45;e -->\n",
       "<g id=\"edge5\" class=\"edge\">\n",
       "<title>o&#45;&#45;e</title>\n",
       "<path fill=\"none\" stroke=\"#000000\" d=\"M226.3082,-221.1278C245.9663,-208.0225 276.2614,-187.8257 295.8589,-174.7607\"/>\n",
       "</g>\n",
       "<!-- f -->\n",
       "<g id=\"node9\" class=\"node\">\n",
       "<title>f</title>\n",
       "<ellipse fill=\"none\" stroke=\"#000000\" cx=\"387\" cy=\"-162\" rx=\"27\" ry=\"18\"/>\n",
       "<text text-anchor=\"middle\" x=\"387\" y=\"-158.3\" font-family=\"Times,serif\" font-size=\"14.00\" fill=\"#000000\">0</text>\n",
       "</g>\n",
       "<!-- o&#45;&#45;f -->\n",
       "<g id=\"edge6\" class=\"edge\">\n",
       "<title>o&#45;&#45;f</title>\n",
       "<path fill=\"none\" stroke=\"#000000\" d=\"M231.2584,-225.7783C260.131,-215.7927 309.6385,-198.0365 351,-180 355.7399,-177.9331 360.7475,-175.5571 365.4722,-173.2234\"/>\n",
       "</g>\n",
       "<!-- c -->\n",
       "<g id=\"node13\" class=\"node\">\n",
       "<title>c</title>\n",
       "<ellipse fill=\"none\" stroke=\"#000000\" cx=\"171\" cy=\"-162\" rx=\"27\" ry=\"18\"/>\n",
       "<text text-anchor=\"middle\" x=\"171\" y=\"-158.3\" font-family=\"Times,serif\" font-size=\"14.00\" fill=\"#000000\">1</text>\n",
       "</g>\n",
       "<!-- o&#45;&#45;c -->\n",
       "<g id=\"edge3\" class=\"edge\">\n",
       "<title>o&#45;&#45;c</title>\n",
       "<path fill=\"none\" stroke=\"#000000\" d=\"M198.2854,-216.5708C192.6253,-205.2506 185.2784,-190.5568 179.6343,-179.2687\"/>\n",
       "</g>\n",
       "<!-- u -->\n",
       "<g id=\"node3\" class=\"node\">\n",
       "<title>u</title>\n",
       "<ellipse fill=\"none\" stroke=\"#000000\" cx=\"63\" cy=\"-90\" rx=\"27\" ry=\"18\"/>\n",
       "<text text-anchor=\"middle\" x=\"63\" y=\"-86.3\" font-family=\"Times,serif\" font-size=\"14.00\" fill=\"#000000\">0</text>\n",
       "</g>\n",
       "<!-- u&#45;&#45;i -->\n",
       "<g id=\"edge17\" class=\"edge\">\n",
       "<title>u&#45;&#45;i</title>\n",
       "<path fill=\"none\" stroke=\"#000000\" d=\"M84.8705,-79.0647C112.0934,-65.4533 158.297,-42.3515 185.3955,-28.8022\"/>\n",
       "</g>\n",
       "<!-- v -->\n",
       "<g id=\"node4\" class=\"node\">\n",
       "<title>v</title>\n",
       "<ellipse fill=\"none\" stroke=\"#000000\" cx=\"135\" cy=\"-90\" rx=\"27\" ry=\"18\"/>\n",
       "<text text-anchor=\"middle\" x=\"135\" y=\"-86.3\" font-family=\"Times,serif\" font-size=\"14.00\" fill=\"#000000\">0</text>\n",
       "</g>\n",
       "<!-- v&#45;&#45;i -->\n",
       "<g id=\"edge18\" class=\"edge\">\n",
       "<title>v&#45;&#45;i</title>\n",
       "<path fill=\"none\" stroke=\"#000000\" d=\"M150.2693,-74.7307C162.488,-62.512 179.5398,-45.4602 191.7527,-33.2473\"/>\n",
       "</g>\n",
       "<!-- a&#45;&#45;u -->\n",
       "<g id=\"edge7\" class=\"edge\">\n",
       "<title>a&#45;&#45;u</title>\n",
       "<path fill=\"none\" stroke=\"#000000\" d=\"M35.7146,-144.5708C41.3747,-133.2506 48.7216,-118.5568 54.3657,-107.2687\"/>\n",
       "</g>\n",
       "<!-- b&#45;&#45;u -->\n",
       "<g id=\"edge8\" class=\"edge\">\n",
       "<title>b&#45;&#45;u</title>\n",
       "<path fill=\"none\" stroke=\"#000000\" d=\"M90.2854,-144.5708C84.6253,-133.2506 77.2784,-118.5568 71.6343,-107.2687\"/>\n",
       "</g>\n",
       "<!-- b&#45;&#45;v -->\n",
       "<g id=\"edge9\" class=\"edge\">\n",
       "<title>b&#45;&#45;v</title>\n",
       "<path fill=\"none\" stroke=\"#000000\" d=\"M107.7146,-144.5708C113.3747,-133.2506 120.7216,-118.5568 126.3657,-107.2687\"/>\n",
       "</g>\n",
       "<!-- w -->\n",
       "<g id=\"node10\" class=\"node\">\n",
       "<title>w</title>\n",
       "<ellipse fill=\"none\" stroke=\"#000000\" cx=\"207\" cy=\"-90\" rx=\"27\" ry=\"18\"/>\n",
       "<text text-anchor=\"middle\" x=\"207\" y=\"-86.3\" font-family=\"Times,serif\" font-size=\"14.00\" fill=\"#000000\">1</text>\n",
       "</g>\n",
       "<!-- d&#45;&#45;w -->\n",
       "<g id=\"edge12\" class=\"edge\">\n",
       "<title>d&#45;&#45;w</title>\n",
       "<path fill=\"none\" stroke=\"#000000\" d=\"M234.2854,-144.5708C228.6253,-133.2506 221.2784,-118.5568 215.6343,-107.2687\"/>\n",
       "</g>\n",
       "<!-- x -->\n",
       "<g id=\"node11\" class=\"node\">\n",
       "<title>x</title>\n",
       "<ellipse fill=\"none\" stroke=\"#000000\" cx=\"279\" cy=\"-90\" rx=\"27\" ry=\"18\"/>\n",
       "<text text-anchor=\"middle\" x=\"279\" y=\"-86.3\" font-family=\"Times,serif\" font-size=\"14.00\" fill=\"#000000\">1</text>\n",
       "</g>\n",
       "<!-- d&#45;&#45;x -->\n",
       "<g id=\"edge13\" class=\"edge\">\n",
       "<title>d&#45;&#45;x</title>\n",
       "<path fill=\"none\" stroke=\"#000000\" d=\"M251.7146,-144.5708C257.3747,-133.2506 264.7216,-118.5568 270.3657,-107.2687\"/>\n",
       "</g>\n",
       "<!-- e&#45;&#45;x -->\n",
       "<g id=\"edge14\" class=\"edge\">\n",
       "<title>e&#45;&#45;x</title>\n",
       "<path fill=\"none\" stroke=\"#000000\" d=\"M306.2854,-144.5708C300.6253,-133.2506 293.2784,-118.5568 287.6343,-107.2687\"/>\n",
       "</g>\n",
       "<!-- y -->\n",
       "<g id=\"node12\" class=\"node\">\n",
       "<title>y</title>\n",
       "<ellipse fill=\"none\" stroke=\"#000000\" cx=\"351\" cy=\"-90\" rx=\"27\" ry=\"18\"/>\n",
       "<text text-anchor=\"middle\" x=\"351\" y=\"-86.3\" font-family=\"Times,serif\" font-size=\"14.00\" fill=\"#000000\">1</text>\n",
       "</g>\n",
       "<!-- e&#45;&#45;y -->\n",
       "<g id=\"edge15\" class=\"edge\">\n",
       "<title>e&#45;&#45;y</title>\n",
       "<path fill=\"none\" stroke=\"#000000\" d=\"M323.7146,-144.5708C329.3747,-133.2506 336.7216,-118.5568 342.3657,-107.2687\"/>\n",
       "</g>\n",
       "<!-- f&#45;&#45;y -->\n",
       "<g id=\"edge16\" class=\"edge\">\n",
       "<title>f&#45;&#45;y</title>\n",
       "<path fill=\"none\" stroke=\"#000000\" d=\"M378.2854,-144.5708C372.6253,-133.2506 365.2784,-118.5568 359.6343,-107.2687\"/>\n",
       "</g>\n",
       "<!-- w&#45;&#45;i -->\n",
       "<g id=\"edge19\" class=\"edge\">\n",
       "<title>w&#45;&#45;i</title>\n",
       "<path fill=\"none\" stroke=\"#000000\" d=\"M207,-71.8314C207,-61 207,-47.2876 207,-36.4133\"/>\n",
       "</g>\n",
       "<!-- x&#45;&#45;i -->\n",
       "<g id=\"edge20\" class=\"edge\">\n",
       "<title>x&#45;&#45;i</title>\n",
       "<path fill=\"none\" stroke=\"#000000\" d=\"M263.7307,-74.7307C251.512,-62.512 234.4602,-45.4602 222.2473,-33.2473\"/>\n",
       "</g>\n",
       "<!-- y&#45;&#45;i -->\n",
       "<g id=\"edge21\" class=\"edge\">\n",
       "<title>y&#45;&#45;i</title>\n",
       "<path fill=\"none\" stroke=\"#000000\" d=\"M329.1295,-79.0647C301.9066,-65.4533 255.703,-42.3515 228.6045,-28.8022\"/>\n",
       "</g>\n",
       "<!-- c&#45;&#45;v -->\n",
       "<g id=\"edge10\" class=\"edge\">\n",
       "<title>c&#45;&#45;v</title>\n",
       "<path fill=\"none\" stroke=\"#000000\" d=\"M162.2854,-144.5708C156.6253,-133.2506 149.2784,-118.5568 143.6343,-107.2687\"/>\n",
       "</g>\n",
       "<!-- c&#45;&#45;w -->\n",
       "<g id=\"edge11\" class=\"edge\">\n",
       "<title>c&#45;&#45;w</title>\n",
       "<path fill=\"none\" stroke=\"#000000\" d=\"M179.7146,-144.5708C185.3747,-133.2506 192.7216,-118.5568 198.3657,-107.2687\"/>\n",
       "</g>\n",
       "</g>\n",
       "</svg>\n"
      ],
      "text/plain": [
       "<graphviz.dot.Graph at 0x7fa45ebb47b8>"
      ]
     },
     "execution_count": 28,
     "metadata": {
      "tags": []
     },
     "output_type": "execute_result"
    }
   ],
   "source": [
    "g = gv.Graph()\n",
    "g.node(\"i\", \"x\")\n",
    "g.node(\"o\", \"y\")\n",
    "for n in [\"u\", \"v\", \"a\", \"b\", \"d\", \"e\", \"f\"]: g.node(n, \"0\")\n",
    "for n in [\"w\", \"x\", \"y\", \"c\"]: g.node(n, \"1\")\n",
    "g.edges([\"oa\", \"ob\", \"oc\", \"od\", \"oe\", \"of\"])\n",
    "g.edges([\"au\", \"bu\", \"bv\", \"cv\", \"cw\", \"dw\", \"dx\", \"ex\", \"ey\", \"fy\"])\n",
    "g.edges([\"ui\", \"vi\", \"wi\", \"xi\", \"yi\"])\n",
    "g"
   ]
  },
  {
   "cell_type": "markdown",
   "metadata": {
    "id": "FFTFQh0pijW3"
   },
   "source": [
    "# Related Work\n",
    "\n",
    "https://math.stackexchange.com/questions/3147754/why-do-deep-neural-networks-work-well\n",
    "\n",
    "[Movement trajectory classification using supervised machine learning](http://kth.diva-portal.org/smash/get/diva2:1376904/FULLTEXT01.pdf)\n",
    "\n",
    "### Cheng, Model Compression for DNNs survey\n",
    "\n",
    "[Paper](https://arxiv.org/pdf/1710.09282.pdf)\n",
    "\n",
    "* Parameter pruning and quantization\n",
    "* Low-rank factorization\n",
    "* Transferred/compact convolutional filters\n",
    "* Knowledge distillation\n",
    "\n",
    "### Safran, Depth-Width Tradeoffs in Approximating Natural Functions with Neural Networks\n",
    "\n",
    "[Paper](https://arxiv.org/pdf/1610.09887.pdf)\n",
    "\n",
    "* Large enough networks of depth 2 can approximate any  continuous target function on $[0, 1]^d$ to arbitrary accuracy.\n",
    "* Deep network tend to outperform shallow networks of similar complexity.\n",
    "* **Def** The $L_p$-norm of a vector $v$ is $||v||_p = \\sqrt[p]{|v_0|^p + |v_1|^p + \\cdots}$\n",
    "* The the accuracy of expressing the indicator function of a Euclidean ball $\\pmb{x} \\mapsto \\begin{cases} 1 & ||\\pmb{x}||_2 \\le 1 \\\\ 0 & \\text{otherwise} \\end{cases}$ on a two-layer network requires width exponential in $d$ (the dimension of the input space). Same is not true of a three-layer network.\n",
    "* $L_1$ radial functions $\\pmb{x} \\mapsto f(||\\pmb{x}||_1)$ where $f$ is piecewise-linear can be represented _exactly_ by a 3-layer ReLU network, but not by a 2-layer network.\n",
    "\n",
    "### Neural Networks for Localized Approximation\n",
    "\n",
    "[Paper](https://www.ams.org/journals/mcom/1994-63-208/S0025-5718-1994-1240656-2/S0025-5718-1994-1240656-2.pdf)\n",
    "\n",
    "Question: Can neural networks satisfy a _local approximation_ property? i.e. that when the target function is modified only on a small subset of the Euclidean input space, only a few neurons need to be retrained.\n",
    "Result: 2-layer heavyside-activated networks cannot have this property if the input space is more than one-dimensional. In contrast, 3-layer networks or higher are capable of having this property for any-dimensional input spaces."
   ]
  }
 ],
 "metadata": {
  "colab": {
   "collapsed_sections": [],
   "name": "CPS491.ipynb",
   "provenance": [],
   "toc_visible": true
  },
  "kernelspec": {
   "display_name": "Python 3",
   "language": "python",
   "name": "python3"
  },
  "language_info": {
   "codemirror_mode": {
    "name": "ipython",
    "version": 3
   },
   "file_extension": ".py",
   "mimetype": "text/x-python",
   "name": "python",
   "nbconvert_exporter": "python",
   "pygments_lexer": "ipython3",
   "version": "3.8.5"
  }
 },
 "nbformat": 4,
 "nbformat_minor": 1
}
